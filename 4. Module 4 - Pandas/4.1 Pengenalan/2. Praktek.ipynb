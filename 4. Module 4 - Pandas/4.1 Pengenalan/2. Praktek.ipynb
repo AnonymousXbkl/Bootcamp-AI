{
 "cells": [
  {
   "cell_type": "markdown",
   "id": "648cc165",
   "metadata": {},
   "source": [
    "# Praktek Pandas"
   ]
  },
  {
   "cell_type": "code",
   "execution_count": 1,
   "id": "7048a756",
   "metadata": {},
   "outputs": [],
   "source": [
    "import pandas as pd"
   ]
  },
  {
   "cell_type": "markdown",
   "id": "10dea8f4",
   "metadata": {},
   "source": [
    "Cek Versi Pandas"
   ]
  },
  {
   "cell_type": "code",
   "execution_count": 2,
   "id": "8090de3b",
   "metadata": {},
   "outputs": [
    {
     "name": "stdout",
     "output_type": "stream",
     "text": [
      "2.2.3\n"
     ]
    }
   ],
   "source": [
    "print(pd.__version__)"
   ]
  },
  {
   "cell_type": "markdown",
   "id": "aca4e837",
   "metadata": {},
   "source": [
    "##### !pip --version\n",
    "##### !pip show pandas\n",
    "##### !pip install pandas==(version yang ingin diinstall)"
   ]
  },
  {
   "cell_type": "markdown",
   "id": "a2a013af",
   "metadata": {},
   "source": []
  }
 ],
 "metadata": {
  "kernelspec": {
   "display_name": "base",
   "language": "python",
   "name": "python3"
  },
  "language_info": {
   "codemirror_mode": {
    "name": "ipython",
    "version": 3
   },
   "file_extension": ".py",
   "mimetype": "text/x-python",
   "name": "python",
   "nbconvert_exporter": "python",
   "pygments_lexer": "ipython3",
   "version": "3.12.7"
  }
 },
 "nbformat": 4,
 "nbformat_minor": 5
}
