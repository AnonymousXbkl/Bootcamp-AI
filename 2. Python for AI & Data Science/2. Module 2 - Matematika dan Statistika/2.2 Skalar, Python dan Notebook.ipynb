{
 "cells": [
  {
   "cell_type": "code",
   "execution_count": 2,
   "id": "f88c2ffd-4690-4237-9b1d-87b00ca1ca4a",
   "metadata": {},
   "outputs": [],
   "source": [
    "x = min(5, 10, 25)\n",
    "y = max(5, 10, 25)"
   ]
  },
  {
   "cell_type": "code",
   "execution_count": 3,
   "id": "2d13980a-b211-4634-827e-4e58d1521933",
   "metadata": {},
   "outputs": [
    {
     "data": {
      "text/plain": [
       "(5, 25)"
      ]
     },
     "execution_count": 3,
     "metadata": {},
     "output_type": "execute_result"
    }
   ],
   "source": [
    "x, y"
   ]
  },
  {
   "cell_type": "code",
   "execution_count": 4,
   "id": "e47ca4f3-3e18-4cff-9e4b-515db3ec2dfb",
   "metadata": {},
   "outputs": [],
   "source": [
    "x = abs(-7.25)"
   ]
  },
  {
   "cell_type": "code",
   "execution_count": 5,
   "id": "4ba4428d-64cb-4369-b796-94d1af92c0f8",
   "metadata": {},
   "outputs": [
    {
     "data": {
      "text/plain": [
       "7.25"
      ]
     },
     "execution_count": 5,
     "metadata": {},
     "output_type": "execute_result"
    }
   ],
   "source": [
    "x"
   ]
  },
  {
   "cell_type": "code",
   "execution_count": 6,
   "id": "579cb8ad-b9e5-4744-b00c-b41fd32ec514",
   "metadata": {},
   "outputs": [],
   "source": [
    "import math"
   ]
  },
  {
   "cell_type": "code",
   "execution_count": 7,
   "id": "063f1faa-2b14-48ec-9bc3-a17a4b7c5f80",
   "metadata": {},
   "outputs": [
    {
     "data": {
      "text/plain": [
       "64.0"
      ]
     },
     "execution_count": 7,
     "metadata": {},
     "output_type": "execute_result"
    }
   ],
   "source": [
    "math.pow(4, 3)"
   ]
  },
  {
   "cell_type": "code",
   "execution_count": 8,
   "id": "10c027a3-78f5-4d40-8eef-e74909a4e763",
   "metadata": {},
   "outputs": [],
   "source": [
    "x = math.sqrt(64)"
   ]
  },
  {
   "cell_type": "code",
   "execution_count": 9,
   "id": "8cb1d2a6-ccf8-40bc-956f-1cc9fb05ff73",
   "metadata": {},
   "outputs": [
    {
     "data": {
      "text/plain": [
       "8.0"
      ]
     },
     "execution_count": 9,
     "metadata": {},
     "output_type": "execute_result"
    }
   ],
   "source": [
    "x"
   ]
  },
  {
   "cell_type": "code",
   "execution_count": 10,
   "id": "6080061a-71f3-4101-a567-be964ffd8f6c",
   "metadata": {},
   "outputs": [],
   "source": [
    "x = math.ceil(1.4)\n",
    "y = math.floor(1.4)"
   ]
  },
  {
   "cell_type": "code",
   "execution_count": 11,
   "id": "bb7c0d70-51d4-4687-bbdb-65ee16fd1b13",
   "metadata": {},
   "outputs": [
    {
     "data": {
      "text/plain": [
       "(2, 1)"
      ]
     },
     "execution_count": 11,
     "metadata": {},
     "output_type": "execute_result"
    }
   ],
   "source": [
    "x, y"
   ]
  },
  {
   "cell_type": "code",
   "execution_count": 12,
   "id": "a8d8a8e6-6877-43ad-9946-3ec9056317aa",
   "metadata": {},
   "outputs": [],
   "source": [
    "x = math.pi"
   ]
  },
  {
   "cell_type": "code",
   "execution_count": 13,
   "id": "e33a85bb-8c41-4021-bdfb-2c3e2382ba77",
   "metadata": {},
   "outputs": [
    {
     "data": {
      "text/plain": [
       "3.141592653589793"
      ]
     },
     "execution_count": 13,
     "metadata": {},
     "output_type": "execute_result"
    }
   ],
   "source": [
    "x"
   ]
  },
  {
   "cell_type": "code",
   "execution_count": 1,
   "id": "f8f836bd-c9b2-4267-a011-1be4db1172d6",
   "metadata": {},
   "outputs": [],
   "source": [
    "import numpy as np"
   ]
  },
  {
   "cell_type": "code",
   "execution_count": 5,
   "id": "0005c36d-4ddc-4d24-a19a-a628cc08fd3b",
   "metadata": {},
   "outputs": [],
   "source": [
    "A = np.array([[80, 30, 25],\n",
    "             [50, 20, 10]])\n",
    "B = np.array([[30, 60, 15],\n",
    "             [10, 30, 50]])\n",
    "hasil_penjualan =  A + B"
   ]
  },
  {
   "cell_type": "code",
   "execution_count": 6,
   "id": "389af75b-c855-49b4-b0cf-9c2fe3e4e088",
   "metadata": {},
   "outputs": [
    {
     "data": {
      "text/plain": [
       "array([[110,  90,  40],\n",
       "       [ 60,  50,  60]])"
      ]
     },
     "execution_count": 6,
     "metadata": {},
     "output_type": "execute_result"
    }
   ],
   "source": [
    "hasil_penjualan"
   ]
  },
  {
   "cell_type": "code",
   "execution_count": 7,
   "id": "f6c41fd4-e428-40be-a352-ad7424fed440",
   "metadata": {},
   "outputs": [],
   "source": [
    "A = ([10, 20, 15])\n",
    "B = ([5, 15, 10])\n",
    "\n",
    "hasil = np.dot(A, B)"
   ]
  },
  {
   "cell_type": "code",
   "execution_count": 8,
   "id": "149fc2a5-b312-403f-a196-c37639695df9",
   "metadata": {},
   "outputs": [
    {
     "data": {
      "text/plain": [
       "np.int64(500)"
      ]
     },
     "execution_count": 8,
     "metadata": {},
     "output_type": "execute_result"
    }
   ],
   "source": [
    "hasil"
   ]
  },
  {
   "cell_type": "code",
   "execution_count": 9,
   "id": "6207ff52-45dc-422d-8954-8d9cb3499632",
   "metadata": {},
   "outputs": [],
   "source": [
    "hasil = np.cross(A, B)"
   ]
  },
  {
   "cell_type": "code",
   "execution_count": 10,
   "id": "10101f1a-6e0b-4c19-b305-10d5edde496d",
   "metadata": {},
   "outputs": [
    {
     "data": {
      "text/plain": [
       "array([-25, -25,  50])"
      ]
     },
     "execution_count": 10,
     "metadata": {},
     "output_type": "execute_result"
    }
   ],
   "source": [
    "hasil"
   ]
  },
  {
   "cell_type": "code",
   "execution_count": null,
   "id": "4721a868-8236-4fe4-9aa3-3fbdd8da6279",
   "metadata": {},
   "outputs": [],
   "source": []
  },
  {
   "cell_type": "code",
   "execution_count": null,
   "id": "66a89f56-be79-4ee1-b9c4-6c3b5b84b74f",
   "metadata": {},
   "outputs": [],
   "source": []
  }
 ],
 "metadata": {
  "kernelspec": {
   "display_name": "Python 3 (ipykernel)",
   "language": "python",
   "name": "python3"
  },
  "language_info": {
   "codemirror_mode": {
    "name": "ipython",
    "version": 3
   },
   "file_extension": ".py",
   "mimetype": "text/x-python",
   "name": "python",
   "nbconvert_exporter": "python",
   "pygments_lexer": "ipython3",
   "version": "3.12.7"
  }
 },
 "nbformat": 4,
 "nbformat_minor": 5
}
