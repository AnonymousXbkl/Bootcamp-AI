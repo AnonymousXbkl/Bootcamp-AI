{
 "cells": [
  {
   "cell_type": "markdown",
   "id": "924355a8",
   "metadata": {},
   "source": [
    "# Manipulation\n",
    "    Pada Pandas, kita bisa melakukan beragam fungsi manipulasi seperti Filtering, Sorting, Mutating, Grouping, Concatinating dan lain sebagainya sesuai kebutuhan yang kita miliki terhadap dataset yang dioperasikan. Termasuk juga melakukan proses cleaning."
   ]
  },
  {
   "cell_type": "markdown",
   "id": "c7cf442d",
   "metadata": {},
   "source": [
    "Kita bisa melakukan proses grouping (Pandas Grouping) yang konsepnya sama seperti SQL\n",
    "1. Inner Join\n",
    "2. Outter Join\n",
    "3. Left Join\n",
    "4. Right Join"
   ]
  },
  {
   "cell_type": "markdown",
   "id": "a07e9159",
   "metadata": {},
   "source": [
    "### Mengapa Pandas Grouping diperlukan ?"
   ]
  },
  {
   "cell_type": "markdown",
   "id": "668cbbd4",
   "metadata": {},
   "source": [
    "Pandas Grouping diperlukan karena :\n",
    "1. Missing Values (ada data yang hilang)\n",
    "2. Duplicate\n",
    "3. Wrong Format\n",
    "4. Wrong Data"
   ]
  },
  {
   "cell_type": "markdown",
   "id": "4ef799bb",
   "metadata": {},
   "source": []
  }
 ],
 "metadata": {
  "kernelspec": {
   "display_name": "base",
   "language": "python",
   "name": "python3"
  },
  "language_info": {
   "name": "python",
   "version": "3.12.7"
  }
 },
 "nbformat": 4,
 "nbformat_minor": 5
}
