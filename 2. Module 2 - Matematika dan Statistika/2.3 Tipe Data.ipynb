{
 "cells": [
  {
   "cell_type": "raw",
   "id": "2dbdfbd2-097f-46c3-afc9-98695e29dae7",
   "metadata": {},
   "source": [
    "DATASET\n",
    "    DATASET adalah sekumpulan data yang sudah atau belum di kalkulasi untuk mendapatkan informasi dari data dengan menggunakan ilmu matematika dan statistik baik tingkat dasar maupun tingkat lanjut\n",
    "\n",
    "\n",
    "=============================================================DEPENDENT & INDEPENDENT VARIABLES=============================================================\n",
    "\n",
    "- Harga merupana dependent variable karena menjadi variabel yang dipengaruhi atau yang menjadi akibat karena adanya variable bebas atau independent\n",
    "- Biaya kirim, Marketing, Bahan, dan Permintaan menjadi variable bebas (*sesuai konteks yang ada)\n",
    "\n",
    "\n",
    "TIPE DATA\n",
    "1. Kuantitatif\n",
    "    - Discrete       = Bilangan yang terbatas pada bilangan bulat. Contoh jumlah sensor pada mobil dan jumlah karyawan\n",
    "    - Continuous     = Bilangan yang nilainya tak terbatas. Contoh harga suatu barang dan gaji karyawan\n",
    "\n",
    "2. Kualitatif\n",
    "    - Nominal/Binary = Nilai-nilai yang tidak dapat diukur satu sama lain, tidak memuat urutan(order) ataupun peringkat. Contoh gender dan ras\n",
    "    - Ordinal        = Nilai-nilai yang dapat diukur satu sama lain. Contoh peringkat siswa di sekolah dan jabatan di perusahaan\n",
    "\n"
   ]
  },
  {
   "cell_type": "code",
   "execution_count": null,
   "id": "6215ac25-d73e-44ea-9732-801e72f38342",
   "metadata": {},
   "outputs": [],
   "source": []
  }
 ],
 "metadata": {
  "kernelspec": {
   "display_name": "Python 3 (ipykernel)",
   "language": "python",
   "name": "python3"
  },
  "language_info": {
   "codemirror_mode": {
    "name": "ipython",
    "version": 3
   },
   "file_extension": ".py",
   "mimetype": "text/x-python",
   "name": "python",
   "nbconvert_exporter": "python",
   "pygments_lexer": "ipython3",
   "version": "3.12.7"
  }
 },
 "nbformat": 4,
 "nbformat_minor": 5
}
