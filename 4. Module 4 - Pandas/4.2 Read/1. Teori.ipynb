{
 "cells": [
  {
   "cell_type": "markdown",
   "id": "d6270713",
   "metadata": {},
   "source": [
    "# Read"
   ]
  },
  {
   "cell_type": "markdown",
   "id": "d39d47fb",
   "metadata": {},
   "source": [
    "### Pandas Read\n",
    "    Dengan menggunakan fungsi read yang ada pada Pandas, kita bisa membaca beragam file seperti CSV, XLSX, JSON dan mengubahnya dalam tipe data khusus yang disebut dengan DataFrame."
   ]
  },
  {
   "cell_type": "code",
   "execution_count": null,
   "id": "f5a1622d",
   "metadata": {},
   "outputs": [],
   "source": [
    "import pandas as pd"
   ]
  },
  {
   "cell_type": "code",
   "execution_count": null,
   "id": "9dbbf5f1",
   "metadata": {},
   "outputs": [],
   "source": [
    "# Membaca file CSV\n",
    "\n",
    "df = pd.read_csv('./data.csv')\n",
    "print(df.to_string())"
   ]
  },
  {
   "cell_type": "code",
   "execution_count": null,
   "id": "252ebd5f",
   "metadata": {},
   "outputs": [],
   "source": [
    "# Membaca file JSON\n",
    "\n",
    "df = pd.read_json('./data.json')\n",
    "print(df.to_string())"
   ]
  },
  {
   "cell_type": "code",
   "execution_count": null,
   "id": "4d17d55e",
   "metadata": {},
   "outputs": [],
   "source": [
    "# Membaca file Excel\n",
    "\n",
    "df = pd.read_excel('./data.xlsx')\n",
    "print(df.to_string())"
   ]
  },
  {
   "cell_type": "markdown",
   "id": "2b4cef20",
   "metadata": {},
   "source": [
    "Kita juga bisa menambahkan parameter pada saat menggunakan fungsi read seperti sep='__', header=0, engine='python'"
   ]
  },
  {
   "cell_type": "code",
   "execution_count": null,
   "id": "5534dd5a",
   "metadata": {},
   "outputs": [],
   "source": [
    "# Contoh menggunakan parameter tambahan\n",
    "df = pd.read_csv('./data.csv', sep=';', header=None, engine='python')\n",
    "print(df.to_string())"
   ]
  },
  {
   "cell_type": "markdown",
   "id": "c227fc33",
   "metadata": {},
   "source": [
    "### Membaca custom data\n",
    "    Kita juga bisa membaca data yang kita custom sendiri."
   ]
  },
  {
   "cell_type": "code",
   "execution_count": null,
   "id": "ec87b120",
   "metadata": {},
   "outputs": [],
   "source": [
    "data = {\"Duration\": {}, \"Pulse\": {},\n",
    "        \"Maxpulse\": {}, \"Calories\": {}}\n",
    "\n",
    "df = pd.DataFrame(data)\n",
    "print(df)"
   ]
  }
 ],
 "metadata": {
  "kernelspec": {
   "display_name": "base",
   "language": "python",
   "name": "python3"
  },
  "language_info": {
   "codemirror_mode": {
    "name": "ipython",
    "version": 3
   },
   "file_extension": ".py",
   "mimetype": "text/x-python",
   "name": "python",
   "nbconvert_exporter": "python",
   "pygments_lexer": "ipython3",
   "version": "3.12.7"
  }
 },
 "nbformat": 4,
 "nbformat_minor": 5
}
