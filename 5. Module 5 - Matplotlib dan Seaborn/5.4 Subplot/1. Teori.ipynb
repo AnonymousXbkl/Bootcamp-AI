{
 "cells": [
  {
   "cell_type": "markdown",
   "id": "914c6bc5",
   "metadata": {},
   "source": [
    "# Subplot"
   ]
  },
  {
   "cell_type": "markdown",
   "id": "35941c6e",
   "metadata": {},
   "source": [
    "### Matplotlib Subplot\n",
    "    Dengan menggunakan fungsi subplot() kita bisa membuat dua plot atau lebih pada satu visualisasi yang ada. Ini bermanfaat untuk menjajikan informasi secara bersama-sama dan akan memudahkan dalam proses analisa."
   ]
  },
  {
   "cell_type": "markdown",
   "id": "8d323054",
   "metadata": {},
   "source": []
  }
 ],
 "metadata": {
  "language_info": {
   "name": "python"
  }
 },
 "nbformat": 4,
 "nbformat_minor": 5
}
