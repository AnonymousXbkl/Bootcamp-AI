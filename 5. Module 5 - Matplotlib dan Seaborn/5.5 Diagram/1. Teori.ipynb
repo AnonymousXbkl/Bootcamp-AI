{
 "cells": [
  {
   "cell_type": "markdown",
   "id": "41c07b95",
   "metadata": {},
   "source": [
    "# Diagram"
   ]
  },
  {
   "cell_type": "markdown",
   "id": "26e5feff",
   "metadata": {},
   "source": [
    "### Matplotlib Diagram\n",
    "    Salah satu fungsi dari Matplotlib adalah menunjang kebutuhan kita untuk melakukan visualisasi data dengan menggunakan diagram atau grafik baik yang sederhana seperti Scatter Plot, Bar Chart, Histogram, dan Pie Chart ataupun yang bersifat kompleks."
   ]
  },
  {
   "cell_type": "markdown",
   "id": "a0a9d718",
   "metadata": {},
   "source": []
  }
 ],
 "metadata": {
  "language_info": {
   "name": "python"
  }
 },
 "nbformat": 4,
 "nbformat_minor": 5
}
