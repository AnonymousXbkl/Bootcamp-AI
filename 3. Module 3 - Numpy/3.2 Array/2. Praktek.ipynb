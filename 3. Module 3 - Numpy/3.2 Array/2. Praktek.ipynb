{
 "cells": [
  {
   "cell_type": "markdown",
   "id": "451de7c6-1257-4967-bd7a-9f36eaf07e67",
   "metadata": {},
   "source": [
    "# Array"
   ]
  },
  {
   "cell_type": "code",
   "execution_count": 1,
   "id": "8e02b45d-022f-4471-b8d3-cc9ec746e086",
   "metadata": {},
   "outputs": [],
   "source": [
    "import numpy as np"
   ]
  },
  {
   "cell_type": "raw",
   "id": "e281df23-a4f1-4650-be5f-13739b285281",
   "metadata": {},
   "source": []
  },
  {
   "cell_type": "markdown",
   "id": "86822048-cde7-4fb9-a373-bda244346a30",
   "metadata": {},
   "source": [
    "### Membuat NumPy Array"
   ]
  },
  {
   "cell_type": "code",
   "execution_count": 6,
   "id": "767dd815-53c0-450f-98ae-4f3417669b56",
   "metadata": {},
   "outputs": [
    {
     "name": "stdout",
     "output_type": "stream",
     "text": [
      "[1 2 3 4 5]\n",
      "<class 'numpy.ndarray'>\n"
     ]
    }
   ],
   "source": [
    "arr = np.array([1, 2, 3, 4, 5])\n",
    "print(arr)\n",
    "print(type(arr))"
   ]
  },
  {
   "cell_type": "markdown",
   "id": "3fda0353-bb02-45a7-9aad-669de15c4c84",
   "metadata": {},
   "source": []
  },
  {
   "cell_type": "markdown",
   "id": "767d7f74-f268-41e7-b2d8-f7b4d159d2cf",
   "metadata": {},
   "source": [
    "### Perbedaan Python List dengan NumPy Array"
   ]
  },
  {
   "cell_type": "code",
   "execution_count": 7,
   "id": "00b512f3-77c4-4e4a-9001-a187d865331d",
   "metadata": {},
   "outputs": [
    {
     "name": "stdout",
     "output_type": "stream",
     "text": [
      "<class 'list'>\n",
      "<class 'list'>\n"
     ]
    },
    {
     "data": {
      "text/plain": [
       "(None, None)"
      ]
     },
     "execution_count": 7,
     "metadata": {},
     "output_type": "execute_result"
    }
   ],
   "source": [
    "# Python List\n",
    "a = [1, 2, 3, 4, 5]\n",
    "b = [6, 7, 8, 9, 10]\n",
    "print(type(a)), print(type(b))"
   ]
  },
  {
   "cell_type": "code",
   "execution_count": 9,
   "id": "7dd64791-23ab-4b87-99e8-1883fa3219d3",
   "metadata": {},
   "outputs": [
    {
     "data": {
      "text/plain": [
       "[1, 2, 3, 4, 5, 6, 7, 8, 9, 10]"
      ]
     },
     "execution_count": 9,
     "metadata": {},
     "output_type": "execute_result"
    }
   ],
   "source": [
    "a + b    #Ketika ditambah maka jadi concat(gabung) padahal kita ingin itu dijumlahkan"
   ]
  },
  {
   "cell_type": "code",
   "execution_count": 10,
   "id": "7bb76844-e68e-4a94-b794-0a1c27b2aa33",
   "metadata": {},
   "outputs": [
    {
     "ename": "TypeError",
     "evalue": "can't multiply sequence by non-int of type 'list'",
     "output_type": "error",
     "traceback": [
      "\u001b[1;31m---------------------------------------------------------------------------\u001b[0m",
      "\u001b[1;31mTypeError\u001b[0m                                 Traceback (most recent call last)",
      "Cell \u001b[1;32mIn[10], line 1\u001b[0m\n\u001b[1;32m----> 1\u001b[0m a \u001b[38;5;241m*\u001b[39m b\n",
      "\u001b[1;31mTypeError\u001b[0m: can't multiply sequence by non-int of type 'list'"
     ]
    }
   ],
   "source": [
    "a * b    #Ketika dikali tidak bisa katanya can't multiply"
   ]
  },
  {
   "cell_type": "code",
   "execution_count": 12,
   "id": "b1f53a2d-76bb-4849-b7fb-964cad779a21",
   "metadata": {},
   "outputs": [
    {
     "name": "stdout",
     "output_type": "stream",
     "text": [
      "<class 'numpy.ndarray'>\n",
      "<class 'numpy.ndarray'>\n"
     ]
    }
   ],
   "source": [
    "arrayA = np.array(a)\n",
    "arrayB = np.array(b)\n",
    "print(type(arrayA))\n",
    "print(type(arrayB))"
   ]
  },
  {
   "cell_type": "code",
   "execution_count": 13,
   "id": "842afd23-1248-42f8-814e-0477d9615427",
   "metadata": {},
   "outputs": [
    {
     "data": {
      "text/plain": [
       "array([ 7,  9, 11, 13, 15])"
      ]
     },
     "execution_count": 13,
     "metadata": {},
     "output_type": "execute_result"
    }
   ],
   "source": [
    "arrayA + arrayB    #Nah kalau kita pakai np.array maka baru dia dijumlahkan"
   ]
  },
  {
   "cell_type": "code",
   "execution_count": 14,
   "id": "42f30d41-89a8-4b8b-b7f7-9c4c2db6dfef",
   "metadata": {},
   "outputs": [
    {
     "data": {
      "text/plain": [
       "array([ 6, 14, 24, 36, 50])"
      ]
     },
     "execution_count": 14,
     "metadata": {},
     "output_type": "execute_result"
    }
   ],
   "source": [
    "arrayA * arrayB    #Di perkalian dan operasi matematika lain juga sama"
   ]
  },
  {
   "cell_type": "code",
   "execution_count": 15,
   "id": "92bd5ca6-b33d-405a-8962-50af051c0cb3",
   "metadata": {},
   "outputs": [
    {
     "data": {
      "text/plain": [
       "array([10, 20, 30, 40, 50])"
      ]
     },
     "execution_count": 15,
     "metadata": {},
     "output_type": "execute_result"
    }
   ],
   "source": [
    "arrayA * 10    #Ini namanya konsep broadcasting jadi semua elemen di dalam array akan dikali dengan skalar"
   ]
  },
  {
   "cell_type": "raw",
   "id": "e28d0673-23d3-4438-a35c-70c247609cb4",
   "metadata": {},
   "source": []
  },
  {
   "cell_type": "code",
   "execution_count": 16,
   "id": "abf97466-3cb3-4ae8-9597-6834209506a0",
   "metadata": {},
   "outputs": [
    {
     "name": "stdout",
     "output_type": "stream",
     "text": [
      "0.25\n"
     ]
    }
   ],
   "source": [
    "#Contoh penerapan konsep np.array\n",
    "y_pred = np.array([1, 0, 0, 1, 1, 0, 1, 1])\n",
    "labels = np.array([0, 1, 0, 1, 1, 0, 1, 1])\n",
    "\n",
    "mse = (1/len(labels)) * np.sum(np.square(y_pred - labels))\n",
    "print(mse)"
   ]
  },
  {
   "cell_type": "markdown",
   "id": "13e16801-131c-4b7e-a8b2-c618c4f66fd5",
   "metadata": {},
   "source": []
  },
  {
   "cell_type": "markdown",
   "id": "1f08ae2d-670b-4596-ab02-986d49e4dab5",
   "metadata": {},
   "source": []
  },
  {
   "cell_type": "markdown",
   "id": "b556c49c-99e7-4687-852e-7b94b250fac4",
   "metadata": {},
   "source": [
    "### Membuat array nol dimensi (0D)"
   ]
  },
  {
   "cell_type": "code",
   "execution_count": 17,
   "id": "5d7222b7-1b8c-49ad-b485-679c3d71f46e",
   "metadata": {},
   "outputs": [
    {
     "name": "stdout",
     "output_type": "stream",
     "text": [
      "42\n"
     ]
    }
   ],
   "source": [
    "import numpy as np\n",
    "\n",
    "arr = np.array(42)\n",
    "print(arr)"
   ]
  },
  {
   "cell_type": "markdown",
   "id": "fb75b78e-6c73-47e0-8b83-f4abfda39037",
   "metadata": {},
   "source": [
    "### Membuat array satu dimensi (1D)"
   ]
  },
  {
   "cell_type": "code",
   "execution_count": 18,
   "id": "942f909b-af46-4ea6-8612-e2f7d68b5097",
   "metadata": {},
   "outputs": [
    {
     "name": "stdout",
     "output_type": "stream",
     "text": [
      "[1 2 3 4 5]\n"
     ]
    }
   ],
   "source": [
    "import numpy as np\n",
    "\n",
    "arr = np.array([1, 2, 3, 4, 5])\n",
    "print(arr)"
   ]
  },
  {
   "cell_type": "markdown",
   "id": "c93d7329-f414-4953-ab16-66ca124f838e",
   "metadata": {},
   "source": [
    "### Membuat array dua dimensi (2D)"
   ]
  },
  {
   "cell_type": "code",
   "execution_count": 1,
   "id": "63dc5c84-ee23-4bd9-8330-fa92cbe73f79",
   "metadata": {},
   "outputs": [
    {
     "name": "stdout",
     "output_type": "stream",
     "text": [
      "[[1 2 3]\n",
      " [4 5 6]]\n"
     ]
    }
   ],
   "source": [
    "import numpy as np\n",
    "\n",
    "arr = np.array([[1, 2, 3],\n",
    "                [4, 5, 6]])\n",
    "print(arr)"
   ]
  },
  {
   "cell_type": "markdown",
   "id": "c59d07dc-393f-4501-b571-ae53d31b7cee",
   "metadata": {},
   "source": [
    "### Membuat array tiga dimensi (3D)"
   ]
  },
  {
   "cell_type": "code",
   "execution_count": 2,
   "id": "822f95f0-6c55-4aca-a847-926401eb0c44",
   "metadata": {},
   "outputs": [
    {
     "name": "stdout",
     "output_type": "stream",
     "text": [
      "[[[ 1  2  3]\n",
      "  [ 4  5  6]]\n",
      "\n",
      " [[ 7  8  9]\n",
      "  [10 11 12]]]\n"
     ]
    }
   ],
   "source": [
    "import numpy as np\n",
    "\n",
    "arr = np.array([[[1, 2, 3],\n",
    "                 [4, 5, 6]],\n",
    "                [[7, 8, 9],\n",
    "                 [10, 11, 12]]])\n",
    "print(arr)"
   ]
  },
  {
   "cell_type": "markdown",
   "id": "4164900e-8667-41ff-86d2-56d86d61ed4d",
   "metadata": {},
   "source": [
    "### Membuat NumPy array 0s dan 1s"
   ]
  },
  {
   "cell_type": "code",
   "execution_count": 3,
   "id": "a38bdc31-52d1-4a52-9841-3a5c34358d99",
   "metadata": {},
   "outputs": [
    {
     "name": "stdout",
     "output_type": "stream",
     "text": [
      "[0. 0. 0. 0. 0.]\n"
     ]
    }
   ],
   "source": [
    "import numpy as np\n",
    "\n",
    "arr = np.zeros(5)\n",
    "print(arr)"
   ]
  },
  {
   "cell_type": "code",
   "execution_count": 6,
   "id": "c2996896-2963-4134-aba2-2cd0bbb434b0",
   "metadata": {},
   "outputs": [
    {
     "name": "stdout",
     "output_type": "stream",
     "text": [
      "[[0. 0.]\n",
      " [0. 0.]\n",
      " [0. 0.]\n",
      " [0. 0.]\n",
      " [0. 0.]]\n"
     ]
    }
   ],
   "source": [
    "arr = np.zeros((5, 2))\n",
    "print(arr)\n",
    "\n",
    "#array yang terbentuk yaitu array 0 berjumlah 5 yang masing2 diisi 2 elemen"
   ]
  },
  {
   "cell_type": "code",
   "execution_count": 8,
   "id": "a5885c8f-10c7-4cd0-96b3-80a143ae8d07",
   "metadata": {},
   "outputs": [
    {
     "name": "stdout",
     "output_type": "stream",
     "text": [
      "[[1. 1. 1. 1. 1. 1. 1.]\n",
      " [1. 1. 1. 1. 1. 1. 1.]\n",
      " [1. 1. 1. 1. 1. 1. 1.]\n",
      " [1. 1. 1. 1. 1. 1. 1.]\n",
      " [1. 1. 1. 1. 1. 1. 1.]]\n"
     ]
    }
   ],
   "source": [
    "import numpy as np\n",
    "\n",
    "arr = np.ones((5, 7))\n",
    "print(arr)"
   ]
  },
  {
   "cell_type": "code",
   "execution_count": 11,
   "id": "1b5f1112-9b75-4b62-9df2-02c95a20d031",
   "metadata": {},
   "outputs": [
    {
     "name": "stdout",
     "output_type": "stream",
     "text": [
      "[[[1. 1.]\n",
      "  [1. 1.]\n",
      "  [1. 1.]\n",
      "  [1. 1.]]\n",
      "\n",
      " [[1. 1.]\n",
      "  [1. 1.]\n",
      "  [1. 1.]\n",
      "  [1. 1.]]\n",
      "\n",
      " [[1. 1.]\n",
      "  [1. 1.]\n",
      "  [1. 1.]\n",
      "  [1. 1.]]]\n"
     ]
    }
   ],
   "source": [
    "#Bisa juga buat untuk 3D\n",
    "\n",
    "arr = np.ones(((3, 4, 2)))\n",
    "print(arr)"
   ]
  },
  {
   "cell_type": "markdown",
   "id": "29815f83-e050-4a89-ae20-1b2e87272e54",
   "metadata": {},
   "source": []
  },
  {
   "cell_type": "markdown",
   "id": "a9cb3dad-7a0f-4c45-9eb1-01dd1ea838ee",
   "metadata": {},
   "source": [
    "### Menghapus Array"
   ]
  },
  {
   "cell_type": "code",
   "execution_count": 13,
   "id": "c312d690-3c2b-4626-893d-235fa5b9de98",
   "metadata": {},
   "outputs": [
    {
     "name": "stdout",
     "output_type": "stream",
     "text": [
      "[[1 2 3]\n",
      " [4 5 6]\n",
      " [7 8 9]]\n"
     ]
    }
   ],
   "source": [
    "arr = np.array([[1, 2, 3], [4, 5, 6], [7, 8, 9]])\n",
    "print(arr)"
   ]
  },
  {
   "cell_type": "code",
   "execution_count": 15,
   "id": "00985c85-5804-4a97-aead-bdc66c5ec391",
   "metadata": {},
   "outputs": [
    {
     "name": "stdout",
     "output_type": "stream",
     "text": [
      "[[1 2 3]\n",
      " [7 8 9]]\n"
     ]
    }
   ],
   "source": [
    "#Menghpaus array tertentu\n",
    "\n",
    "arrDelete = np.array(arr)\n",
    "arrDelete = np.delete(arrDelete, 1, axis=0)    #Menghapus indeks ke 1\n",
    "print(arrDelete)\n",
    "\n",
    "#axis=0 itu karena kita menggunakan array 1 dimensi, kalau menggunakan lebih dari 1 dimensi\n",
    "#dan ingin menghapus di dimensi lain makan gunakan 1 atau 2 tergantung di dimensi mana yang ingin dihapus"
   ]
  },
  {
   "cell_type": "code",
   "execution_count": 16,
   "id": "ce0892ed-1066-43a2-9e89-08b5a0a0553c",
   "metadata": {},
   "outputs": [],
   "source": [
    "#Menghapus seluruh isi array\n",
    "\n",
    "del arrDelete"
   ]
  },
  {
   "cell_type": "code",
   "execution_count": 17,
   "id": "9af7e30e-c2c0-418b-afad-6863a199bf72",
   "metadata": {},
   "outputs": [
    {
     "ename": "NameError",
     "evalue": "name 'arrDelete' is not defined",
     "output_type": "error",
     "traceback": [
      "\u001b[1;31m---------------------------------------------------------------------------\u001b[0m",
      "\u001b[1;31mNameError\u001b[0m                                 Traceback (most recent call last)",
      "Cell \u001b[1;32mIn[17], line 1\u001b[0m\n\u001b[1;32m----> 1\u001b[0m \u001b[38;5;28mprint\u001b[39m(arrDelete)\n",
      "\u001b[1;31mNameError\u001b[0m: name 'arrDelete' is not defined"
     ]
    }
   ],
   "source": [
    "print(arrDelete)   #Karena sudah dihapus jadi tidak bisa diakses lagi"
   ]
  },
  {
   "cell_type": "markdown",
   "id": "c59b5a70-a16f-4a7b-8a46-3798dbfa8f3d",
   "metadata": {},
   "source": []
  },
  {
   "cell_type": "markdown",
   "id": "d225d48b-aede-4800-afee-e77ec1c66cc2",
   "metadata": {},
   "source": []
  },
  {
   "cell_type": "markdown",
   "id": "c77f95ca-da90-4d30-9ca5-e81c81648bc9",
   "metadata": {},
   "source": [
    "### Mengakses Array pada NumPy"
   ]
  },
  {
   "cell_type": "code",
   "execution_count": 18,
   "id": "a298d5b0-0d82-42a8-9178-4cc1be485fe2",
   "metadata": {},
   "outputs": [],
   "source": [
    "# Ada di bagian teori"
   ]
  },
  {
   "cell_type": "markdown",
   "id": "57ef2569-f58a-4ab2-a421-073a7be4dcc3",
   "metadata": {},
   "source": []
  },
  {
   "cell_type": "markdown",
   "id": "608aa9fb-66e4-4819-9301-52d1a6175d58",
   "metadata": {},
   "source": []
  },
  {
   "cell_type": "markdown",
   "id": "ba02a2ec-01e4-4e10-8e36-c8096f566a42",
   "metadata": {},
   "source": [
    "### Mengecek Tipe Data Pada NumPy Array"
   ]
  },
  {
   "cell_type": "code",
   "execution_count": 19,
   "id": "945da953-ed6a-450d-b127-235f6bf37bb4",
   "metadata": {},
   "outputs": [
    {
     "name": "stdout",
     "output_type": "stream",
     "text": [
      "int64\n"
     ]
    }
   ],
   "source": [
    "#Cek tipe data pada NumPy array\n",
    "import numpy as np\n",
    "\n",
    "arr = np.array([1, 2, 3, 4])\n",
    "print(arr.dtype)"
   ]
  },
  {
   "cell_type": "code",
   "execution_count": 32,
   "id": "14f636ea-26eb-484b-a1ed-a7b689e8e2cd",
   "metadata": {},
   "outputs": [
    {
     "name": "stdout",
     "output_type": "stream",
     "text": [
      "[b'1' b'2' b'3' b'4']\n",
      "|S1\n",
      "[1 2 3 4]\n",
      "int16\n",
      "[1 2 3 4]\n",
      "int32\n",
      "[1 2 3 4]\n",
      "uint32\n"
     ]
    }
   ],
   "source": [
    "#Kita juga bisa definisikan tipe data pada NumPy array\n",
    "import numpy as np\n",
    "\n",
    "arr = np.array([1, 2, 3, 4], dtype='S')\n",
    "arr_int16 = np.array([1, 2, 3, 4], dtype=np.int16)\n",
    "arr_int32 = np.array([1, 2, 3, 4], dtype=np.int32)\n",
    "arr_uint = np.array([1, 2, 3, 4], dtype='I')\n",
    "print(arr)\n",
    "print(arr.dtype)\n",
    "print(arr_int16)\n",
    "print(arr_int16.dtype)\n",
    "print(arr_int32)\n",
    "print(arr_int32.dtype)\n",
    "print(arr_uint)\n",
    "print(arr_uint.dtype)"
   ]
  },
  {
   "cell_type": "markdown",
   "id": "8fa51411-c919-4e18-9c2d-3b32df09a73f",
   "metadata": {},
   "source": []
  },
  {
   "cell_type": "markdown",
   "id": "131847f1-30ba-4a7c-9b69-18cc752a4976",
   "metadata": {},
   "source": [
    "### Mengubah Tipe Data Pada NumPy Array"
   ]
  },
  {
   "cell_type": "code",
   "execution_count": 35,
   "id": "749a727e-d8e4-445d-87d3-81d69b348c11",
   "metadata": {},
   "outputs": [
    {
     "data": {
      "text/plain": [
       "(array([1.1, 2.4, 3.7, 4.5]), dtype('float64'))"
      ]
     },
     "execution_count": 35,
     "metadata": {},
     "output_type": "execute_result"
    }
   ],
   "source": [
    "arr = np.array([1.1, 2.4, 3.7, 4.5])\n",
    "arr, arr.dtype    #Tipe awalnya float64"
   ]
  },
  {
   "cell_type": "code",
   "execution_count": 37,
   "id": "5206d730-3f3a-47fc-bc11-d70680d17e62",
   "metadata": {},
   "outputs": [
    {
     "data": {
      "text/plain": [
       "(array([1, 2, 3, 4], dtype=uint32), dtype('uint32'))"
      ]
     },
     "execution_count": 37,
     "metadata": {},
     "output_type": "execute_result"
    }
   ],
   "source": [
    "arr = arr.astype('I')    #Kita ubah jadi uint32\n",
    "arr, arr.dtype"
   ]
  },
  {
   "cell_type": "markdown",
   "id": "25e1cda4-35b9-49f3-a1e5-a88bd57659a4",
   "metadata": {},
   "source": []
  },
  {
   "cell_type": "markdown",
   "id": "3bf257bc-ea03-46fd-b429-f57613d10501",
   "metadata": {},
   "source": [
    "### Fungsi Arange"
   ]
  },
  {
   "cell_type": "code",
   "execution_count": 49,
   "id": "cad99d34-5917-4306-8bc3-c27f266fbf8d",
   "metadata": {},
   "outputs": [
    {
     "name": "stdout",
     "output_type": "stream",
     "text": [
      "<class 'numpy.ndarray'>\n"
     ]
    },
    {
     "data": {
      "text/plain": [
       "(array([0, 1, 2, 3, 4, 5, 6, 7, 8, 9]), None)"
      ]
     },
     "execution_count": 49,
     "metadata": {},
     "output_type": "execute_result"
    }
   ],
   "source": [
    "arr = np.arange(10)\n",
    "arr, print(type(arr))"
   ]
  },
  {
   "cell_type": "code",
   "execution_count": 52,
   "id": "5c3ce8fa-f1b3-4991-b682-b6a61a28b2d7",
   "metadata": {},
   "outputs": [
    {
     "name": "stdout",
     "output_type": "stream",
     "text": [
      "[0, 1, 2, 3, 4, 5, 6, 7, 8, 9]\n"
     ]
    }
   ],
   "source": [
    "#Kalau di List Python :\n",
    "print(list(range(10)))"
   ]
  },
  {
   "cell_type": "code",
   "execution_count": 50,
   "id": "36177e51-b56d-40a8-aea6-a20b442e687c",
   "metadata": {},
   "outputs": [
    {
     "name": "stdout",
     "output_type": "stream",
     "text": [
      "0\n",
      "1\n",
      "2\n",
      "3\n",
      "4\n",
      "5\n",
      "6\n",
      "7\n",
      "8\n",
      "9\n"
     ]
    }
   ],
   "source": [
    "#Bisa juga menggunakan pengulangan for\n",
    "\n",
    "for i in range(10):\n",
    "    print(i)"
   ]
  },
  {
   "cell_type": "code",
   "execution_count": 53,
   "id": "201da1ab-ee69-432b-8452-36717341aed9",
   "metadata": {},
   "outputs": [
    {
     "name": "stdout",
     "output_type": "stream",
     "text": [
      "[10 12 14 16 18]\n"
     ]
    }
   ],
   "source": [
    "#Bisa juga menggunakan kelipatanabs\n",
    "arr = np.arange(10, 20, 2)   #10 sampai 20 dengan kelipatan 2\n",
    "print(arr)"
   ]
  }
 ],
 "metadata": {
  "kernelspec": {
   "display_name": "Python 3 (ipykernel)",
   "language": "python",
   "name": "python3"
  },
  "language_info": {
   "codemirror_mode": {
    "name": "ipython",
    "version": 3
   },
   "file_extension": ".py",
   "mimetype": "text/x-python",
   "name": "python",
   "nbconvert_exporter": "python",
   "pygments_lexer": "ipython3",
   "version": "3.12.7"
  }
 },
 "nbformat": 4,
 "nbformat_minor": 5
}
