{
 "cells": [
  {
   "cell_type": "markdown",
   "id": "9e993c56",
   "metadata": {},
   "source": [
    "# Series"
   ]
  },
  {
   "cell_type": "code",
   "execution_count": 1,
   "id": "e9104c21",
   "metadata": {},
   "outputs": [],
   "source": [
    "import pandas as pd"
   ]
  },
  {
   "cell_type": "markdown",
   "id": "4b06d894",
   "metadata": {},
   "source": [
    "### Pandas Series\n",
    "    Series pada pandas bekerja sama seperti kolom pada sebuah tabel. Hanya saja, pada pandas bentuknya berupa Array 1D yang bisa memuat data dengan beragam tipe."
   ]
  },
  {
   "cell_type": "markdown",
   "id": "2081fc9c",
   "metadata": {},
   "source": [
    "### Membuat Series dari sebuah List Python"
   ]
  },
  {
   "cell_type": "code",
   "execution_count": 3,
   "id": "b4fc3113",
   "metadata": {},
   "outputs": [
    {
     "name": "stdout",
     "output_type": "stream",
     "text": [
      "0    1\n",
      "1    2\n",
      "2    3\n",
      "dtype: int64\n",
      "<class 'pandas.core.series.Series'>\n"
     ]
    }
   ],
   "source": [
    "li = [1, 2, 3]\n",
    "se = pd.Series(li)\n",
    "\n",
    "print(se)\n",
    "print(type(se))"
   ]
  },
  {
   "cell_type": "markdown",
   "id": "d4e05f60",
   "metadata": {},
   "source": [
    "### Mengakses elemen pada Series"
   ]
  },
  {
   "cell_type": "code",
   "execution_count": 4,
   "id": "5464ea42",
   "metadata": {},
   "outputs": [
    {
     "name": "stdout",
     "output_type": "stream",
     "text": [
      "7\n"
     ]
    }
   ],
   "source": [
    "li = [1, 7, 2, 4]\n",
    "se = pd.Series(li)\n",
    "\n",
    "print(se[1])\n"
   ]
  },
  {
   "cell_type": "markdown",
   "id": "6e06287d",
   "metadata": {},
   "source": [
    "### Memberi label(index) pada Series"
   ]
  },
  {
   "cell_type": "code",
   "execution_count": 7,
   "id": "8f251cc4",
   "metadata": {},
   "outputs": [
    {
     "name": "stdout",
     "output_type": "stream",
     "text": [
      "2\n"
     ]
    }
   ],
   "source": [
    "li = [1, 7, 2, 4]\n",
    "se = pd.Series(li, index= ['x', 'y', 'z', 'w'])\n",
    "\n",
    "print(se['z'])\n",
    "\n",
    "# Jadi kalau kita mau akses datanya kita bisa panggil dengan indexnya"
   ]
  },
  {
   "cell_type": "markdown",
   "id": "daf3b9a7",
   "metadata": {},
   "source": [
    "### Membuat Series dari Dictionary"
   ]
  },
  {
   "cell_type": "code",
   "execution_count": 9,
   "id": "7eacb3d5",
   "metadata": {},
   "outputs": [
    {
     "name": "stdout",
     "output_type": "stream",
     "text": [
      "day1    420\n",
      "day2    380\n",
      "day3    390\n",
      "dtype: int64\n"
     ]
    }
   ],
   "source": [
    "calories = {\"day1\": 420, \"day2\": 380, \"day3\": 390}\n",
    "se = pd.Series(calories)\n",
    "\n",
    "print(se)\n",
    "\n",
    "# Jadi di dictionary kan ada key dan value, nah di pandas series ini kita bisa akses datanya dengan keynya sama konsepnya seperti label(index) di atas"
   ]
  }
 ],
 "metadata": {
  "kernelspec": {
   "display_name": "base",
   "language": "python",
   "name": "python3"
  },
  "language_info": {
   "codemirror_mode": {
    "name": "ipython",
    "version": 3
   },
   "file_extension": ".py",
   "mimetype": "text/x-python",
   "name": "python",
   "nbconvert_exporter": "python",
   "pygments_lexer": "ipython3",
   "version": "3.12.7"
  }
 },
 "nbformat": 4,
 "nbformat_minor": 5
}
