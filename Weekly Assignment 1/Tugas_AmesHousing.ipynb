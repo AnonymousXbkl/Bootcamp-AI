{
 "cells": [
  {
   "cell_type": "markdown",
   "id": "a9edbcc0",
   "metadata": {},
   "source": [
    "**Nama** : Suwandi Ramadhan <br>\n",
    "**Grup** : Prof. Suyanto"
   ]
  },
  {
   "cell_type": "code",
   "execution_count": 4,
   "id": "b0ccf940",
   "metadata": {},
   "outputs": [],
   "source": [
    "import numpy as np\n",
    "import pandas as pd\n",
    "import seaborn as sns\n",
    "import matplotlib\n",
    "import matplotlib.pyplot as plt"
   ]
  },
  {
   "cell_type": "code",
   "execution_count": 28,
   "id": "c23a5a7c",
   "metadata": {},
   "outputs": [
    {
     "data": {
      "text/plain": [
       "['Solarize_Light2',\n",
       " '_classic_test_patch',\n",
       " '_mpl-gallery',\n",
       " '_mpl-gallery-nogrid',\n",
       " 'bmh',\n",
       " 'classic',\n",
       " 'dark_background',\n",
       " 'fast',\n",
       " 'fivethirtyeight',\n",
       " 'ggplot',\n",
       " 'grayscale',\n",
       " 'seaborn-v0_8',\n",
       " 'seaborn-v0_8-bright',\n",
       " 'seaborn-v0_8-colorblind',\n",
       " 'seaborn-v0_8-dark',\n",
       " 'seaborn-v0_8-dark-palette',\n",
       " 'seaborn-v0_8-darkgrid',\n",
       " 'seaborn-v0_8-deep',\n",
       " 'seaborn-v0_8-muted',\n",
       " 'seaborn-v0_8-notebook',\n",
       " 'seaborn-v0_8-paper',\n",
       " 'seaborn-v0_8-pastel',\n",
       " 'seaborn-v0_8-poster',\n",
       " 'seaborn-v0_8-talk',\n",
       " 'seaborn-v0_8-ticks',\n",
       " 'seaborn-v0_8-white',\n",
       " 'seaborn-v0_8-whitegrid',\n",
       " 'tableau-colorblind10']"
      ]
     },
     "execution_count": 28,
     "metadata": {},
     "output_type": "execute_result"
    }
   ],
   "source": [
    "plt.style.available"
   ]
  },
  {
   "cell_type": "code",
   "execution_count": 29,
   "id": "2998ae8f",
   "metadata": {},
   "outputs": [],
   "source": [
    "plt.style.use('seaborn-v0_8')"
   ]
  },
  {
   "cell_type": "markdown",
   "id": "5e84fe93",
   "metadata": {},
   "source": [
    "# 1. Business & Data Understanding"
   ]
  },
  {
   "cell_type": "markdown",
   "id": "bfe4afc5",
   "metadata": {},
   "source": [
    "## 1.1 Business"
   ]
  },
  {
   "cell_type": "markdown",
   "id": "39954a81",
   "metadata": {},
   "source": [
    "### 1.1.1 Seperti apa industri Real Estate di Indonesia"
   ]
  },
  {
   "cell_type": "markdown",
   "id": "da052ab2",
   "metadata": {},
   "source": [
    "### 1.1.2 Seberapa penting sistem prediksi harga rumah?"
   ]
  },
  {
   "cell_type": "markdown",
   "id": "36c6ba2c",
   "metadata": {},
   "source": [
    "### 1.1.3 Supervised atau Unsupervised Learning? Algoritma apa yang digunakan?"
   ]
  },
  {
   "cell_type": "markdown",
   "id": "dfc44241",
   "metadata": {},
   "source": [
    "## 1.2 Data Understanding"
   ]
  },
  {
   "cell_type": "markdown",
   "id": "593b8c8c",
   "metadata": {},
   "source": [
    "### Berikut adalah penjelasan untuk setiap fitur dalam dataset <br> **AmesHousing**, disertai dengan :"
   ]
  },
  {
   "cell_type": "markdown",
   "id": "d74c7bc5",
   "metadata": {},
   "source": [
    "- **Fitur**\n",
    "- **Deskripsi Dataset Untuk Tiap Kolom/Fitur**\n",
    "- **Dtype Untuk Tiap Kolom/Fitur**\n",
    "- **Tipe Data** (Numerik/Kategorikal)\n"
   ]
  },
  {
   "cell_type": "markdown",
   "id": "b60fb977",
   "metadata": {},
   "source": [
    "###  Identifikasi Properti"
   ]
  },
  {
   "cell_type": "markdown",
   "id": "091d1eae",
   "metadata": {},
   "source": [
    "| Fitur | Deskripsi | Dtype | Tipe | Jumlah Data Yang Hilang |\n",
    "|:-------:|:-----------:|:-------:|:------:|:-------------------------:|\n",
    "| `Order` | Nomor urutan data entri properti | int64 | Numerical | Tidak ada data hilang |\n",
    "| `PID` | ID unik Properti | int64 | Numerical | Tidak ada data hilang |"
   ]
  },
  {
   "cell_type": "markdown",
   "id": "41d8526f",
   "metadata": {},
   "source": [
    "### Informasi Lokasi & Lahan"
   ]
  },
  {
   "cell_type": "markdown",
   "id": "411fad2a",
   "metadata": {},
   "source": [
    "| Fitur | Deskripsi | Dtype | Tipe | Jumlah Data Yang Hilang |\n",
    "|:-----:|:---------:|:-----:|:----:|:-----------------------:|\n",
    "| `MS SubClass` | Subkelas hunian yang terlibat dalam penjualan | int64 | Numerical/Kategori | Tidak ada data hilang |\n",
    "| `MS Zoning` | Zona umum perumahan dalam batas kota` | object | Kategorikal | Tidak ada data hilang |\n",
    "| `Lot Frontage\t` | Luas (feet) jalan yang terhubung dengan properti | float64 | Numerical | <span style=\"color: yellow;\">490 data hilang</span> |\n",
    "| `Lot Area` | Luas lot properti | int64 | Numerical | Tidak ada data hilang |\n",
    "| `Street` | Tipe akses jalan menuju properti | object | Kategorikal | Tidak ada data hilang |\n",
    "| `Alley` | Tipe akses gang | object | Kategorikal | <span style=\"color: red;\">2732 data hilang</span> |\n",
    "| `Lot Shape` | Bentuk umum properti | object | Kategorikal | Tidak ada data hilang |\n",
    "| `Land Contour` | Kerataan tanah properti | object | Kategorikal | Tidak ada data hilang |\n",
    "| `Utilities` | Jenis utilitas (layanan publik) yang tersedia | object | Kategorikal | Tidak ada data hilang |\n",
    "| `Lot Config` | Konfigurasi lot properti (misal: hook, inside lot) | object | Kategorikal | Tidak ada data hilang |\n",
    "| `Land Slope` | Kemiringan tanah properti | object | Kategorikal | Tidak ada data hilang |\n",
    "| `Neighborhood` | Nama fisik kawasan (perumahan) dalam batas kota Ames | object | Kategorikal | Tidak ada data hilang |\n",
    "| `Condition 1` | Kedekatan dengan berbagai kondisi/fitur (misal: jalan arteri, rel kereta api) | object | Kategorikal | Tidak ada data hilang |\n",
    "| `Condition 2` | Kedekatan dengan kondisi/fitur (jika ada lebih dari satu) | object | Kategorikal | Tidak ada data hilang |"
   ]
  },
  {
   "cell_type": "markdown",
   "id": "318934f4",
   "metadata": {},
   "source": [
    "### Informasi Bangunan Utama"
   ]
  },
  {
   "cell_type": "markdown",
   "id": "cb48ed89",
   "metadata": {},
   "source": [
    "| Fitur | Deskripsi | Dtype | Tipe | Jumlah Data Yang Hilang |\n",
    "|:-----:|:---------:|:-----:|:----:|:-----------------------:|\n",
    "| `Bldg Type` | Tipe tempat tinggal (misal: rumah tunggal satu keluarga, dupleks) | object | object | Tidak ada data hilang |\n",
    "| `House Style` | Gaya tempat tinggal (misal: 1 lantai, 2 lantai) | object | Kategorikal | Tidak ada data hilang |\n",
    "| `Overall Qual` | Menilai kualitas material dan finishing rumah secara keseluruhan (misal: 1-10) | int64 | Numerical | Tidak ada data hilang |\n",
    "| `Overall Cond` | Menilai kondisi rumah secara keseluruhan (misal: 1-10) | int64 | Numerical | Tidak ada data hilang |\n",
    "| `Year Built` | Tanggal pembangunan awal | int64 | Numerical | Tidak ada data hilang |\n",
    "| `Year Remod/Add` | Tanggal renovasi atau penambahan terakhir (jika ada) | int64 | Numerical | Tidak ada data hilang |\n",
    "| `Roof Style` | Tipe atap | object | Kategorikal | Tidak ada data hilang |\n",
    "| `Exterior 1st` | Material penutup eksterior utama (sisi rumah) | object | Kategorikal | Tidak ada data hilang |\n",
    "| `Exterior 2nd` | Material penutup eksterior kedua (jika berbeda) | object | Kategorikal | Tidak ada data hilang |\n",
    "| `Mas Vnr Type` | Tipe veneer batu/masonry (jika ada) | object | Kategorikal | <span style=\"color:red\">1775 data hilang<span> |\n",
    "| `Mas Vnr Area` | Luas area veneer batu/masonry (dalam kaki persegi) | float64 | Numerical | <span style=\"color:yellow\">23 data hilang<span> |\n",
    "| `Exter Qual` | Kualitas material eksterior saat ini | object | Kategorikal | Tidak ada data hilang |\n",
    "| `Exter Cond` | Kondisi material eksterior saat ini | object | Kategorikal | Tidak ada data hilang |\n"
   ]
  },
  {
   "cell_type": "markdown",
   "id": "317dbd5b",
   "metadata": {},
   "source": [
    "### Fondasi & Basement"
   ]
  },
  {
   "cell_type": "markdown",
   "id": "e9d9386a",
   "metadata": {},
   "source": [
    "| Fitur | Deskripsi | Dtype | Tipe | Jumlah Data Yang Hilang |\n",
    "|:-----:|:---------:|:-----:|:----:|:-----------------------:|\n",
    "| `Foundation` | Tipe fondasi | object | Kategorikal | Tidak ada data hilang |\n",
    "| `Bsmt Qual` | Kualitas tinggi basement (Tinggi Headroom) | object | Kategorikal | <span style=\"color:yellow\">80 data hilang<span> |\n",
    "| `Bsmt Cond` | Kondisi umum basement | object | Kategorikal | <span style=\"color:yellow\">80 data hilang<span> |\n",
    "| `Bsmt Exposure` | Tingkat dinding basement yang walkout atau terpapar ke taman | object | Kategorikal | <span style=\"color:yellow\">83 data hilang<span> |\n",
    "| `BsmtFin Type 1` | Kualitas area selesai basement yang dominan | object | Kategorikal | <span style=\"color:yellow\">80 data hilang<span> |\n",
    "| `BsmtFin SF 1` | Luas (dalam kaki persegi) area selesai tipe 1 di basement | float64 | Numerical | <span style=\"color:yellow\">1 data hilang<span> |\n",
    "| `BsmtFin Type 2` | Kualitas area selesai basement yang kedua (jika ada) | object | Kategorikal | <span style=\"color:yellow\">81 data hilang<span> |\n",
    "| `BsmtFin SF 2` | Luas (dalam kaki persegi) area selesai tipe 2 di basement | float64 | Numerical | <span style=\"color:yellow\">1 data hilang<span> |\n",
    "| `Bsmt Unf SF` | Luas (dalam kaki persegi) area basement yang belum selesai | float64 | Numerical | <span style=\"color:yellow\">1 data hilang<span> |\n",
    "| `Total Bsmt SF` | Total luas (dalam kaki persegi) basement | float64 | Numerical | <span style=\"color:yellow\">1 data hilang<span> |"
   ]
  },
  {
   "cell_type": "markdown",
   "id": "12c50984",
   "metadata": {},
   "source": [
    "### Sistem Internal & Ruangan (di atas tanah)"
   ]
  },
  {
   "cell_type": "markdown",
   "id": "8f749fec",
   "metadata": {},
   "source": [
    "| Fitur | Deskripsi | Dtype | Tipe | Jumlah Data Yang Hilang |\n",
    "|:-----:|:---------:|:-----:|:----:|:-----------------------:|\n",
    "| `Heating` | Tipe sistem pemanasan | object | Kategorikal | Tidak ada data hilang |\n",
    "| `Heating QC` | Kualitas dan kondisi pemanasan | object | Kategorikal | Tidak ada data hilang |\n",
    "| `Central Air` | Pendingin udara sentral | object | Kategorikal | Tidak ada data hilang |\n",
    "| `Electrical` | Sistem kelistrikan | object | Kategorikal | <span style=\"color:yellow\">1 data hilang<span> |\n",
    "| `1st Flr SF` | Luas (dalam kaki persegi) lantai pertama | int64 | Numerical | Tidak ada data hilang |\n",
    "| `2nd Flr SF` | Luas (dalam kaki persegi) lantai kedua (jika ada) | int64 | Numerical | Tidak ada data hilang |\n",
    "| `Low Qual Fin SF` | Luas (dalam kaki persegi) area selesai berkualitas rendah (lantai apa pun) | int64 | Numerical | Tidak ada data hilang |\n",
    "| `Gr Liv Area` | Luas (dalam kaki persegi) area tinggal di atas permukaan tanah (Living Area) | int64 | Numerical | Tidak ada data hilang |\n",
    "| `Bedroom AbvGr` | Jumlah kamar tidur di atas permukaan tanah | int64 | int64 | Tidak ada data hilang |\n",
    "| `Kitchen AbvGr` | Jumlah dapur di atas permukaan tanah | int64 | Numerical | Tidak ada data hilang |\n",
    "| `Kitchen Qual` | Kualitas dapur | object | Kategorikal | Tidak ada data hilang |\n",
    "| `TotRms AbvGrd` | Total jumlah ruangan di atas permukaan tanah (tidak termasuk kamar mandi) | int64 | Numerical | Tidak ada data hilang |\n",
    "| `Functional` | Tingkat fungsionalitas rumah | object | Kategorikal | Tidak ada data hilang |\n"
   ]
  },
  {
   "cell_type": "markdown",
   "id": "119b82f5",
   "metadata": {},
   "source": [
    "### Kamar Mandi"
   ]
  },
  {
   "cell_type": "markdown",
   "id": "946b23ba",
   "metadata": {},
   "source": [
    "| Fitur | Deskripsi | Dtype | Tipe | Jumlah Data Yang Hilang |\n",
    "|:-----:|:---------:|:-----:|:----:|:-----------------------:|\n",
    "| `Bsmt Full Bath` | Jumlah kamar mandi penuh di basement | float64 | Numerical | <span style=\"color:yellow\">2 data hilang<span> |\n",
    "| `Bsmt Half Bath` | Jumlah kamar mandi setengah di basement | float64 | Numerical | <span style=\"color:yellow\">2 data hilang<span> |\n",
    "| `Full Bath` | Jumlah kamar mandi penuh di atas permukaan tanah | int64 | Numerical | Tidak ada data hilang |\n",
    "| `Half Bath` | Jumlah kamar mandi setengah di atas permukaan tanah | int64 | Numerical | Tidak ada data hilang |"
   ]
  },
  {
   "cell_type": "markdown",
   "id": "4ec899b6",
   "metadata": {},
   "source": [
    "### Fitur Eksternal & Lain-lain"
   ]
  },
  {
   "cell_type": "markdown",
   "id": "8a1125c7",
   "metadata": {},
   "source": [
    "| Fitur | Deskripsi | Dtype | Tipe | Jumlah Data Yang Hilang |\n",
    "|:-----:|:---------:|:-----:|:----:|:-----------------------:|\n",
    "| `Fireplaces` | Jumlah perapian | int64 | Numerical | Tidak ada data hilang |\n",
    "| `Fireplace Qu` | Kualitas perapian | object | Kategorikal | <span style=\"color:red\">1422 data hilang<span> |\n",
    "| `Garage Type` | Tipe garasi | object | Kategorikal | <span style=\"color:yellow\">157 data hilang<span> |\n",
    "| `Garage Yr Blt` | Tahun garasi dibangun | float64 | Numerical | <span style=\"color:yellow\">159 data hilang<span> |\n",
    "| `Garage Finish` | Finishing interior garasi | object | Kategorikal | <span style=\"color:yellow\">159 data hilang<span> |\n",
    "| `Garage Cars` | Kapasitas garasi (dalam jumlah mobil) | float64 | Numerical | <span style=\"color:yellow\">1 data hilang<span> |\n",
    "| `Garage Area` | Luas (dalam kaki persegi) garasi | float64 | Numerical | <span style=\"color:yellow\">1 data hilang<span> |\n",
    "| `Garage Qual` | Kualitas garasi | object | Kategorikal | <span style=\"color:yellow\">159 data hilang<span> |\n",
    "| `Garage Cond` | Kondisi garasi | object | Kategorikal | <span style=\"color:yellow\">159 data hilang<span> |\n",
    "| `Paved Drive` | Jalan masuk beraspal | object | Kategorikal | Tidak ada data hilang |\n",
    "| `Wood Deck SF` | Luas (dalam kaki persegi) teras kayu | int64 | Numerical | Tidak ada data hilang |\n",
    "| `Open Porch SF` | Luas (dalam kaki persegi) teras terbuka | int64 | Numerical | Tidak ada data hilang |\n",
    "| `Enclosed Porch` | Luas (dalam kaki persegi) teras tertutup | int64 | Numerical | Tidak ada data hilang |\n",
    "| `3Ssn Porch` | Luas (dalam kaki persegi) teras 3 musim | int64 | Numerical | Tidak ada data hilang |\n",
    "| `Screen Porch` | Luas (dalam kaki persegi) teras berlayar (screened) | int64 | Numerical | Tidak ada data hilang |\n",
    "| `Pool Area` | Luas (dalam kaki persegi) kolam renang | int64 | Numerical | Tidak ada data hilang |\n",
    "| `Pool QC` | Kualitas kolam renang | object | Kategorikal | <span style=\"color:red\">2917 data hilang<span> |\n",
    "| `Fence` | Kualitas pagar | object | Kategorikal | <span style=\"color:red\">2358 data hilang<span> |\n",
    "| `Misc Feature` | Fitur lain-lain yang tidak tercakup dalam kategori lain (misal: lift, lapangan tenis) | object | Kategorikal | <span style=\"color:red\">2824 data hilang<span> |\n",
    "| `Misc Val` | Nilai (dalam mata uang )dari fitur lain−lain (MiscFeature) jika ada | int64 | Numerical | Tidak ada data hilang |"
   ]
  },
  {
   "cell_type": "markdown",
   "id": "0cd1a358",
   "metadata": {},
   "source": [
    "### Informasi Penjualan"
   ]
  },
  {
   "cell_type": "markdown",
   "id": "818449b5",
   "metadata": {},
   "source": [
    "| Fitur | Deskripsi | Dtype | Tipe | Jumlah Data Yang Hilang |\n",
    "|:-----:|:---------:|:-----:|:----:|:-----------------------:|\n",
    "| `Mo Sold` | Bulan penjualan | int64 | Numerical | Tidak ada data hilang |\n",
    "| `Yr Sold` | Tahun penjualan | int64 | Numerical | Tidak ada data hilang |\n",
    "| `Sale Type` | Tipe transaksi penjualan | object | Kategorikal | Tidak ada data hilang |\n",
    "| `Sale Condition` | Kondisi penjualan (misal:Normal,Abnorml)| object | Kategorikal | Tidak ada data hilang |\n",
    "| `SalePrice` | Harga jualproperti dalam dollar | int64 | Numerical | Tidak ada data hilang |"
   ]
  },
  {
   "cell_type": "markdown",
   "id": "7fb997bc",
   "metadata": {},
   "source": [
    "## 2.1 Data Analysis"
   ]
  },
  {
   "cell_type": "markdown",
   "id": "30bf2446",
   "metadata": {},
   "source": [
    "### 2.1.1 Muat Data, Preview Awal dan Pisahkan Label SalesPrice"
   ]
  },
  {
   "cell_type": "code",
   "execution_count": 3,
   "id": "9ff5dda3",
   "metadata": {},
   "outputs": [
    {
     "data": {
      "text/html": [
       "<div>\n",
       "<style scoped>\n",
       "    .dataframe tbody tr th:only-of-type {\n",
       "        vertical-align: middle;\n",
       "    }\n",
       "\n",
       "    .dataframe tbody tr th {\n",
       "        vertical-align: top;\n",
       "    }\n",
       "\n",
       "    .dataframe thead th {\n",
       "        text-align: right;\n",
       "    }\n",
       "</style>\n",
       "<table border=\"1\" class=\"dataframe\">\n",
       "  <thead>\n",
       "    <tr style=\"text-align: right;\">\n",
       "      <th></th>\n",
       "      <th>Order</th>\n",
       "      <th>PID</th>\n",
       "      <th>MS SubClass</th>\n",
       "      <th>MS Zoning</th>\n",
       "      <th>Lot Frontage</th>\n",
       "      <th>Lot Area</th>\n",
       "      <th>Street</th>\n",
       "      <th>Alley</th>\n",
       "      <th>Lot Shape</th>\n",
       "      <th>Land Contour</th>\n",
       "      <th>...</th>\n",
       "      <th>Pool Area</th>\n",
       "      <th>Pool QC</th>\n",
       "      <th>Fence</th>\n",
       "      <th>Misc Feature</th>\n",
       "      <th>Misc Val</th>\n",
       "      <th>Mo Sold</th>\n",
       "      <th>Yr Sold</th>\n",
       "      <th>Sale Type</th>\n",
       "      <th>Sale Condition</th>\n",
       "      <th>SalePrice</th>\n",
       "    </tr>\n",
       "  </thead>\n",
       "  <tbody>\n",
       "    <tr>\n",
       "      <th>0</th>\n",
       "      <td>1</td>\n",
       "      <td>526301100</td>\n",
       "      <td>20</td>\n",
       "      <td>RL</td>\n",
       "      <td>141.0</td>\n",
       "      <td>31770</td>\n",
       "      <td>Pave</td>\n",
       "      <td>NaN</td>\n",
       "      <td>IR1</td>\n",
       "      <td>Lvl</td>\n",
       "      <td>...</td>\n",
       "      <td>0</td>\n",
       "      <td>NaN</td>\n",
       "      <td>NaN</td>\n",
       "      <td>NaN</td>\n",
       "      <td>0</td>\n",
       "      <td>5</td>\n",
       "      <td>2010</td>\n",
       "      <td>WD</td>\n",
       "      <td>Normal</td>\n",
       "      <td>215000</td>\n",
       "    </tr>\n",
       "    <tr>\n",
       "      <th>1</th>\n",
       "      <td>2</td>\n",
       "      <td>526350040</td>\n",
       "      <td>20</td>\n",
       "      <td>RH</td>\n",
       "      <td>80.0</td>\n",
       "      <td>11622</td>\n",
       "      <td>Pave</td>\n",
       "      <td>NaN</td>\n",
       "      <td>Reg</td>\n",
       "      <td>Lvl</td>\n",
       "      <td>...</td>\n",
       "      <td>0</td>\n",
       "      <td>NaN</td>\n",
       "      <td>MnPrv</td>\n",
       "      <td>NaN</td>\n",
       "      <td>0</td>\n",
       "      <td>6</td>\n",
       "      <td>2010</td>\n",
       "      <td>WD</td>\n",
       "      <td>Normal</td>\n",
       "      <td>105000</td>\n",
       "    </tr>\n",
       "    <tr>\n",
       "      <th>2</th>\n",
       "      <td>3</td>\n",
       "      <td>526351010</td>\n",
       "      <td>20</td>\n",
       "      <td>RL</td>\n",
       "      <td>81.0</td>\n",
       "      <td>14267</td>\n",
       "      <td>Pave</td>\n",
       "      <td>NaN</td>\n",
       "      <td>IR1</td>\n",
       "      <td>Lvl</td>\n",
       "      <td>...</td>\n",
       "      <td>0</td>\n",
       "      <td>NaN</td>\n",
       "      <td>NaN</td>\n",
       "      <td>Gar2</td>\n",
       "      <td>12500</td>\n",
       "      <td>6</td>\n",
       "      <td>2010</td>\n",
       "      <td>WD</td>\n",
       "      <td>Normal</td>\n",
       "      <td>172000</td>\n",
       "    </tr>\n",
       "    <tr>\n",
       "      <th>3</th>\n",
       "      <td>4</td>\n",
       "      <td>526353030</td>\n",
       "      <td>20</td>\n",
       "      <td>RL</td>\n",
       "      <td>93.0</td>\n",
       "      <td>11160</td>\n",
       "      <td>Pave</td>\n",
       "      <td>NaN</td>\n",
       "      <td>Reg</td>\n",
       "      <td>Lvl</td>\n",
       "      <td>...</td>\n",
       "      <td>0</td>\n",
       "      <td>NaN</td>\n",
       "      <td>NaN</td>\n",
       "      <td>NaN</td>\n",
       "      <td>0</td>\n",
       "      <td>4</td>\n",
       "      <td>2010</td>\n",
       "      <td>WD</td>\n",
       "      <td>Normal</td>\n",
       "      <td>244000</td>\n",
       "    </tr>\n",
       "    <tr>\n",
       "      <th>4</th>\n",
       "      <td>5</td>\n",
       "      <td>527105010</td>\n",
       "      <td>60</td>\n",
       "      <td>RL</td>\n",
       "      <td>74.0</td>\n",
       "      <td>13830</td>\n",
       "      <td>Pave</td>\n",
       "      <td>NaN</td>\n",
       "      <td>IR1</td>\n",
       "      <td>Lvl</td>\n",
       "      <td>...</td>\n",
       "      <td>0</td>\n",
       "      <td>NaN</td>\n",
       "      <td>MnPrv</td>\n",
       "      <td>NaN</td>\n",
       "      <td>0</td>\n",
       "      <td>3</td>\n",
       "      <td>2010</td>\n",
       "      <td>WD</td>\n",
       "      <td>Normal</td>\n",
       "      <td>189900</td>\n",
       "    </tr>\n",
       "  </tbody>\n",
       "</table>\n",
       "<p>5 rows × 82 columns</p>\n",
       "</div>"
      ],
      "text/plain": [
       "   Order        PID  MS SubClass MS Zoning  Lot Frontage  Lot Area Street  \\\n",
       "0      1  526301100           20        RL         141.0     31770   Pave   \n",
       "1      2  526350040           20        RH          80.0     11622   Pave   \n",
       "2      3  526351010           20        RL          81.0     14267   Pave   \n",
       "3      4  526353030           20        RL          93.0     11160   Pave   \n",
       "4      5  527105010           60        RL          74.0     13830   Pave   \n",
       "\n",
       "  Alley Lot Shape Land Contour  ... Pool Area Pool QC  Fence Misc Feature  \\\n",
       "0   NaN       IR1          Lvl  ...         0     NaN    NaN          NaN   \n",
       "1   NaN       Reg          Lvl  ...         0     NaN  MnPrv          NaN   \n",
       "2   NaN       IR1          Lvl  ...         0     NaN    NaN         Gar2   \n",
       "3   NaN       Reg          Lvl  ...         0     NaN    NaN          NaN   \n",
       "4   NaN       IR1          Lvl  ...         0     NaN  MnPrv          NaN   \n",
       "\n",
       "  Misc Val Mo Sold Yr Sold Sale Type  Sale Condition  SalePrice  \n",
       "0        0       5    2010       WD           Normal     215000  \n",
       "1        0       6    2010       WD           Normal     105000  \n",
       "2    12500       6    2010       WD           Normal     172000  \n",
       "3        0       4    2010       WD           Normal     244000  \n",
       "4        0       3    2010       WD           Normal     189900  \n",
       "\n",
       "[5 rows x 82 columns]"
      ]
     },
     "execution_count": 3,
     "metadata": {},
     "output_type": "execute_result"
    }
   ],
   "source": [
    "# Muat data\n",
    "df = pd.read_csv('./AmesHousing.csv')\n",
    "df.head()"
   ]
  },
  {
   "cell_type": "code",
   "execution_count": 5,
   "id": "171fbb05",
   "metadata": {},
   "outputs": [
    {
     "name": "stdout",
     "output_type": "stream",
     "text": [
      "<class 'pandas.core.frame.DataFrame'>\n",
      "RangeIndex: 2930 entries, 0 to 2929\n",
      "Data columns (total 82 columns):\n",
      " #   Column           Non-Null Count  Dtype  \n",
      "---  ------           --------------  -----  \n",
      " 0   Order            2930 non-null   int64  \n",
      " 1   PID              2930 non-null   int64  \n",
      " 2   MS SubClass      2930 non-null   int64  \n",
      " 3   MS Zoning        2930 non-null   object \n",
      " 4   Lot Frontage     2440 non-null   float64\n",
      " 5   Lot Area         2930 non-null   int64  \n",
      " 6   Street           2930 non-null   object \n",
      " 7   Alley            198 non-null    object \n",
      " 8   Lot Shape        2930 non-null   object \n",
      " 9   Land Contour     2930 non-null   object \n",
      " 10  Utilities        2930 non-null   object \n",
      " 11  Lot Config       2930 non-null   object \n",
      " 12  Land Slope       2930 non-null   object \n",
      " 13  Neighborhood     2930 non-null   object \n",
      " 14  Condition 1      2930 non-null   object \n",
      " 15  Condition 2      2930 non-null   object \n",
      " 16  Bldg Type        2930 non-null   object \n",
      " 17  House Style      2930 non-null   object \n",
      " 18  Overall Qual     2930 non-null   int64  \n",
      " 19  Overall Cond     2930 non-null   int64  \n",
      " 20  Year Built       2930 non-null   int64  \n",
      " 21  Year Remod/Add   2930 non-null   int64  \n",
      " 22  Roof Style       2930 non-null   object \n",
      " 23  Roof Matl        2930 non-null   object \n",
      " 24  Exterior 1st     2930 non-null   object \n",
      " 25  Exterior 2nd     2930 non-null   object \n",
      " 26  Mas Vnr Type     1155 non-null   object \n",
      " 27  Mas Vnr Area     2907 non-null   float64\n",
      " 28  Exter Qual       2930 non-null   object \n",
      " 29  Exter Cond       2930 non-null   object \n",
      " 30  Foundation       2930 non-null   object \n",
      " 31  Bsmt Qual        2850 non-null   object \n",
      " 32  Bsmt Cond        2850 non-null   object \n",
      " 33  Bsmt Exposure    2847 non-null   object \n",
      " 34  BsmtFin Type 1   2850 non-null   object \n",
      " 35  BsmtFin SF 1     2929 non-null   float64\n",
      " 36  BsmtFin Type 2   2849 non-null   object \n",
      " 37  BsmtFin SF 2     2929 non-null   float64\n",
      " 38  Bsmt Unf SF      2929 non-null   float64\n",
      " 39  Total Bsmt SF    2929 non-null   float64\n",
      " 40  Heating          2930 non-null   object \n",
      " 41  Heating QC       2930 non-null   object \n",
      " 42  Central Air      2930 non-null   object \n",
      " 43  Electrical       2929 non-null   object \n",
      " 44  1st Flr SF       2930 non-null   int64  \n",
      " 45  2nd Flr SF       2930 non-null   int64  \n",
      " 46  Low Qual Fin SF  2930 non-null   int64  \n",
      " 47  Gr Liv Area      2930 non-null   int64  \n",
      " 48  Bsmt Full Bath   2928 non-null   float64\n",
      " 49  Bsmt Half Bath   2928 non-null   float64\n",
      " 50  Full Bath        2930 non-null   int64  \n",
      " 51  Half Bath        2930 non-null   int64  \n",
      " 52  Bedroom AbvGr    2930 non-null   int64  \n",
      " 53  Kitchen AbvGr    2930 non-null   int64  \n",
      " 54  Kitchen Qual     2930 non-null   object \n",
      " 55  TotRms AbvGrd    2930 non-null   int64  \n",
      " 56  Functional       2930 non-null   object \n",
      " 57  Fireplaces       2930 non-null   int64  \n",
      " 58  Fireplace Qu     1508 non-null   object \n",
      " 59  Garage Type      2773 non-null   object \n",
      " 60  Garage Yr Blt    2771 non-null   float64\n",
      " 61  Garage Finish    2771 non-null   object \n",
      " 62  Garage Cars      2929 non-null   float64\n",
      " 63  Garage Area      2929 non-null   float64\n",
      " 64  Garage Qual      2771 non-null   object \n",
      " 65  Garage Cond      2771 non-null   object \n",
      " 66  Paved Drive      2930 non-null   object \n",
      " 67  Wood Deck SF     2930 non-null   int64  \n",
      " 68  Open Porch SF    2930 non-null   int64  \n",
      " 69  Enclosed Porch   2930 non-null   int64  \n",
      " 70  3Ssn Porch       2930 non-null   int64  \n",
      " 71  Screen Porch     2930 non-null   int64  \n",
      " 72  Pool Area        2930 non-null   int64  \n",
      " 73  Pool QC          13 non-null     object \n",
      " 74  Fence            572 non-null    object \n",
      " 75  Misc Feature     106 non-null    object \n",
      " 76  Misc Val         2930 non-null   int64  \n",
      " 77  Mo Sold          2930 non-null   int64  \n",
      " 78  Yr Sold          2930 non-null   int64  \n",
      " 79  Sale Type        2930 non-null   object \n",
      " 80  Sale Condition   2930 non-null   object \n",
      " 81  SalePrice        2930 non-null   int64  \n",
      "dtypes: float64(11), int64(28), object(43)\n",
      "memory usage: 1.8+ MB\n"
     ]
    }
   ],
   "source": [
    "# Melihat informasi dari data\n",
    "df.info()"
   ]
  },
  {
   "cell_type": "code",
   "execution_count": 15,
   "id": "f4354865",
   "metadata": {},
   "outputs": [],
   "source": [
    "# Memisahkan kolom target dengan fitur\n",
    "target_col = 'SalePrice'\n",
    "df_tanpa_target = df.drop(columns=[target_col])\n",
    "target_series = df[target_col]"
   ]
  },
  {
   "cell_type": "markdown",
   "id": "5a8ac69e",
   "metadata": {},
   "source": [
    "### 2.1.2 Memisahkan Antara Kolom Numeric dan Kategorikal"
   ]
  },
  {
   "cell_type": "code",
   "execution_count": 17,
   "id": "d5bb3f8d",
   "metadata": {},
   "outputs": [
    {
     "data": {
      "text/plain": [
       "{'Jumlah kolom numeric': 38,\n",
       " 'Jumlah kolom kategorikal': 43,\n",
       " 'Jumlah kolom total': 82}"
      ]
     },
     "execution_count": 17,
     "metadata": {},
     "output_type": "execute_result"
    }
   ],
   "source": [
    "# Memisahkan antara kolom numeric dengan kolom kategorikal (tanpa target)\n",
    "numeric_cols = df_tanpa_target.select_dtypes(include=['int64', 'float64']).columns.tolist()\n",
    "categorical_cols = df_tanpa_target.select_dtypes(include=[object]).columns.tolist()\n",
    "\n",
    "# Menghitung jumlah fitur\n",
    "summary_count_list = {\n",
    "    'Jumlah kolom numeric' : len(numeric_cols),\n",
    "    'Jumlah kolom kategorikal' : len(categorical_cols),\n",
    "    'Jumlah kolom total' : len(df.columns)\n",
    "}\n",
    "\n",
    "summary_count_list\n"
   ]
  },
  {
   "cell_type": "markdown",
   "id": "8ab685c6",
   "metadata": {},
   "source": [
    "#### **Jumlah kolom**\n",
    "**Fitur Numberic (Tanpa Target)** : 38 kolom <br>\n",
    "**Fitur Kategorikal (Tanpa Target)** : 43 kolom<br>\n",
    "**Total Seluruh Kolom Fitur** : 81 kolom"
   ]
  },
  {
   "cell_type": "markdown",
   "id": "a0287fa6",
   "metadata": {},
   "source": [
    "### 2.1.3 Analisis Korelasi Fitur Terhadap Target"
   ]
  },
  {
   "cell_type": "code",
   "execution_count": 22,
   "id": "8a009c10",
   "metadata": {},
   "outputs": [
    {
     "data": {
      "text/html": [
       "<div>\n",
       "<style scoped>\n",
       "    .dataframe tbody tr th:only-of-type {\n",
       "        vertical-align: middle;\n",
       "    }\n",
       "\n",
       "    .dataframe tbody tr th {\n",
       "        vertical-align: top;\n",
       "    }\n",
       "\n",
       "    .dataframe thead th {\n",
       "        text-align: right;\n",
       "    }\n",
       "</style>\n",
       "<table border=\"1\" class=\"dataframe\">\n",
       "  <thead>\n",
       "    <tr style=\"text-align: right;\">\n",
       "      <th></th>\n",
       "      <th>Fitur</th>\n",
       "      <th>Korelasi</th>\n",
       "    </tr>\n",
       "  </thead>\n",
       "  <tbody>\n",
       "    <tr>\n",
       "      <th>0</th>\n",
       "      <td>Overall Qual</td>\n",
       "      <td>0.799262</td>\n",
       "    </tr>\n",
       "    <tr>\n",
       "      <th>1</th>\n",
       "      <td>Gr Liv Area</td>\n",
       "      <td>0.706780</td>\n",
       "    </tr>\n",
       "    <tr>\n",
       "      <th>2</th>\n",
       "      <td>Garage Cars</td>\n",
       "      <td>0.647877</td>\n",
       "    </tr>\n",
       "    <tr>\n",
       "      <th>3</th>\n",
       "      <td>Garage Area</td>\n",
       "      <td>0.640401</td>\n",
       "    </tr>\n",
       "    <tr>\n",
       "      <th>4</th>\n",
       "      <td>Total Bsmt SF</td>\n",
       "      <td>0.632280</td>\n",
       "    </tr>\n",
       "    <tr>\n",
       "      <th>5</th>\n",
       "      <td>1st Flr SF</td>\n",
       "      <td>0.621676</td>\n",
       "    </tr>\n",
       "    <tr>\n",
       "      <th>6</th>\n",
       "      <td>Year Built</td>\n",
       "      <td>0.558426</td>\n",
       "    </tr>\n",
       "    <tr>\n",
       "      <th>7</th>\n",
       "      <td>Full Bath</td>\n",
       "      <td>0.545604</td>\n",
       "    </tr>\n",
       "    <tr>\n",
       "      <th>8</th>\n",
       "      <td>Year Remod/Add</td>\n",
       "      <td>0.532974</td>\n",
       "    </tr>\n",
       "    <tr>\n",
       "      <th>9</th>\n",
       "      <td>Garage Yr Blt</td>\n",
       "      <td>0.526965</td>\n",
       "    </tr>\n",
       "  </tbody>\n",
       "</table>\n",
       "</div>"
      ],
      "text/plain": [
       "            Fitur  Korelasi\n",
       "0    Overall Qual  0.799262\n",
       "1     Gr Liv Area  0.706780\n",
       "2     Garage Cars  0.647877\n",
       "3     Garage Area  0.640401\n",
       "4   Total Bsmt SF  0.632280\n",
       "5      1st Flr SF  0.621676\n",
       "6      Year Built  0.558426\n",
       "7       Full Bath  0.545604\n",
       "8  Year Remod/Add  0.532974\n",
       "9   Garage Yr Blt  0.526965"
      ]
     },
     "execution_count": 22,
     "metadata": {},
     "output_type": "execute_result"
    }
   ],
   "source": [
    "# Melihat korelasi fitur numeric terhadap SalePrice\n",
    "correlation = df[numeric_cols + [target_col]].corr()[target_col].sort_values(ascending=False)\n",
    "top_corr = correlation.drop(target_col).head(10)\n",
    "\n",
    "top_corr_df = top_corr.reset_index()\n",
    "top_corr_df.columns = ['Fitur', 'Korelasi']\n",
    "\n",
    "top_corr_df\n"
   ]
  },
  {
   "cell_type": "markdown",
   "id": "78efa320",
   "metadata": {},
   "source": [
    "## 2. Data Cleaning & Analysis"
   ]
  },
  {
   "cell_type": "code",
   "execution_count": 4,
   "id": "234822d0",
   "metadata": {},
   "outputs": [],
   "source": [
    "from scipy.stats import skew\n",
    "\n",
    "from sklearn.model_selection import train_test_split\n",
    "\n",
    "from sklearn.pipeline import Pipeline\n",
    "from sklearn.preprocessing import StandardScaler, OrdinalEncoder, OneHotEncoder\n",
    "from sklearn.impute import SimpleImputer\n",
    "\n",
    "from sklearn.compose import ColumnTransformer\n",
    "\n",
    "\n",
    "# Linear models\n",
    "from sklearn.linear_model import LinearRegression, Ridge, Lasso\n",
    "\n",
    "# Tree-based models\n",
    "from sklearn.tree import DecisionTreeRegressor\n",
    "from sklearn.ensemble import RandomForestRegressor, GradientBoostingRegressor\n",
    "\n",
    "# Boosting libraries\n",
    "from xgboost import XGBRegressor\n",
    "from lightgbm import LGBMRegressor\n",
    "from catboost import CatBoostRegressor\n",
    "\n",
    "# Pipeline\n",
    "from sklearn.pipeline import make_pipeline\n",
    "\n",
    "# metrik evaluasi\n",
    "from sklearn.metrics import mean_absolute_error, mean_squared_error, r2_score\n",
    "\n",
    "# save the model\n",
    "import joblib"
   ]
  },
  {
   "cell_type": "code",
   "execution_count": null,
   "id": "bb45da40",
   "metadata": {},
   "outputs": [],
   "source": []
  }
 ],
 "metadata": {
  "kernelspec": {
   "display_name": "base",
   "language": "python",
   "name": "python3"
  },
  "language_info": {
   "codemirror_mode": {
    "name": "ipython",
    "version": 3
   },
   "file_extension": ".py",
   "mimetype": "text/x-python",
   "name": "python",
   "nbconvert_exporter": "python",
   "pygments_lexer": "ipython3",
   "version": "3.12.7"
  }
 },
 "nbformat": 4,
 "nbformat_minor": 5
}
