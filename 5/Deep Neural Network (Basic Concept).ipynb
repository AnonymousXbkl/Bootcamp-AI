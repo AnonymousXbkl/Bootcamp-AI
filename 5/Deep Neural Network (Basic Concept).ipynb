{
 "cells": [
  {
   "cell_type": "code",
<<<<<<< HEAD
   "execution_count": 21,
=======
   "execution_count": 10,
>>>>>>> 881e9cd563ae0de9b76131c7148f170a5c3bd14d
   "metadata": {
    "id": "MNEQxQnCBJL1"
   },
   "outputs": [],
   "source": [
    "import numpy as np\n",
    "import pandas as pd\n",
    "import matplotlib.pyplot as plt\n",
    "import seaborn as sns\n",
    "\n",
    "from sklearn.model_selection import train_test_split\n",
    "\n",
<<<<<<< HEAD
    "from tensorflow.keras.models import Sequential\n",
    "from tensorflow.keras.layers import Dense"
=======
    "from keras.models import Sequential\n",
    "from keras.layers import Dense"
>>>>>>> 881e9cd563ae0de9b76131c7148f170a5c3bd14d
   ]
  },
  {
   "cell_type": "code",
<<<<<<< HEAD
   "execution_count": 22,
=======
   "execution_count": 11,
>>>>>>> 881e9cd563ae0de9b76131c7148f170a5c3bd14d
   "metadata": {
    "colab": {
     "base_uri": "https://localhost:8080/"
    },
    "executionInfo": {
     "elapsed": 4,
     "status": "ok",
     "timestamp": 1697473086327,
     "user": {
      "displayName": "Very Dwi Setiawan",
      "userId": "11914131847934024186"
     },
     "user_tz": -420
    },
    "id": "lD_TMxofBJL3",
    "outputId": "6b24e64f-1a07-4b90-ef06-100a6e3a1800"
   },
   "outputs": [],
   "source": [
    "plt.style.use('seaborn-v0_8')"
   ]
  },
  {
   "cell_type": "code",
<<<<<<< HEAD
   "execution_count": 23,
=======
   "execution_count": 12,
>>>>>>> 881e9cd563ae0de9b76131c7148f170a5c3bd14d
   "metadata": {
    "colab": {
     "base_uri": "https://localhost:8080/"
    },
    "executionInfo": {
     "elapsed": 3378,
     "status": "ok",
     "timestamp": 1697473089702,
     "user": {
      "displayName": "Very Dwi Setiawan",
      "userId": "11914131847934024186"
     },
     "user_tz": -420
    },
    "id": "y_7znYbZC6-T",
    "outputId": "d6673789-1717-4535-d23e-785057e646f0"
   },
   "outputs": [],
   "source": [
    "# from google.colab import drive\n",
    "# drive.mount('/content/drive')"
   ]
  },
  {
   "cell_type": "markdown",
   "metadata": {
    "id": "1m5CtdDSBJL3"
   },
   "source": [
    "## Load Datasets"
   ]
  },
  {
   "cell_type": "code",
<<<<<<< HEAD
   "execution_count": 24,
=======
   "execution_count": 14,
>>>>>>> 881e9cd563ae0de9b76131c7148f170a5c3bd14d
   "metadata": {
    "colab": {
     "base_uri": "https://localhost:8080/",
     "height": 206
    },
    "executionInfo": {
     "elapsed": 25,
     "status": "ok",
     "timestamp": 1697473089702,
     "user": {
      "displayName": "Very Dwi Setiawan",
      "userId": "11914131847934024186"
     },
     "user_tz": -420
    },
    "id": "Mle-KzmOBJL4",
    "outputId": "bc5c8f5e-70f2-4cbf-d41d-d72a45618001"
   },
   "outputs": [
    {
     "data": {
      "text/html": [
       "<div>\n",
       "<style scoped>\n",
       "    .dataframe tbody tr th:only-of-type {\n",
       "        vertical-align: middle;\n",
       "    }\n",
       "\n",
       "    .dataframe tbody tr th {\n",
       "        vertical-align: top;\n",
       "    }\n",
       "\n",
       "    .dataframe thead th {\n",
       "        text-align: right;\n",
       "    }\n",
       "</style>\n",
       "<table border=\"1\" class=\"dataframe\">\n",
       "  <thead>\n",
       "    <tr style=\"text-align: right;\">\n",
       "      <th></th>\n",
       "      <th>preg_times</th>\n",
       "      <th>glucose</th>\n",
       "      <th>blood_press</th>\n",
       "      <th>skin_thickness</th>\n",
       "      <th>insulin</th>\n",
       "      <th>BMI</th>\n",
       "      <th>pedigree</th>\n",
       "      <th>age</th>\n",
       "      <th>class</th>\n",
       "    </tr>\n",
       "  </thead>\n",
       "  <tbody>\n",
       "    <tr>\n",
       "      <th>0</th>\n",
       "      <td>6</td>\n",
       "      <td>148</td>\n",
       "      <td>72</td>\n",
       "      <td>35</td>\n",
       "      <td>0</td>\n",
       "      <td>33.6</td>\n",
       "      <td>0.627</td>\n",
       "      <td>50</td>\n",
       "      <td>1</td>\n",
       "    </tr>\n",
       "    <tr>\n",
       "      <th>1</th>\n",
       "      <td>1</td>\n",
       "      <td>85</td>\n",
       "      <td>66</td>\n",
       "      <td>29</td>\n",
       "      <td>0</td>\n",
       "      <td>26.6</td>\n",
       "      <td>0.351</td>\n",
       "      <td>31</td>\n",
       "      <td>0</td>\n",
       "    </tr>\n",
       "    <tr>\n",
       "      <th>2</th>\n",
       "      <td>8</td>\n",
       "      <td>183</td>\n",
       "      <td>64</td>\n",
       "      <td>0</td>\n",
       "      <td>0</td>\n",
       "      <td>23.3</td>\n",
       "      <td>0.672</td>\n",
       "      <td>32</td>\n",
       "      <td>1</td>\n",
       "    </tr>\n",
       "    <tr>\n",
       "      <th>3</th>\n",
       "      <td>1</td>\n",
       "      <td>89</td>\n",
       "      <td>66</td>\n",
       "      <td>23</td>\n",
       "      <td>94</td>\n",
       "      <td>28.1</td>\n",
       "      <td>0.167</td>\n",
       "      <td>21</td>\n",
       "      <td>0</td>\n",
       "    </tr>\n",
       "    <tr>\n",
       "      <th>4</th>\n",
       "      <td>0</td>\n",
       "      <td>137</td>\n",
       "      <td>40</td>\n",
       "      <td>35</td>\n",
       "      <td>168</td>\n",
       "      <td>43.1</td>\n",
       "      <td>2.288</td>\n",
       "      <td>33</td>\n",
       "      <td>1</td>\n",
       "    </tr>\n",
       "  </tbody>\n",
       "</table>\n",
       "</div>"
      ],
      "text/plain": [
       "   preg_times  glucose  blood_press  skin_thickness  ...   BMI  pedigree  age  class\n",
       "0           6      148           72              35  ...  33.6     0.627   50      1\n",
       "1           1       85           66              29  ...  26.6     0.351   31      0\n",
       "2           8      183           64               0  ...  23.3     0.672   32      1\n",
       "3           1       89           66              23  ...  28.1     0.167   21      0\n",
       "4           0      137           40              35  ...  43.1     2.288   33      1\n",
       "\n",
       "[5 rows x 9 columns]"
      ]
     },
     "execution_count": 24,
     "metadata": {},
     "output_type": "execute_result"
    }
   ],
   "source": [
    "df_diabetes = pd.read_csv('./pima_diabetes.csv', names=['preg_times', 'glucose', 'blood_press', 'skin_thickness', 'insulin', 'BMI', 'pedigree', 'age', 'class'])\n",
    "df_diabetes.head()"
   ]
  },
  {
   "cell_type": "code",
   "execution_count": 25,
   "metadata": {
    "colab": {
     "base_uri": "https://localhost:8080/"
    },
    "executionInfo": {
     "elapsed": 21,
     "status": "ok",
     "timestamp": 1697473089702,
     "user": {
      "displayName": "Very Dwi Setiawan",
      "userId": "11914131847934024186"
     },
     "user_tz": -420
    },
    "id": "cD_AR1M3BJL5",
    "outputId": "50eb2caf-2d8a-4ca7-83dc-4c021b6da769"
   },
   "outputs": [
    {
     "name": "stdout",
     "output_type": "stream",
     "text": [
      "Total data: 768\n",
      "Total features: 9\n"
     ]
    }
   ],
   "source": [
    "print('Total data:', df_diabetes.shape[0])\n",
    "print('Total features:', df_diabetes.shape[1])"
   ]
  },
  {
   "cell_type": "code",
<<<<<<< HEAD
   "execution_count": 26,
=======
   "execution_count": 15,
>>>>>>> 881e9cd563ae0de9b76131c7148f170a5c3bd14d
   "metadata": {
    "colab": {
     "base_uri": "https://localhost:8080/",
     "height": 711
    },
    "executionInfo": {
     "elapsed": 19,
     "status": "ok",
     "timestamp": 1697473089703,
     "user": {
      "displayName": "Very Dwi Setiawan",
      "userId": "11914131847934024186"
     },
     "user_tz": -420
    },
    "id": "V4jIKBe1BJL6",
    "outputId": "d4b754f9-4da6-439b-a859-82be36b1e6e5"
   },
   "outputs": [
    {
     "data": {
      "text/plain": [
       "<Axes: xlabel='age', ylabel='Count'>"
      ]
     },
<<<<<<< HEAD
     "execution_count": 26,
=======
     "execution_count": 15,
>>>>>>> 881e9cd563ae0de9b76131c7148f170a5c3bd14d
     "metadata": {},
     "output_type": "execute_result"
    },
    {
     "data": {
<<<<<<< HEAD
      "image/png": "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",
=======
      "image/png": "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",
>>>>>>> 881e9cd563ae0de9b76131c7148f170a5c3bd14d
      "text/plain": [
       "<Figure size 800x550 with 1 Axes>"
      ]
     },
     "metadata": {},
     "output_type": "display_data"
    }
   ],
   "source": [
    "sns.histplot(df_diabetes['age'])"
   ]
  },
  {
   "cell_type": "code",
   "execution_count": 27,
   "metadata": {
    "colab": {
     "base_uri": "https://localhost:8080/",
     "height": 300
    },
    "executionInfo": {
     "elapsed": 15,
     "status": "ok",
     "timestamp": 1697473089703,
     "user": {
      "displayName": "Very Dwi Setiawan",
      "userId": "11914131847934024186"
     },
     "user_tz": -420
    },
    "id": "o40C22LXBJL6",
    "outputId": "36c4ae11-0740-40da-9d6a-78b74507a8d4"
   },
   "outputs": [
    {
     "data": {
      "text/html": [
       "<div>\n",
       "<style scoped>\n",
       "    .dataframe tbody tr th:only-of-type {\n",
       "        vertical-align: middle;\n",
       "    }\n",
       "\n",
       "    .dataframe tbody tr th {\n",
       "        vertical-align: top;\n",
       "    }\n",
       "\n",
       "    .dataframe thead th {\n",
       "        text-align: right;\n",
       "    }\n",
       "</style>\n",
       "<table border=\"1\" class=\"dataframe\">\n",
       "  <thead>\n",
       "    <tr style=\"text-align: right;\">\n",
       "      <th></th>\n",
       "      <th>preg_times</th>\n",
       "      <th>glucose</th>\n",
       "      <th>blood_press</th>\n",
       "      <th>skin_thickness</th>\n",
       "      <th>insulin</th>\n",
       "      <th>BMI</th>\n",
       "      <th>pedigree</th>\n",
       "      <th>age</th>\n",
       "      <th>class</th>\n",
       "    </tr>\n",
       "  </thead>\n",
       "  <tbody>\n",
       "    <tr>\n",
       "      <th>count</th>\n",
       "      <td>768.000000</td>\n",
       "      <td>768.000000</td>\n",
       "      <td>768.000000</td>\n",
       "      <td>768.000000</td>\n",
       "      <td>768.000000</td>\n",
       "      <td>768.000000</td>\n",
       "      <td>768.000000</td>\n",
       "      <td>768.000000</td>\n",
       "      <td>768.000000</td>\n",
       "    </tr>\n",
       "    <tr>\n",
       "      <th>mean</th>\n",
       "      <td>3.845052</td>\n",
       "      <td>120.894531</td>\n",
       "      <td>69.105469</td>\n",
       "      <td>20.536458</td>\n",
       "      <td>79.799479</td>\n",
       "      <td>31.992578</td>\n",
       "      <td>0.471876</td>\n",
       "      <td>33.240885</td>\n",
       "      <td>0.348958</td>\n",
       "    </tr>\n",
       "    <tr>\n",
       "      <th>std</th>\n",
       "      <td>3.369578</td>\n",
       "      <td>31.972618</td>\n",
       "      <td>19.355807</td>\n",
       "      <td>15.952218</td>\n",
       "      <td>115.244002</td>\n",
       "      <td>7.884160</td>\n",
       "      <td>0.331329</td>\n",
       "      <td>11.760232</td>\n",
       "      <td>0.476951</td>\n",
       "    </tr>\n",
       "    <tr>\n",
       "      <th>min</th>\n",
       "      <td>0.000000</td>\n",
       "      <td>0.000000</td>\n",
       "      <td>0.000000</td>\n",
       "      <td>0.000000</td>\n",
       "      <td>0.000000</td>\n",
       "      <td>0.000000</td>\n",
       "      <td>0.078000</td>\n",
       "      <td>21.000000</td>\n",
       "      <td>0.000000</td>\n",
       "    </tr>\n",
       "    <tr>\n",
       "      <th>25%</th>\n",
       "      <td>1.000000</td>\n",
       "      <td>99.000000</td>\n",
       "      <td>62.000000</td>\n",
       "      <td>0.000000</td>\n",
       "      <td>0.000000</td>\n",
       "      <td>27.300000</td>\n",
       "      <td>0.243750</td>\n",
       "      <td>24.000000</td>\n",
       "      <td>0.000000</td>\n",
       "    </tr>\n",
       "    <tr>\n",
       "      <th>50%</th>\n",
       "      <td>3.000000</td>\n",
       "      <td>117.000000</td>\n",
       "      <td>72.000000</td>\n",
       "      <td>23.000000</td>\n",
       "      <td>30.500000</td>\n",
       "      <td>32.000000</td>\n",
       "      <td>0.372500</td>\n",
       "      <td>29.000000</td>\n",
       "      <td>0.000000</td>\n",
       "    </tr>\n",
       "    <tr>\n",
       "      <th>75%</th>\n",
       "      <td>6.000000</td>\n",
       "      <td>140.250000</td>\n",
       "      <td>80.000000</td>\n",
       "      <td>32.000000</td>\n",
       "      <td>127.250000</td>\n",
       "      <td>36.600000</td>\n",
       "      <td>0.626250</td>\n",
       "      <td>41.000000</td>\n",
       "      <td>1.000000</td>\n",
       "    </tr>\n",
       "    <tr>\n",
       "      <th>max</th>\n",
       "      <td>17.000000</td>\n",
       "      <td>199.000000</td>\n",
       "      <td>122.000000</td>\n",
       "      <td>99.000000</td>\n",
       "      <td>846.000000</td>\n",
       "      <td>67.100000</td>\n",
       "      <td>2.420000</td>\n",
       "      <td>81.000000</td>\n",
       "      <td>1.000000</td>\n",
       "    </tr>\n",
       "  </tbody>\n",
       "</table>\n",
       "</div>"
      ],
      "text/plain": [
       "       preg_times     glucose  blood_press  ...    pedigree         age       class\n",
       "count  768.000000  768.000000   768.000000  ...  768.000000  768.000000  768.000000\n",
       "mean     3.845052  120.894531    69.105469  ...    0.471876   33.240885    0.348958\n",
       "std      3.369578   31.972618    19.355807  ...    0.331329   11.760232    0.476951\n",
       "min      0.000000    0.000000     0.000000  ...    0.078000   21.000000    0.000000\n",
       "25%      1.000000   99.000000    62.000000  ...    0.243750   24.000000    0.000000\n",
       "50%      3.000000  117.000000    72.000000  ...    0.372500   29.000000    0.000000\n",
       "75%      6.000000  140.250000    80.000000  ...    0.626250   41.000000    1.000000\n",
       "max     17.000000  199.000000   122.000000  ...    2.420000   81.000000    1.000000\n",
       "\n",
       "[8 rows x 9 columns]"
      ]
     },
     "execution_count": 27,
     "metadata": {},
     "output_type": "execute_result"
    }
   ],
   "source": [
    "df_diabetes.describe()"
   ]
  },
  {
   "cell_type": "markdown",
   "metadata": {
    "id": "Wf8X4uaRBJL6"
   },
   "source": [
    "## Split Datasets"
   ]
  },
  {
   "cell_type": "code",
   "execution_count": 28,
   "metadata": {
    "id": "ZTapUd0hBJL6"
   },
   "outputs": [],
   "source": [
    "features = df_diabetes.values[:,:8]"
   ]
  },
  {
   "cell_type": "code",
   "execution_count": 29,
   "metadata": {
    "colab": {
     "base_uri": "https://localhost:8080/"
    },
    "executionInfo": {
     "elapsed": 2,
     "status": "ok",
     "timestamp": 1697473152940,
     "user": {
      "displayName": "Very Dwi Setiawan",
      "userId": "11914131847934024186"
     },
     "user_tz": -420
    },
    "id": "el5PbAWJDgFC",
    "outputId": "59d92893-b92f-460d-8396-4bf8811eff30"
   },
   "outputs": [
    {
     "name": "stdout",
     "output_type": "stream",
     "text": [
      "[[  6.    148.     72.    ...  33.6     0.627  50.   ]\n",
      " [  1.     85.     66.    ...  26.6     0.351  31.   ]\n",
      " [  8.    183.     64.    ...  23.3     0.672  32.   ]\n",
      " ...\n",
      " [  5.    121.     72.    ...  26.2     0.245  30.   ]\n",
      " [  1.    126.     60.    ...  30.1     0.349  47.   ]\n",
      " [  1.     93.     70.    ...  30.4     0.315  23.   ]]\n"
     ]
    }
   ],
   "source": [
    "print(features)"
   ]
  },
  {
   "cell_type": "code",
   "execution_count": 30,
   "metadata": {
    "id": "6CcRKcAWBJL6"
   },
   "outputs": [],
   "source": [
    "labels = df_diabetes.values[:,8:]"
   ]
  },
  {
   "cell_type": "code",
   "execution_count": 31,
   "metadata": {
    "id": "QYim7x_bBJL7"
   },
   "outputs": [],
   "source": [
    "X_train, X_test, y_train, y_test = train_test_split(features, labels, test_size=0.2, random_state=20)"
   ]
  },
  {
   "cell_type": "markdown",
   "metadata": {
    "id": "k_eh99NTBJL7"
   },
   "source": [
    "## Define Model"
   ]
  },
  {
   "cell_type": "code",
   "execution_count": 32,
   "metadata": {
    "id": "P6wwiKvgBJL7"
   },
   "outputs": [],
   "source": [
    "# define the keras sequential model\n",
    "model = Sequential()"
   ]
  },
  {
   "cell_type": "code",
   "execution_count": 33,
   "metadata": {
    "id": "xWoveHaZ2FoK"
   },
   "outputs": [],
   "source": [
    "# Artificial Neural Network / Multi-layer Perceptron / Fully Connected Neural Network\n",
    "\n",
    "# Convolutional Neural Network -> data gambar\n",
    "\n",
    "# Long-Short Term Memory Neural Network -> data squentian atau data teks\n",
    "\n",
    "# Dll...\n"
   ]
  },
  {
   "cell_type": "code",
   "execution_count": 34,
   "metadata": {
    "id": "KKnwmlV7BJL7"
   },
   "outputs": [
    {
     "name": "stderr",
     "output_type": "stream",
     "text": [
      "c:\\Users\\Suwaaan\\anaconda3\\Lib\\site-packages\\keras\\src\\layers\\core\\dense.py:87: UserWarning: Do not pass an `input_shape`/`input_dim` argument to a layer. When using Sequential models, prefer using an `Input(shape)` object as the first layer in the model instead.\n",
      "  super().__init__(activity_regularizer=activity_regularizer, **kwargs)\n"
     ]
    }
   ],
   "source": [
    "model.add(Dense(12, input_dim=8, activation='relu')) # input layer + 1st hidden layer\n",
    "model.add(Dense(8, activation='relu')) # 2nd hidden layer\n",
    "model.add(Dense(1, activation='sigmoid')) # output layer"
   ]
  },
  {
   "cell_type": "markdown",
   "metadata": {
    "id": "-ydSrp2OcIF3"
   },
   "source": [
    "**Question:** Arsitektur di atas termasuk MLP atau perceptron?"
   ]
  },
  {
   "cell_type": "code",
   "execution_count": 35,
   "metadata": {
    "colab": {
     "base_uri": "https://localhost:8080/"
    },
    "executionInfo": {
     "elapsed": 508,
     "status": "ok",
     "timestamp": 1697473175006,
     "user": {
      "displayName": "Very Dwi Setiawan",
      "userId": "11914131847934024186"
     },
     "user_tz": -420
    },
    "id": "HHctibMoBJL7",
    "outputId": "97cd3ea6-197d-4831-c773-3ffaa4dab50f"
   },
   "outputs": [
    {
     "data": {
      "text/html": [
       "<pre style=\"white-space:pre;overflow-x:auto;line-height:normal;font-family:Menlo,'DejaVu Sans Mono',consolas,'Courier New',monospace\"><span style=\"font-weight: bold\">Model: \"sequential_1\"</span>\n",
       "</pre>\n"
      ],
      "text/plain": [
       "\u001b[1mModel: \"sequential_1\"\u001b[0m\n"
      ]
     },
     "metadata": {},
     "output_type": "display_data"
    },
    {
     "data": {
      "text/html": [
       "<pre style=\"white-space:pre;overflow-x:auto;line-height:normal;font-family:Menlo,'DejaVu Sans Mono',consolas,'Courier New',monospace\">┏━━━━━━━━━━━━━━━━━━━━━━━━━━━━━━━━━┳━━━━━━━━━━━━━━━━━━━━━━━━┳━━━━━━━━━━━━━━━┓\n",
       "┃<span style=\"font-weight: bold\"> Layer (type)                    </span>┃<span style=\"font-weight: bold\"> Output Shape           </span>┃<span style=\"font-weight: bold\">       Param # </span>┃\n",
       "┡━━━━━━━━━━━━━━━━━━━━━━━━━━━━━━━━━╇━━━━━━━━━━━━━━━━━━━━━━━━╇━━━━━━━━━━━━━━━┩\n",
       "│ dense_3 (<span style=\"color: #0087ff; text-decoration-color: #0087ff\">Dense</span>)                 │ (<span style=\"color: #00d7ff; text-decoration-color: #00d7ff\">None</span>, <span style=\"color: #00af00; text-decoration-color: #00af00\">12</span>)             │           <span style=\"color: #00af00; text-decoration-color: #00af00\">108</span> │\n",
       "├─────────────────────────────────┼────────────────────────┼───────────────┤\n",
       "│ dense_4 (<span style=\"color: #0087ff; text-decoration-color: #0087ff\">Dense</span>)                 │ (<span style=\"color: #00d7ff; text-decoration-color: #00d7ff\">None</span>, <span style=\"color: #00af00; text-decoration-color: #00af00\">8</span>)              │           <span style=\"color: #00af00; text-decoration-color: #00af00\">104</span> │\n",
       "├─────────────────────────────────┼────────────────────────┼───────────────┤\n",
       "│ dense_5 (<span style=\"color: #0087ff; text-decoration-color: #0087ff\">Dense</span>)                 │ (<span style=\"color: #00d7ff; text-decoration-color: #00d7ff\">None</span>, <span style=\"color: #00af00; text-decoration-color: #00af00\">1</span>)              │             <span style=\"color: #00af00; text-decoration-color: #00af00\">9</span> │\n",
       "└─────────────────────────────────┴────────────────────────┴───────────────┘\n",
       "</pre>\n"
      ],
      "text/plain": [
       "┏━━━━━━━━━━━━━━━━━━━━━━━━━━━━━━━━━┳━━━━━━━━━━━━━━━━━━━━━━━━┳━━━━━━━━━━━━━━━┓\n",
       "┃\u001b[1m \u001b[0m\u001b[1mLayer (type)                   \u001b[0m\u001b[1m \u001b[0m┃\u001b[1m \u001b[0m\u001b[1mOutput Shape          \u001b[0m\u001b[1m \u001b[0m┃\u001b[1m \u001b[0m\u001b[1m      Param #\u001b[0m\u001b[1m \u001b[0m┃\n",
       "┡━━━━━━━━━━━━━━━━━━━━━━━━━━━━━━━━━╇━━━━━━━━━━━━━━━━━━━━━━━━╇━━━━━━━━━━━━━━━┩\n",
       "│ dense_3 (\u001b[38;5;33mDense\u001b[0m)                 │ (\u001b[38;5;45mNone\u001b[0m, \u001b[38;5;34m12\u001b[0m)             │           \u001b[38;5;34m108\u001b[0m │\n",
       "├─────────────────────────────────┼────────────────────────┼───────────────┤\n",
       "│ dense_4 (\u001b[38;5;33mDense\u001b[0m)                 │ (\u001b[38;5;45mNone\u001b[0m, \u001b[38;5;34m8\u001b[0m)              │           \u001b[38;5;34m104\u001b[0m │\n",
       "├─────────────────────────────────┼────────────────────────┼───────────────┤\n",
       "│ dense_5 (\u001b[38;5;33mDense\u001b[0m)                 │ (\u001b[38;5;45mNone\u001b[0m, \u001b[38;5;34m1\u001b[0m)              │             \u001b[38;5;34m9\u001b[0m │\n",
       "└─────────────────────────────────┴────────────────────────┴───────────────┘\n"
      ]
     },
     "metadata": {},
     "output_type": "display_data"
    },
    {
     "data": {
      "text/html": [
       "<pre style=\"white-space:pre;overflow-x:auto;line-height:normal;font-family:Menlo,'DejaVu Sans Mono',consolas,'Courier New',monospace\"><span style=\"font-weight: bold\"> Total params: </span><span style=\"color: #00af00; text-decoration-color: #00af00\">221</span> (884.00 B)\n",
       "</pre>\n"
      ],
      "text/plain": [
       "\u001b[1m Total params: \u001b[0m\u001b[38;5;34m221\u001b[0m (884.00 B)\n"
      ]
     },
     "metadata": {},
     "output_type": "display_data"
    },
    {
     "data": {
      "text/html": [
       "<pre style=\"white-space:pre;overflow-x:auto;line-height:normal;font-family:Menlo,'DejaVu Sans Mono',consolas,'Courier New',monospace\"><span style=\"font-weight: bold\"> Trainable params: </span><span style=\"color: #00af00; text-decoration-color: #00af00\">221</span> (884.00 B)\n",
       "</pre>\n"
      ],
      "text/plain": [
       "\u001b[1m Trainable params: \u001b[0m\u001b[38;5;34m221\u001b[0m (884.00 B)\n"
      ]
     },
     "metadata": {},
     "output_type": "display_data"
    },
    {
     "data": {
      "text/html": [
       "<pre style=\"white-space:pre;overflow-x:auto;line-height:normal;font-family:Menlo,'DejaVu Sans Mono',consolas,'Courier New',monospace\"><span style=\"font-weight: bold\"> Non-trainable params: </span><span style=\"color: #00af00; text-decoration-color: #00af00\">0</span> (0.00 B)\n",
       "</pre>\n"
      ],
      "text/plain": [
       "\u001b[1m Non-trainable params: \u001b[0m\u001b[38;5;34m0\u001b[0m (0.00 B)\n"
      ]
     },
     "metadata": {},
     "output_type": "display_data"
    }
   ],
   "source": [
    "model.summary()"
   ]
  },
  {
   "cell_type": "markdown",
   "metadata": {
    "id": "AVxRPm7MBJL8"
   },
   "source": [
    "## Compile Model"
   ]
  },
  {
   "cell_type": "code",
   "execution_count": 36,
   "metadata": {
    "id": "Hk4pfmmABJL8"
   },
   "outputs": [],
   "source": [
    "model.compile(loss='binary_crossentropy', optimizer='adam', metrics=['accuracy'])"
   ]
  },
  {
   "cell_type": "markdown",
   "metadata": {
    "id": "_pN1b7JDFU0c"
   },
   "source": [
    "optmizer **Adam**\n"
   ]
  },
  {
   "cell_type": "markdown",
   "metadata": {
    "id": "OA6vkrOTBJL8"
   },
   "source": [
    "## Train Model"
   ]
  },
  {
   "cell_type": "code",
   "execution_count": 18,
   "metadata": {
    "colab": {
     "base_uri": "https://localhost:8080/"
    },
    "executionInfo": {
     "elapsed": 83600,
     "status": "ok",
     "timestamp": 1697473263664,
     "user": {
      "displayName": "Very Dwi Setiawan",
      "userId": "11914131847934024186"
     },
     "user_tz": -420
    },
    "id": "-hJa6Nm8BJL8",
    "outputId": "4e57ffde-da47-4f96-f83c-bc814d4a72dd",
    "scrolled": true
   },
   "outputs": [
    {
     "name": "stdout",
     "output_type": "stream",
     "text": [
      "Epoch 1/250\n",
      "\u001b[1m77/77\u001b[0m \u001b[32m━━━━━━━━━━━━━━━━━━━━\u001b[0m\u001b[37m\u001b[0m \u001b[1m1s\u001b[0m 1ms/step - accuracy: 0.4178 - loss: 12.7799  \n",
      "Epoch 2/250\n",
      "\u001b[1m77/77\u001b[0m \u001b[32m━━━━━━━━━━━━━━━━━━━━\u001b[0m\u001b[37m\u001b[0m \u001b[1m0s\u001b[0m 926us/step - accuracy: 0.5448 - loss: 2.6663\n",
      "Epoch 3/250\n",
      "\u001b[1m77/77\u001b[0m \u001b[32m━━━━━━━━━━━━━━━━━━━━\u001b[0m\u001b[37m\u001b[0m \u001b[1m0s\u001b[0m 926us/step - accuracy: 0.5539 - loss: 2.1993\n",
      "Epoch 4/250\n",
      "\u001b[1m77/77\u001b[0m \u001b[32m━━━━━━━━━━━━━━━━━━━━\u001b[0m\u001b[37m\u001b[0m \u001b[1m0s\u001b[0m 913us/step - accuracy: 0.6630 - loss: 1.2568\n",
      "Epoch 5/250\n",
      "\u001b[1m77/77\u001b[0m \u001b[32m━━━━━━━━━━━━━━━━━━━━\u001b[0m\u001b[37m\u001b[0m \u001b[1m0s\u001b[0m 934us/step - accuracy: 0.6225 - loss: 1.2086\n",
      "Epoch 6/250\n",
      "\u001b[1m77/77\u001b[0m \u001b[32m━━━━━━━━━━━━━━━━━━━━\u001b[0m\u001b[37m\u001b[0m \u001b[1m0s\u001b[0m 912us/step - accuracy: 0.6540 - loss: 0.9579\n",
      "Epoch 7/250\n",
      "\u001b[1m77/77\u001b[0m \u001b[32m━━━━━━━━━━━━━━━━━━━━\u001b[0m\u001b[37m\u001b[0m \u001b[1m0s\u001b[0m 920us/step - accuracy: 0.6478 - loss: 0.8824\n",
      "Epoch 8/250\n",
      "\u001b[1m77/77\u001b[0m \u001b[32m━━━━━━━━━━━━━━━━━━━━\u001b[0m\u001b[37m\u001b[0m \u001b[1m0s\u001b[0m 931us/step - accuracy: 0.6138 - loss: 1.0134\n",
      "Epoch 9/250\n",
      "\u001b[1m77/77\u001b[0m \u001b[32m━━━━━━━━━━━━━━━━━━━━\u001b[0m\u001b[37m\u001b[0m \u001b[1m0s\u001b[0m 904us/step - accuracy: 0.6588 - loss: 0.8169\n",
      "Epoch 10/250\n",
      "\u001b[1m77/77\u001b[0m \u001b[32m━━━━━━━━━━━━━━━━━━━━\u001b[0m\u001b[37m\u001b[0m \u001b[1m0s\u001b[0m 907us/step - accuracy: 0.6909 - loss: 0.7797\n",
      "Epoch 11/250\n",
      "\u001b[1m77/77\u001b[0m \u001b[32m━━━━━━━━━━━━━━━━━━━━\u001b[0m\u001b[37m\u001b[0m \u001b[1m0s\u001b[0m 958us/step - accuracy: 0.6806 - loss: 0.7047\n",
      "Epoch 12/250\n",
      "\u001b[1m77/77\u001b[0m \u001b[32m━━━━━━━━━━━━━━━━━━━━\u001b[0m\u001b[37m\u001b[0m \u001b[1m0s\u001b[0m 940us/step - accuracy: 0.6367 - loss: 0.7877\n",
      "Epoch 13/250\n",
      "\u001b[1m77/77\u001b[0m \u001b[32m━━━━━━━━━━━━━━━━━━━━\u001b[0m\u001b[37m\u001b[0m \u001b[1m0s\u001b[0m 936us/step - accuracy: 0.6775 - loss: 0.7881\n",
      "Epoch 14/250\n",
      "\u001b[1m77/77\u001b[0m \u001b[32m━━━━━━━━━━━━━━━━━━━━\u001b[0m\u001b[37m\u001b[0m \u001b[1m0s\u001b[0m 924us/step - accuracy: 0.6925 - loss: 0.7280\n",
      "Epoch 15/250\n",
      "\u001b[1m77/77\u001b[0m \u001b[32m━━━━━━━━━━━━━━━━━━━━\u001b[0m\u001b[37m\u001b[0m \u001b[1m0s\u001b[0m 904us/step - accuracy: 0.6864 - loss: 0.7560\n",
      "Epoch 16/250\n",
      "\u001b[1m77/77\u001b[0m \u001b[32m━━━━━━━━━━━━━━━━━━━━\u001b[0m\u001b[37m\u001b[0m \u001b[1m0s\u001b[0m 1ms/step - accuracy: 0.6632 - loss: 0.7377  \n",
      "Epoch 17/250\n",
      "\u001b[1m77/77\u001b[0m \u001b[32m━━━━━━━━━━━━━━━━━━━━\u001b[0m\u001b[37m\u001b[0m \u001b[1m0s\u001b[0m 927us/step - accuracy: 0.6979 - loss: 0.6793\n",
      "Epoch 18/250\n",
      "\u001b[1m77/77\u001b[0m \u001b[32m━━━━━━━━━━━━━━━━━━━━\u001b[0m\u001b[37m\u001b[0m \u001b[1m0s\u001b[0m 917us/step - accuracy: 0.7158 - loss: 0.6378\n",
      "Epoch 19/250\n",
      "\u001b[1m77/77\u001b[0m \u001b[32m━━━━━━━━━━━━━━━━━━━━\u001b[0m\u001b[37m\u001b[0m \u001b[1m0s\u001b[0m 903us/step - accuracy: 0.7203 - loss: 0.6564\n",
      "Epoch 20/250\n",
      "\u001b[1m77/77\u001b[0m \u001b[32m━━━━━━━━━━━━━━━━━━━━\u001b[0m\u001b[37m\u001b[0m \u001b[1m0s\u001b[0m 910us/step - accuracy: 0.6407 - loss: 0.7727\n",
      "Epoch 21/250\n",
      "\u001b[1m77/77\u001b[0m \u001b[32m━━━━━━━━━━━━━━━━━━━━\u001b[0m\u001b[37m\u001b[0m \u001b[1m0s\u001b[0m 913us/step - accuracy: 0.7256 - loss: 0.7025\n",
      "Epoch 22/250\n",
      "\u001b[1m77/77\u001b[0m \u001b[32m━━━━━━━━━━━━━━━━━━━━\u001b[0m\u001b[37m\u001b[0m \u001b[1m0s\u001b[0m 927us/step - accuracy: 0.6931 - loss: 0.6493\n",
      "Epoch 23/250\n",
      "\u001b[1m77/77\u001b[0m \u001b[32m━━━━━━━━━━━━━━━━━━━━\u001b[0m\u001b[37m\u001b[0m \u001b[1m0s\u001b[0m 902us/step - accuracy: 0.7172 - loss: 0.6198\n",
      "Epoch 24/250\n",
      "\u001b[1m77/77\u001b[0m \u001b[32m━━━━━━━━━━━━━━━━━━━━\u001b[0m\u001b[37m\u001b[0m \u001b[1m0s\u001b[0m 949us/step - accuracy: 0.6705 - loss: 0.6612\n",
      "Epoch 25/250\n",
      "\u001b[1m77/77\u001b[0m \u001b[32m━━━━━━━━━━━━━━━━━━━━\u001b[0m\u001b[37m\u001b[0m \u001b[1m0s\u001b[0m 938us/step - accuracy: 0.6950 - loss: 0.6223\n",
      "Epoch 26/250\n",
      "\u001b[1m77/77\u001b[0m \u001b[32m━━━━━━━━━━━━━━━━━━━━\u001b[0m\u001b[37m\u001b[0m \u001b[1m0s\u001b[0m 933us/step - accuracy: 0.7254 - loss: 0.6359\n",
      "Epoch 27/250\n",
      "\u001b[1m77/77\u001b[0m \u001b[32m━━━━━━━━━━━━━━━━━━━━\u001b[0m\u001b[37m\u001b[0m \u001b[1m0s\u001b[0m 944us/step - accuracy: 0.7415 - loss: 0.5564\n",
      "Epoch 28/250\n",
      "\u001b[1m77/77\u001b[0m \u001b[32m━━━━━━━━━━━━━━━━━━━━\u001b[0m\u001b[37m\u001b[0m \u001b[1m0s\u001b[0m 922us/step - accuracy: 0.7249 - loss: 0.6194\n",
      "Epoch 29/250\n",
      "\u001b[1m77/77\u001b[0m \u001b[32m━━━━━━━━━━━━━━━━━━━━\u001b[0m\u001b[37m\u001b[0m \u001b[1m0s\u001b[0m 925us/step - accuracy: 0.6581 - loss: 0.7108\n",
      "Epoch 30/250\n",
      "\u001b[1m77/77\u001b[0m \u001b[32m━━━━━━━━━━━━━━━━━━━━\u001b[0m\u001b[37m\u001b[0m \u001b[1m0s\u001b[0m 917us/step - accuracy: 0.7244 - loss: 0.5554\n",
      "Epoch 31/250\n",
      "\u001b[1m77/77\u001b[0m \u001b[32m━━━━━━━━━━━━━━━━━━━━\u001b[0m\u001b[37m\u001b[0m \u001b[1m0s\u001b[0m 941us/step - accuracy: 0.7244 - loss: 0.5920\n",
      "Epoch 32/250\n",
      "\u001b[1m77/77\u001b[0m \u001b[32m━━━━━━━━━━━━━━━━━━━━\u001b[0m\u001b[37m\u001b[0m \u001b[1m0s\u001b[0m 913us/step - accuracy: 0.7050 - loss: 0.6299\n",
      "Epoch 33/250\n",
      "\u001b[1m77/77\u001b[0m \u001b[32m━━━━━━━━━━━━━━━━━━━━\u001b[0m\u001b[37m\u001b[0m \u001b[1m0s\u001b[0m 904us/step - accuracy: 0.7256 - loss: 0.6096\n",
      "Epoch 34/250\n",
      "\u001b[1m77/77\u001b[0m \u001b[32m━━━━━━━━━━━━━━━━━━━━\u001b[0m\u001b[37m\u001b[0m \u001b[1m0s\u001b[0m 900us/step - accuracy: 0.7153 - loss: 0.6248\n",
      "Epoch 35/250\n",
      "\u001b[1m77/77\u001b[0m \u001b[32m━━━━━━━━━━━━━━━━━━━━\u001b[0m\u001b[37m\u001b[0m \u001b[1m0s\u001b[0m 907us/step - accuracy: 0.6558 - loss: 0.6677\n",
      "Epoch 36/250\n",
      "\u001b[1m77/77\u001b[0m \u001b[32m━━━━━━━━━━━━━━━━━━━━\u001b[0m\u001b[37m\u001b[0m \u001b[1m0s\u001b[0m 911us/step - accuracy: 0.7168 - loss: 0.5805\n",
      "Epoch 37/250\n",
      "\u001b[1m77/77\u001b[0m \u001b[32m━━━━━━━━━━━━━━━━━━━━\u001b[0m\u001b[37m\u001b[0m \u001b[1m0s\u001b[0m 924us/step - accuracy: 0.7000 - loss: 0.6357\n",
      "Epoch 38/250\n",
      "\u001b[1m77/77\u001b[0m \u001b[32m━━━━━━━━━━━━━━━━━━━━\u001b[0m\u001b[37m\u001b[0m \u001b[1m0s\u001b[0m 859us/step - accuracy: 0.7089 - loss: 0.5794\n",
      "Epoch 39/250\n",
      "\u001b[1m77/77\u001b[0m \u001b[32m━━━━━━━━━━━━━━━━━━━━\u001b[0m\u001b[37m\u001b[0m \u001b[1m0s\u001b[0m 921us/step - accuracy: 0.7258 - loss: 0.5905\n",
      "Epoch 40/250\n",
      "\u001b[1m77/77\u001b[0m \u001b[32m━━━━━━━━━━━━━━━━━━━━\u001b[0m\u001b[37m\u001b[0m \u001b[1m0s\u001b[0m 919us/step - accuracy: 0.7748 - loss: 0.5495\n",
      "Epoch 41/250\n",
      "\u001b[1m77/77\u001b[0m \u001b[32m━━━━━━━━━━━━━━━━━━━━\u001b[0m\u001b[37m\u001b[0m \u001b[1m0s\u001b[0m 937us/step - accuracy: 0.7435 - loss: 0.5879\n",
      "Epoch 42/250\n",
      "\u001b[1m77/77\u001b[0m \u001b[32m━━━━━━━━━━━━━━━━━━━━\u001b[0m\u001b[37m\u001b[0m \u001b[1m0s\u001b[0m 921us/step - accuracy: 0.7021 - loss: 0.6288\n",
      "Epoch 43/250\n",
      "\u001b[1m77/77\u001b[0m \u001b[32m━━━━━━━━━━━━━━━━━━━━\u001b[0m\u001b[37m\u001b[0m \u001b[1m0s\u001b[0m 907us/step - accuracy: 0.7352 - loss: 0.5469\n",
      "Epoch 44/250\n",
      "\u001b[1m77/77\u001b[0m \u001b[32m━━━━━━━━━━━━━━━━━━━━\u001b[0m\u001b[37m\u001b[0m \u001b[1m0s\u001b[0m 1ms/step - accuracy: 0.7223 - loss: 0.5471  \n",
      "Epoch 45/250\n",
      "\u001b[1m77/77\u001b[0m \u001b[32m━━━━━━━━━━━━━━━━━━━━\u001b[0m\u001b[37m\u001b[0m \u001b[1m0s\u001b[0m 935us/step - accuracy: 0.7099 - loss: 0.6224\n",
      "Epoch 46/250\n",
      "\u001b[1m77/77\u001b[0m \u001b[32m━━━━━━━━━━━━━━━━━━━━\u001b[0m\u001b[37m\u001b[0m \u001b[1m0s\u001b[0m 929us/step - accuracy: 0.7813 - loss: 0.5156\n",
      "Epoch 47/250\n",
      "\u001b[1m77/77\u001b[0m \u001b[32m━━━━━━━━━━━━━━━━━━━━\u001b[0m\u001b[37m\u001b[0m \u001b[1m0s\u001b[0m 929us/step - accuracy: 0.7425 - loss: 0.5430\n",
      "Epoch 48/250\n",
      "\u001b[1m77/77\u001b[0m \u001b[32m━━━━━━━━━━━━━━━━━━━━\u001b[0m\u001b[37m\u001b[0m \u001b[1m0s\u001b[0m 925us/step - accuracy: 0.7075 - loss: 0.5935\n",
      "Epoch 49/250\n",
      "\u001b[1m77/77\u001b[0m \u001b[32m━━━━━━━━━━━━━━━━━━━━\u001b[0m\u001b[37m\u001b[0m \u001b[1m0s\u001b[0m 913us/step - accuracy: 0.7073 - loss: 0.6288\n",
      "Epoch 50/250\n",
      "\u001b[1m77/77\u001b[0m \u001b[32m━━━━━━━━━━━━━━━━━━━━\u001b[0m\u001b[37m\u001b[0m \u001b[1m0s\u001b[0m 912us/step - accuracy: 0.7486 - loss: 0.5860\n",
      "Epoch 51/250\n",
      "\u001b[1m77/77\u001b[0m \u001b[32m━━━━━━━━━━━━━━━━━━━━\u001b[0m\u001b[37m\u001b[0m \u001b[1m0s\u001b[0m 917us/step - accuracy: 0.7550 - loss: 0.5282\n",
      "Epoch 52/250\n",
      "\u001b[1m77/77\u001b[0m \u001b[32m━━━━━━━━━━━━━━━━━━━━\u001b[0m\u001b[37m\u001b[0m \u001b[1m0s\u001b[0m 928us/step - accuracy: 0.7072 - loss: 0.5963\n",
      "Epoch 53/250\n",
      "\u001b[1m77/77\u001b[0m \u001b[32m━━━━━━━━━━━━━━━━━━━━\u001b[0m\u001b[37m\u001b[0m \u001b[1m0s\u001b[0m 910us/step - accuracy: 0.7433 - loss: 0.5328\n",
      "Epoch 54/250\n",
      "\u001b[1m77/77\u001b[0m \u001b[32m━━━━━━━━━━━━━━━━━━━━\u001b[0m\u001b[37m\u001b[0m \u001b[1m0s\u001b[0m 905us/step - accuracy: 0.6935 - loss: 0.5894\n",
      "Epoch 55/250\n",
      "\u001b[1m77/77\u001b[0m \u001b[32m━━━━━━━━━━━━━━━━━━━━\u001b[0m\u001b[37m\u001b[0m \u001b[1m0s\u001b[0m 945us/step - accuracy: 0.7401 - loss: 0.5291\n",
      "Epoch 56/250\n",
      "\u001b[1m77/77\u001b[0m \u001b[32m━━━━━━━━━━━━━━━━━━━━\u001b[0m\u001b[37m\u001b[0m \u001b[1m0s\u001b[0m 921us/step - accuracy: 0.7568 - loss: 0.5358\n",
      "Epoch 57/250\n",
      "\u001b[1m77/77\u001b[0m \u001b[32m━━━━━━━━━━━━━━━━━━━━\u001b[0m\u001b[37m\u001b[0m \u001b[1m0s\u001b[0m 909us/step - accuracy: 0.7181 - loss: 0.5479\n",
      "Epoch 58/250\n",
      "\u001b[1m77/77\u001b[0m \u001b[32m━━━━━━━━━━━━━━━━━━━━\u001b[0m\u001b[37m\u001b[0m \u001b[1m0s\u001b[0m 925us/step - accuracy: 0.7410 - loss: 0.5339\n",
      "Epoch 59/250\n",
      "\u001b[1m77/77\u001b[0m \u001b[32m━━━━━━━━━━━━━━━━━━━━\u001b[0m\u001b[37m\u001b[0m \u001b[1m0s\u001b[0m 895us/step - accuracy: 0.7445 - loss: 0.5303\n",
      "Epoch 60/250\n",
      "\u001b[1m77/77\u001b[0m \u001b[32m━━━━━━━━━━━━━━━━━━━━\u001b[0m\u001b[37m\u001b[0m \u001b[1m0s\u001b[0m 902us/step - accuracy: 0.7443 - loss: 0.5623\n",
      "Epoch 61/250\n",
      "\u001b[1m77/77\u001b[0m \u001b[32m━━━━━━━━━━━━━━━━━━━━\u001b[0m\u001b[37m\u001b[0m \u001b[1m0s\u001b[0m 1ms/step - accuracy: 0.6974 - loss: 0.6641\n",
      "Epoch 62/250\n",
      "\u001b[1m77/77\u001b[0m \u001b[32m━━━━━━━━━━━━━━━━━━━━\u001b[0m\u001b[37m\u001b[0m \u001b[1m0s\u001b[0m 911us/step - accuracy: 0.7174 - loss: 0.5786\n",
      "Epoch 63/250\n",
      "\u001b[1m77/77\u001b[0m \u001b[32m━━━━━━━━━━━━━━━━━━━━\u001b[0m\u001b[37m\u001b[0m \u001b[1m0s\u001b[0m 954us/step - accuracy: 0.7492 - loss: 0.5214\n",
      "Epoch 64/250\n",
      "\u001b[1m77/77\u001b[0m \u001b[32m━━━━━━━━━━━━━━━━━━━━\u001b[0m\u001b[37m\u001b[0m \u001b[1m0s\u001b[0m 933us/step - accuracy: 0.7301 - loss: 0.6190\n",
      "Epoch 65/250\n",
      "\u001b[1m77/77\u001b[0m \u001b[32m━━━━━━━━━━━━━━━━━━━━\u001b[0m\u001b[37m\u001b[0m \u001b[1m0s\u001b[0m 984us/step - accuracy: 0.6664 - loss: 0.6574\n",
      "Epoch 66/250\n",
      "\u001b[1m77/77\u001b[0m \u001b[32m━━━━━━━━━━━━━━━━━━━━\u001b[0m\u001b[37m\u001b[0m \u001b[1m0s\u001b[0m 941us/step - accuracy: 0.7348 - loss: 0.5402\n",
      "Epoch 67/250\n",
      "\u001b[1m77/77\u001b[0m \u001b[32m━━━━━━━━━━━━━━━━━━━━\u001b[0m\u001b[37m\u001b[0m \u001b[1m0s\u001b[0m 922us/step - accuracy: 0.7488 - loss: 0.5680\n",
      "Epoch 68/250\n",
      "\u001b[1m77/77\u001b[0m \u001b[32m━━━━━━━━━━━━━━━━━━━━\u001b[0m\u001b[37m\u001b[0m \u001b[1m0s\u001b[0m 907us/step - accuracy: 0.7594 - loss: 0.5086\n",
      "Epoch 69/250\n",
      "\u001b[1m77/77\u001b[0m \u001b[32m━━━━━━━━━━━━━━━━━━━━\u001b[0m\u001b[37m\u001b[0m \u001b[1m0s\u001b[0m 919us/step - accuracy: 0.7210 - loss: 0.5891\n",
      "Epoch 70/250\n",
      "\u001b[1m77/77\u001b[0m \u001b[32m━━━━━━━━━━━━━━━━━━━━\u001b[0m\u001b[37m\u001b[0m \u001b[1m0s\u001b[0m 931us/step - accuracy: 0.7474 - loss: 0.5186\n",
      "Epoch 71/250\n",
      "\u001b[1m77/77\u001b[0m \u001b[32m━━━━━━━━━━━━━━━━━━━━\u001b[0m\u001b[37m\u001b[0m \u001b[1m0s\u001b[0m 1ms/step - accuracy: 0.6944 - loss: 0.5969  \n",
      "Epoch 72/250\n",
      "\u001b[1m77/77\u001b[0m \u001b[32m━━━━━━━━━━━━━━━━━━━━\u001b[0m\u001b[37m\u001b[0m \u001b[1m0s\u001b[0m 933us/step - accuracy: 0.7379 - loss: 0.5633\n",
      "Epoch 73/250\n",
      "\u001b[1m77/77\u001b[0m \u001b[32m━━━━━━━━━━━━━━━━━━━━\u001b[0m\u001b[37m\u001b[0m \u001b[1m0s\u001b[0m 937us/step - accuracy: 0.7377 - loss: 0.5513\n",
      "Epoch 74/250\n",
      "\u001b[1m77/77\u001b[0m \u001b[32m━━━━━━━━━━━━━━━━━━━━\u001b[0m\u001b[37m\u001b[0m \u001b[1m0s\u001b[0m 926us/step - accuracy: 0.7279 - loss: 0.5452\n",
      "Epoch 75/250\n",
      "\u001b[1m77/77\u001b[0m \u001b[32m━━━━━━━━━━━━━━━━━━━━\u001b[0m\u001b[37m\u001b[0m \u001b[1m0s\u001b[0m 948us/step - accuracy: 0.7284 - loss: 0.5475\n",
      "Epoch 76/250\n",
      "\u001b[1m77/77\u001b[0m \u001b[32m━━━━━━━━━━━━━━━━━━━━\u001b[0m\u001b[37m\u001b[0m \u001b[1m0s\u001b[0m 902us/step - accuracy: 0.7130 - loss: 0.5653\n",
      "Epoch 77/250\n",
      "\u001b[1m77/77\u001b[0m \u001b[32m━━━━━━━━━━━━━━━━━━━━\u001b[0m\u001b[37m\u001b[0m \u001b[1m0s\u001b[0m 966us/step - accuracy: 0.7252 - loss: 0.5802\n",
      "Epoch 78/250\n",
      "\u001b[1m77/77\u001b[0m \u001b[32m━━━━━━━━━━━━━━━━━━━━\u001b[0m\u001b[37m\u001b[0m \u001b[1m0s\u001b[0m 958us/step - accuracy: 0.7508 - loss: 0.5397\n",
      "Epoch 79/250\n",
      "\u001b[1m77/77\u001b[0m \u001b[32m━━━━━━━━━━━━━━━━━━━━\u001b[0m\u001b[37m\u001b[0m \u001b[1m0s\u001b[0m 905us/step - accuracy: 0.7522 - loss: 0.5609\n",
      "Epoch 80/250\n",
      "\u001b[1m77/77\u001b[0m \u001b[32m━━━━━━━━━━━━━━━━━━━━\u001b[0m\u001b[37m\u001b[0m \u001b[1m0s\u001b[0m 904us/step - accuracy: 0.7447 - loss: 0.5287\n",
      "Epoch 81/250\n",
      "\u001b[1m77/77\u001b[0m \u001b[32m━━━━━━━━━━━━━━━━━━━━\u001b[0m\u001b[37m\u001b[0m \u001b[1m0s\u001b[0m 903us/step - accuracy: 0.7068 - loss: 0.5646\n",
      "Epoch 82/250\n",
      "\u001b[1m77/77\u001b[0m \u001b[32m━━━━━━━━━━━━━━━━━━━━\u001b[0m\u001b[37m\u001b[0m \u001b[1m0s\u001b[0m 935us/step - accuracy: 0.6930 - loss: 0.5602\n",
      "Epoch 83/250\n",
      "\u001b[1m77/77\u001b[0m \u001b[32m━━━━━━━━━━━━━━━━━━━━\u001b[0m\u001b[37m\u001b[0m \u001b[1m0s\u001b[0m 1000us/step - accuracy: 0.7296 - loss: 0.6028\n",
      "Epoch 84/250\n",
      "\u001b[1m77/77\u001b[0m \u001b[32m━━━━━━━━━━━━━━━━━━━━\u001b[0m\u001b[37m\u001b[0m \u001b[1m0s\u001b[0m 918us/step - accuracy: 0.7582 - loss: 0.5001\n",
      "Epoch 85/250\n",
      "\u001b[1m77/77\u001b[0m \u001b[32m━━━━━━━━━━━━━━━━━━━━\u001b[0m\u001b[37m\u001b[0m \u001b[1m0s\u001b[0m 916us/step - accuracy: 0.7700 - loss: 0.4846\n",
      "Epoch 86/250\n",
      "\u001b[1m77/77\u001b[0m \u001b[32m━━━━━━━━━━━━━━━━━━━━\u001b[0m\u001b[37m\u001b[0m \u001b[1m0s\u001b[0m 912us/step - accuracy: 0.7681 - loss: 0.5037\n",
      "Epoch 87/250\n",
      "\u001b[1m77/77\u001b[0m \u001b[32m━━━━━━━━━━━━━━━━━━━━\u001b[0m\u001b[37m\u001b[0m \u001b[1m0s\u001b[0m 906us/step - accuracy: 0.7530 - loss: 0.5099\n",
      "Epoch 88/250\n",
      "\u001b[1m77/77\u001b[0m \u001b[32m━━━━━━━━━━━━━━━━━━━━\u001b[0m\u001b[37m\u001b[0m \u001b[1m0s\u001b[0m 927us/step - accuracy: 0.7548 - loss: 0.5125\n",
      "Epoch 89/250\n",
      "\u001b[1m77/77\u001b[0m \u001b[32m━━━━━━━━━━━━━━━━━━━━\u001b[0m\u001b[37m\u001b[0m \u001b[1m0s\u001b[0m 911us/step - accuracy: 0.7577 - loss: 0.4976\n",
      "Epoch 90/250\n",
      "\u001b[1m77/77\u001b[0m \u001b[32m━━━━━━━━━━━━━━━━━━━━\u001b[0m\u001b[37m\u001b[0m \u001b[1m0s\u001b[0m 944us/step - accuracy: 0.7202 - loss: 0.5444\n",
      "Epoch 91/250\n",
      "\u001b[1m77/77\u001b[0m \u001b[32m━━━━━━━━━━━━━━━━━━━━\u001b[0m\u001b[37m\u001b[0m \u001b[1m0s\u001b[0m 936us/step - accuracy: 0.7339 - loss: 0.5806\n",
      "Epoch 92/250\n",
      "\u001b[1m77/77\u001b[0m \u001b[32m━━━━━━━━━━━━━━━━━━━━\u001b[0m\u001b[37m\u001b[0m \u001b[1m0s\u001b[0m 902us/step - accuracy: 0.7368 - loss: 0.5492\n",
      "Epoch 93/250\n",
      "\u001b[1m77/77\u001b[0m \u001b[32m━━━━━━━━━━━━━━━━━━━━\u001b[0m\u001b[37m\u001b[0m \u001b[1m0s\u001b[0m 915us/step - accuracy: 0.7542 - loss: 0.5001\n",
      "Epoch 94/250\n",
      "\u001b[1m77/77\u001b[0m \u001b[32m━━━━━━━━━━━━━━━━━━━━\u001b[0m\u001b[37m\u001b[0m \u001b[1m0s\u001b[0m 1ms/step - accuracy: 0.7919 - loss: 0.4570  \n",
      "Epoch 95/250\n",
      "\u001b[1m77/77\u001b[0m \u001b[32m━━━━━━━━━━━━━━━━━━━━\u001b[0m\u001b[37m\u001b[0m \u001b[1m0s\u001b[0m 931us/step - accuracy: 0.7428 - loss: 0.5435\n",
      "Epoch 96/250\n",
      "\u001b[1m77/77\u001b[0m \u001b[32m━━━━━━━━━━━━━━━━━━━━\u001b[0m\u001b[37m\u001b[0m \u001b[1m0s\u001b[0m 924us/step - accuracy: 0.7350 - loss: 0.5057\n",
      "Epoch 97/250\n",
      "\u001b[1m77/77\u001b[0m \u001b[32m━━━━━━━━━━━━━━━━━━━━\u001b[0m\u001b[37m\u001b[0m \u001b[1m0s\u001b[0m 931us/step - accuracy: 0.7198 - loss: 0.5699\n",
      "Epoch 98/250\n",
      "\u001b[1m77/77\u001b[0m \u001b[32m━━━━━━━━━━━━━━━━━━━━\u001b[0m\u001b[37m\u001b[0m \u001b[1m0s\u001b[0m 911us/step - accuracy: 0.7021 - loss: 0.5549\n",
      "Epoch 99/250\n",
      "\u001b[1m77/77\u001b[0m \u001b[32m━━━━━━━━━━━━━━━━━━━━\u001b[0m\u001b[37m\u001b[0m \u001b[1m0s\u001b[0m 938us/step - accuracy: 0.7472 - loss: 0.5349\n",
      "Epoch 100/250\n",
      "\u001b[1m77/77\u001b[0m \u001b[32m━━━━━━━━━━━━━━━━━━━━\u001b[0m\u001b[37m\u001b[0m \u001b[1m0s\u001b[0m 917us/step - accuracy: 0.7117 - loss: 0.5673\n",
      "Epoch 101/250\n",
      "\u001b[1m77/77\u001b[0m \u001b[32m━━━━━━━━━━━━━━━━━━━━\u001b[0m\u001b[37m\u001b[0m \u001b[1m0s\u001b[0m 906us/step - accuracy: 0.7408 - loss: 0.5182\n",
      "Epoch 102/250\n",
      "\u001b[1m77/77\u001b[0m \u001b[32m━━━━━━━━━━━━━━━━━━━━\u001b[0m\u001b[37m\u001b[0m \u001b[1m0s\u001b[0m 899us/step - accuracy: 0.7465 - loss: 0.5057\n",
      "Epoch 103/250\n",
      "\u001b[1m77/77\u001b[0m \u001b[32m━━━━━━━━━━━━━━━━━━━━\u001b[0m\u001b[37m\u001b[0m \u001b[1m0s\u001b[0m 915us/step - accuracy: 0.7562 - loss: 0.4952\n",
      "Epoch 104/250\n",
      "\u001b[1m77/77\u001b[0m \u001b[32m━━━━━━━━━━━━━━━━━━━━\u001b[0m\u001b[37m\u001b[0m \u001b[1m0s\u001b[0m 893us/step - accuracy: 0.7570 - loss: 0.5665\n",
      "Epoch 105/250\n",
      "\u001b[1m77/77\u001b[0m \u001b[32m━━━━━━━━━━━━━━━━━━━━\u001b[0m\u001b[37m\u001b[0m \u001b[1m0s\u001b[0m 924us/step - accuracy: 0.7598 - loss: 0.5168\n",
      "Epoch 106/250\n",
      "\u001b[1m77/77\u001b[0m \u001b[32m━━━━━━━━━━━━━━━━━━━━\u001b[0m\u001b[37m\u001b[0m \u001b[1m0s\u001b[0m 942us/step - accuracy: 0.7245 - loss: 0.5445\n",
      "Epoch 107/250\n",
      "\u001b[1m77/77\u001b[0m \u001b[32m━━━━━━━━━━━━━━━━━━━━\u001b[0m\u001b[37m\u001b[0m \u001b[1m0s\u001b[0m 912us/step - accuracy: 0.7492 - loss: 0.5299\n",
      "Epoch 108/250\n",
      "\u001b[1m77/77\u001b[0m \u001b[32m━━━━━━━━━━━━━━━━━━━━\u001b[0m\u001b[37m\u001b[0m \u001b[1m0s\u001b[0m 924us/step - accuracy: 0.7310 - loss: 0.5344\n",
      "Epoch 109/250\n",
      "\u001b[1m77/77\u001b[0m \u001b[32m━━━━━━━━━━━━━━━━━━━━\u001b[0m\u001b[37m\u001b[0m \u001b[1m0s\u001b[0m 904us/step - accuracy: 0.7584 - loss: 0.4938\n",
      "Epoch 110/250\n",
      "\u001b[1m77/77\u001b[0m \u001b[32m━━━━━━━━━━━━━━━━━━━━\u001b[0m\u001b[37m\u001b[0m \u001b[1m0s\u001b[0m 1ms/step - accuracy: 0.7697 - loss: 0.4825\n",
      "Epoch 111/250\n",
      "\u001b[1m77/77\u001b[0m \u001b[32m━━━━━━━━━━━━━━━━━━━━\u001b[0m\u001b[37m\u001b[0m \u001b[1m0s\u001b[0m 927us/step - accuracy: 0.7501 - loss: 0.5115\n",
      "Epoch 112/250\n",
      "\u001b[1m77/77\u001b[0m \u001b[32m━━━━━━━━━━━━━━━━━━━━\u001b[0m\u001b[37m\u001b[0m \u001b[1m0s\u001b[0m 920us/step - accuracy: 0.7466 - loss: 0.4893\n",
      "Epoch 113/250\n",
      "\u001b[1m77/77\u001b[0m \u001b[32m━━━━━━━━━━━━━━━━━━━━\u001b[0m\u001b[37m\u001b[0m \u001b[1m0s\u001b[0m 923us/step - accuracy: 0.7677 - loss: 0.5176\n",
      "Epoch 114/250\n",
      "\u001b[1m77/77\u001b[0m \u001b[32m━━━━━━━━━━━━━━━━━━━━\u001b[0m\u001b[37m\u001b[0m \u001b[1m0s\u001b[0m 897us/step - accuracy: 0.6851 - loss: 0.6180\n",
      "Epoch 115/250\n",
      "\u001b[1m77/77\u001b[0m \u001b[32m━━━━━━━━━━━━━━━━━━━━\u001b[0m\u001b[37m\u001b[0m \u001b[1m0s\u001b[0m 902us/step - accuracy: 0.7640 - loss: 0.4816\n",
      "Epoch 116/250\n",
      "\u001b[1m77/77\u001b[0m \u001b[32m━━━━━━━━━━━━━━━━━━━━\u001b[0m\u001b[37m\u001b[0m \u001b[1m0s\u001b[0m 887us/step - accuracy: 0.7466 - loss: 0.5563\n",
      "Epoch 117/250\n",
      "\u001b[1m77/77\u001b[0m \u001b[32m━━━━━━━━━━━━━━━━━━━━\u001b[0m\u001b[37m\u001b[0m \u001b[1m0s\u001b[0m 959us/step - accuracy: 0.7482 - loss: 0.5301\n",
      "Epoch 118/250\n",
      "\u001b[1m77/77\u001b[0m \u001b[32m━━━━━━━━━━━━━━━━━━━━\u001b[0m\u001b[37m\u001b[0m \u001b[1m0s\u001b[0m 928us/step - accuracy: 0.7547 - loss: 0.5201\n",
      "Epoch 119/250\n",
      "\u001b[1m77/77\u001b[0m \u001b[32m━━━━━━━━━━━━━━━━━━━━\u001b[0m\u001b[37m\u001b[0m \u001b[1m0s\u001b[0m 914us/step - accuracy: 0.7445 - loss: 0.5703\n",
      "Epoch 120/250\n",
      "\u001b[1m77/77\u001b[0m \u001b[32m━━━━━━━━━━━━━━━━━━━━\u001b[0m\u001b[37m\u001b[0m \u001b[1m0s\u001b[0m 976us/step - accuracy: 0.7790 - loss: 0.4654\n",
      "Epoch 121/250\n",
      "\u001b[1m77/77\u001b[0m \u001b[32m━━━━━━━━━━━━━━━━━━━━\u001b[0m\u001b[37m\u001b[0m \u001b[1m0s\u001b[0m 947us/step - accuracy: 0.7696 - loss: 0.4913\n",
      "Epoch 122/250\n",
      "\u001b[1m77/77\u001b[0m \u001b[32m━━━━━━━━━━━━━━━━━━━━\u001b[0m\u001b[37m\u001b[0m \u001b[1m0s\u001b[0m 907us/step - accuracy: 0.7682 - loss: 0.5018\n",
      "Epoch 123/250\n",
      "\u001b[1m77/77\u001b[0m \u001b[32m━━━━━━━━━━━━━━━━━━━━\u001b[0m\u001b[37m\u001b[0m \u001b[1m0s\u001b[0m 936us/step - accuracy: 0.7435 - loss: 0.5041\n",
      "Epoch 124/250\n",
      "\u001b[1m77/77\u001b[0m \u001b[32m━━━━━━━━━━━━━━━━━━━━\u001b[0m\u001b[37m\u001b[0m \u001b[1m0s\u001b[0m 907us/step - accuracy: 0.7741 - loss: 0.4870\n",
      "Epoch 125/250\n",
      "\u001b[1m77/77\u001b[0m \u001b[32m━━━━━━━━━━━━━━━━━━━━\u001b[0m\u001b[37m\u001b[0m \u001b[1m0s\u001b[0m 912us/step - accuracy: 0.7840 - loss: 0.4701\n",
      "Epoch 126/250\n",
      "\u001b[1m77/77\u001b[0m \u001b[32m━━━━━━━━━━━━━━━━━━━━\u001b[0m\u001b[37m\u001b[0m \u001b[1m0s\u001b[0m 985us/step - accuracy: 0.7752 - loss: 0.4974\n",
      "Epoch 127/250\n",
      "\u001b[1m77/77\u001b[0m \u001b[32m━━━━━━━━━━━━━━━━━━━━\u001b[0m\u001b[37m\u001b[0m \u001b[1m0s\u001b[0m 907us/step - accuracy: 0.7373 - loss: 0.5531\n",
      "Epoch 128/250\n",
      "\u001b[1m77/77\u001b[0m \u001b[32m━━━━━━━━━━━━━━━━━━━━\u001b[0m\u001b[37m\u001b[0m \u001b[1m0s\u001b[0m 917us/step - accuracy: 0.7168 - loss: 0.5587\n",
      "Epoch 129/250\n",
      "\u001b[1m77/77\u001b[0m \u001b[32m━━━━━━━━━━━━━━━━━━━━\u001b[0m\u001b[37m\u001b[0m \u001b[1m0s\u001b[0m 898us/step - accuracy: 0.7762 - loss: 0.4877\n",
      "Epoch 130/250\n",
      "\u001b[1m77/77\u001b[0m \u001b[32m━━━━━━━━━━━━━━━━━━━━\u001b[0m\u001b[37m\u001b[0m \u001b[1m0s\u001b[0m 918us/step - accuracy: 0.7445 - loss: 0.4965\n",
      "Epoch 131/250\n",
      "\u001b[1m77/77\u001b[0m \u001b[32m━━━━━━━━━━━━━━━━━━━━\u001b[0m\u001b[37m\u001b[0m \u001b[1m0s\u001b[0m 896us/step - accuracy: 0.7631 - loss: 0.4910\n",
      "Epoch 132/250\n",
      "\u001b[1m77/77\u001b[0m \u001b[32m━━━━━━━━━━━━━━━━━━━━\u001b[0m\u001b[37m\u001b[0m \u001b[1m0s\u001b[0m 888us/step - accuracy: 0.8075 - loss: 0.4615\n",
      "Epoch 133/250\n",
      "\u001b[1m77/77\u001b[0m \u001b[32m━━━━━━━━━━━━━━━━━━━━\u001b[0m\u001b[37m\u001b[0m \u001b[1m0s\u001b[0m 875us/step - accuracy: 0.7801 - loss: 0.4740\n",
      "Epoch 134/250\n",
      "\u001b[1m77/77\u001b[0m \u001b[32m━━━━━━━━━━━━━━━━━━━━\u001b[0m\u001b[37m\u001b[0m \u001b[1m0s\u001b[0m 924us/step - accuracy: 0.7231 - loss: 0.5189\n",
      "Epoch 135/250\n",
      "\u001b[1m77/77\u001b[0m \u001b[32m━━━━━━━━━━━━━━━━━━━━\u001b[0m\u001b[37m\u001b[0m \u001b[1m0s\u001b[0m 910us/step - accuracy: 0.7919 - loss: 0.4555\n",
      "Epoch 136/250\n",
      "\u001b[1m77/77\u001b[0m \u001b[32m━━━━━━━━━━━━━━━━━━━━\u001b[0m\u001b[37m\u001b[0m \u001b[1m0s\u001b[0m 913us/step - accuracy: 0.7603 - loss: 0.4924\n",
      "Epoch 137/250\n",
      "\u001b[1m77/77\u001b[0m \u001b[32m━━━━━━━━━━━━━━━━━━━━\u001b[0m\u001b[37m\u001b[0m \u001b[1m0s\u001b[0m 892us/step - accuracy: 0.7535 - loss: 0.4887\n",
      "Epoch 138/250\n",
      "\u001b[1m77/77\u001b[0m \u001b[32m━━━━━━━━━━━━━━━━━━━━\u001b[0m\u001b[37m\u001b[0m \u001b[1m0s\u001b[0m 917us/step - accuracy: 0.7335 - loss: 0.5121\n",
      "Epoch 139/250\n",
      "\u001b[1m77/77\u001b[0m \u001b[32m━━━━━━━━━━━━━━━━━━━━\u001b[0m\u001b[37m\u001b[0m \u001b[1m0s\u001b[0m 905us/step - accuracy: 0.7540 - loss: 0.5066\n",
      "Epoch 140/250\n",
      "\u001b[1m77/77\u001b[0m \u001b[32m━━━━━━━━━━━━━━━━━━━━\u001b[0m\u001b[37m\u001b[0m \u001b[1m0s\u001b[0m 911us/step - accuracy: 0.7777 - loss: 0.4896\n",
      "Epoch 141/250\n",
      "\u001b[1m77/77\u001b[0m \u001b[32m━━━━━━━━━━━━━━━━━━━━\u001b[0m\u001b[37m\u001b[0m \u001b[1m0s\u001b[0m 1ms/step - accuracy: 0.7944 - loss: 0.4641  \n",
      "Epoch 142/250\n",
      "\u001b[1m77/77\u001b[0m \u001b[32m━━━━━━━━━━━━━━━━━━━━\u001b[0m\u001b[37m\u001b[0m \u001b[1m0s\u001b[0m 891us/step - accuracy: 0.7491 - loss: 0.5466\n",
      "Epoch 143/250\n",
      "\u001b[1m77/77\u001b[0m \u001b[32m━━━━━━━━━━━━━━━━━━━━\u001b[0m\u001b[37m\u001b[0m \u001b[1m0s\u001b[0m 900us/step - accuracy: 0.7856 - loss: 0.4472\n",
      "Epoch 144/250\n",
      "\u001b[1m77/77\u001b[0m \u001b[32m━━━━━━━━━━━━━━━━━━━━\u001b[0m\u001b[37m\u001b[0m \u001b[1m0s\u001b[0m 888us/step - accuracy: 0.7782 - loss: 0.4784\n",
      "Epoch 145/250\n",
      "\u001b[1m77/77\u001b[0m \u001b[32m━━━━━━━━━━━━━━━━━━━━\u001b[0m\u001b[37m\u001b[0m \u001b[1m0s\u001b[0m 912us/step - accuracy: 0.7776 - loss: 0.5276\n",
      "Epoch 146/250\n",
      "\u001b[1m77/77\u001b[0m \u001b[32m━━━━━━━━━━━━━━━━━━━━\u001b[0m\u001b[37m\u001b[0m \u001b[1m0s\u001b[0m 868us/step - accuracy: 0.7679 - loss: 0.4714\n",
      "Epoch 147/250\n",
      "\u001b[1m77/77\u001b[0m \u001b[32m━━━━━━━━━━━━━━━━━━━━\u001b[0m\u001b[37m\u001b[0m \u001b[1m0s\u001b[0m 915us/step - accuracy: 0.7587 - loss: 0.5237\n",
      "Epoch 148/250\n",
      "\u001b[1m77/77\u001b[0m \u001b[32m━━━━━━━━━━━━━━━━━━━━\u001b[0m\u001b[37m\u001b[0m \u001b[1m0s\u001b[0m 936us/step - accuracy: 0.7412 - loss: 0.5036\n",
      "Epoch 149/250\n",
      "\u001b[1m77/77\u001b[0m \u001b[32m━━━━━━━━━━━━━━━━━━━━\u001b[0m\u001b[37m\u001b[0m \u001b[1m0s\u001b[0m 888us/step - accuracy: 0.7774 - loss: 0.5085\n",
      "Epoch 150/250\n",
      "\u001b[1m77/77\u001b[0m \u001b[32m━━━━━━━━━━━━━━━━━━━━\u001b[0m\u001b[37m\u001b[0m \u001b[1m0s\u001b[0m 891us/step - accuracy: 0.7309 - loss: 0.5373\n",
      "Epoch 151/250\n",
      "\u001b[1m77/77\u001b[0m \u001b[32m━━━━━━━━━━━━━━━━━━━━\u001b[0m\u001b[37m\u001b[0m \u001b[1m0s\u001b[0m 904us/step - accuracy: 0.7409 - loss: 0.5256\n",
      "Epoch 152/250\n",
      "\u001b[1m77/77\u001b[0m \u001b[32m━━━━━━━━━━━━━━━━━━━━\u001b[0m\u001b[37m\u001b[0m \u001b[1m0s\u001b[0m 888us/step - accuracy: 0.7683 - loss: 0.4793\n",
      "Epoch 153/250\n",
      "\u001b[1m77/77\u001b[0m \u001b[32m━━━━━━━━━━━━━━━━━━━━\u001b[0m\u001b[37m\u001b[0m \u001b[1m0s\u001b[0m 900us/step - accuracy: 0.7246 - loss: 0.5676\n",
      "Epoch 154/250\n",
      "\u001b[1m77/77\u001b[0m \u001b[32m━━━━━━━━━━━━━━━━━━━━\u001b[0m\u001b[37m\u001b[0m \u001b[1m0s\u001b[0m 890us/step - accuracy: 0.7594 - loss: 0.4992\n",
      "Epoch 155/250\n",
      "\u001b[1m77/77\u001b[0m \u001b[32m━━━━━━━━━━━━━━━━━━━━\u001b[0m\u001b[37m\u001b[0m \u001b[1m0s\u001b[0m 1ms/step - accuracy: 0.7685 - loss: 0.4884\n",
      "Epoch 156/250\n",
      "\u001b[1m77/77\u001b[0m \u001b[32m━━━━━━━━━━━━━━━━━━━━\u001b[0m\u001b[37m\u001b[0m \u001b[1m0s\u001b[0m 896us/step - accuracy: 0.7538 - loss: 0.5315\n",
      "Epoch 157/250\n",
      "\u001b[1m77/77\u001b[0m \u001b[32m━━━━━━━━━━━━━━━━━━━━\u001b[0m\u001b[37m\u001b[0m \u001b[1m0s\u001b[0m 900us/step - accuracy: 0.7664 - loss: 0.4978\n",
      "Epoch 158/250\n",
      "\u001b[1m77/77\u001b[0m \u001b[32m━━━━━━━━━━━━━━━━━━━━\u001b[0m\u001b[37m\u001b[0m \u001b[1m0s\u001b[0m 881us/step - accuracy: 0.7941 - loss: 0.4698\n",
      "Epoch 159/250\n",
      "\u001b[1m77/77\u001b[0m \u001b[32m━━━━━━━━━━━━━━━━━━━━\u001b[0m\u001b[37m\u001b[0m \u001b[1m0s\u001b[0m 946us/step - accuracy: 0.7823 - loss: 0.4572\n",
      "Epoch 160/250\n",
      "\u001b[1m77/77\u001b[0m \u001b[32m━━━━━━━━━━━━━━━━━━━━\u001b[0m\u001b[37m\u001b[0m \u001b[1m0s\u001b[0m 910us/step - accuracy: 0.7868 - loss: 0.4618\n",
      "Epoch 161/250\n",
      "\u001b[1m77/77\u001b[0m \u001b[32m━━━━━━━━━━━━━━━━━━━━\u001b[0m\u001b[37m\u001b[0m \u001b[1m0s\u001b[0m 924us/step - accuracy: 0.7594 - loss: 0.5652\n",
      "Epoch 162/250\n",
      "\u001b[1m77/77\u001b[0m \u001b[32m━━━━━━━━━━━━━━━━━━━━\u001b[0m\u001b[37m\u001b[0m \u001b[1m0s\u001b[0m 904us/step - accuracy: 0.7817 - loss: 0.4831\n",
      "Epoch 163/250\n",
      "\u001b[1m77/77\u001b[0m \u001b[32m━━━━━━━━━━━━━━━━━━━━\u001b[0m\u001b[37m\u001b[0m \u001b[1m0s\u001b[0m 890us/step - accuracy: 0.7411 - loss: 0.5356\n",
      "Epoch 164/250\n",
      "\u001b[1m77/77\u001b[0m \u001b[32m━━━━━━━━━━━━━━━━━━━━\u001b[0m\u001b[37m\u001b[0m \u001b[1m0s\u001b[0m 953us/step - accuracy: 0.7601 - loss: 0.5052\n",
      "Epoch 165/250\n",
      "\u001b[1m77/77\u001b[0m \u001b[32m━━━━━━━━━━━━━━━━━━━━\u001b[0m\u001b[37m\u001b[0m \u001b[1m0s\u001b[0m 919us/step - accuracy: 0.7756 - loss: 0.5066\n",
      "Epoch 166/250\n",
      "\u001b[1m77/77\u001b[0m \u001b[32m━━━━━━━━━━━━━━━━━━━━\u001b[0m\u001b[37m\u001b[0m \u001b[1m0s\u001b[0m 908us/step - accuracy: 0.7759 - loss: 0.4776\n",
      "Epoch 167/250\n",
      "\u001b[1m77/77\u001b[0m \u001b[32m━━━━━━━━━━━━━━━━━━━━\u001b[0m\u001b[37m\u001b[0m \u001b[1m0s\u001b[0m 890us/step - accuracy: 0.7602 - loss: 0.4683\n",
      "Epoch 168/250\n",
      "\u001b[1m77/77\u001b[0m \u001b[32m━━━━━━━━━━━━━━━━━━━━\u001b[0m\u001b[37m\u001b[0m \u001b[1m0s\u001b[0m 1ms/step - accuracy: 0.7380 - loss: 0.5526  \n",
      "Epoch 169/250\n",
      "\u001b[1m77/77\u001b[0m \u001b[32m━━━━━━━━━━━━━━━━━━━━\u001b[0m\u001b[37m\u001b[0m \u001b[1m0s\u001b[0m 885us/step - accuracy: 0.7761 - loss: 0.4656\n",
      "Epoch 170/250\n",
      "\u001b[1m77/77\u001b[0m \u001b[32m━━━━━━━━━━━━━━━━━━━━\u001b[0m\u001b[37m\u001b[0m \u001b[1m0s\u001b[0m 901us/step - accuracy: 0.7820 - loss: 0.5014\n",
      "Epoch 171/250\n",
      "\u001b[1m77/77\u001b[0m \u001b[32m━━━━━━━━━━━━━━━━━━━━\u001b[0m\u001b[37m\u001b[0m \u001b[1m0s\u001b[0m 894us/step - accuracy: 0.7757 - loss: 0.4506\n",
      "Epoch 172/250\n",
      "\u001b[1m77/77\u001b[0m \u001b[32m━━━━━━━━━━━━━━━━━━━━\u001b[0m\u001b[37m\u001b[0m \u001b[1m0s\u001b[0m 895us/step - accuracy: 0.7884 - loss: 0.4656\n",
      "Epoch 173/250\n",
      "\u001b[1m77/77\u001b[0m \u001b[32m━━━━━━━━━━━━━━━━━━━━\u001b[0m\u001b[37m\u001b[0m \u001b[1m0s\u001b[0m 895us/step - accuracy: 0.7263 - loss: 0.5509\n",
      "Epoch 174/250\n",
      "\u001b[1m77/77\u001b[0m \u001b[32m━━━━━━━━━━━━━━━━━━━━\u001b[0m\u001b[37m\u001b[0m \u001b[1m0s\u001b[0m 897us/step - accuracy: 0.7485 - loss: 0.5445\n",
      "Epoch 175/250\n",
      "\u001b[1m77/77\u001b[0m \u001b[32m━━━━━━━━━━━━━━━━━━━━\u001b[0m\u001b[37m\u001b[0m \u001b[1m0s\u001b[0m 923us/step - accuracy: 0.7612 - loss: 0.5229\n",
      "Epoch 176/250\n",
      "\u001b[1m77/77\u001b[0m \u001b[32m━━━━━━━━━━━━━━━━━━━━\u001b[0m\u001b[37m\u001b[0m \u001b[1m0s\u001b[0m 935us/step - accuracy: 0.7686 - loss: 0.4762\n",
      "Epoch 177/250\n",
      "\u001b[1m77/77\u001b[0m \u001b[32m━━━━━━━━━━━━━━━━━━━━\u001b[0m\u001b[37m\u001b[0m \u001b[1m0s\u001b[0m 944us/step - accuracy: 0.7608 - loss: 0.4812\n",
      "Epoch 178/250\n",
      "\u001b[1m77/77\u001b[0m \u001b[32m━━━━━━━━━━━━━━━━━━━━\u001b[0m\u001b[37m\u001b[0m \u001b[1m0s\u001b[0m 900us/step - accuracy: 0.7970 - loss: 0.4455\n",
      "Epoch 179/250\n",
      "\u001b[1m77/77\u001b[0m \u001b[32m━━━━━━━━━━━━━━━━━━━━\u001b[0m\u001b[37m\u001b[0m \u001b[1m0s\u001b[0m 911us/step - accuracy: 0.7810 - loss: 0.4405\n",
      "Epoch 180/250\n",
      "\u001b[1m77/77\u001b[0m \u001b[32m━━━━━━━━━━━━━━━━━━━━\u001b[0m\u001b[37m\u001b[0m \u001b[1m0s\u001b[0m 899us/step - accuracy: 0.7562 - loss: 0.5178\n",
      "Epoch 181/250\n",
      "\u001b[1m77/77\u001b[0m \u001b[32m━━━━━━━━━━━━━━━━━━━━\u001b[0m\u001b[37m\u001b[0m \u001b[1m0s\u001b[0m 915us/step - accuracy: 0.7555 - loss: 0.5178\n",
      "Epoch 182/250\n",
      "\u001b[1m77/77\u001b[0m \u001b[32m━━━━━━━━━━━━━━━━━━━━\u001b[0m\u001b[37m\u001b[0m \u001b[1m0s\u001b[0m 1ms/step - accuracy: 0.7297 - loss: 0.4979  \n",
      "Epoch 183/250\n",
      "\u001b[1m77/77\u001b[0m \u001b[32m━━━━━━━━━━━━━━━━━━━━\u001b[0m\u001b[37m\u001b[0m \u001b[1m0s\u001b[0m 910us/step - accuracy: 0.7620 - loss: 0.4889\n",
      "Epoch 184/250\n",
      "\u001b[1m77/77\u001b[0m \u001b[32m━━━━━━━━━━━━━━━━━━━━\u001b[0m\u001b[37m\u001b[0m \u001b[1m0s\u001b[0m 915us/step - accuracy: 0.7957 - loss: 0.4620\n",
      "Epoch 185/250\n",
      "\u001b[1m77/77\u001b[0m \u001b[32m━━━━━━━━━━━━━━━━━━━━\u001b[0m\u001b[37m\u001b[0m \u001b[1m0s\u001b[0m 894us/step - accuracy: 0.7672 - loss: 0.4800\n",
      "Epoch 186/250\n",
      "\u001b[1m77/77\u001b[0m \u001b[32m━━━━━━━━━━━━━━━━━━━━\u001b[0m\u001b[37m\u001b[0m \u001b[1m0s\u001b[0m 936us/step - accuracy: 0.7825 - loss: 0.4869\n",
      "Epoch 187/250\n",
      "\u001b[1m77/77\u001b[0m \u001b[32m━━━━━━━━━━━━━━━━━━━━\u001b[0m\u001b[37m\u001b[0m \u001b[1m0s\u001b[0m 915us/step - accuracy: 0.8056 - loss: 0.4492\n",
      "Epoch 188/250\n",
      "\u001b[1m77/77\u001b[0m \u001b[32m━━━━━━━━━━━━━━━━━━━━\u001b[0m\u001b[37m\u001b[0m \u001b[1m0s\u001b[0m 892us/step - accuracy: 0.7892 - loss: 0.4871\n",
      "Epoch 189/250\n",
      "\u001b[1m77/77\u001b[0m \u001b[32m━━━━━━━━━━━━━━━━━━━━\u001b[0m\u001b[37m\u001b[0m \u001b[1m0s\u001b[0m 931us/step - accuracy: 0.7813 - loss: 0.4632\n",
      "Epoch 190/250\n",
      "\u001b[1m77/77\u001b[0m \u001b[32m━━━━━━━━━━━━━━━━━━━━\u001b[0m\u001b[37m\u001b[0m \u001b[1m0s\u001b[0m 877us/step - accuracy: 0.8163 - loss: 0.4243\n",
      "Epoch 191/250\n",
      "\u001b[1m77/77\u001b[0m \u001b[32m━━━━━━━━━━━━━━━━━━━━\u001b[0m\u001b[37m\u001b[0m \u001b[1m0s\u001b[0m 909us/step - accuracy: 0.7267 - loss: 0.5147\n",
      "Epoch 192/250\n",
      "\u001b[1m77/77\u001b[0m \u001b[32m━━━━━━━━━━━━━━━━━━━━\u001b[0m\u001b[37m\u001b[0m \u001b[1m0s\u001b[0m 915us/step - accuracy: 0.7646 - loss: 0.4574\n",
      "Epoch 193/250\n",
      "\u001b[1m77/77\u001b[0m \u001b[32m━━━━━━━━━━━━━━━━━━━━\u001b[0m\u001b[37m\u001b[0m \u001b[1m0s\u001b[0m 895us/step - accuracy: 0.7541 - loss: 0.4887\n",
      "Epoch 194/250\n",
      "\u001b[1m77/77\u001b[0m \u001b[32m━━━━━━━━━━━━━━━━━━━━\u001b[0m\u001b[37m\u001b[0m \u001b[1m0s\u001b[0m 969us/step - accuracy: 0.7827 - loss: 0.4535\n",
      "Epoch 195/250\n",
      "\u001b[1m77/77\u001b[0m \u001b[32m━━━━━━━━━━━━━━━━━━━━\u001b[0m\u001b[37m\u001b[0m \u001b[1m0s\u001b[0m 900us/step - accuracy: 0.7605 - loss: 0.4960\n",
      "Epoch 196/250\n",
      "\u001b[1m77/77\u001b[0m \u001b[32m━━━━━━━━━━━━━━━━━━━━\u001b[0m\u001b[37m\u001b[0m \u001b[1m0s\u001b[0m 909us/step - accuracy: 0.7886 - loss: 0.4573\n",
      "Epoch 197/250\n",
      "\u001b[1m77/77\u001b[0m \u001b[32m━━━━━━━━━━━━━━━━━━━━\u001b[0m\u001b[37m\u001b[0m \u001b[1m0s\u001b[0m 908us/step - accuracy: 0.7840 - loss: 0.4653\n",
      "Epoch 198/250\n",
      "\u001b[1m77/77\u001b[0m \u001b[32m━━━━━━━━━━━━━━━━━━━━\u001b[0m\u001b[37m\u001b[0m \u001b[1m0s\u001b[0m 886us/step - accuracy: 0.7879 - loss: 0.4480\n",
      "Epoch 199/250\n",
      "\u001b[1m77/77\u001b[0m \u001b[32m━━━━━━━━━━━━━━━━━━━━\u001b[0m\u001b[37m\u001b[0m \u001b[1m0s\u001b[0m 898us/step - accuracy: 0.7906 - loss: 0.4225\n",
      "Epoch 200/250\n",
      "\u001b[1m77/77\u001b[0m \u001b[32m━━━━━━━━━━━━━━━━━━━━\u001b[0m\u001b[37m\u001b[0m \u001b[1m0s\u001b[0m 916us/step - accuracy: 0.7355 - loss: 0.4921\n",
      "Epoch 201/250\n",
      "\u001b[1m77/77\u001b[0m \u001b[32m━━━━━━━━━━━━━━━━━━━━\u001b[0m\u001b[37m\u001b[0m \u001b[1m0s\u001b[0m 883us/step - accuracy: 0.7903 - loss: 0.4514\n",
      "Epoch 202/250\n",
      "\u001b[1m77/77\u001b[0m \u001b[32m━━━━━━━━━━━━━━━━━━━━\u001b[0m\u001b[37m\u001b[0m \u001b[1m0s\u001b[0m 880us/step - accuracy: 0.7673 - loss: 0.4629\n",
      "Epoch 203/250\n",
      "\u001b[1m77/77\u001b[0m \u001b[32m━━━━━━━━━━━━━━━━━━━━\u001b[0m\u001b[37m\u001b[0m \u001b[1m0s\u001b[0m 894us/step - accuracy: 0.7502 - loss: 0.5123\n",
      "Epoch 204/250\n",
      "\u001b[1m77/77\u001b[0m \u001b[32m━━━━━━━━━━━━━━━━━━━━\u001b[0m\u001b[37m\u001b[0m \u001b[1m0s\u001b[0m 906us/step - accuracy: 0.7794 - loss: 0.4661\n",
      "Epoch 205/250\n",
      "\u001b[1m77/77\u001b[0m \u001b[32m━━━━━━━━━━━━━━━━━━━━\u001b[0m\u001b[37m\u001b[0m \u001b[1m0s\u001b[0m 933us/step - accuracy: 0.7896 - loss: 0.4801\n",
      "Epoch 206/250\n",
      "\u001b[1m77/77\u001b[0m \u001b[32m━━━━━━━━━━━━━━━━━━━━\u001b[0m\u001b[37m\u001b[0m \u001b[1m0s\u001b[0m 885us/step - accuracy: 0.7936 - loss: 0.4623\n",
      "Epoch 207/250\n",
      "\u001b[1m77/77\u001b[0m \u001b[32m━━━━━━━━━━━━━━━━━━━━\u001b[0m\u001b[37m\u001b[0m \u001b[1m0s\u001b[0m 911us/step - accuracy: 0.7721 - loss: 0.4783\n",
      "Epoch 208/250\n",
      "\u001b[1m77/77\u001b[0m \u001b[32m━━━━━━━━━━━━━━━━━━━━\u001b[0m\u001b[37m\u001b[0m \u001b[1m0s\u001b[0m 901us/step - accuracy: 0.7945 - loss: 0.4549\n",
      "Epoch 209/250\n",
      "\u001b[1m77/77\u001b[0m \u001b[32m━━━━━━━━━━━━━━━━━━━━\u001b[0m\u001b[37m\u001b[0m \u001b[1m0s\u001b[0m 871us/step - accuracy: 0.7624 - loss: 0.4821\n",
      "Epoch 210/250\n",
      "\u001b[1m77/77\u001b[0m \u001b[32m━━━━━━━━━━━━━━━━━━━━\u001b[0m\u001b[37m\u001b[0m \u001b[1m0s\u001b[0m 1ms/step - accuracy: 0.7720 - loss: 0.4525\n",
      "Epoch 211/250\n",
      "\u001b[1m77/77\u001b[0m \u001b[32m━━━━━━━━━━━━━━━━━━━━\u001b[0m\u001b[37m\u001b[0m \u001b[1m0s\u001b[0m 890us/step - accuracy: 0.7559 - loss: 0.4888\n",
      "Epoch 212/250\n",
      "\u001b[1m77/77\u001b[0m \u001b[32m━━━━━━━━━━━━━━━━━━━━\u001b[0m\u001b[37m\u001b[0m \u001b[1m0s\u001b[0m 897us/step - accuracy: 0.7887 - loss: 0.4423\n",
      "Epoch 213/250\n",
      "\u001b[1m77/77\u001b[0m \u001b[32m━━━━━━━━━━━━━━━━━━━━\u001b[0m\u001b[37m\u001b[0m \u001b[1m0s\u001b[0m 947us/step - accuracy: 0.8012 - loss: 0.4473\n",
      "Epoch 214/250\n",
      "\u001b[1m77/77\u001b[0m \u001b[32m━━━━━━━━━━━━━━━━━━━━\u001b[0m\u001b[37m\u001b[0m \u001b[1m0s\u001b[0m 913us/step - accuracy: 0.8052 - loss: 0.4390\n",
      "Epoch 215/250\n",
      "\u001b[1m77/77\u001b[0m \u001b[32m━━━━━━━━━━━━━━━━━━━━\u001b[0m\u001b[37m\u001b[0m \u001b[1m0s\u001b[0m 881us/step - accuracy: 0.6955 - loss: 0.6241\n",
      "Epoch 216/250\n",
      "\u001b[1m77/77\u001b[0m \u001b[32m━━━━━━━━━━━━━━━━━━━━\u001b[0m\u001b[37m\u001b[0m \u001b[1m0s\u001b[0m 882us/step - accuracy: 0.7864 - loss: 0.4477\n",
      "Epoch 217/250\n",
      "\u001b[1m77/77\u001b[0m \u001b[32m━━━━━━━━━━━━━━━━━━━━\u001b[0m\u001b[37m\u001b[0m \u001b[1m0s\u001b[0m 878us/step - accuracy: 0.7767 - loss: 0.4629\n",
      "Epoch 218/250\n",
      "\u001b[1m77/77\u001b[0m \u001b[32m━━━━━━━━━━━━━━━━━━━━\u001b[0m\u001b[37m\u001b[0m \u001b[1m0s\u001b[0m 885us/step - accuracy: 0.7938 - loss: 0.4665\n",
      "Epoch 219/250\n",
      "\u001b[1m77/77\u001b[0m \u001b[32m━━━━━━━━━━━━━━━━━━━━\u001b[0m\u001b[37m\u001b[0m \u001b[1m0s\u001b[0m 886us/step - accuracy: 0.8103 - loss: 0.4508\n",
      "Epoch 220/250\n",
      "\u001b[1m77/77\u001b[0m \u001b[32m━━━━━━━━━━━━━━━━━━━━\u001b[0m\u001b[37m\u001b[0m \u001b[1m0s\u001b[0m 880us/step - accuracy: 0.8011 - loss: 0.4189\n",
      "Epoch 221/250\n",
      "\u001b[1m77/77\u001b[0m \u001b[32m━━━━━━━━━━━━━━━━━━━━\u001b[0m\u001b[37m\u001b[0m \u001b[1m0s\u001b[0m 907us/step - accuracy: 0.7588 - loss: 0.4894\n",
      "Epoch 222/250\n",
      "\u001b[1m77/77\u001b[0m \u001b[32m━━━━━━━━━━━━━━━━━━━━\u001b[0m\u001b[37m\u001b[0m \u001b[1m0s\u001b[0m 890us/step - accuracy: 0.7789 - loss: 0.4763\n",
      "Epoch 223/250\n",
      "\u001b[1m77/77\u001b[0m \u001b[32m━━━━━━━━━━━━━━━━━━━━\u001b[0m\u001b[37m\u001b[0m \u001b[1m0s\u001b[0m 1ms/step - accuracy: 0.7681 - loss: 0.4646\n",
      "Epoch 224/250\n",
      "\u001b[1m77/77\u001b[0m \u001b[32m━━━━━━━━━━━━━━━━━━━━\u001b[0m\u001b[37m\u001b[0m \u001b[1m0s\u001b[0m 876us/step - accuracy: 0.7808 - loss: 0.4621\n",
      "Epoch 225/250\n",
      "\u001b[1m77/77\u001b[0m \u001b[32m━━━━━━━━━━━━━━━━━━━━\u001b[0m\u001b[37m\u001b[0m \u001b[1m0s\u001b[0m 893us/step - accuracy: 0.7790 - loss: 0.4481\n",
      "Epoch 226/250\n",
      "\u001b[1m77/77\u001b[0m \u001b[32m━━━━━━━━━━━━━━━━━━━━\u001b[0m\u001b[37m\u001b[0m \u001b[1m0s\u001b[0m 928us/step - accuracy: 0.8013 - loss: 0.4392\n",
      "Epoch 227/250\n",
      "\u001b[1m77/77\u001b[0m \u001b[32m━━━━━━━━━━━━━━━━━━━━\u001b[0m\u001b[37m\u001b[0m \u001b[1m0s\u001b[0m 886us/step - accuracy: 0.7711 - loss: 0.4657\n",
      "Epoch 228/250\n",
      "\u001b[1m77/77\u001b[0m \u001b[32m━━━━━━━━━━━━━━━━━━━━\u001b[0m\u001b[37m\u001b[0m \u001b[1m0s\u001b[0m 863us/step - accuracy: 0.7918 - loss: 0.4880\n",
      "Epoch 229/250\n",
      "\u001b[1m77/77\u001b[0m \u001b[32m━━━━━━━━━━━━━━━━━━━━\u001b[0m\u001b[37m\u001b[0m \u001b[1m0s\u001b[0m 918us/step - accuracy: 0.7918 - loss: 0.4820\n",
      "Epoch 230/250\n",
      "\u001b[1m77/77\u001b[0m \u001b[32m━━━━━━━━━━━━━━━━━━━━\u001b[0m\u001b[37m\u001b[0m \u001b[1m0s\u001b[0m 877us/step - accuracy: 0.8008 - loss: 0.4573\n",
      "Epoch 231/250\n",
      "\u001b[1m77/77\u001b[0m \u001b[32m━━━━━━━━━━━━━━━━━━━━\u001b[0m\u001b[37m\u001b[0m \u001b[1m0s\u001b[0m 932us/step - accuracy: 0.7830 - loss: 0.4631\n",
      "Epoch 232/250\n",
      "\u001b[1m77/77\u001b[0m \u001b[32m━━━━━━━━━━━━━━━━━━━━\u001b[0m\u001b[37m\u001b[0m \u001b[1m0s\u001b[0m 895us/step - accuracy: 0.7676 - loss: 0.4614\n",
      "Epoch 233/250\n",
      "\u001b[1m77/77\u001b[0m \u001b[32m━━━━━━━━━━━━━━━━━━━━\u001b[0m\u001b[37m\u001b[0m \u001b[1m0s\u001b[0m 928us/step - accuracy: 0.7793 - loss: 0.4640\n",
      "Epoch 234/250\n",
      "\u001b[1m77/77\u001b[0m \u001b[32m━━━━━━━━━━━━━━━━━━━━\u001b[0m\u001b[37m\u001b[0m \u001b[1m0s\u001b[0m 885us/step - accuracy: 0.7788 - loss: 0.4794\n",
      "Epoch 235/250\n",
      "\u001b[1m77/77\u001b[0m \u001b[32m━━━━━━━━━━━━━━━━━━━━\u001b[0m\u001b[37m\u001b[0m \u001b[1m0s\u001b[0m 932us/step - accuracy: 0.7995 - loss: 0.4423\n",
      "Epoch 236/250\n",
      "\u001b[1m77/77\u001b[0m \u001b[32m━━━━━━━━━━━━━━━━━━━━\u001b[0m\u001b[37m\u001b[0m \u001b[1m0s\u001b[0m 909us/step - accuracy: 0.7919 - loss: 0.4536\n",
      "Epoch 237/250\n",
      "\u001b[1m77/77\u001b[0m \u001b[32m━━━━━━━━━━━━━━━━━━━━\u001b[0m\u001b[37m\u001b[0m \u001b[1m0s\u001b[0m 1ms/step - accuracy: 0.7710 - loss: 0.5135  \n",
      "Epoch 238/250\n",
      "\u001b[1m77/77\u001b[0m \u001b[32m━━━━━━━━━━━━━━━━━━━━\u001b[0m\u001b[37m\u001b[0m \u001b[1m0s\u001b[0m 916us/step - accuracy: 0.7996 - loss: 0.4344\n",
      "Epoch 239/250\n",
      "\u001b[1m77/77\u001b[0m \u001b[32m━━━━━━━━━━━━━━━━━━━━\u001b[0m\u001b[37m\u001b[0m \u001b[1m0s\u001b[0m 871us/step - accuracy: 0.7541 - loss: 0.5178\n",
      "Epoch 240/250\n",
      "\u001b[1m77/77\u001b[0m \u001b[32m━━━━━━━━━━━━━━━━━━━━\u001b[0m\u001b[37m\u001b[0m \u001b[1m0s\u001b[0m 884us/step - accuracy: 0.7402 - loss: 0.5014\n",
      "Epoch 241/250\n",
      "\u001b[1m77/77\u001b[0m \u001b[32m━━━━━━━━━━━━━━━━━━━━\u001b[0m\u001b[37m\u001b[0m \u001b[1m0s\u001b[0m 895us/step - accuracy: 0.7790 - loss: 0.4350\n",
      "Epoch 242/250\n",
      "\u001b[1m77/77\u001b[0m \u001b[32m━━━━━━━━━━━━━━━━━━━━\u001b[0m\u001b[37m\u001b[0m \u001b[1m0s\u001b[0m 879us/step - accuracy: 0.7974 - loss: 0.4357\n",
      "Epoch 243/250\n",
      "\u001b[1m77/77\u001b[0m \u001b[32m━━━━━━━━━━━━━━━━━━━━\u001b[0m\u001b[37m\u001b[0m \u001b[1m0s\u001b[0m 915us/step - accuracy: 0.7886 - loss: 0.4495\n",
      "Epoch 244/250\n",
      "\u001b[1m77/77\u001b[0m \u001b[32m━━━━━━━━━━━━━━━━━━━━\u001b[0m\u001b[37m\u001b[0m \u001b[1m0s\u001b[0m 868us/step - accuracy: 0.7624 - loss: 0.4592\n",
      "Epoch 245/250\n",
      "\u001b[1m77/77\u001b[0m \u001b[32m━━━━━━━━━━━━━━━━━━━━\u001b[0m\u001b[37m\u001b[0m \u001b[1m0s\u001b[0m 886us/step - accuracy: 0.7881 - loss: 0.4477\n",
      "Epoch 246/250\n",
      "\u001b[1m77/77\u001b[0m \u001b[32m━━━━━━━━━━━━━━━━━━━━\u001b[0m\u001b[37m\u001b[0m \u001b[1m0s\u001b[0m 877us/step - accuracy: 0.7592 - loss: 0.5222\n",
      "Epoch 247/250\n",
      "\u001b[1m77/77\u001b[0m \u001b[32m━━━━━━━━━━━━━━━━━━━━\u001b[0m\u001b[37m\u001b[0m \u001b[1m0s\u001b[0m 865us/step - accuracy: 0.7799 - loss: 0.4384\n",
      "Epoch 248/250\n",
      "\u001b[1m77/77\u001b[0m \u001b[32m━━━━━━━━━━━━━━━━━━━━\u001b[0m\u001b[37m\u001b[0m \u001b[1m0s\u001b[0m 922us/step - accuracy: 0.8119 - loss: 0.4309\n",
      "Epoch 249/250\n",
      "\u001b[1m77/77\u001b[0m \u001b[32m━━━━━━━━━━━━━━━━━━━━\u001b[0m\u001b[37m\u001b[0m \u001b[1m0s\u001b[0m 892us/step - accuracy: 0.7392 - loss: 0.4880\n",
      "Epoch 250/250\n",
      "\u001b[1m77/77\u001b[0m \u001b[32m━━━━━━━━━━━━━━━━━━━━\u001b[0m\u001b[37m\u001b[0m \u001b[1m0s\u001b[0m 1ms/step - accuracy: 0.8122 - loss: 0.4661  \n"
     ]
    },
    {
     "data": {
      "text/plain": [
       "<keras.src.callbacks.history.History at 0x179503a2d50>"
      ]
     },
     "execution_count": 18,
     "metadata": {},
     "output_type": "execute_result"
    }
   ],
   "source": [
    "# fit the keras model on the dataset\n",
    "model.fit(X_train, y_train, epochs=250, batch_size=8)"
   ]
  },
  {
   "cell_type": "code",
   "execution_count": 19,
   "metadata": {
    "colab": {
     "base_uri": "https://localhost:8080/",
     "height": 496
    },
    "executionInfo": {
     "elapsed": 13,
     "status": "ok",
     "timestamp": 1697473263664,
     "user": {
      "displayName": "Very Dwi Setiawan",
      "userId": "11914131847934024186"
     },
     "user_tz": -420
    },
    "id": "P65McJXWBJL8",
    "outputId": "e2efc6d8-a08c-45a8-9725-96fbb18e444c"
   },
   "outputs": [
    {
     "data": {
      "image/png": "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",
      "text/plain": [
       "<Figure size 800x500 with 1 Axes>"
      ]
     },
     "metadata": {},
     "output_type": "display_data"
    }
   ],
   "source": [
    "plt.figure(figsize=[8,5])\n",
    "plt.plot(model.history.history['accuracy'], 'r')\n",
    "plt.legend(['Training loss'])\n",
    "plt.xlabel('Epochs', fontsize=16)\n",
    "plt.ylabel('Accuracy', fontsize=16)\n",
    "plt.title('Accuracy Curves', fontsize=16)\n",
    "\n",
    "plt.show()"
   ]
  },
  {
   "cell_type": "markdown",
   "metadata": {
    "id": "11Y1bzM9BJL9"
   },
   "source": [
    "## Evaluate Model"
   ]
  },
  {
   "cell_type": "code",
   "execution_count": 20,
   "metadata": {
    "colab": {
     "base_uri": "https://localhost:8080/"
    },
    "executionInfo": {
     "elapsed": 693,
     "status": "ok",
     "timestamp": 1697473264352,
     "user": {
      "displayName": "Very Dwi Setiawan",
      "userId": "11914131847934024186"
     },
     "user_tz": -420
    },
    "id": "xLerT7zmBJL9",
    "outputId": "3c84518e-a721-4b84-fc1c-53d3fb60c395"
   },
   "outputs": [
    {
     "name": "stdout",
     "output_type": "stream",
     "text": [
      "Accuracy: 68.18\n"
     ]
    }
   ],
   "source": [
    "# evaluate the keras model\n",
    "_, accuracy = model.evaluate(X_test, y_test, verbose=False)\n",
    "print(f'Accuracy: {accuracy*100:.2f}')"
   ]
  },
  {
   "cell_type": "markdown",
   "metadata": {
    "id": "GjDDglSmBJL9"
   },
   "source": [
    "---"
   ]
  }
 ],
 "metadata": {
  "colab": {
   "provenance": []
  },
  "kernelspec": {
   "display_name": "base",
   "language": "python",
   "name": "python3"
  },
  "language_info": {
   "codemirror_mode": {
    "name": "ipython",
    "version": 3
   },
   "file_extension": ".py",
   "mimetype": "text/x-python",
   "name": "python",
   "nbconvert_exporter": "python",
   "pygments_lexer": "ipython3",
   "version": "3.12.7"
  }
 },
 "nbformat": 4,
 "nbformat_minor": 0
}
