{
 "cells": [
  {
   "cell_type": "raw",
   "id": "0deed3de-b3a9-45ff-aa77-c48dfb0ba733",
   "metadata": {},
   "source": [
    "================================================= NumPy ======================================================="
   ]
  },
  {
   "cell_type": "raw",
   "id": "2e453d9d-4211-48d7-8ee7-3dfcc4ea2281",
   "metadata": {},
   "source": []
  },
  {
   "cell_type": "raw",
   "id": "fc9090a7-6603-4a37-93e2-eaa9a789692d",
   "metadata": {},
   "source": [
    "Apa itu NumPy?\n",
    "    Numerical Python (NumPy) adalah library Python yang fokus pada pemenuhan kebutuhan Scientific Computing. Karenanya beberapa library berbasis NumPy sering digunakan oleh para Scientist seperti SciPy, AstroPy, PsycoPy, BioPython, SciPy dan sebagainya."
   ]
  },
  {
   "cell_type": "raw",
   "id": "b5b91944-55dd-4f85-9f34-78266f3c0705",
   "metadata": {},
   "source": [
    "Mengapa Menggunakan NumPy?\n",
    "1. NumPy memiliki array yang 50x lebih cepat daripada List pada Python\n",
    "2. Mengapa lebih cepat? karena Smarter memory allocation\n",
    "3. NumPy menjadi libary popular di bidang AI dan Data"
   ]
  },
  {
   "cell_type": "raw",
   "id": "3a5762e1-b386-4bfd-85af-078a5e681b5a",
   "metadata": {},
   "source": []
  },
  {
   "cell_type": "raw",
   "id": "4aef77d0-5861-4b3f-8631-bd7158f828a9",
   "metadata": {},
   "source": [
    "OUTLINE :\n",
    "1. NumPy Array\n",
    "2. NumPy Shape\n",
    "3. NumPy Operation\n",
    "4. NumPy Filter\n",
    "5. NumPy Random"
   ]
  }
 ],
 "metadata": {
  "kernelspec": {
   "display_name": "Python 3 (ipykernel)",
   "language": "python",
   "name": "python3"
  },
  "language_info": {
   "codemirror_mode": {
    "name": "ipython",
    "version": 3
   },
   "file_extension": ".py",
   "mimetype": "text/x-python",
   "name": "python",
   "nbconvert_exporter": "python",
   "pygments_lexer": "ipython3",
   "version": "3.12.7"
  }
 },
 "nbformat": 4,
 "nbformat_minor": 5
}
