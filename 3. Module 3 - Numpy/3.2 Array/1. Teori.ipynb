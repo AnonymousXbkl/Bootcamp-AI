{
 "cells": [
  {
   "cell_type": "markdown",
   "id": "ef5e83f0-b826-4c2c-b612-0d2ffd9005f6",
   "metadata": {},
   "source": [
    "### NumPy Array"
   ]
  },
  {
   "cell_type": "raw",
   "id": "eeba6e04-bcfb-49f7-be10-70f14c249e5d",
   "metadata": {},
   "source": [
    "    Berbeda dengan List pada Python, NumPy bekerja dengan tipe data array yang disebut ndarray. Kita bisa membuat array dengan menggunakan fungsi array[] pada NumPy."
   ]
  },
  {
   "cell_type": "raw",
   "id": "d1317791-dc46-42c8-8a62-aa213af70b4b",
   "metadata": {},
   "source": []
  },
  {
   "cell_type": "code",
   "execution_count": 3,
   "id": "b90a413d-20f3-4046-89a7-ac7475b6647b",
   "metadata": {},
   "outputs": [
    {
     "name": "stdout",
     "output_type": "stream",
     "text": [
      "[1 2 3 4 5]\n",
      "<class 'numpy.ndarray'>\n"
     ]
    }
   ],
   "source": [
    "#Membuat array\n",
    "import numpy as np\n",
    "\n",
    "arr = np.array([1, 2, 3, 4, 5])\n",
    "print(arr)\n",
    "print(type(arr))"
   ]
  },
  {
   "cell_type": "raw",
   "id": "320f726c-3626-4e88-a795-9a0a14e6b82a",
   "metadata": {},
   "source": []
  },
  {
   "cell_type": "raw",
   "id": "6ef9c425-b3ab-4682-835e-eeeee1011da7",
   "metadata": {},
   "source": []
  },
  {
   "cell_type": "markdown",
   "id": "aa3966f4-25dc-46df-b741-716aba6f4282",
   "metadata": {},
   "source": [
    "### Array Dimention"
   ]
  },
  {
   "cell_type": "raw",
   "id": "173db428-28e4-45a5-8fdf-c178bfe42784",
   "metadata": {},
   "source": [
    "    Array memiliki dimensi mulai dari 0 atau disebut juga dengan skalar, hingga tanpa batas (nested array)"
   ]
  },
  {
   "cell_type": "code",
   "execution_count": 6,
   "id": "9b0c66cb-731a-463a-8f46-62ee5562dd7b",
   "metadata": {},
   "outputs": [
    {
     "name": "stdout",
     "output_type": "stream",
     "text": [
      "42\n"
     ]
    }
   ],
   "source": [
    "# Membuat array 0 dimensi (0D)\n",
    "import numpy as np\n",
    "\n",
    "arr = np.array(42)\n",
    "print(arr)"
   ]
  },
  {
   "cell_type": "code",
   "execution_count": 7,
   "id": "6b22ca8b-6708-4660-9d46-e9486744d4fd",
   "metadata": {},
   "outputs": [
    {
     "name": "stdout",
     "output_type": "stream",
     "text": [
      "[1 2 3 4 5]\n"
     ]
    }
   ],
   "source": [
    "#Membuat array 1 dimensi (1D)\n",
    "import numpy as np\n",
    "\n",
    "arr = np.array([1, 2, 3, 4, 5])\n",
    "print(arr)"
   ]
  },
  {
   "cell_type": "code",
   "execution_count": 9,
   "id": "6f98bd97-cbfc-4426-9884-c516f80e3b42",
   "metadata": {},
   "outputs": [
    {
     "name": "stdout",
     "output_type": "stream",
     "text": [
      "[[1 2 3]\n",
      " [4 5 6]]\n"
     ]
    }
   ],
   "source": [
    "#Membuat array 2 dimensi (2D)\n",
    "import numpy as np\n",
    "\n",
    "arr = np.array([[1, 2, 3], [4, 5, 6]])\n",
    "print(arr)"
   ]
  },
  {
   "cell_type": "code",
   "execution_count": 11,
   "id": "33ea8eb2-24ad-4ace-9cf0-e4c4da3d6f84",
   "metadata": {},
   "outputs": [
    {
     "name": "stdout",
     "output_type": "stream",
     "text": [
      "[[[ 1  2  3]\n",
      "  [ 4  5  6]]\n",
      "\n",
      " [[ 7  8  9]\n",
      "  [10 11 12]]]\n"
     ]
    }
   ],
   "source": [
    "#Membuat array 3 dimensi (3D)\n",
    "import numpy as np\n",
    "\n",
    "arr = np.array([[[1, 2, 3], [4, 5, 6]], [[7, 8, 9], [10, 11, 12]]])\n",
    "print(arr)"
   ]
  },
  {
   "cell_type": "raw",
   "id": "5f9e6e6f-cfe9-40db-b831-34228240e2c1",
   "metadata": {},
   "source": []
  },
  {
   "cell_type": "raw",
   "id": "a0ef9e8a-bc72-4002-b65b-cd8e52df1091",
   "metadata": {},
   "source": []
  },
  {
   "cell_type": "markdown",
   "id": "dca327ab-7a6f-466e-a905-fdff3dbd2f11",
   "metadata": {},
   "source": [
    "### Array Indexing"
   ]
  },
  {
   "cell_type": "raw",
   "id": "aebe1195-4d7d-47d3-a184-f14a2776c038",
   "metadata": {},
   "source": [
    "    Kita bisa akses elemen-elemen yang berada di array dengan melakukan array indexing atau menampilkan berdasarkan posisi index dari elemen yang ada. Seperti biasa, index dimulai dari angka 0."
   ]
  },
  {
   "cell_type": "code",
   "execution_count": 25,
   "id": "658e9f2a-e510-4550-9a5c-e0b55c10aee9",
   "metadata": {},
   "outputs": [
    {
     "name": "stdout",
     "output_type": "stream",
     "text": [
      "3\n",
      "3\n",
      "9\n"
     ]
    }
   ],
   "source": [
    "#Mengakses array\n",
    "import numpy as np\n",
    "\n",
    "arr1 = np.array([1, 2, 3, 4, 5])\n",
    "arr2 = np.array([[1, 2, 3], [4, 5, 6]])\n",
    "arr3 = np.array([[[1, 2, 3], [4, 5, 6]], [[7, 8, 9], [10, 11, 12]]])\n",
    "print(arr1[2])\n",
    "print(arr2[0, 2])\n",
    "print(arr3[1, 0, 2])"
   ]
  },
  {
   "cell_type": "raw",
   "id": "7edec081-a350-4767-a86c-0d409b9cd578",
   "metadata": {},
   "source": []
  },
  {
   "cell_type": "markdown",
   "id": "9bd45341-5992-40d3-ae16-b2ad5920bae9",
   "metadata": {},
   "source": [
    "### Negative Indexing"
   ]
  },
  {
   "cell_type": "code",
   "execution_count": 26,
   "id": "e4d7ace7-6077-404e-aea2-b28d287288e1",
   "metadata": {},
   "outputs": [
    {
     "name": "stdout",
     "output_type": "stream",
     "text": [
      "4\n",
      "2\n",
      "8\n"
     ]
    }
   ],
   "source": [
    "#Mengakses array dengan indeks negative (dari belakang)\n",
    "import numpy as np\n",
    "\n",
    "arr1 = np.array([1, 2, 3, 4, 5])\n",
    "arr2 = np.array([[1, 2, 3], [4, 5, 6]])\n",
    "arr3 = np.array([[[1, 2, 3], [4, 5, 6]], [[7, 8, 9], [10, 11, 12]]])\n",
    "print(arr1[-2])\n",
    "print(arr2[0, -2])\n",
    "print(arr3[1, 0, -2])"
   ]
  },
  {
   "cell_type": "raw",
   "id": "317b009c-68c3-4d42-9efe-cc04c5c08e9a",
   "metadata": {},
   "source": []
  },
  {
   "cell_type": "markdown",
   "id": "b0706580-b378-4f6b-b11f-e6b761b36dfe",
   "metadata": {},
   "source": [
    "### Index Slicing"
   ]
  },
  {
   "cell_type": "code",
   "execution_count": 28,
   "id": "30f431ad-335e-406d-bc82-d04c2f204e4d",
   "metadata": {},
   "outputs": [
    {
     "name": "stdout",
     "output_type": "stream",
     "text": [
      "[2 3]\n"
     ]
    }
   ],
   "source": [
    "#Mengakses indeks sekaligus berdasarkan rentang yang ditentukan\n",
    "import numpy as np\n",
    "\n",
    "arr1 = np.array([1, 2, 3, 4, 5])\n",
    "print(arr1[1:3])     #ingat 1:3 berarti dimulai dari 1 dan batasnya 3 berarti yang didapat indeks ke 1 dan 2"
   ]
  },
  {
   "cell_type": "raw",
   "id": "9c2ba0c1-98c3-4c2d-be33-0656b61c9bc8",
   "metadata": {},
   "source": []
  },
  {
   "cell_type": "raw",
   "id": "4cc5eb0b-74a7-4f87-b1c0-96f315f2f73a",
   "metadata": {},
   "source": []
  },
  {
   "cell_type": "markdown",
   "id": "effa85eb-0335-4a48-84d7-fa4a593f0ac3",
   "metadata": {},
   "source": [
    "### Array DataType"
   ]
  },
  {
   "cell_type": "raw",
   "id": "bd2be4ba-2765-4fbc-9ff3-5a21fa4d4d42",
   "metadata": {},
   "source": [
    "    NumPy memiliki tipe data yang lebih banyak dari Python pada umumnya seperti integer, boolean, unisgned integer, float, timedelta, object, dan lain sebagainya."
   ]
  },
  {
   "cell_type": "code",
   "execution_count": 29,
   "id": "5fc6d769-ee49-4084-be24-c611a02ff666",
   "metadata": {},
   "outputs": [
    {
     "name": "stdout",
     "output_type": "stream",
     "text": [
      "int64\n"
     ]
    }
   ],
   "source": [
    "#Cek tipe data pada NumPy array\n",
    "import numpy as np\n",
    "\n",
    "arr = np.array([1, 2, 3, 4])\n",
    "print(arr.dtype)"
   ]
  },
  {
   "cell_type": "code",
   "execution_count": 30,
   "id": "4a44d208-ab1b-4c29-801a-54f4090e00c9",
   "metadata": {},
   "outputs": [
    {
     "name": "stdout",
     "output_type": "stream",
     "text": [
      "[b'1' b'2' b'3' b'4']\n",
      "|S1\n"
     ]
    }
   ],
   "source": [
    "#Kita juga bisa definisikan tipe data pada NumPy array\n",
    "import numpy as np\n",
    "\n",
    "arr = np.array([1, 2, 3, 4], dtype='S')\n",
    "print(arr)\n",
    "print(arr.dtype)"
   ]
  }
 ],
 "metadata": {
  "kernelspec": {
   "display_name": "Python 3 (ipykernel)",
   "language": "python",
   "name": "python3"
  },
  "language_info": {
   "codemirror_mode": {
    "name": "ipython",
    "version": 3
   },
   "file_extension": ".py",
   "mimetype": "text/x-python",
   "name": "python",
   "nbconvert_exporter": "python",
   "pygments_lexer": "ipython3",
   "version": "3.12.7"
  }
 },
 "nbformat": 4,
 "nbformat_minor": 5
}
