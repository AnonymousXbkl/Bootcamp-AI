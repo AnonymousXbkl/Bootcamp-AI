{
 "cells": [
  {
   "cell_type": "markdown",
   "id": "a90b812f",
   "metadata": {},
   "source": [
    "# Customization"
   ]
  },
  {
   "cell_type": "markdown",
   "id": "5b102a06",
   "metadata": {},
   "source": [
    "### Matplotlib Customization\n",
    "    Matplotlib pylot diperkaya dengan fitur kustomisaasi agar plotting yang dihasilkan bisa sesuait dengan preferensi. Kita bisa mengubah bentuk marker, ukuran marker, tipe line, color, dan lain sebagainya dengan cara yang mudah."
   ]
  },
  {
   "cell_type": "markdown",
   "id": "fc72373f",
   "metadata": {},
   "source": []
  }
 ],
 "metadata": {
  "language_info": {
   "name": "python"
  }
 },
 "nbformat": 4,
 "nbformat_minor": 5
}
