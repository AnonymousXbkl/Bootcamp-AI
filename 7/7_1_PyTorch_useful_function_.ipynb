{
 "cells": [
  {
   "cell_type": "markdown",
   "metadata": {
    "id": "jMSkWk9aZluS"
   },
   "source": [
    "# 1.1 PyTorch useful function\n",
    "\n",
    "### Syllabus\n",
    "1. torch.tensor\n",
    "2. torch math operation\n",
    "3. torch tensor grad\n",
    "4. torch documentation"
   ]
  },
  {
   "cell_type": "markdown",
   "metadata": {
    "id": "JHS2hLpIaFLo"
   },
   "source": [
    "## 1. torch.tensor"
   ]
  },
  {
   "cell_type": "code",
   "execution_count": 2,
   "metadata": {
    "colab": {
     "base_uri": "https://localhost:8080/"
    },
    "executionInfo": {
     "elapsed": 6371,
     "status": "ok",
     "timestamp": 1697473804684,
     "user": {
      "displayName": "Very Dwi Setiawan",
      "userId": "11914131847934024186"
     },
     "user_tz": -420
    },
    "id": "KvmEIzIeZdla",
    "outputId": "c10c093b-4eb1-4baf-cb70-ebf38a2f4213"
   },
   "outputs": [
    {
     "name": "stdout",
     "output_type": "stream",
     "text": [
      "2.7.0+cpu\n"
     ]
    }
   ],
   "source": [
    "import torch\n",
    "#version of pytorch\n",
    "print(torch.__version__)"
   ]
  },
  {
   "cell_type": "code",
   "execution_count": 3,
   "metadata": {
    "colab": {
     "base_uri": "https://localhost:8080/"
    },
    "executionInfo": {
     "elapsed": 10,
     "status": "ok",
     "timestamp": 1697473804685,
     "user": {
      "displayName": "Very Dwi Setiawan",
      "userId": "11914131847934024186"
     },
     "user_tz": -420
    },
    "id": "lwf7TnuQaOrB",
    "outputId": "140e84be-7f12-43e4-9f78-23d5841a2cd4"
   },
   "outputs": [
    {
     "name": "stdout",
     "output_type": "stream",
     "text": [
      "tensor(1)\n",
      "torch.int64\n",
      "torch.Size([])\n"
     ]
    }
   ],
   "source": [
    "a = torch.tensor(1) #you can specify the type of tensor by using this parameter dtype inside the declaration\n",
    "print(a)\n",
    "print(a.dtype)\n",
    "print(a.shape)"
   ]
  },
  {
   "cell_type": "code",
   "execution_count": 4,
   "metadata": {
    "colab": {
     "base_uri": "https://localhost:8080/"
    },
    "executionInfo": {
     "elapsed": 6,
     "status": "ok",
     "timestamp": 1697473804685,
     "user": {
      "displayName": "Very Dwi Setiawan",
      "userId": "11914131847934024186"
     },
     "user_tz": -420
    },
    "id": "-p0uqZDGaf58",
    "outputId": "b339be00-4bb7-43c5-e4df-1eafdbc0dbf0"
   },
   "outputs": [
    {
     "name": "stdout",
     "output_type": "stream",
     "text": [
      "tensor(7.5000)\n",
      "torch.float32\n",
      "torch.Size([])\n"
     ]
    }
   ],
   "source": [
    "b = torch.tensor(7.5)\n",
    "print(b)\n",
    "print(b.dtype)\n",
    "print(b.shape)"
   ]
  },
  {
   "cell_type": "code",
   "execution_count": 5,
   "metadata": {
    "colab": {
     "base_uri": "https://localhost:8080/"
    },
    "executionInfo": {
     "elapsed": 4,
     "status": "ok",
     "timestamp": 1697473804685,
     "user": {
      "displayName": "Very Dwi Setiawan",
      "userId": "11914131847934024186"
     },
     "user_tz": -420
    },
    "id": "1Bsf11Keas6B",
    "outputId": "fc697dc1-4b69-4b25-9270-0f3ed61242e8"
   },
   "outputs": [
    {
     "name": "stdout",
     "output_type": "stream",
     "text": [
      "tensor(16., dtype=torch.float16)\n",
      "torch.float16\n"
     ]
    }
   ],
   "source": [
    "#you can specify the type of tensor by using this parameter dtype inside the declaration\n",
    "c = torch.tensor(16, dtype=torch.float16)\n",
    "print(c)\n",
    "print(c.dtype)"
   ]
  },
  {
   "cell_type": "code",
   "execution_count": 6,
   "metadata": {
    "executionInfo": {
     "elapsed": 16,
     "status": "ok",
     "timestamp": 1697473805235,
     "user": {
      "displayName": "Very Dwi Setiawan",
      "userId": "11914131847934024186"
     },
     "user_tz": -420
    },
    "id": "-XPslQNsbIRT"
   },
   "outputs": [],
   "source": [
    "#you can pass list and tuple to tensor\n",
    "d = torch.tensor([[1,2,3],[4,5,6]])\n",
    "f = torch.tensor((7,3))"
   ]
  },
  {
   "cell_type": "code",
   "execution_count": 7,
   "metadata": {
    "colab": {
     "base_uri": "https://localhost:8080/"
    },
    "executionInfo": {
     "elapsed": 16,
     "status": "ok",
     "timestamp": 1697473805235,
     "user": {
      "displayName": "Very Dwi Setiawan",
      "userId": "11914131847934024186"
     },
     "user_tz": -420
    },
    "id": "Ln6m9V2ubh-a",
    "outputId": "72cbf1bb-ad29-4615-eece-8aaa365b9411"
   },
   "outputs": [
    {
     "name": "stdout",
     "output_type": "stream",
     "text": [
      "tensor([[1, 2, 3],\n",
      "        [4, 5, 6]]) torch.int64 torch.Size([2, 3])\n",
      "tensor([7, 3]) torch.int64 torch.Size([2])\n"
     ]
    }
   ],
   "source": [
    "print(d, d.dtype, d.shape)\n",
    "print(f, f.dtype, f.shape)"
   ]
  },
  {
   "cell_type": "code",
   "execution_count": 8,
   "metadata": {
    "colab": {
     "base_uri": "https://localhost:8080/"
    },
    "executionInfo": {
     "elapsed": 14,
     "status": "ok",
     "timestamp": 1697473805235,
     "user": {
      "displayName": "Very Dwi Setiawan",
      "userId": "11914131847934024186"
     },
     "user_tz": -420
    },
    "id": "nuYZZTF1brGS",
    "outputId": "960b0b2f-b096-4f87-ce3d-60605c9acc28"
   },
   "outputs": [
    {
     "name": "stdout",
     "output_type": "stream",
     "text": [
      "[[1 2 3 4]\n",
      " [5 6 7 8]] int64\n",
      "tensor([[1, 2, 3, 4],\n",
      "        [5, 6, 7, 8]]) torch.int64\n",
      "[[1 2 3 4]\n",
      " [5 6 7 8]] int64\n"
     ]
    }
   ],
   "source": [
    "#tensor and numpy\n",
    "import numpy as np\n",
    "\n",
    "x = np.array([[1,2,3,4],[5,6,7,8]])\n",
    "print(x, x.dtype)\n",
    "x = torch.tensor(x)\n",
    "print(x, x.dtype) #bagimana memasukan tensor yang tadinya disimpan di Memory berubah masuk di GPU Memory -> x.cuda() -> x.cpu() -> x.numpy() / x.cpu().numpy()\n",
    "x = x.numpy()\n",
    "print(x, x.dtype)"
   ]
  },
  {
   "cell_type": "markdown",
   "metadata": {
    "id": "EKxtT1NXcQoc"
   },
   "source": [
    "## 2. Torch Math Operation"
   ]
  },
  {
   "cell_type": "code",
   "execution_count": 9,
   "metadata": {
    "executionInfo": {
     "elapsed": 14,
     "status": "ok",
     "timestamp": 1697473805236,
     "user": {
      "displayName": "Very Dwi Setiawan",
      "userId": "11914131847934024186"
     },
     "user_tz": -420
    },
    "id": "e283au4IcK35"
   },
   "outputs": [],
   "source": [
    "a = torch.tensor([1,2,3,4])\n",
    "b = torch.tensor([2,3,4,5])"
   ]
  },
  {
   "cell_type": "code",
   "execution_count": 10,
   "metadata": {
    "colab": {
     "base_uri": "https://localhost:8080/"
    },
    "executionInfo": {
     "elapsed": 13,
     "status": "ok",
     "timestamp": 1697473805236,
     "user": {
      "displayName": "Very Dwi Setiawan",
      "userId": "11914131847934024186"
     },
     "user_tz": -420
    },
    "id": "t3NMQMXacjMx",
    "outputId": "c8140209-dcf9-4d50-f474-ff0743ff2ed6"
   },
   "outputs": [
    {
     "name": "stdout",
     "output_type": "stream",
     "text": [
      "add: torch tensor([3, 5, 7, 9]) regular tensor([3, 5, 7, 9])\n",
      "subtract: torch tensor([1, 1, 1, 1]) regular tensor([1, 1, 1, 1])\n",
      "multiply: torch tensor([ 2,  6, 12, 20]) regular tensor([ 2,  6, 12, 20])\n",
      "divide: torch tensor([2.0000, 1.5000, 1.3333, 1.2500]) regular tensor([2.0000, 1.5000, 1.3333, 1.2500])\n"
     ]
    }
   ],
   "source": [
    "#add\n",
    "print(f'add: torch {torch.add(a,b)} regular {a+b}')\n",
    "#subtract\n",
    "print(f'subtract: torch {torch.subtract(b,a)} regular {b-a}')\n",
    "#multiply\n",
    "print(f'multiply: torch {torch.mul(b,a)} regular {b*a}')\n",
    "#divide\n",
    "print(f'divide: torch {torch.divide(b,a)} regular {b/a}')"
   ]
  },
  {
   "cell_type": "code",
   "execution_count": 11,
   "metadata": {
    "colab": {
     "base_uri": "https://localhost:8080/"
    },
    "executionInfo": {
     "elapsed": 12,
     "status": "ok",
     "timestamp": 1697473805236,
     "user": {
      "displayName": "Very Dwi Setiawan",
      "userId": "11914131847934024186"
     },
     "user_tz": -420
    },
    "id": "aKSCkji8dQhi",
    "outputId": "26dc0db5-f108-4680-ad47-1b4795459002"
   },
   "outputs": [
    {
     "name": "stdout",
     "output_type": "stream",
     "text": [
      "sum 10\n",
      "average 2.5\n",
      "standar deviation 1.29099440574646\n"
     ]
    }
   ],
   "source": [
    "#sum\n",
    "print(f\"sum {torch.sum(a)}\")\n",
    "#average\n",
    "print(f\"average {torch.mean(a.float())}\") #need to convert from int to float so the average can be done\n",
    "#standar deviation\n",
    "print(f\"standar deviation {torch.std(a.float())}\")"
   ]
  },
  {
   "cell_type": "code",
   "execution_count": 12,
   "metadata": {
    "colab": {
     "base_uri": "https://localhost:8080/"
    },
    "executionInfo": {
     "elapsed": 11,
     "status": "ok",
     "timestamp": 1697473805236,
     "user": {
      "displayName": "Very Dwi Setiawan",
      "userId": "11914131847934024186"
     },
     "user_tz": -420
    },
    "id": "LRDSo_Oxdnfz",
    "outputId": "2e9751a8-b587-4a1f-baf6-f22bc78647e9"
   },
   "outputs": [
    {
     "name": "stdout",
     "output_type": "stream",
     "text": [
      "matmul torch tensor([[ 8, 12],\n",
      "        [12, 18]]) \n",
      " reguler tensor([[ 8, 12],\n",
      "        [12, 18]])\n"
     ]
    }
   ],
   "source": [
    "#matrix multiplication\n",
    "a = torch.tensor([[2,2],[3,3]])\n",
    "b = torch.tensor([[1,2],[3,4]])\n",
    "\n",
    "print(f\"matmul torch {torch.matmul(a,b)} \\n reguler {a@b}\")"
   ]
  },
  {
   "cell_type": "markdown",
   "metadata": {
    "id": "-TF4XevEfBth"
   },
   "source": [
    "## 3. torch tensor grad\n",
    "\n",
    "we are gonna make function\n",
    "y = 3x^2 + 3x^3 and we are gonna doing some derivatives -> dy/dx -> y' = 6x +9x^2\n",
    "\n",
    "for x = 3"
   ]
  },
  {
   "cell_type": "code",
   "execution_count": 13,
   "metadata": {
    "colab": {
     "base_uri": "https://localhost:8080/"
    },
    "executionInfo": {
     "elapsed": 10,
     "status": "ok",
     "timestamp": 1697473805236,
     "user": {
      "displayName": "Very Dwi Setiawan",
      "userId": "11914131847934024186"
     },
     "user_tz": -420
    },
    "id": "dzy8czHRe45W",
    "outputId": "504b6b22-6347-4481-f4c3-47570076f3cf"
   },
   "outputs": [
    {
     "name": "stdout",
     "output_type": "stream",
     "text": [
      "tensor(108., grad_fn=<AddBackward0>)\n",
      "dy/dx:  tensor(99.)\n"
     ]
    }
   ],
   "source": [
    "x = torch.tensor(3 , dtype=torch.float32, requires_grad=True)\n",
    "y = 3*x**2 +3*x**3\n",
    "print(y)\n",
    "y.backward()\n",
    "print(\"dy/dx: \",x.grad)"
   ]
  },
  {
   "cell_type": "markdown",
   "metadata": {
    "id": "2MjYqezBhIUZ"
   },
   "source": [
    "lets make it even more complicated\n",
    "lets do y = 3x^5 - 10w^4 + 8z and than print dy/dx, dy/dw, dy/dz\n",
    "dy/dx = 15x^4\n",
    "dy/dw = -40^3\n",
    "dy/dz = 8\n",
    "\n",
    "for x = 3, w = 1, z = 2"
   ]
  },
  {
   "cell_type": "code",
   "execution_count": 14,
   "metadata": {
    "colab": {
     "base_uri": "https://localhost:8080/"
    },
    "executionInfo": {
     "elapsed": 9,
     "status": "ok",
     "timestamp": 1697473805236,
     "user": {
      "displayName": "Very Dwi Setiawan",
      "userId": "11914131847934024186"
     },
     "user_tz": -420
    },
    "id": "tekgaixAfvON",
    "outputId": "02900165-56a7-484e-c073-0cb3a231138d"
   },
   "outputs": [
    {
     "name": "stdout",
     "output_type": "stream",
     "text": [
      "tensor(735., grad_fn=<AddBackward0>)\n",
      "dy/dx:  tensor(1215.)\n",
      "dy/dw:  tensor(-40.)\n",
      "dy/dz:  tensor(8.)\n"
     ]
    }
   ],
   "source": [
    "x = torch.tensor(3 , dtype=torch.float32, requires_grad=True)\n",
    "w = torch.tensor(1 , dtype=torch.float32, requires_grad=True)\n",
    "z = torch.tensor(2 , dtype=torch.float32, requires_grad=True)\n",
    "\n",
    "y = 3*x**5 - 10*w**4 + 8*z\n",
    "print(y)\n",
    "y.backward()\n",
    "print(\"dy/dx: \", x.grad)\n",
    "print(\"dy/dw: \", w.grad)\n",
    "print(\"dy/dz: \", z.grad)"
   ]
  },
  {
   "cell_type": "markdown",
   "metadata": {
    "id": "1MZFWdmyiQgy"
   },
   "source": [
    "## 4. Torch.documentations\n",
    "you can check the whole documentation of pytorch at https://pytorch.org/docs/stable/index.html"
   ]
  },
  {
   "cell_type": "code",
   "execution_count": null,
   "metadata": {
    "executionInfo": {
     "elapsed": 8,
     "status": "ok",
     "timestamp": 1697473805236,
     "user": {
      "displayName": "Very Dwi Setiawan",
      "userId": "11914131847934024186"
     },
     "user_tz": -420
    },
    "id": "ZWy1m1DNiDza"
   },
   "outputs": [],
   "source": []
  }
 ],
 "metadata": {
  "colab": {
   "provenance": []
  },
  "kernelspec": {
   "display_name": "base",
   "language": "python",
   "name": "python3"
  },
  "language_info": {
   "codemirror_mode": {
    "name": "ipython",
    "version": 3
   },
   "file_extension": ".py",
   "mimetype": "text/x-python",
   "name": "python",
   "nbconvert_exporter": "python",
   "pygments_lexer": "ipython3",
   "version": "3.12.7"
  }
 },
 "nbformat": 4,
 "nbformat_minor": 0
}
