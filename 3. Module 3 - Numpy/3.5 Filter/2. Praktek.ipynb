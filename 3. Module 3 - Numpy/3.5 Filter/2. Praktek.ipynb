{
 "cells": [
  {
   "cell_type": "markdown",
   "id": "62ce7fcf",
   "metadata": {},
   "source": [
    "# Praktek Filtering"
   ]
  },
  {
   "cell_type": "code",
   "execution_count": 1,
   "id": "6fed6d5e",
   "metadata": {},
   "outputs": [],
   "source": [
    "import numpy as np"
   ]
  },
  {
   "cell_type": "markdown",
   "id": "0e825db4",
   "metadata": {},
   "source": [
    "### Filter pada Array 1D"
   ]
  },
  {
   "cell_type": "code",
   "execution_count": null,
   "id": "154ae579",
   "metadata": {},
   "outputs": [
    {
     "name": "stdout",
     "output_type": "stream",
     "text": [
      "[41 43 45]\n"
     ]
    }
   ],
   "source": [
    "arr = np.array([41, 42, 43, 44, 45])\n",
    "x = [True, False, True, False, True]\n",
    "arr = arr[x]    # arr dimasukkan ke dalam x maka dia akan mengambil nilai True saja\n",
    "\n",
    "\n",
    "print(arr)    "
   ]
  },
  {
   "cell_type": "code",
   "execution_count": 11,
   "id": "5a87ebc3",
   "metadata": {},
   "outputs": [
    {
     "name": "stdout",
     "output_type": "stream",
     "text": [
      "[43 44 45]\n"
     ]
    }
   ],
   "source": [
    "arr = np.array([41, 42, 43, 44, 45])\n",
    "filter_array = arr > 42\n",
    "\n",
    "filter_array    # Sebenarnya hasilnya gini, jadi dia akan sesuai dengan requirement kita, karena > 42 maka hasilnya seperti pada output berdasarkan nilai arr yang kita input\n",
    "#Output: array([False, False,  True,  True,  True])\n",
    "\n",
    "\n",
    "# Nah ketika kita lempar jadi indeks ke dalam array, maka dia akan mengambil nilai True saja\n",
    "arr = arr[filter_array]\n",
    "print(arr)    # Hasilnya adalah 43, 44, 45"
   ]
  },
  {
   "cell_type": "markdown",
   "id": "6298bd8c",
   "metadata": {},
   "source": [
    "### Filter pada NumPy Array 1D menggunakan lebih dari 1 kondisi"
   ]
  },
  {
   "cell_type": "code",
   "execution_count": 12,
   "id": "5d5718ef",
   "metadata": {},
   "outputs": [
    {
     "name": "stdout",
     "output_type": "stream",
     "text": [
      "[ 6  8 10]\n"
     ]
    }
   ],
   "source": [
    "arr = np.array([1, 2, 3, 4, 5, 6, 7, 8, 9, 10])\n",
    "\n",
    "filter_array = (arr % 2 == 0) & (arr > 5)  # Menggunakan operator bitwise AND untuk menggabungkan dua kondisi\n",
    "arr = arr[filter_array]  # Menggunakan filter_array untuk memfilter elemen-elemen yang memenuhi kedua kondisi\n",
    "\n",
    "print(arr)"
   ]
  },
  {
   "cell_type": "markdown",
   "id": "d119e58a",
   "metadata": {},
   "source": [
    "### Filter pada NumPy Array 2D menggunakan lebih dari 1 kondisi"
   ]
  },
  {
   "cell_type": "code",
   "execution_count": 13,
   "id": "b0021961",
   "metadata": {},
   "outputs": [
    {
     "data": {
      "text/plain": [
       "(5, 2)"
      ]
     },
     "execution_count": 13,
     "metadata": {},
     "output_type": "execute_result"
    }
   ],
   "source": [
    "arr = np.array([[1, 'One'],\n",
    "                [2, 'Two'],\n",
    "                [3, 'Three'],\n",
    "                [4, 'Four'],\n",
    "                [5, 'Five']])\n",
    "arr.shape"
   ]
  },
  {
   "cell_type": "code",
   "execution_count": 17,
   "id": "94bb8451",
   "metadata": {},
   "outputs": [
    {
     "name": "stdout",
     "output_type": "stream",
     "text": [
      "[['2' 'Two']\n",
      " ['4' 'Four']]\n"
     ]
    }
   ],
   "source": [
    "filter_array = np.array(['Two', 'Four'])\n",
    "arr = arr[np.isin(arr[:, 1], filter_array)]  # Memfilter berdasarkan kolom kedua\n",
    "print(arr)"
   ]
  },
  {
   "cell_type": "code",
   "execution_count": null,
   "id": "b740e55b",
   "metadata": {},
   "outputs": [],
   "source": []
  }
 ],
 "metadata": {
  "kernelspec": {
   "display_name": "base",
   "language": "python",
   "name": "python3"
  },
  "language_info": {
   "codemirror_mode": {
    "name": "ipython",
    "version": 3
   },
   "file_extension": ".py",
   "mimetype": "text/x-python",
   "name": "python",
   "nbconvert_exporter": "python",
   "pygments_lexer": "ipython3",
   "version": "3.12.7"
  }
 },
 "nbformat": 4,
 "nbformat_minor": 5
}
