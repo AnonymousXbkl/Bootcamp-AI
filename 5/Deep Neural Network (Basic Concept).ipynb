{
 "cells": [
  {
   "cell_type": "code",
   "execution_count": 10,
   "metadata": {
    "id": "MNEQxQnCBJL1"
   },
   "outputs": [],
   "source": [
    "import numpy as np\n",
    "import pandas as pd\n",
    "import matplotlib.pyplot as plt\n",
    "import seaborn as sns\n",
    "\n",
    "from sklearn.model_selection import train_test_split\n",
    "\n",
    "from keras.models import Sequential\n",
    "from keras.layers import Dense"
   ]
  },
  {
   "cell_type": "code",
   "execution_count": 11,
   "metadata": {
    "colab": {
     "base_uri": "https://localhost:8080/"
    },
    "executionInfo": {
     "elapsed": 4,
     "status": "ok",
     "timestamp": 1697473086327,
     "user": {
      "displayName": "Very Dwi Setiawan",
      "userId": "11914131847934024186"
     },
     "user_tz": -420
    },
    "id": "lD_TMxofBJL3",
    "outputId": "6b24e64f-1a07-4b90-ef06-100a6e3a1800"
   },
   "outputs": [],
   "source": [
    "plt.style.use('seaborn-v0_8')"
   ]
  },
  {
   "cell_type": "code",
   "execution_count": 12,
   "metadata": {
    "colab": {
     "base_uri": "https://localhost:8080/"
    },
    "executionInfo": {
     "elapsed": 3378,
     "status": "ok",
     "timestamp": 1697473089702,
     "user": {
      "displayName": "Very Dwi Setiawan",
      "userId": "11914131847934024186"
     },
     "user_tz": -420
    },
    "id": "y_7znYbZC6-T",
    "outputId": "d6673789-1717-4535-d23e-785057e646f0"
   },
   "outputs": [],
   "source": [
    "# from google.colab import drive\n",
    "# drive.mount('/content/drive')"
   ]
  },
  {
   "cell_type": "markdown",
   "metadata": {
    "id": "1m5CtdDSBJL3"
   },
   "source": [
    "## Load Datasets"
   ]
  },
  {
   "cell_type": "code",
   "execution_count": 14,
   "metadata": {
    "colab": {
     "base_uri": "https://localhost:8080/",
     "height": 206
    },
    "executionInfo": {
     "elapsed": 25,
     "status": "ok",
     "timestamp": 1697473089702,
     "user": {
      "displayName": "Very Dwi Setiawan",
      "userId": "11914131847934024186"
     },
     "user_tz": -420
    },
    "id": "Mle-KzmOBJL4",
    "outputId": "bc5c8f5e-70f2-4cbf-d41d-d72a45618001"
   },
   "outputs": [
    {
     "data": {
      "text/html": [
       "<div>\n",
       "<style scoped>\n",
       "    .dataframe tbody tr th:only-of-type {\n",
       "        vertical-align: middle;\n",
       "    }\n",
       "\n",
       "    .dataframe tbody tr th {\n",
       "        vertical-align: top;\n",
       "    }\n",
       "\n",
       "    .dataframe thead th {\n",
       "        text-align: right;\n",
       "    }\n",
       "</style>\n",
       "<table border=\"1\" class=\"dataframe\">\n",
       "  <thead>\n",
       "    <tr style=\"text-align: right;\">\n",
       "      <th></th>\n",
       "      <th>preg_times</th>\n",
       "      <th>glucose</th>\n",
       "      <th>blood_press</th>\n",
       "      <th>skin_thickness</th>\n",
       "      <th>insulin</th>\n",
       "      <th>BMI</th>\n",
       "      <th>pedigree</th>\n",
       "      <th>age</th>\n",
       "      <th>class</th>\n",
       "    </tr>\n",
       "  </thead>\n",
       "  <tbody>\n",
       "    <tr>\n",
       "      <th>0</th>\n",
       "      <td>6</td>\n",
       "      <td>148</td>\n",
       "      <td>72</td>\n",
       "      <td>35</td>\n",
       "      <td>0</td>\n",
       "      <td>33.6</td>\n",
       "      <td>0.627</td>\n",
       "      <td>50</td>\n",
       "      <td>1</td>\n",
       "    </tr>\n",
       "    <tr>\n",
       "      <th>1</th>\n",
       "      <td>1</td>\n",
       "      <td>85</td>\n",
       "      <td>66</td>\n",
       "      <td>29</td>\n",
       "      <td>0</td>\n",
       "      <td>26.6</td>\n",
       "      <td>0.351</td>\n",
       "      <td>31</td>\n",
       "      <td>0</td>\n",
       "    </tr>\n",
       "    <tr>\n",
       "      <th>2</th>\n",
       "      <td>8</td>\n",
       "      <td>183</td>\n",
       "      <td>64</td>\n",
       "      <td>0</td>\n",
       "      <td>0</td>\n",
       "      <td>23.3</td>\n",
       "      <td>0.672</td>\n",
       "      <td>32</td>\n",
       "      <td>1</td>\n",
       "    </tr>\n",
       "    <tr>\n",
       "      <th>3</th>\n",
       "      <td>1</td>\n",
       "      <td>89</td>\n",
       "      <td>66</td>\n",
       "      <td>23</td>\n",
       "      <td>94</td>\n",
       "      <td>28.1</td>\n",
       "      <td>0.167</td>\n",
       "      <td>21</td>\n",
       "      <td>0</td>\n",
       "    </tr>\n",
       "    <tr>\n",
       "      <th>4</th>\n",
       "      <td>0</td>\n",
       "      <td>137</td>\n",
       "      <td>40</td>\n",
       "      <td>35</td>\n",
       "      <td>168</td>\n",
       "      <td>43.1</td>\n",
       "      <td>2.288</td>\n",
       "      <td>33</td>\n",
       "      <td>1</td>\n",
       "    </tr>\n",
       "  </tbody>\n",
       "</table>\n",
       "</div>"
      ],
      "text/plain": [
       "   preg_times  glucose  blood_press  skin_thickness  insulin   BMI  pedigree  \\\n",
       "0           6      148           72              35        0  33.6     0.627   \n",
       "1           1       85           66              29        0  26.6     0.351   \n",
       "2           8      183           64               0        0  23.3     0.672   \n",
       "3           1       89           66              23       94  28.1     0.167   \n",
       "4           0      137           40              35      168  43.1     2.288   \n",
       "\n",
       "   age  class  \n",
       "0   50      1  \n",
       "1   31      0  \n",
       "2   32      1  \n",
       "3   21      0  \n",
       "4   33      1  "
      ]
     },
     "execution_count": 14,
     "metadata": {},
     "output_type": "execute_result"
    }
   ],
   "source": [
    "df_diabetes = pd.read_csv('./pima_diabetes.csv', names=['preg_times', 'glucose', 'blood_press', 'skin_thickness', 'insulin', 'BMI', 'pedigree', 'age', 'class'])\n",
    "df_diabetes.head()"
   ]
  },
  {
   "cell_type": "code",
   "execution_count": null,
   "metadata": {
    "colab": {
     "base_uri": "https://localhost:8080/"
    },
    "executionInfo": {
     "elapsed": 21,
     "status": "ok",
     "timestamp": 1697473089702,
     "user": {
      "displayName": "Very Dwi Setiawan",
      "userId": "11914131847934024186"
     },
     "user_tz": -420
    },
    "id": "cD_AR1M3BJL5",
    "outputId": "50eb2caf-2d8a-4ca7-83dc-4c021b6da769"
   },
   "outputs": [
    {
     "name": "stdout",
     "output_type": "stream",
     "text": [
      "Total data: 768\n",
      "Total features: 9\n"
     ]
    }
   ],
   "source": [
    "print('Total data:', df_diabetes.shape[0])\n",
    "print('Total features:', df_diabetes.shape[1])"
   ]
  },
  {
   "cell_type": "code",
   "execution_count": 15,
   "metadata": {
    "colab": {
     "base_uri": "https://localhost:8080/",
     "height": 711
    },
    "executionInfo": {
     "elapsed": 19,
     "status": "ok",
     "timestamp": 1697473089703,
     "user": {
      "displayName": "Very Dwi Setiawan",
      "userId": "11914131847934024186"
     },
     "user_tz": -420
    },
    "id": "V4jIKBe1BJL6",
    "outputId": "d4b754f9-4da6-439b-a859-82be36b1e6e5"
   },
   "outputs": [
    {
     "data": {
      "text/plain": [
       "<Axes: xlabel='age', ylabel='Count'>"
      ]
     },
     "execution_count": 15,
     "metadata": {},
     "output_type": "execute_result"
    },
    {
     "data": {
      "image/png": "[encoded data removed]",
      "text/plain": [
       "<Figure size 800x550 with 1 Axes>"
      ]
     },
     "metadata": {},
     "output_type": "display_data"
    }
   ],
   "source": [
    "sns.histplot(df_diabetes['age'])"
   ]
  },
  {
   "cell_type": "code",
   "execution_count": null,
   "metadata": {
    "colab": {
     "base_uri": "https://localhost:8080/",
     "height": 300
    },
    "executionInfo": {
     "elapsed": 15,
     "status": "ok",
     "timestamp": 1697473089703,
     "user": {
      "displayName": "Very Dwi Setiawan",
      "userId": "11914131847934024186"
     },
     "user_tz": -420
    },
    "id": "o40C22LXBJL6",
    "outputId": "36c4ae11-0740-40da-9d6a-78b74507a8d4"
   },
   "outputs": [
    {
     "data": {
      "text/html": [
       "\n",
       "  <div id=\"df-3809b568-d092-4460-aa71-e32df19e6dd7\" class=\"colab-df-container\">\n",
       "    <div>\n",
       "<style scoped>\n",
       "    .dataframe tbody tr th:only-of-type {\n",
       "        vertical-align: middle;\n",
       "    }\n",
       "\n",
       "    .dataframe tbody tr th {\n",
       "        vertical-align: top;\n",
       "    }\n",
       "\n",
       "    .dataframe thead th {\n",
       "        text-align: right;\n",
       "    }\n",
       "</style>\n",
       "<table border=\"1\" class=\"dataframe\">\n",
       "  <thead>\n",
       "    <tr style=\"text-align: right;\">\n",
       "      <th></th>\n",
       "      <th>preg_times</th>\n",
       "      <th>glucose</th>\n",
       "      <th>blood_press</th>\n",
       "      <th>skin_thickness</th>\n",
       "      <th>insulin</th>\n",
       "      <th>BMI</th>\n",
       "      <th>pedigree</th>\n",
       "      <th>age</th>\n",
       "      <th>class</th>\n",
       "    </tr>\n",
       "  </thead>\n",
       "  <tbody>\n",
       "    <tr>\n",
       "      <th>count</th>\n",
       "      <td>768.000000</td>\n",
       "      <td>768.000000</td>\n",
       "      <td>768.000000</td>\n",
       "      <td>768.000000</td>\n",
       "      <td>768.000000</td>\n",
       "      <td>768.000000</td>\n",
       "      <td>768.000000</td>\n",
       "      <td>768.000000</td>\n",
       "      <td>768.000000</td>\n",
       "    </tr>\n",
       "    <tr>\n",
       "      <th>mean</th>\n",
       "      <td>3.845052</td>\n",
       "      <td>120.894531</td>\n",
       "      <td>69.105469</td>\n",
       "      <td>20.536458</td>\n",
       "      <td>79.799479</td>\n",
       "      <td>31.992578</td>\n",
       "      <td>0.471876</td>\n",
       "      <td>33.240885</td>\n",
       "      <td>0.348958</td>\n",
       "    </tr>\n",
       "    <tr>\n",
       "      <th>std</th>\n",
       "      <td>3.369578</td>\n",
       "      <td>31.972618</td>\n",
       "      <td>19.355807</td>\n",
       "      <td>15.952218</td>\n",
       "      <td>115.244002</td>\n",
       "      <td>7.884160</td>\n",
       "      <td>0.331329</td>\n",
       "      <td>11.760232</td>\n",
       "      <td>0.476951</td>\n",
       "    </tr>\n",
       "    <tr>\n",
       "      <th>min</th>\n",
       "      <td>0.000000</td>\n",
       "      <td>0.000000</td>\n",
       "      <td>0.000000</td>\n",
       "      <td>0.000000</td>\n",
       "      <td>0.000000</td>\n",
       "      <td>0.000000</td>\n",
       "      <td>0.078000</td>\n",
       "      <td>21.000000</td>\n",
       "      <td>0.000000</td>\n",
       "    </tr>\n",
       "    <tr>\n",
       "      <th>25%</th>\n",
       "      <td>1.000000</td>\n",
       "      <td>99.000000</td>\n",
       "      <td>62.000000</td>\n",
       "      <td>0.000000</td>\n",
       "      <td>0.000000</td>\n",
       "      <td>27.300000</td>\n",
       "      <td>0.243750</td>\n",
       "      <td>24.000000</td>\n",
       "      <td>0.000000</td>\n",
       "    </tr>\n",
       "    <tr>\n",
       "      <th>50%</th>\n",
       "      <td>3.000000</td>\n",
       "      <td>117.000000</td>\n",
       "      <td>72.000000</td>\n",
       "      <td>23.000000</td>\n",
       "      <td>30.500000</td>\n",
       "      <td>32.000000</td>\n",
       "      <td>0.372500</td>\n",
       "      <td>29.000000</td>\n",
       "      <td>0.000000</td>\n",
       "    </tr>\n",
       "    <tr>\n",
       "      <th>75%</th>\n",
       "      <td>6.000000</td>\n",
       "      <td>140.250000</td>\n",
       "      <td>80.000000</td>\n",
       "      <td>32.000000</td>\n",
       "      <td>127.250000</td>\n",
       "      <td>36.600000</td>\n",
       "      <td>0.626250</td>\n",
       "      <td>41.000000</td>\n",
       "      <td>1.000000</td>\n",
       "    </tr>\n",
       "    <tr>\n",
       "      <th>max</th>\n",
       "      <td>17.000000</td>\n",
       "      <td>199.000000</td>\n",
       "      <td>122.000000</td>\n",
       "      <td>99.000000</td>\n",
       "      <td>846.000000</td>\n",
       "      <td>67.100000</td>\n",
       "      <td>2.420000</td>\n",
       "      <td>81.000000</td>\n",
       "      <td>1.000000</td>\n",
       "    </tr>\n",
       "  </tbody>\n",
       "</table>\n",
       "</div>\n",
       "    <div class=\"colab-df-buttons\">\n",
       "\n",
       "  <div class=\"colab-df-container\">\n",
       "    <button class=\"colab-df-convert\" onclick=\"convertToInteractive('df-3809b568-d092-4460-aa71-e32df19e6dd7')\"\n",
       "            title=\"Convert this dataframe to an interactive table.\"\n",
       "            style=\"display:none;\">\n",
       "\n",
       "  <svg xmlns=\"http://www.w3.org/2000/svg\" height=\"24px\" viewBox=\"0 -960 960 960\">\n",
       "    <path d=\"M120-120v-720h720v720H120Zm60-500h600v-160H180v160Zm220 220h160v-160H400v160Zm0 220h160v-160H400v160ZM180-400h160v-160H180v160Zm440 0h160v-160H620v160ZM180-180h160v-160H180v160Zm440 0h160v-160H620v160Z\"/>\n",
       "  </svg>\n",
       "    </button>\n",
       "\n",
       "  <style>\n",
       "    .colab-df-container {\n",
       "      display:flex;\n",
       "      gap: 12px;\n",
       "    }\n",
       "\n",
       "    .colab-df-convert {\n",
       "      background-color: #E8F0FE;\n",
       "      border: none;\n",
       "      border-radius: 50%;\n",
       "      cursor: pointer;\n",
       "      display: none;\n",
       "      fill: #1967D2;\n",
       "      height: 32px;\n",
       "      padding: 0 0 0 0;\n",
       "      width: 32px;\n",
       "    }\n",
       "\n",
       "    .colab-df-convert:hover {\n",
       "      background-color: #E2EBFA;\n",
       "      box-shadow: 0px 1px 2px rgba(60, 64, 67, 0.3), 0px 1px 3px 1px rgba(60, 64, 67, 0.15);\n",
       "      fill: #174EA6;\n",
       "    }\n",
       "\n",
       "    .colab-df-buttons div {\n",
       "      margin-bottom: 4px;\n",
       "    }\n",
       "\n",
       "    [theme=dark] .colab-df-convert {\n",
       "      background-color: #3B4455;\n",
       "      fill: #D2E3FC;\n",
       "    }\n",
       "\n",
       "    [theme=dark] .colab-df-convert:hover {\n",
       "      background-color: #434B5C;\n",
       "      box-shadow: 0px 1px 3px 1px rgba(0, 0, 0, 0.15);\n",
       "      filter: drop-shadow(0px 1px 2px rgba(0, 0, 0, 0.3));\n",
       "      fill: #FFFFFF;\n",
       "    }\n",
       "  </style>\n",
       "\n",
       "    <script>\n",
       "      const buttonEl =\n",
       "        document.querySelector('#df-3809b568-d092-4460-aa71-e32df19e6dd7 button.colab-df-convert');\n",
       "      buttonEl.style.display =\n",
       "        google.colab.kernel.accessAllowed ? 'block' : 'none';\n",
       "\n",
       "      async function convertToInteractive(key) {\n",
       "        const element = document.querySelector('#df-3809b568-d092-4460-aa71-e32df19e6dd7');\n",
       "        const dataTable =\n",
       "          await google.colab.kernel.invokeFunction('convertToInteractive',\n",
       "                                                    [key], {});\n",
       "        if (!dataTable) return;\n",
       "\n",
       "        const docLinkHtml = 'Like what you see? Visit the ' +\n",
       "          '<a target=\"_blank\" href=https://colab.research.google.com/notebooks/data_table.ipynb>data table notebook</a>'\n",
       "          + ' to learn more about interactive tables.';\n",
       "        element.innerHTML = '';\n",
       "        dataTable['output_type'] = 'display_data';\n",
       "        await google.colab.output.renderOutput(dataTable, element);\n",
       "        const docLink = document.createElement('div');\n",
       "        docLink.innerHTML = docLinkHtml;\n",
       "        element.appendChild(docLink);\n",
       "      }\n",
       "    </script>\n",
       "  </div>\n",
       "\n",
       "\n",
       "<div id=\"df-1f01ba47-dc29-4e98-8000-613f15e3a25d\">\n",
       "  <button class=\"colab-df-quickchart\" onclick=\"quickchart('df-1f01ba47-dc29-4e98-8000-613f15e3a25d')\"\n",
       "            title=\"Suggest charts.\"\n",
       "            style=\"display:none;\">\n",
       "\n",
       "<svg xmlns=\"http://www.w3.org/2000/svg\" height=\"24px\"viewBox=\"0 0 24 24\"\n",
       "     width=\"24px\">\n",
       "    <g>\n",
       "        <path d=\"M19 3H5c-1.1 0-2 .9-2 2v14c0 1.1.9 2 2 2h14c1.1 0 2-.9 2-2V5c0-1.1-.9-2-2-2zM9 17H7v-7h2v7zm4 0h-2V7h2v10zm4 0h-2v-4h2v4z\"/>\n",
       "    </g>\n",
       "</svg>\n",
       "  </button>\n",
       "\n",
       "<style>\n",
       "  .colab-df-quickchart {\n",
       "      --bg-color: #E8F0FE;\n",
       "      --fill-color: #1967D2;\n",
       "      --hover-bg-color: #E2EBFA;\n",
       "      --hover-fill-color: #174EA6;\n",
       "      --disabled-fill-color: #AAA;\n",
       "      --disabled-bg-color: #DDD;\n",
       "  }\n",
       "\n",
       "  [theme=dark] .colab-df-quickchart {\n",
       "      --bg-color: #3B4455;\n",
       "      --fill-color: #D2E3FC;\n",
       "      --hover-bg-color: #434B5C;\n",
       "      --hover-fill-color: #FFFFFF;\n",
       "      --disabled-bg-color: #3B4455;\n",
       "      --disabled-fill-color: #666;\n",
       "  }\n",
       "\n",
       "  .colab-df-quickchart {\n",
       "    background-color: var(--bg-color);\n",
       "    border: none;\n",
       "    border-radius: 50%;\n",
       "    cursor: pointer;\n",
       "    display: none;\n",
       "    fill: var(--fill-color);\n",
       "    height: 32px;\n",
       "    padding: 0;\n",
       "    width: 32px;\n",
       "  }\n",
       "\n",
       "  .colab-df-quickchart:hover {\n",
       "    background-color: var(--hover-bg-color);\n",
       "    box-shadow: 0 1px 2px rgba(60, 64, 67, 0.3), 0 1px 3px 1px rgba(60, 64, 67, 0.15);\n",
       "    fill: var(--button-hover-fill-color);\n",
       "  }\n",
       "\n",
       "  .colab-df-quickchart-complete:disabled,\n",
       "  .colab-df-quickchart-complete:disabled:hover {\n",
       "    background-color: var(--disabled-bg-color);\n",
       "    fill: var(--disabled-fill-color);\n",
       "    box-shadow: none;\n",
       "  }\n",
       "\n",
       "  .colab-df-spinner {\n",
       "    border: 2px solid var(--fill-color);\n",
       "    border-color: transparent;\n",
       "    border-bottom-color: var(--fill-color);\n",
       "    animation:\n",
       "      spin 1s steps(1) infinite;\n",
       "  }\n",
       "\n",
       "  @keyframes spin {\n",
       "    0% {\n",
       "      border-color: transparent;\n",
       "      border-bottom-color: var(--fill-color);\n",
       "      border-left-color: var(--fill-color);\n",
       "    }\n",
       "    20% {\n",
       "      border-color: transparent;\n",
       "      border-left-color: var(--fill-color);\n",
       "      border-top-color: var(--fill-color);\n",
       "    }\n",
       "    30% {\n",
       "      border-color: transparent;\n",
       "      border-left-color: var(--fill-color);\n",
       "      border-top-color: var(--fill-color);\n",
       "      border-right-color: var(--fill-color);\n",
       "    }\n",
       "    40% {\n",
       "      border-color: transparent;\n",
       "      border-right-color: var(--fill-color);\n",
       "      border-top-color: var(--fill-color);\n",
       "    }\n",
       "    60% {\n",
       "      border-color: transparent;\n",
       "      border-right-color: var(--fill-color);\n",
       "    }\n",
       "    80% {\n",
       "      border-color: transparent;\n",
       "      border-right-color: var(--fill-color);\n",
       "      border-bottom-color: var(--fill-color);\n",
       "    }\n",
       "    90% {\n",
       "      border-color: transparent;\n",
       "      border-bottom-color: var(--fill-color);\n",
       "    }\n",
       "  }\n",
       "</style>\n",
       "\n",
       "  <script>\n",
       "    async function quickchart(key) {\n",
       "      const quickchartButtonEl =\n",
       "        document.querySelector('#' + key + ' button');\n",
       "      quickchartButtonEl.disabled = true;  // To prevent multiple clicks.\n",
       "      quickchartButtonEl.classList.add('colab-df-spinner');\n",
       "      try {\n",
       "        const charts = await google.colab.kernel.invokeFunction(\n",
       "            'suggestCharts', [key], {});\n",
       "      } catch (error) {\n",
       "        console.error('Error during call to suggestCharts:', error);\n",
       "      }\n",
       "      quickchartButtonEl.classList.remove('colab-df-spinner');\n",
       "      quickchartButtonEl.classList.add('colab-df-quickchart-complete');\n",
       "    }\n",
       "    (() => {\n",
       "      let quickchartButtonEl =\n",
       "        document.querySelector('#df-1f01ba47-dc29-4e98-8000-613f15e3a25d button');\n",
       "      quickchartButtonEl.style.display =\n",
       "        google.colab.kernel.accessAllowed ? 'block' : 'none';\n",
       "    })();\n",
       "  </script>\n",
       "</div>\n",
       "    </div>\n",
       "  </div>\n"
      ],
      "text/plain": [
       "       preg_times     glucose  blood_press  skin_thickness     insulin  \\\n",
       "count  768.000000  768.000000   768.000000      768.000000  768.000000   \n",
       "mean     3.845052  120.894531    69.105469       20.536458   79.799479   \n",
       "std      3.369578   31.972618    19.355807       15.952218  115.244002   \n",
       "min      0.000000    0.000000     0.000000        0.000000    0.000000   \n",
       "25%      1.000000   99.000000    62.000000        0.000000    0.000000   \n",
       "50%      3.000000  117.000000    72.000000       23.000000   30.500000   \n",
       "75%      6.000000  140.250000    80.000000       32.000000  127.250000   \n",
       "max     17.000000  199.000000   122.000000       99.000000  846.000000   \n",
       "\n",
       "              BMI    pedigree         age       class  \n",
       "count  768.000000  768.000000  768.000000  768.000000  \n",
       "mean    31.992578    0.471876   33.240885    0.348958  \n",
       "std      7.884160    0.331329   11.760232    0.476951  \n",
       "min      0.000000    0.078000   21.000000    0.000000  \n",
       "25%     27.300000    0.243750   24.000000    0.000000  \n",
       "50%     32.000000    0.372500   29.000000    0.000000  \n",
       "75%     36.600000    0.626250   41.000000    1.000000  \n",
       "max     67.100000    2.420000   81.000000    1.000000  "
      ]
     },
     "execution_count": 17,
     "metadata": {},
     "output_type": "execute_result"
    }
   ],
   "source": [
    "df_diabetes.describe()"
   ]
  },
  {
   "cell_type": "markdown",
   "metadata": {
    "id": "Wf8X4uaRBJL6"
   },
   "source": [
    "## Split Datasets"
   ]
  },
  {
   "cell_type": "code",
   "execution_count": null,
   "metadata": {
    "id": "ZTapUd0hBJL6"
   },
   "outputs": [],
   "source": [
    "features = df_diabetes.values[:,:8]"
   ]
  },
  {
   "cell_type": "code",
   "execution_count": null,
   "metadata": {
    "colab": {
     "base_uri": "https://localhost:8080/"
    },
    "executionInfo": {
     "elapsed": 2,
     "status": "ok",
     "timestamp": 1697473152940,
     "user": {
      "displayName": "Very Dwi Setiawan",
      "userId": "11914131847934024186"
     },
     "user_tz": -420
    },
    "id": "el5PbAWJDgFC",
    "outputId": "59d92893-b92f-460d-8396-4bf8811eff30"
   },
   "outputs": [
    {
     "name": "stdout",
     "output_type": "stream",
     "text": [
      "[[  6.    148.     72.    ...  33.6     0.627  50.   ]\n",
      " [  1.     85.     66.    ...  26.6     0.351  31.   ]\n",
      " [  8.    183.     64.    ...  23.3     0.672  32.   ]\n",
      " ...\n",
      " [  5.    121.     72.    ...  26.2     0.245  30.   ]\n",
      " [  1.    126.     60.    ...  30.1     0.349  47.   ]\n",
      " [  1.     93.     70.    ...  30.4     0.315  23.   ]]\n"
     ]
    }
   ],
   "source": [
    "print(features)"
   ]
  },
  {
   "cell_type": "code",
   "execution_count": null,
   "metadata": {
    "id": "6CcRKcAWBJL6"
   },
   "outputs": [],
   "source": [
    "labels = df_diabetes.values[:,8:]"
   ]
  },
  {
   "cell_type": "code",
   "execution_count": null,
   "metadata": {
    "id": "QYim7x_bBJL7"
   },
   "outputs": [],
   "source": [
    "X_train, X_test, y_train, y_test = train_test_split(features, labels, test_size=0.2, random_state=20)"
   ]
  },
  {
   "cell_type": "markdown",
   "metadata": {
    "id": "k_eh99NTBJL7"
   },
   "source": [
    "## Define Model"
   ]
  },
  {
   "cell_type": "code",
   "execution_count": null,
   "metadata": {
    "id": "P6wwiKvgBJL7"
   },
   "outputs": [],
   "source": [
    "# define the keras sequential model\n",
    "model = Sequential()"
   ]
  },
  {
   "cell_type": "code",
   "execution_count": null,
   "metadata": {
    "id": "xWoveHaZ2FoK"
   },
   "outputs": [],
   "source": [
    "# Artificial Neural Network / Multi-layer Perceptron / Fully Connected Neural Network\n",
    "\n",
    "# Convolutional Neural Network -> data gambar\n",
    "\n",
    "# Long-Short Term Memory Neural Network -> data squentian atau data teks\n",
    "\n",
    "Dll...\n"
   ]
  },
  {
   "cell_type": "code",
   "execution_count": null,
   "metadata": {
    "id": "KKnwmlV7BJL7"
   },
   "outputs": [],
   "source": [
    "model.add(Dense(12, input_dim=8, activation='relu')) # input layer + 1st hidden layer\n",
    "model.add(Dense(8, activation='relu')) # 2nd hidden layer\n",
    "model.add(Dense(1, activation='sigmoid')) # output layer"
   ]
  },
  {
   "cell_type": "markdown",
   "metadata": {
    "id": "-ydSrp2OcIF3"
   },
   "source": [
    "**Question:** Arsitektur di atas termasuk MLP atau perceptron?"
   ]
  },
  {
   "cell_type": "code",
   "execution_count": null,
   "metadata": {
    "colab": {
     "base_uri": "https://localhost:8080/"
    },
    "executionInfo": {
     "elapsed": 508,
     "status": "ok",
     "timestamp": 1697473175006,
     "user": {
      "displayName": "Very Dwi Setiawan",
      "userId": "11914131847934024186"
     },
     "user_tz": -420
    },
    "id": "HHctibMoBJL7",
    "outputId": "97cd3ea6-197d-4831-c773-3ffaa4dab50f"
   },
   "outputs": [
    {
     "name": "stdout",
     "output_type": "stream",
     "text": [
      "Model: \"sequential\"\n",
      "_________________________________________________________________\n",
      " Layer (type)                Output Shape              Param #   \n",
      "=================================================================\n",
      " dense (Dense)               (None, 12)                108       \n",
      "                                                                 \n",
      " dense_1 (Dense)             (None, 8)                 104       \n",
      "                                                                 \n",
      " dense_2 (Dense)             (None, 1)                 9         \n",
      "                                                                 \n",
      "=================================================================\n",
      "Total params: 221 (884.00 Byte)\n",
      "Trainable params: 221 (884.00 Byte)\n",
      "Non-trainable params: 0 (0.00 Byte)\n",
      "_________________________________________________________________\n"
     ]
    }
   ],
   "source": [
    "model.summary()"
   ]
  },
  {
   "cell_type": "markdown",
   "metadata": {
    "id": "AVxRPm7MBJL8"
   },
   "source": [
    "## Compile Model"
   ]
  },
  {
   "cell_type": "code",
   "execution_count": null,
   "metadata": {
    "id": "Hk4pfmmABJL8"
   },
   "outputs": [],
   "source": [
    "model.compile(loss='binary_crossentropy', optimizer='adam', metrics=['accuracy'])"
   ]
  },
  {
   "cell_type": "markdown",
   "metadata": {
    "id": "_pN1b7JDFU0c"
   },
   "source": [
    "optmizer **Adam**\n"
   ]
  },
  {
   "cell_type": "markdown",
   "metadata": {
    "id": "OA6vkrOTBJL8"
   },
   "source": [
    "## Train Model"
   ]
  },
  {
   "cell_type": "code",
   "execution_count": null,
   "metadata": {
    "colab": {
     "base_uri": "https://localhost:8080/"
    },
    "executionInfo": {
     "elapsed": 83600,
     "status": "ok",
     "timestamp": 1697473263664,
     "user": {
      "displayName": "Very Dwi Setiawan",
      "userId": "11914131847934024186"
     },
     "user_tz": -420
    },
    "id": "-hJa6Nm8BJL8",
    "outputId": "4e57ffde-da47-4f96-f83c-bc814d4a72dd",
    "scrolled": true
   },
   "outputs": [
    {
     "name": "stdout",
     "output_type": "stream",
     "text": [
      "Epoch 1/250\n",
      "77/77 [==============================] - 1s 2ms/step - loss: 6.8180 - accuracy: 0.6059\n",
      "Epoch 2/250\n",
      "77/77 [==============================] - 0s 2ms/step - loss: 1.4004 - accuracy: 0.6254\n",
      "Epoch 3/250\n",
      "77/77 [==============================] - 0s 2ms/step - loss: 1.1648 - accuracy: 0.6336\n",
      "Epoch 4/250\n",
      "77/77 [==============================] - 0s 2ms/step - loss: 0.8789 - accuracy: 0.6710\n",
      "Epoch 5/250\n",
      "77/77 [==============================] - 0s 2ms/step - loss: 0.7522 - accuracy: 0.6678\n",
      "Epoch 6/250\n",
      "77/77 [==============================] - 0s 2ms/step - loss: 0.6663 - accuracy: 0.6759\n",
      "Epoch 7/250\n",
      "77/77 [==============================] - 0s 2ms/step - loss: 0.6756 - accuracy: 0.6792\n",
      "Epoch 8/250\n",
      "77/77 [==============================] - 0s 2ms/step - loss: 0.7159 - accuracy: 0.6417\n",
      "Epoch 9/250\n",
      "77/77 [==============================] - 0s 2ms/step - loss: 0.6674 - accuracy: 0.6775\n",
      "Epoch 10/250\n",
      "77/77 [==============================] - 0s 2ms/step - loss: 0.6487 - accuracy: 0.6873\n",
      "Epoch 11/250\n",
      "77/77 [==============================] - 0s 2ms/step - loss: 0.6715 - accuracy: 0.6824\n",
      "Epoch 12/250\n",
      "77/77 [==============================] - 0s 2ms/step - loss: 0.6814 - accuracy: 0.6906\n",
      "Epoch 13/250\n",
      "77/77 [==============================] - 0s 2ms/step - loss: 0.6405 - accuracy: 0.6954\n",
      "Epoch 14/250\n",
      "77/77 [==============================] - 0s 2ms/step - loss: 0.6149 - accuracy: 0.6954\n",
      "Epoch 15/250\n",
      "77/77 [==============================] - 0s 2ms/step - loss: 0.6247 - accuracy: 0.7003\n",
      "Epoch 16/250\n",
      "77/77 [==============================] - 0s 2ms/step - loss: 0.6514 - accuracy: 0.6906\n",
      "Epoch 17/250\n",
      "77/77 [==============================] - 0s 2ms/step - loss: 0.6234 - accuracy: 0.7068\n",
      "Epoch 18/250\n",
      "77/77 [==============================] - 0s 2ms/step - loss: 0.6096 - accuracy: 0.6938\n",
      "Epoch 19/250\n",
      "77/77 [==============================] - 0s 2ms/step - loss: 0.6140 - accuracy: 0.6857\n",
      "Epoch 20/250\n",
      "77/77 [==============================] - 0s 2ms/step - loss: 0.6181 - accuracy: 0.7117\n",
      "Epoch 21/250\n",
      "77/77 [==============================] - 0s 2ms/step - loss: 0.6078 - accuracy: 0.7182\n",
      "Epoch 22/250\n",
      "77/77 [==============================] - 0s 2ms/step - loss: 0.6560 - accuracy: 0.7101\n",
      "Epoch 23/250\n",
      "77/77 [==============================] - 0s 2ms/step - loss: 0.5974 - accuracy: 0.6987\n",
      "Epoch 24/250\n",
      "77/77 [==============================] - 0s 2ms/step - loss: 0.6012 - accuracy: 0.7166\n",
      "Epoch 25/250\n",
      "77/77 [==============================] - 0s 2ms/step - loss: 0.5827 - accuracy: 0.7313\n",
      "Epoch 26/250\n",
      "77/77 [==============================] - 0s 2ms/step - loss: 0.6065 - accuracy: 0.6922\n",
      "Epoch 27/250\n",
      "77/77 [==============================] - 0s 2ms/step - loss: 0.5736 - accuracy: 0.7329\n",
      "Epoch 28/250\n",
      "77/77 [==============================] - 0s 2ms/step - loss: 0.6233 - accuracy: 0.6971\n",
      "Epoch 29/250\n",
      "77/77 [==============================] - 0s 2ms/step - loss: 0.5611 - accuracy: 0.7296\n",
      "Epoch 30/250\n",
      "77/77 [==============================] - 0s 2ms/step - loss: 0.5727 - accuracy: 0.7264\n",
      "Epoch 31/250\n",
      "77/77 [==============================] - 0s 2ms/step - loss: 0.5916 - accuracy: 0.7199\n",
      "Epoch 32/250\n",
      "77/77 [==============================] - 0s 2ms/step - loss: 0.6348 - accuracy: 0.6889\n",
      "Epoch 33/250\n",
      "77/77 [==============================] - 0s 2ms/step - loss: 0.6119 - accuracy: 0.7036\n",
      "Epoch 34/250\n",
      "77/77 [==============================] - 0s 2ms/step - loss: 0.5765 - accuracy: 0.7134\n",
      "Epoch 35/250\n",
      "77/77 [==============================] - 0s 2ms/step - loss: 0.5702 - accuracy: 0.7280\n",
      "Epoch 36/250\n",
      "77/77 [==============================] - 0s 2ms/step - loss: 0.5691 - accuracy: 0.7085\n",
      "Epoch 37/250\n",
      "77/77 [==============================] - 0s 2ms/step - loss: 0.5673 - accuracy: 0.7068\n",
      "Epoch 38/250\n",
      "77/77 [==============================] - 0s 2ms/step - loss: 0.5944 - accuracy: 0.7313\n",
      "Epoch 39/250\n",
      "77/77 [==============================] - 0s 2ms/step - loss: 0.6480 - accuracy: 0.7166\n",
      "Epoch 40/250\n",
      "77/77 [==============================] - 0s 2ms/step - loss: 0.5618 - accuracy: 0.7394\n",
      "Epoch 41/250\n",
      "77/77 [==============================] - 0s 2ms/step - loss: 0.5916 - accuracy: 0.7036\n",
      "Epoch 42/250\n",
      "77/77 [==============================] - 0s 2ms/step - loss: 0.5428 - accuracy: 0.7199\n",
      "Epoch 43/250\n",
      "77/77 [==============================] - 0s 2ms/step - loss: 0.5988 - accuracy: 0.7101\n",
      "Epoch 44/250\n",
      "77/77 [==============================] - 0s 2ms/step - loss: 0.5753 - accuracy: 0.7296\n",
      "Epoch 45/250\n",
      "77/77 [==============================] - 0s 2ms/step - loss: 0.5854 - accuracy: 0.7068\n",
      "Epoch 46/250\n",
      "77/77 [==============================] - 0s 2ms/step - loss: 0.5353 - accuracy: 0.7248\n",
      "Epoch 47/250\n",
      "77/77 [==============================] - 0s 2ms/step - loss: 0.5372 - accuracy: 0.7410\n",
      "Epoch 48/250\n",
      "77/77 [==============================] - 0s 2ms/step - loss: 0.5502 - accuracy: 0.7199\n",
      "Epoch 49/250\n",
      "77/77 [==============================] - 0s 2ms/step - loss: 0.5380 - accuracy: 0.7492\n",
      "Epoch 50/250\n",
      "77/77 [==============================] - 0s 2ms/step - loss: 0.5879 - accuracy: 0.7085\n",
      "Epoch 51/250\n",
      "77/77 [==============================] - 0s 2ms/step - loss: 0.5427 - accuracy: 0.7215\n",
      "Epoch 52/250\n",
      "77/77 [==============================] - 0s 2ms/step - loss: 0.5459 - accuracy: 0.7199\n",
      "Epoch 53/250\n",
      "77/77 [==============================] - 0s 2ms/step - loss: 0.5299 - accuracy: 0.7508\n",
      "Epoch 54/250\n",
      "77/77 [==============================] - 0s 2ms/step - loss: 0.5329 - accuracy: 0.7150\n",
      "Epoch 55/250\n",
      "77/77 [==============================] - 0s 2ms/step - loss: 0.5318 - accuracy: 0.7394\n",
      "Epoch 56/250\n",
      "77/77 [==============================] - 0s 2ms/step - loss: 0.5534 - accuracy: 0.7280\n",
      "Epoch 57/250\n",
      "77/77 [==============================] - 0s 2ms/step - loss: 0.5410 - accuracy: 0.7345\n",
      "Epoch 58/250\n",
      "77/77 [==============================] - 0s 2ms/step - loss: 0.5378 - accuracy: 0.7427\n",
      "Epoch 59/250\n",
      "77/77 [==============================] - 0s 2ms/step - loss: 0.5726 - accuracy: 0.7215\n",
      "Epoch 60/250\n",
      "77/77 [==============================] - 0s 2ms/step - loss: 0.5247 - accuracy: 0.7394\n",
      "Epoch 61/250\n",
      "77/77 [==============================] - 0s 2ms/step - loss: 0.5241 - accuracy: 0.7524\n",
      "Epoch 62/250\n",
      "77/77 [==============================] - 0s 2ms/step - loss: 0.5025 - accuracy: 0.7427\n",
      "Epoch 63/250\n",
      "77/77 [==============================] - 0s 2ms/step - loss: 0.5362 - accuracy: 0.7280\n",
      "Epoch 64/250\n",
      "77/77 [==============================] - 0s 2ms/step - loss: 0.5201 - accuracy: 0.7573\n",
      "Epoch 65/250\n",
      "77/77 [==============================] - 0s 2ms/step - loss: 0.5089 - accuracy: 0.7410\n",
      "Epoch 66/250\n",
      "77/77 [==============================] - 0s 2ms/step - loss: 0.5212 - accuracy: 0.7573\n",
      "Epoch 67/250\n",
      "77/77 [==============================] - 0s 2ms/step - loss: 0.6010 - accuracy: 0.7134\n",
      "Epoch 68/250\n",
      "77/77 [==============================] - 0s 3ms/step - loss: 0.5437 - accuracy: 0.7280\n",
      "Epoch 69/250\n",
      "77/77 [==============================] - 0s 3ms/step - loss: 0.5165 - accuracy: 0.7606\n",
      "Epoch 70/250\n",
      "77/77 [==============================] - 0s 3ms/step - loss: 0.5231 - accuracy: 0.7378\n",
      "Epoch 71/250\n",
      "77/77 [==============================] - 0s 3ms/step - loss: 0.5104 - accuracy: 0.7362\n",
      "Epoch 72/250\n",
      "77/77 [==============================] - 0s 3ms/step - loss: 0.5089 - accuracy: 0.7590\n",
      "Epoch 73/250\n",
      "77/77 [==============================] - 0s 3ms/step - loss: 0.5102 - accuracy: 0.7476\n",
      "Epoch 74/250\n",
      "77/77 [==============================] - 0s 3ms/step - loss: 0.5006 - accuracy: 0.7427\n",
      "Epoch 75/250\n",
      "77/77 [==============================] - 0s 2ms/step - loss: 0.5105 - accuracy: 0.7443\n",
      "Epoch 76/250\n",
      "77/77 [==============================] - 0s 3ms/step - loss: 0.5696 - accuracy: 0.7280\n",
      "Epoch 77/250\n",
      "77/77 [==============================] - 0s 2ms/step - loss: 0.5073 - accuracy: 0.7541\n",
      "Epoch 78/250\n",
      "77/77 [==============================] - 0s 3ms/step - loss: 0.4943 - accuracy: 0.7655\n",
      "Epoch 79/250\n",
      "77/77 [==============================] - 0s 3ms/step - loss: 0.5163 - accuracy: 0.7524\n",
      "Epoch 80/250\n",
      "77/77 [==============================] - 0s 3ms/step - loss: 0.4862 - accuracy: 0.7541\n",
      "Epoch 81/250\n",
      "77/77 [==============================] - 0s 3ms/step - loss: 0.5206 - accuracy: 0.7378\n",
      "Epoch 82/250\n",
      "77/77 [==============================] - 0s 3ms/step - loss: 0.4962 - accuracy: 0.7622\n",
      "Epoch 83/250\n",
      "77/77 [==============================] - 0s 3ms/step - loss: 0.4941 - accuracy: 0.7573\n",
      "Epoch 84/250\n",
      "77/77 [==============================] - 0s 3ms/step - loss: 0.5320 - accuracy: 0.7280\n",
      "Epoch 85/250\n",
      "77/77 [==============================] - 0s 3ms/step - loss: 0.5210 - accuracy: 0.7492\n",
      "Epoch 86/250\n",
      "77/77 [==============================] - 0s 3ms/step - loss: 0.5095 - accuracy: 0.7476\n",
      "Epoch 87/250\n",
      "77/77 [==============================] - 0s 3ms/step - loss: 0.5333 - accuracy: 0.7541\n",
      "Epoch 88/250\n",
      "77/77 [==============================] - 0s 3ms/step - loss: 0.4953 - accuracy: 0.7687\n",
      "Epoch 89/250\n",
      "77/77 [==============================] - 0s 3ms/step - loss: 0.5311 - accuracy: 0.7427\n",
      "Epoch 90/250\n",
      "77/77 [==============================] - 0s 2ms/step - loss: 0.5312 - accuracy: 0.7541\n",
      "Epoch 91/250\n",
      "77/77 [==============================] - 0s 2ms/step - loss: 0.5055 - accuracy: 0.7443\n",
      "Epoch 92/250\n",
      "77/77 [==============================] - 0s 2ms/step - loss: 0.5042 - accuracy: 0.7622\n",
      "Epoch 93/250\n",
      "77/77 [==============================] - 0s 2ms/step - loss: 0.4912 - accuracy: 0.7638\n",
      "Epoch 94/250\n",
      "77/77 [==============================] - 0s 2ms/step - loss: 0.5021 - accuracy: 0.7492\n",
      "Epoch 95/250\n",
      "77/77 [==============================] - 0s 2ms/step - loss: 0.5133 - accuracy: 0.7573\n",
      "Epoch 96/250\n",
      "77/77 [==============================] - 0s 2ms/step - loss: 0.4996 - accuracy: 0.7573\n",
      "Epoch 97/250\n",
      "77/77 [==============================] - 0s 2ms/step - loss: 0.5021 - accuracy: 0.7655\n",
      "Epoch 98/250\n",
      "77/77 [==============================] - 0s 2ms/step - loss: 0.4839 - accuracy: 0.7687\n",
      "Epoch 99/250\n",
      "77/77 [==============================] - 0s 2ms/step - loss: 0.4976 - accuracy: 0.7541\n",
      "Epoch 100/250\n",
      "77/77 [==============================] - 0s 2ms/step - loss: 0.4910 - accuracy: 0.7687\n",
      "Epoch 101/250\n",
      "77/77 [==============================] - 0s 2ms/step - loss: 0.5034 - accuracy: 0.7622\n",
      "Epoch 102/250\n",
      "77/77 [==============================] - 0s 2ms/step - loss: 0.4808 - accuracy: 0.7671\n",
      "Epoch 103/250\n",
      "77/77 [==============================] - 0s 2ms/step - loss: 0.5021 - accuracy: 0.7590\n",
      "Epoch 104/250\n",
      "77/77 [==============================] - 0s 2ms/step - loss: 0.5041 - accuracy: 0.7557\n",
      "Epoch 105/250\n",
      "77/77 [==============================] - 0s 2ms/step - loss: 0.5325 - accuracy: 0.7427\n",
      "Epoch 106/250\n",
      "77/77 [==============================] - 0s 2ms/step - loss: 0.4942 - accuracy: 0.7508\n",
      "Epoch 107/250\n",
      "77/77 [==============================] - 0s 2ms/step - loss: 0.4765 - accuracy: 0.7687\n",
      "Epoch 108/250\n",
      "77/77 [==============================] - 0s 2ms/step - loss: 0.4885 - accuracy: 0.7541\n",
      "Epoch 109/250\n",
      "77/77 [==============================] - 0s 2ms/step - loss: 0.5284 - accuracy: 0.7590\n",
      "Epoch 110/250\n",
      "77/77 [==============================] - 0s 2ms/step - loss: 0.5009 - accuracy: 0.7687\n",
      "Epoch 111/250\n",
      "77/77 [==============================] - 0s 2ms/step - loss: 0.5216 - accuracy: 0.7378\n",
      "Epoch 112/250\n",
      "77/77 [==============================] - 0s 2ms/step - loss: 0.4902 - accuracy: 0.7590\n",
      "Epoch 113/250\n",
      "77/77 [==============================] - 0s 2ms/step - loss: 0.5073 - accuracy: 0.7508\n",
      "Epoch 114/250\n",
      "77/77 [==============================] - 0s 2ms/step - loss: 0.4748 - accuracy: 0.7638\n",
      "Epoch 115/250\n",
      "77/77 [==============================] - 0s 2ms/step - loss: 0.4929 - accuracy: 0.7508\n",
      "Epoch 116/250\n",
      "77/77 [==============================] - 0s 2ms/step - loss: 0.5020 - accuracy: 0.7508\n",
      "Epoch 117/250\n",
      "77/77 [==============================] - 0s 2ms/step - loss: 0.4735 - accuracy: 0.7671\n",
      "Epoch 118/250\n",
      "77/77 [==============================] - 0s 2ms/step - loss: 0.4862 - accuracy: 0.7655\n",
      "Epoch 119/250\n",
      "77/77 [==============================] - 0s 2ms/step - loss: 0.4660 - accuracy: 0.7883\n",
      "Epoch 120/250\n",
      "77/77 [==============================] - 0s 2ms/step - loss: 0.4856 - accuracy: 0.7704\n",
      "Epoch 121/250\n",
      "77/77 [==============================] - 0s 2ms/step - loss: 0.4985 - accuracy: 0.7606\n",
      "Epoch 122/250\n",
      "77/77 [==============================] - 0s 2ms/step - loss: 0.4953 - accuracy: 0.7590\n",
      "Epoch 123/250\n",
      "77/77 [==============================] - 0s 2ms/step - loss: 0.4886 - accuracy: 0.7524\n",
      "Epoch 124/250\n",
      "77/77 [==============================] - 0s 2ms/step - loss: 0.4647 - accuracy: 0.7818\n",
      "Epoch 125/250\n",
      "77/77 [==============================] - 0s 2ms/step - loss: 0.4681 - accuracy: 0.7801\n",
      "Epoch 126/250\n",
      "77/77 [==============================] - 0s 2ms/step - loss: 0.4729 - accuracy: 0.7801\n",
      "Epoch 127/250\n",
      "77/77 [==============================] - 0s 2ms/step - loss: 0.5195 - accuracy: 0.7573\n",
      "Epoch 128/250\n",
      "77/77 [==============================] - 0s 2ms/step - loss: 0.4573 - accuracy: 0.7850\n",
      "Epoch 129/250\n",
      "77/77 [==============================] - 0s 2ms/step - loss: 0.4765 - accuracy: 0.7752\n",
      "Epoch 130/250\n",
      "77/77 [==============================] - 0s 2ms/step - loss: 0.4653 - accuracy: 0.7736\n",
      "Epoch 131/250\n",
      "77/77 [==============================] - 0s 2ms/step - loss: 0.4704 - accuracy: 0.7801\n",
      "Epoch 132/250\n",
      "77/77 [==============================] - 0s 2ms/step - loss: 0.4886 - accuracy: 0.7655\n",
      "Epoch 133/250\n",
      "77/77 [==============================] - 0s 2ms/step - loss: 0.5217 - accuracy: 0.7524\n",
      "Epoch 134/250\n",
      "77/77 [==============================] - 0s 2ms/step - loss: 0.4997 - accuracy: 0.7736\n",
      "Epoch 135/250\n",
      "77/77 [==============================] - 0s 2ms/step - loss: 0.4922 - accuracy: 0.7671\n",
      "Epoch 136/250\n",
      "77/77 [==============================] - 0s 2ms/step - loss: 0.4829 - accuracy: 0.7769\n",
      "Epoch 137/250\n",
      "77/77 [==============================] - 0s 2ms/step - loss: 0.4722 - accuracy: 0.7850\n",
      "Epoch 138/250\n",
      "77/77 [==============================] - 0s 2ms/step - loss: 0.4804 - accuracy: 0.7671\n",
      "Epoch 139/250\n",
      "77/77 [==============================] - 0s 2ms/step - loss: 0.4644 - accuracy: 0.7866\n",
      "Epoch 140/250\n",
      "77/77 [==============================] - 0s 2ms/step - loss: 0.4992 - accuracy: 0.7720\n",
      "Epoch 141/250\n",
      "77/77 [==============================] - 0s 2ms/step - loss: 0.4895 - accuracy: 0.7638\n",
      "Epoch 142/250\n",
      "77/77 [==============================] - 0s 2ms/step - loss: 0.4676 - accuracy: 0.7866\n",
      "Epoch 143/250\n",
      "77/77 [==============================] - 0s 2ms/step - loss: 0.4967 - accuracy: 0.7508\n",
      "Epoch 144/250\n",
      "77/77 [==============================] - 0s 2ms/step - loss: 0.4938 - accuracy: 0.7622\n",
      "Epoch 145/250\n",
      "77/77 [==============================] - 0s 2ms/step - loss: 0.4736 - accuracy: 0.7671\n",
      "Epoch 146/250\n",
      "77/77 [==============================] - 0s 2ms/step - loss: 0.4794 - accuracy: 0.7671\n",
      "Epoch 147/250\n",
      "77/77 [==============================] - 0s 2ms/step - loss: 0.4713 - accuracy: 0.7720\n",
      "Epoch 148/250\n",
      "77/77 [==============================] - 0s 2ms/step - loss: 0.4743 - accuracy: 0.7736\n",
      "Epoch 149/250\n",
      "77/77 [==============================] - 0s 2ms/step - loss: 0.4693 - accuracy: 0.7769\n",
      "Epoch 150/250\n",
      "77/77 [==============================] - 0s 2ms/step - loss: 0.4599 - accuracy: 0.7883\n",
      "Epoch 151/250\n",
      "77/77 [==============================] - 0s 2ms/step - loss: 0.4717 - accuracy: 0.7883\n",
      "Epoch 152/250\n",
      "77/77 [==============================] - 0s 2ms/step - loss: 0.4872 - accuracy: 0.7769\n",
      "Epoch 153/250\n",
      "77/77 [==============================] - 0s 2ms/step - loss: 0.4873 - accuracy: 0.7622\n",
      "Epoch 154/250\n",
      "77/77 [==============================] - 0s 2ms/step - loss: 0.4766 - accuracy: 0.7801\n",
      "Epoch 155/250\n",
      "77/77 [==============================] - 0s 2ms/step - loss: 0.4859 - accuracy: 0.7687\n",
      "Epoch 156/250\n",
      "77/77 [==============================] - 0s 2ms/step - loss: 0.4858 - accuracy: 0.7638\n",
      "Epoch 157/250\n",
      "77/77 [==============================] - 0s 3ms/step - loss: 0.4616 - accuracy: 0.7834\n",
      "Epoch 158/250\n",
      "77/77 [==============================] - 0s 3ms/step - loss: 0.4860 - accuracy: 0.7557\n",
      "Epoch 159/250\n",
      "77/77 [==============================] - 0s 2ms/step - loss: 0.4783 - accuracy: 0.7704\n",
      "Epoch 160/250\n",
      "77/77 [==============================] - 0s 3ms/step - loss: 0.4616 - accuracy: 0.7785\n",
      "Epoch 161/250\n",
      "77/77 [==============================] - 0s 3ms/step - loss: 0.4820 - accuracy: 0.7752\n",
      "Epoch 162/250\n",
      "77/77 [==============================] - 0s 3ms/step - loss: 0.4739 - accuracy: 0.7720\n",
      "Epoch 163/250\n",
      "77/77 [==============================] - 0s 2ms/step - loss: 0.4738 - accuracy: 0.7752\n",
      "Epoch 164/250\n",
      "77/77 [==============================] - 0s 2ms/step - loss: 0.4787 - accuracy: 0.7655\n",
      "Epoch 165/250\n",
      "77/77 [==============================] - 0s 3ms/step - loss: 0.4719 - accuracy: 0.7801\n",
      "Epoch 166/250\n",
      "77/77 [==============================] - 0s 3ms/step - loss: 0.4687 - accuracy: 0.7769\n",
      "Epoch 167/250\n",
      "77/77 [==============================] - 0s 3ms/step - loss: 0.4870 - accuracy: 0.7606\n",
      "Epoch 168/250\n",
      "77/77 [==============================] - 0s 3ms/step - loss: 0.4823 - accuracy: 0.7801\n",
      "Epoch 169/250\n",
      "77/77 [==============================] - 0s 3ms/step - loss: 0.4712 - accuracy: 0.7638\n",
      "Epoch 170/250\n",
      "77/77 [==============================] - 0s 3ms/step - loss: 0.4645 - accuracy: 0.7687\n",
      "Epoch 171/250\n",
      "77/77 [==============================] - 0s 3ms/step - loss: 0.4971 - accuracy: 0.7638\n",
      "Epoch 172/250\n",
      "77/77 [==============================] - 0s 3ms/step - loss: 0.4684 - accuracy: 0.7704\n",
      "Epoch 173/250\n",
      "77/77 [==============================] - 0s 2ms/step - loss: 0.4638 - accuracy: 0.7883\n",
      "Epoch 174/250\n",
      "77/77 [==============================] - 0s 2ms/step - loss: 0.4809 - accuracy: 0.7687\n",
      "Epoch 175/250\n",
      "77/77 [==============================] - 0s 3ms/step - loss: 0.4664 - accuracy: 0.7671\n",
      "Epoch 176/250\n",
      "77/77 [==============================] - 0s 3ms/step - loss: 0.4670 - accuracy: 0.7736\n",
      "Epoch 177/250\n",
      "77/77 [==============================] - 0s 2ms/step - loss: 0.4591 - accuracy: 0.7704\n",
      "Epoch 178/250\n",
      "77/77 [==============================] - 0s 3ms/step - loss: 0.4615 - accuracy: 0.7752\n",
      "Epoch 179/250\n",
      "77/77 [==============================] - 0s 3ms/step - loss: 0.4645 - accuracy: 0.7850\n",
      "Epoch 180/250\n",
      "77/77 [==============================] - 0s 3ms/step - loss: 0.4733 - accuracy: 0.7801\n",
      "Epoch 181/250\n",
      "77/77 [==============================] - 0s 2ms/step - loss: 0.4580 - accuracy: 0.7720\n",
      "Epoch 182/250\n",
      "77/77 [==============================] - 0s 2ms/step - loss: 0.4581 - accuracy: 0.7785\n",
      "Epoch 183/250\n",
      "77/77 [==============================] - 0s 2ms/step - loss: 0.4638 - accuracy: 0.7932\n",
      "Epoch 184/250\n",
      "77/77 [==============================] - 0s 2ms/step - loss: 0.4888 - accuracy: 0.7573\n",
      "Epoch 185/250\n",
      "77/77 [==============================] - 0s 2ms/step - loss: 0.4677 - accuracy: 0.7818\n",
      "Epoch 186/250\n",
      "77/77 [==============================] - 0s 2ms/step - loss: 0.4785 - accuracy: 0.7590\n",
      "Epoch 187/250\n",
      "77/77 [==============================] - 0s 2ms/step - loss: 0.4792 - accuracy: 0.7850\n",
      "Epoch 188/250\n",
      "77/77 [==============================] - 0s 2ms/step - loss: 0.4527 - accuracy: 0.7752\n",
      "Epoch 189/250\n",
      "77/77 [==============================] - 0s 2ms/step - loss: 0.4600 - accuracy: 0.7932\n",
      "Epoch 190/250\n",
      "77/77 [==============================] - 0s 2ms/step - loss: 0.4797 - accuracy: 0.7704\n",
      "Epoch 191/250\n",
      "77/77 [==============================] - 0s 2ms/step - loss: 0.4720 - accuracy: 0.7883\n",
      "Epoch 192/250\n",
      "77/77 [==============================] - 0s 2ms/step - loss: 0.4530 - accuracy: 0.7671\n",
      "Epoch 193/250\n",
      "77/77 [==============================] - 0s 2ms/step - loss: 0.4650 - accuracy: 0.7932\n",
      "Epoch 194/250\n",
      "77/77 [==============================] - 0s 2ms/step - loss: 0.4714 - accuracy: 0.7687\n",
      "Epoch 195/250\n",
      "77/77 [==============================] - 0s 2ms/step - loss: 0.4649 - accuracy: 0.7866\n",
      "Epoch 196/250\n",
      "77/77 [==============================] - 0s 2ms/step - loss: 0.4629 - accuracy: 0.7655\n",
      "Epoch 197/250\n",
      "77/77 [==============================] - 0s 2ms/step - loss: 0.4910 - accuracy: 0.7622\n",
      "Epoch 198/250\n",
      "77/77 [==============================] - 0s 2ms/step - loss: 0.4624 - accuracy: 0.8013\n",
      "Epoch 199/250\n",
      "77/77 [==============================] - 0s 2ms/step - loss: 0.4770 - accuracy: 0.7818\n",
      "Epoch 200/250\n",
      "77/77 [==============================] - 0s 2ms/step - loss: 0.4574 - accuracy: 0.7850\n",
      "Epoch 201/250\n",
      "77/77 [==============================] - 0s 2ms/step - loss: 0.4516 - accuracy: 0.7769\n",
      "Epoch 202/250\n",
      "77/77 [==============================] - 0s 2ms/step - loss: 0.4521 - accuracy: 0.7866\n",
      "Epoch 203/250\n",
      "77/77 [==============================] - 0s 2ms/step - loss: 0.4831 - accuracy: 0.7752\n",
      "Epoch 204/250\n",
      "77/77 [==============================] - 0s 2ms/step - loss: 0.4557 - accuracy: 0.7915\n",
      "Epoch 205/250\n",
      "77/77 [==============================] - 0s 2ms/step - loss: 0.4630 - accuracy: 0.7801\n",
      "Epoch 206/250\n",
      "77/77 [==============================] - 0s 2ms/step - loss: 0.4527 - accuracy: 0.7769\n",
      "Epoch 207/250\n",
      "77/77 [==============================] - 0s 2ms/step - loss: 0.4383 - accuracy: 0.7980\n",
      "Epoch 208/250\n",
      "77/77 [==============================] - 0s 2ms/step - loss: 0.4798 - accuracy: 0.7638\n",
      "Epoch 209/250\n",
      "77/77 [==============================] - 0s 2ms/step - loss: 0.4619 - accuracy: 0.7866\n",
      "Epoch 210/250\n",
      "77/77 [==============================] - 0s 2ms/step - loss: 0.4609 - accuracy: 0.7687\n",
      "Epoch 211/250\n",
      "77/77 [==============================] - 0s 2ms/step - loss: 0.4476 - accuracy: 0.7801\n",
      "Epoch 212/250\n",
      "77/77 [==============================] - 0s 2ms/step - loss: 0.4479 - accuracy: 0.8013\n",
      "Epoch 213/250\n",
      "77/77 [==============================] - 0s 2ms/step - loss: 0.4548 - accuracy: 0.7915\n",
      "Epoch 214/250\n",
      "77/77 [==============================] - 0s 2ms/step - loss: 0.4575 - accuracy: 0.7834\n",
      "Epoch 215/250\n",
      "77/77 [==============================] - 0s 2ms/step - loss: 0.4601 - accuracy: 0.7883\n",
      "Epoch 216/250\n",
      "77/77 [==============================] - 0s 2ms/step - loss: 0.4719 - accuracy: 0.7704\n",
      "Epoch 217/250\n",
      "77/77 [==============================] - 0s 2ms/step - loss: 0.4516 - accuracy: 0.7801\n",
      "Epoch 218/250\n",
      "77/77 [==============================] - 0s 2ms/step - loss: 0.4445 - accuracy: 0.7720\n",
      "Epoch 219/250\n",
      "77/77 [==============================] - 0s 2ms/step - loss: 0.4529 - accuracy: 0.7769\n",
      "Epoch 220/250\n",
      "77/77 [==============================] - 0s 2ms/step - loss: 0.4731 - accuracy: 0.7785\n",
      "Epoch 221/250\n",
      "77/77 [==============================] - 0s 2ms/step - loss: 0.4466 - accuracy: 0.7948\n",
      "Epoch 222/250\n",
      "77/77 [==============================] - 0s 2ms/step - loss: 0.4481 - accuracy: 0.7850\n",
      "Epoch 223/250\n",
      "77/77 [==============================] - 0s 2ms/step - loss: 0.4409 - accuracy: 0.7769\n",
      "Epoch 224/250\n",
      "77/77 [==============================] - 0s 2ms/step - loss: 0.4615 - accuracy: 0.7785\n",
      "Epoch 225/250\n",
      "77/77 [==============================] - 0s 2ms/step - loss: 0.4829 - accuracy: 0.7736\n",
      "Epoch 226/250\n",
      "77/77 [==============================] - 0s 2ms/step - loss: 0.4891 - accuracy: 0.7687\n",
      "Epoch 227/250\n",
      "77/77 [==============================] - 0s 2ms/step - loss: 0.4591 - accuracy: 0.7932\n",
      "Epoch 228/250\n",
      "77/77 [==============================] - 0s 2ms/step - loss: 0.4535 - accuracy: 0.7720\n",
      "Epoch 229/250\n",
      "77/77 [==============================] - 0s 2ms/step - loss: 0.4474 - accuracy: 0.7866\n",
      "Epoch 230/250\n",
      "77/77 [==============================] - 0s 2ms/step - loss: 0.4636 - accuracy: 0.7801\n",
      "Epoch 231/250\n",
      "77/77 [==============================] - 0s 2ms/step - loss: 0.4444 - accuracy: 0.7883\n",
      "Epoch 232/250\n",
      "77/77 [==============================] - 0s 2ms/step - loss: 0.4682 - accuracy: 0.7801\n",
      "Epoch 233/250\n",
      "77/77 [==============================] - 0s 2ms/step - loss: 0.4530 - accuracy: 0.7769\n",
      "Epoch 234/250\n",
      "77/77 [==============================] - 0s 2ms/step - loss: 0.4407 - accuracy: 0.7769\n",
      "Epoch 235/250\n",
      "77/77 [==============================] - 0s 2ms/step - loss: 0.4368 - accuracy: 0.7980\n",
      "Epoch 236/250\n",
      "77/77 [==============================] - 0s 2ms/step - loss: 0.4505 - accuracy: 0.7899\n",
      "Epoch 237/250\n",
      "77/77 [==============================] - 0s 2ms/step - loss: 0.4519 - accuracy: 0.7850\n",
      "Epoch 238/250\n",
      "77/77 [==============================] - 0s 2ms/step - loss: 0.4406 - accuracy: 0.7752\n",
      "Epoch 239/250\n",
      "77/77 [==============================] - 0s 2ms/step - loss: 0.4430 - accuracy: 0.7850\n",
      "Epoch 240/250\n",
      "77/77 [==============================] - 0s 2ms/step - loss: 0.4670 - accuracy: 0.7671\n",
      "Epoch 241/250\n",
      "77/77 [==============================] - 0s 2ms/step - loss: 0.4438 - accuracy: 0.8029\n",
      "Epoch 242/250\n",
      "77/77 [==============================] - 0s 2ms/step - loss: 0.4615 - accuracy: 0.7720\n",
      "Epoch 243/250\n",
      "77/77 [==============================] - 0s 2ms/step - loss: 0.4416 - accuracy: 0.7980\n",
      "Epoch 244/250\n",
      "77/77 [==============================] - 0s 2ms/step - loss: 0.4604 - accuracy: 0.7948\n",
      "Epoch 245/250\n",
      "77/77 [==============================] - 0s 2ms/step - loss: 0.4461 - accuracy: 0.7899\n",
      "Epoch 246/250\n",
      "77/77 [==============================] - 0s 3ms/step - loss: 0.4750 - accuracy: 0.7899\n",
      "Epoch 247/250\n",
      "77/77 [==============================] - 0s 3ms/step - loss: 0.4562 - accuracy: 0.7818\n",
      "Epoch 248/250\n",
      "77/77 [==============================] - 0s 2ms/step - loss: 0.4688 - accuracy: 0.7850\n",
      "Epoch 249/250\n",
      "77/77 [==============================] - 0s 3ms/step - loss: 0.4948 - accuracy: 0.7818\n",
      "Epoch 250/250\n",
      "77/77 [==============================] - 0s 3ms/step - loss: 0.4769 - accuracy: 0.7736\n"
     ]
    },
    {
     "data": {
      "text/plain": [
       "<keras.src.callbacks.History at 0x7bfcb51329e0>"
      ]
     },
     "execution_count": 29,
     "metadata": {},
     "output_type": "execute_result"
    }
   ],
   "source": [
    "# fit the keras model on the dataset\n",
    "model.fit(X_train, y_train, epochs=250, batch_size=8)"
   ]
  },
  {
   "cell_type": "code",
   "execution_count": null,
   "metadata": {
    "colab": {
     "base_uri": "https://localhost:8080/",
     "height": 496
    },
    "executionInfo": {
     "elapsed": 13,
     "status": "ok",
     "timestamp": 1697473263664,
     "user": {
      "displayName": "Very Dwi Setiawan",
      "userId": "11914131847934024186"
     },
     "user_tz": -420
    },
    "id": "P65McJXWBJL8",
    "outputId": "e2efc6d8-a08c-45a8-9725-96fbb18e444c"
   },
   "outputs": [
    {
     "data": {
      "image/png": "[encoded data removed]",
      "text/plain": [
       "<Figure size 800x500 with 1 Axes>"
      ]
     },
     "metadata": {},
     "output_type": "display_data"
    }
   ],
   "source": [
    "plt.figure(figsize=[8,5])\n",
    "plt.plot(model.history.history['accuracy'], 'r')\n",
    "plt.legend(['Training loss'])\n",
    "plt.xlabel('Epochs', fontsize=16)\n",
    "plt.ylabel('Accuracy', fontsize=16)\n",
    "plt.title('Accuracy Curves', fontsize=16)\n",
    "\n",
    "plt.show()"
   ]
  },
  {
   "cell_type": "markdown",
   "metadata": {
    "id": "11Y1bzM9BJL9"
   },
   "source": [
    "## Evaluate Model"
   ]
  },
  {
   "cell_type": "code",
   "execution_count": null,
   "metadata": {
    "colab": {
     "base_uri": "https://localhost:8080/"
    },
    "executionInfo": {
     "elapsed": 693,
     "status": "ok",
     "timestamp": 1697473264352,
     "user": {
      "displayName": "Very Dwi Setiawan",
      "userId": "11914131847934024186"
     },
     "user_tz": -420
    },
    "id": "xLerT7zmBJL9",
    "outputId": "3c84518e-a721-4b84-fc1c-53d3fb60c395"
   },
   "outputs": [
    {
     "name": "stdout",
     "output_type": "stream",
     "text": [
      "Accuracy: 67.53\n"
     ]
    }
   ],
   "source": [
    "# evaluate the keras model\n",
    "_, accuracy = model.evaluate(X_test, y_test, verbose=False)\n",
    "print(f'Accuracy: {accuracy*100:.2f}')"
   ]
  },
  {
   "cell_type": "markdown",
   "metadata": {
    "id": "GjDDglSmBJL9"
   },
   "source": [
    "---"
   ]
  }
 ],
 "metadata": {
  "colab": {
   "provenance": []
  },
  "kernelspec": {
   "display_name": "base",
   "language": "python",
   "name": "python3"
  },
  "language_info": {
   "codemirror_mode": {
    "name": "ipython",
    "version": 3
   },
   "file_extension": ".py",
   "mimetype": "text/x-python",
   "name": "python",
   "nbconvert_exporter": "python",
   "pygments_lexer": "ipython3",
   "version": "3.12.7"
  }
 },
 "nbformat": 4,
 "nbformat_minor": 0
}
