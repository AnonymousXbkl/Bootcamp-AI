{
 "cells": [
  {
   "cell_type": "code",
   "execution_count": 5,
   "id": "ca9e015b-113e-4604-a696-9fbd16372c33",
   "metadata": {},
   "outputs": [
    {
     "data": {
      "text/plain": [
       "(5, 25)"
      ]
     },
     "execution_count": 5,
     "metadata": {},
     "output_type": "execute_result"
    }
   ],
   "source": [
    "#PYTHON MATH\n",
    "\n",
    "#Mendapatkan nilai minimum dan maksimum\n",
    "x = min(5, 10, 25)\n",
    "y = max(5, 10, 25)\n",
    "x, y"
   ]
  },
  {
   "cell_type": "code",
   "execution_count": 6,
   "id": "538e345f-e8e3-464a-af68-4cf975ccad6e",
   "metadata": {},
   "outputs": [
    {
     "data": {
      "text/plain": [
       "7.25"
      ]
     },
     "execution_count": 6,
     "metadata": {},
     "output_type": "execute_result"
    }
   ],
   "source": [
    "#Mendapatkan nilai absolut\n",
    "x = abs(-7.25)\n",
    "x"
   ]
  },
  {
   "cell_type": "code",
   "execution_count": 8,
   "id": "706583c9-4725-4d76-8c37-5b1c1bd66820",
   "metadata": {},
   "outputs": [
    {
     "data": {
      "text/plain": [
       "64.0"
      ]
     },
     "execution_count": 8,
     "metadata": {},
     "output_type": "execute_result"
    }
   ],
   "source": [
    "#Mendapatkan nilai pangkat\n",
    "import math\n",
    "x = math.pow(4, 3)    #berarti 4 pangkat 3\n",
    "x"
   ]
  },
  {
   "cell_type": "code",
   "execution_count": 9,
   "id": "b9c4f4f4-8984-43ed-9f28-6167e4059114",
   "metadata": {},
   "outputs": [
    {
     "data": {
      "text/plain": [
       "8.0"
      ]
     },
     "execution_count": 9,
     "metadata": {},
     "output_type": "execute_result"
    }
   ],
   "source": [
    "#Mendapatkan nilai akar\n",
    "import math\n",
    "x = math.sqrt(64)\n",
    "x"
   ]
  },
  {
   "cell_type": "code",
   "execution_count": 11,
   "id": "e373556f-1cf8-4011-b148-27b1f517abb9",
   "metadata": {},
   "outputs": [
    {
     "data": {
      "text/plain": [
       "(2, 1)"
      ]
     },
     "execution_count": 11,
     "metadata": {},
     "output_type": "execute_result"
    }
   ],
   "source": [
    "#Mendapatkan nilai pembulatan\n",
    "import math\n",
    "x = math.ceil(1.4)    #pembulatan ke atas\n",
    "y = math.floor(1.4)   #pembulatan ke bawah\n",
    "x, y"
   ]
  },
  {
   "cell_type": "code",
   "execution_count": 12,
   "id": "9ab35ff1-ae32-4aa4-a6de-f68b385ead72",
   "metadata": {},
   "outputs": [
    {
     "data": {
      "text/plain": [
       "3.141592653589793"
      ]
     },
     "execution_count": 12,
     "metadata": {},
     "output_type": "execute_result"
    }
   ],
   "source": [
    "#Mendapatkan nilai konstanta\n",
    "import math\n",
    "x = math.pi\n",
    "x"
   ]
  },
  {
   "cell_type": "raw",
   "id": "29092431-c1e7-4b53-91ba-8131b536082c",
   "metadata": {},
   "source": [
    "\n",
    "============================================================== SKALAR | Vektor | Matriks ========================================================================\n",
    "Skalar\n",
    "    Skalar adalah besaran yang hanya memiliki esar dan tidak memiliki arah. Misal Suhu dan Volume.\n",
    "\n",
    "Vektor\n",
    "    Vektor adalah besaran yang memiliki besar dan arah. Misal Kecepatan, Percepatan, Perlambatan, dan Gaya Magnet. Vektor direpresentasikan dengan garis\n",
    "\n",
    "Matriks\n",
    "    Vektor yang bersifat 2D.\n",
    "\n",
    "Tensor\n",
    "    Vektor yang bersifat lebih dari 2D. Namun Secara matematis skalar, vektor dan matriks semuanya bisa disebut sebagai TENSOR\n",
    "\n",
    "\n",
    "\n",
    "                            Scalar                   Vektor                 Matriks              Tensor\n",
    "\n",
    "                                                     |  3  |                | 6   7 |           |            |\n",
    "                                 1                   |     |                |       |           | |8 1| |9 5||\n",
    "                                                     |  4  |                | 4   9 |           | |4 3| |6 2||\n",
    "                                                                                                |            |\n",
    " "
   ]
  },
  {
   "cell_type": "raw",
   "id": "5ac154db-afeb-44ad-8cf9-f933382dc1e2",
   "metadata": {},
   "source": [
    "#Matriks DOT PRODUCT\n",
    "A = [A1, A1, A3]\n",
    "B = [B1, B2, B3]\n",
    "A, B"
   ]
  },
  {
   "cell_type": "raw",
   "id": "ea59811f-0d8a-4e4f-ad06-f63b9413df10",
   "metadata": {},
   "source": [
    "A.B = A1B1 + A2B2 + A3B3\n",
    "A.B = Skalar"
   ]
  },
  {
   "cell_type": "raw",
   "id": "33b9db8d-e9b3-42a1-94ce-a641cfd3245c",
   "metadata": {},
   "source": []
  },
  {
   "cell_type": "raw",
   "id": "bce50627-6aa2-43c4-97e5-3e27039f8b61",
   "metadata": {},
   "source": [
    "#Matriks CROSS Product\n",
    "A = [A1, A1, A3]\n",
    "B = [B1, B2, B3]"
   ]
  },
  {
   "cell_type": "raw",
   "id": "9f521c2b-2b6f-4f25-8283-17b077406138",
   "metadata": {},
   "source": [
    "A x B = [A2B3 - A3B2, A3B1 - A1B3, A1B2 - A2B1]\n",
    "A x B = Matriks"
   ]
  },
  {
   "cell_type": "raw",
   "id": "54435fd3-15e7-4584-8832-8a886e1f5895",
   "metadata": {},
   "source": []
  },
  {
   "cell_type": "raw",
   "id": "0c3b2881-2480-45f0-9e76-60fefed76102",
   "metadata": {},
   "source": [
    "NOTE :\n",
    "SECARA MATEMATIS SKALAR< VEKTOR dan MATRIKS SEMUANYA DISEBUT TENSOR"
   ]
  }
 ],
 "metadata": {
  "kernelspec": {
   "display_name": "Python 3 (ipykernel)",
   "language": "python",
   "name": "python3"
  },
  "language_info": {
   "codemirror_mode": {
    "name": "ipython",
    "version": 3
   },
   "file_extension": ".py",
   "mimetype": "text/x-python",
   "name": "python",
   "nbconvert_exporter": "python",
   "pygments_lexer": "ipython3",
   "version": "3.12.7"
  }
 },
 "nbformat": 4,
 "nbformat_minor": 5
}
