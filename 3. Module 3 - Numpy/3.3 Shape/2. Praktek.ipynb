{
 "cells": [
  {
   "cell_type": "markdown",
   "id": "c968314a-2f2d-40fc-a270-3c0a49bc89de",
   "metadata": {},
   "source": [
    "# Praktek Shape"
   ]
  },
  {
   "cell_type": "markdown",
   "id": "5a5883cc-f727-46cf-afd3-5a0b2b16e3dd",
   "metadata": {},
   "source": [
    "### Mendapatkan shape dari Array"
   ]
  },
  {
   "cell_type": "code",
   "execution_count": 1,
   "id": "53c8a436-278e-486d-8c95-a8872faaad88",
   "metadata": {},
   "outputs": [],
   "source": [
    "import numpy as np"
   ]
  },
  {
   "cell_type": "code",
   "execution_count": 4,
   "id": "eaef5615-6833-4a95-8279-e2e55b456a35",
   "metadata": {},
   "outputs": [
    {
     "name": "stdout",
     "output_type": "stream",
     "text": [
      "(2, 4)\n",
      "8\n",
      "2\n"
     ]
    }
   ],
   "source": [
    "arr = np.array([[1, 2, 3, 4], [5, 6, 7, 8]])\n",
    "print(arr.shape)\n",
    "\n",
    "#bisa juga cek jumlah elemen dari keseluruhan\n",
    "print(arr.size)\n",
    "\n",
    "#bisa juga cek jumlah dimensi\n",
    "print(arr.ndim)"
   ]
  },
  {
   "cell_type": "markdown",
   "id": "f1e65aba-d9f0-4740-851a-c105d7e3fe1b",
   "metadata": {},
   "source": []
  },
  {
   "cell_type": "markdown",
   "id": "0110af07-a842-40af-a3c6-2aa22f592506",
   "metadata": {},
   "source": [
    "### Menggunakan (ndmin=) untuk mendefinisikan dimensi"
   ]
  },
  {
   "cell_type": "code",
   "execution_count": 9,
   "id": "f94fcc8d-dc1b-4b1c-a242-c9c4f5ff01cf",
   "metadata": {},
   "outputs": [
    {
     "name": "stdout",
     "output_type": "stream",
     "text": [
      "[[[1 2 3 4]]]\n",
      "(1, 1, 4)\n",
      "3\n"
     ]
    }
   ],
   "source": [
    "import numpy as np\n",
    "\n",
    "arr = np.array([1, 2, 3, 4], ndmin=3)\n",
    "print(arr)\n",
    "\n",
    "#Cek shape\n",
    "print(arr.shape)\n",
    "\n",
    "#Cek jumlah dimensi\n",
    "print(arr.ndim)"
   ]
  },
  {
   "cell_type": "markdown",
   "id": "721e85b8-fd42-4029-bde9-aa4f79d9a57e",
   "metadata": {},
   "source": []
  },
  {
   "cell_type": "markdown",
   "id": "a0fbae0f-4cfb-4e2f-937b-489575d7d773",
   "metadata": {},
   "source": [
    "### Reshape dari 1D ke 2D"
   ]
  },
  {
   "cell_type": "code",
   "execution_count": 16,
   "id": "84588364-0d59-4054-b82b-98b8537cf519",
   "metadata": {},
   "outputs": [
    {
     "data": {
      "text/plain": [
       "(12,)"
      ]
     },
     "execution_count": 16,
     "metadata": {},
     "output_type": "execute_result"
    }
   ],
   "source": [
    "import numpy as np\n",
    "\n",
    "arr = np.array([1, 2, 3, 4, 5, 6, 7, 8, 9, 10, 11, 12])\n",
    "arr.shape"
   ]
  },
  {
   "cell_type": "code",
   "execution_count": 23,
   "id": "f1625bea-8982-4be2-a925-5931a4c9cf6f",
   "metadata": {},
   "outputs": [
    {
     "data": {
      "text/plain": [
       "((4, 3),\n",
       " array([[ 1,  2,  3],\n",
       "        [ 4,  5,  6],\n",
       "        [ 7,  8,  9],\n",
       "        [10, 11, 12]]),\n",
       " 2)"
      ]
     },
     "execution_count": 23,
     "metadata": {},
     "output_type": "execute_result"
    }
   ],
   "source": [
    "arr = arr.reshape(4, 3)\n",
    "arr.shape, arr, arr.ndim"
   ]
  },
  {
   "cell_type": "markdown",
   "id": "7951dd0a-fc3c-46ca-aa91-612c27621ce9",
   "metadata": {},
   "source": []
  },
  {
   "cell_type": "markdown",
   "id": "3131a78f-28d3-49d2-a976-35ba16118e76",
   "metadata": {},
   "source": [
    "### Reshape dari 1D ke 3D"
   ]
  },
  {
   "cell_type": "code",
   "execution_count": 20,
   "id": "23feb58a-c5e6-4a51-a923-b20ef9543180",
   "metadata": {},
   "outputs": [
    {
     "data": {
      "text/plain": [
       "(12,)"
      ]
     },
     "execution_count": 20,
     "metadata": {},
     "output_type": "execute_result"
    }
   ],
   "source": [
    "arr = np.array([1, 2, 3, 4, 5, 6, 7, 8, 9, 10, 11, 12])\n",
    "arr.shape"
   ]
  },
  {
   "cell_type": "code",
   "execution_count": 22,
   "id": "cb1809c9-b05c-436b-8e99-396e4c5228c6",
   "metadata": {},
   "outputs": [
    {
     "data": {
      "text/plain": [
       "((2, 3, 2),\n",
       " array([[[ 1,  2],\n",
       "         [ 3,  4],\n",
       "         [ 5,  6]],\n",
       " \n",
       "        [[ 7,  8],\n",
       "         [ 9, 10],\n",
       "         [11, 12]]]),\n",
       " 3)"
      ]
     },
     "execution_count": 22,
     "metadata": {},
     "output_type": "execute_result"
    }
   ],
   "source": [
    "arr = arr.reshape(2, 3, 2)\n",
    "arr.shape, arr, arr.ndim"
   ]
  },
  {
   "cell_type": "markdown",
   "id": "dc231447-80ce-481b-9788-4ffef6a71998",
   "metadata": {},
   "source": []
  },
  {
   "cell_type": "markdown",
   "id": "706f678e-e6fb-49bb-be73-cca2d79c2da7",
   "metadata": {},
   "source": [
    "### Reshape -1 pada proses reshaping"
   ]
  },
  {
   "cell_type": "code",
   "execution_count": 24,
   "id": "75e8c923-2bdd-4aa1-b5d3-709be70b60c8",
   "metadata": {},
   "outputs": [
    {
     "data": {
      "text/plain": [
       "(12,)"
      ]
     },
     "execution_count": 24,
     "metadata": {},
     "output_type": "execute_result"
    }
   ],
   "source": [
    "arr = np.array([1, 2, 3, 4, 5, 6, 7, 8, 9, 10, 11, 12])\n",
    "arr.shape"
   ]
  },
  {
   "cell_type": "code",
   "execution_count": 26,
   "id": "9c26c6f7-cd1b-439d-9d46-f41427deb2db",
   "metadata": {},
   "outputs": [
    {
     "data": {
      "text/plain": [
       "((4, 3, 1),\n",
       " array([[[ 1],\n",
       "         [ 2],\n",
       "         [ 3]],\n",
       " \n",
       "        [[ 4],\n",
       "         [ 5],\n",
       "         [ 6]],\n",
       " \n",
       "        [[ 7],\n",
       "         [ 8],\n",
       "         [ 9]],\n",
       " \n",
       "        [[10],\n",
       "         [11],\n",
       "         [12]]]),\n",
       " 3)"
      ]
     },
     "execution_count": 26,
     "metadata": {},
     "output_type": "execute_result"
    }
   ],
   "source": [
    "arr = arr.reshape(4, 3, -1)\n",
    "arr.shape, arr, arr.ndim"
   ]
  },
  {
   "cell_type": "markdown",
   "id": "c1ce4924-b18d-4193-84df-dc228dcd03b4",
   "metadata": {},
   "source": []
  },
  {
   "cell_type": "markdown",
   "id": "0b20da0c-da68-43b9-9838-a9c231461da1",
   "metadata": {},
   "source": [
    "### Melakukan flattening pada Array (Meratakan jadi 1D)"
   ]
  },
  {
   "cell_type": "code",
   "execution_count": 27,
   "id": "0dad99f8-d758-4e5f-b1b9-2a0b6b3d7bbf",
   "metadata": {},
   "outputs": [
    {
     "data": {
      "text/plain": [
       "2"
      ]
     },
     "execution_count": 27,
     "metadata": {},
     "output_type": "execute_result"
    }
   ],
   "source": [
    "arr = np.array([[1, 2, 3, 4], [5, 6, 7, 8]])\n",
    "arr.ndim"
   ]
  },
  {
   "cell_type": "code",
   "execution_count": 30,
   "id": "651a59de-9983-44b4-9b4d-d6fae69d3bf1",
   "metadata": {},
   "outputs": [
    {
     "data": {
      "text/plain": [
       "array([1, 2, 3, 4, 5, 6, 7, 8])"
      ]
     },
     "execution_count": 30,
     "metadata": {},
     "output_type": "execute_result"
    }
   ],
   "source": [
    "arr = arr.flatten()\n",
    "arr"
   ]
  },
  {
   "cell_type": "code",
   "execution_count": 31,
   "id": "355fda65-18a8-4383-abf6-48427df4b77f",
   "metadata": {},
   "outputs": [
    {
     "data": {
      "text/plain": [
       "1"
      ]
     },
     "execution_count": 31,
     "metadata": {},
     "output_type": "execute_result"
    }
   ],
   "source": [
    "arr.ndim"
   ]
  },
  {
   "cell_type": "markdown",
   "id": "5bebf073-7b6b-4235-a2d1-9184787c7c11",
   "metadata": {},
   "source": []
  },
  {
   "cell_type": "markdown",
   "id": "57423d9e-4683-46cb-919e-735164d411d9",
   "metadata": {},
   "source": []
  },
  {
   "cell_type": "markdown",
   "id": "1d2bdadd-d663-49bc-9442-48c19bfdcedc",
   "metadata": {},
   "source": [
    "# Melakukan duplikasi array"
   ]
  },
  {
   "cell_type": "markdown",
   "id": "8aeeb3ed-db71-40f0-9841-b5a9374a461f",
   "metadata": {},
   "source": [
    "### Menggunakan copy"
   ]
  },
  {
   "cell_type": "code",
   "execution_count": 33,
   "id": "0a18c0fe-fb77-4dc5-93eb-57ba068fa8d3",
   "metadata": {},
   "outputs": [
    {
     "data": {
      "text/plain": [
       "array([1, 2, 3, 4, 5, 6, 7, 8])"
      ]
     },
     "execution_count": 33,
     "metadata": {},
     "output_type": "execute_result"
    }
   ],
   "source": [
    "arr = np.array([1, 2, 3, 4, 5, 6, 7, 8])\n",
    "x = arr.copy()\n",
    "x"
   ]
  },
  {
   "cell_type": "code",
   "execution_count": 34,
   "id": "acdcf396-2ad3-4b47-a7bd-ec2a840bb9a2",
   "metadata": {},
   "outputs": [
    {
     "data": {
      "text/plain": [
       "(array([42,  2,  3,  4,  5,  6,  7,  8]), array([1, 2, 3, 4, 5, 6, 7, 8]))"
      ]
     },
     "execution_count": 34,
     "metadata": {},
     "output_type": "execute_result"
    }
   ],
   "source": [
    "arr[0] = 42\n",
    "arr, x"
   ]
  },
  {
   "cell_type": "code",
   "execution_count": 35,
   "id": "81b57da9-681c-4d63-b85c-5203ea2c1808",
   "metadata": {},
   "outputs": [],
   "source": [
    "# jika menggunakan copy() maka x yang menjadi child dari arr tidak ikut berubah ketika kita mengubah parent"
   ]
  },
  {
   "cell_type": "markdown",
   "id": "237164e7-2d83-4839-92fc-05e81c404cb7",
   "metadata": {},
   "source": []
  },
  {
   "cell_type": "markdown",
   "id": "73f11838-6dc5-4314-8b9b-ea0a739ce5dc",
   "metadata": {},
   "source": [
    "### Menggunakan view()"
   ]
  },
  {
   "cell_type": "code",
   "execution_count": 36,
   "id": "3ee11e60-7bab-41e9-88ae-924c393c1ebe",
   "metadata": {},
   "outputs": [
    {
     "data": {
      "text/plain": [
       "array([1, 2, 3, 4, 5, 6, 7, 8])"
      ]
     },
     "execution_count": 36,
     "metadata": {},
     "output_type": "execute_result"
    }
   ],
   "source": [
    "arr = np.array([1, 2, 3, 4, 5, 6, 7, 8])\n",
    "x = arr.view()\n",
    "x"
   ]
  },
  {
   "cell_type": "code",
   "execution_count": 37,
   "id": "004116d0-0a6d-424f-a020-22fea975a233",
   "metadata": {},
   "outputs": [
    {
     "data": {
      "text/plain": [
       "(array([42,  2,  3,  4,  5,  6,  7,  8]),\n",
       " array([42,  2,  3,  4,  5,  6,  7,  8]))"
      ]
     },
     "execution_count": 37,
     "metadata": {},
     "output_type": "execute_result"
    }
   ],
   "source": [
    "arr[0] = 42\n",
    "arr, x"
   ]
  },
  {
   "cell_type": "code",
   "execution_count": 38,
   "id": "42dcf021-c2e7-49da-a14f-393065185f11",
   "metadata": {},
   "outputs": [],
   "source": [
    "# nah jika kita menggunakan view() maka child juga ikut berubah ketika kita mengubah parent"
   ]
  },
  {
   "cell_type": "code",
   "execution_count": null,
   "id": "2a15e695-3f01-44e2-8367-52c126b479fd",
   "metadata": {},
   "outputs": [],
   "source": []
  }
 ],
 "metadata": {
  "kernelspec": {
   "display_name": "Python 3 (ipykernel)",
   "language": "python",
   "name": "python3"
  },
  "language_info": {
   "codemirror_mode": {
    "name": "ipython",
    "version": 3
   },
   "file_extension": ".py",
   "mimetype": "text/x-python",
   "name": "python",
   "nbconvert_exporter": "python",
   "pygments_lexer": "ipython3",
   "version": "3.12.7"
  }
 },
 "nbformat": 4,
 "nbformat_minor": 5
}
