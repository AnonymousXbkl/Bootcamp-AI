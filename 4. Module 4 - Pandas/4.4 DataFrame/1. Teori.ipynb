{
 "cells": [
  {
   "cell_type": "markdown",
   "id": "3639c1ae",
   "metadata": {},
   "source": [
    "# DataFrame"
   ]
  },
  {
   "cell_type": "code",
   "execution_count": 1,
   "id": "413fb1f8",
   "metadata": {},
   "outputs": [],
   "source": [
    "import pandas as pd\n",
    "import numpy as np"
   ]
  },
  {
   "cell_type": "markdown",
   "id": "268650da",
   "metadata": {},
   "source": [
    "### Pandas DataFrame\n",
    "    Series bekerja seperti kolom pada sebuah tabel, sedangkan DataFrame seperti sebuah kolom itu sendiri dalam bentuk Array 2D atau tabel dengan baris dan kolom.\n"
   ]
  },
  {
   "cell_type": "markdown",
   "id": "b6e97084",
   "metadata": {},
   "source": [
    "### Membuat DataFrame"
   ]
  },
  {
   "cell_type": "code",
   "execution_count": 2,
   "id": "778a7851",
   "metadata": {},
   "outputs": [
    {
     "name": "stdout",
     "output_type": "stream",
     "text": [
      "   calories  duration\n",
      "0       420        50\n",
      "1       380        40\n",
      "2       390        45\n"
     ]
    }
   ],
   "source": [
    "data = {\"calories\": [420, 380, 390],\n",
    "        \"duration\": [50, 40, 45]}\n",
    "df = pd.DataFrame(data)\n",
    "\n",
    "print(df)"
   ]
  },
  {
   "cell_type": "markdown",
   "id": "993d2c6d",
   "metadata": {},
   "source": [
    "### Mengakses elemen pada DataFrame"
   ]
  },
  {
   "cell_type": "code",
   "execution_count": 6,
   "id": "fc13e6ab",
   "metadata": {},
   "outputs": [
    {
     "name": "stdout",
     "output_type": "stream",
     "text": [
      "   calories  duration\n",
      "0       420        50\n",
      "1       380        40\n"
     ]
    }
   ],
   "source": [
    "data = {\"calories\": [420, 380, 390],\n",
    "        \"duration\": [50, 40, 45]}\n",
    "df = pd.DataFrame(data)\n",
    "\n",
    "print(df.loc[[0, 1]])    # Akses data pada indeks ke 0 dan ke 1"
   ]
  },
  {
   "cell_type": "markdown",
   "id": "a91e3d2c",
   "metadata": {},
   "source": [
    "### Bisa juga memberi nama pada indeks"
   ]
  },
  {
   "cell_type": "code",
   "execution_count": 17,
   "id": "b2e12508",
   "metadata": {},
   "outputs": [
    {
     "name": "stdout",
     "output_type": "stream",
     "text": [
      "            0    1    2\n",
      "calories  420  380  390\n",
      "duration   50   40   45\n"
     ]
    }
   ],
   "source": [
    "data = {\"calories\": [420, 380, 390],\n",
    "        \"duration\": [50, 40, 45]}\n",
    "df = pd.DataFrame(data).T\n",
    "df.index = ['calories', 'duration']\n",
    "\n",
    "print(df)"
   ]
  },
  {
   "cell_type": "markdown",
   "id": "9a945976",
   "metadata": {},
   "source": [
    "### Mendapatkan DataFrame dari fungsi read"
   ]
  },
  {
   "cell_type": "code",
   "execution_count": null,
   "id": "3b6aba49",
   "metadata": {},
   "outputs": [],
   "source": [
    "df = pd.read_csv('./data.csv')\n",
    "print(df)\n",
    "\n",
    "# Nah ketika di print maka akan berbentuk DataFrame kalau di Pandas"
   ]
  }
 ],
 "metadata": {
  "kernelspec": {
   "display_name": "base",
   "language": "python",
   "name": "python3"
  },
  "language_info": {
   "codemirror_mode": {
    "name": "ipython",
    "version": 3
   },
   "file_extension": ".py",
   "mimetype": "text/x-python",
   "name": "python",
   "nbconvert_exporter": "python",
   "pygments_lexer": "ipython3",
   "version": "3.12.7"
  }
 },
 "nbformat": 4,
 "nbformat_minor": 5
}
