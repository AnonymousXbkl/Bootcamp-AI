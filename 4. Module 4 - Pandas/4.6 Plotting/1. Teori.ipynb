{
 "cells": [
  {
   "cell_type": "markdown",
   "id": "74acafb0",
   "metadata": {},
   "source": [
    "# Plotting"
   ]
  },
  {
   "cell_type": "markdown",
   "id": "01ee2f44",
   "metadata": {},
   "source": [
    "### Pandas Plotting\n",
    "    Pandas memiliki fungsi plot() untuk membuat beragam grafik ataupun diagram untuk memvisualisasikan data secara sederhana. Pada praktiknya, fungsi ini bisa dimanfaatkan bersama dengan library Matplotlib dan Seaborn.\n"
   ]
  },
  {
   "cell_type": "markdown",
   "id": "5847f647",
   "metadata": {},
   "source": []
  }
 ],
 "metadata": {
  "kernelspec": {
   "display_name": "base",
   "language": "python",
   "name": "python3"
  },
  "language_info": {
   "name": "python",
   "version": "3.12.7"
  }
 },
 "nbformat": 4,
 "nbformat_minor": 5
}
