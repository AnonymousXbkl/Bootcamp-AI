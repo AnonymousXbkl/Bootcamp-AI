{
 "cells": [
  {
   "cell_type": "raw",
   "id": "9b036539-74b7-4276-9293-4309893c5754",
   "metadata": {},
   "source": [
    "======================================================================= SPREAD =========================================================================="
   ]
  },
  {
   "cell_type": "raw",
   "id": "1b8aef9f-4a09-436b-a70d-4e2d23df27f9",
   "metadata": {},
   "source": []
  },
  {
   "cell_type": "raw",
   "id": "3ea111f2-8ad4-497c-b638-f97dc9d181dc",
   "metadata": {},
   "source": [
    "Istilah yang diperlukan untuk melakukan pengurukuran spread\n",
    "\n",
    "1. Range\n",
    "2. Percentile \n",
    "3. Quartile and Interquartile Range (IQR)\n",
    "4. Variance and Standard Deviation (STD)"
   ]
  },
  {
   "cell_type": "raw",
   "id": "4ff6bbd0-a403-4307-bb3e-7bc834391e96",
   "metadata": {},
   "source": [
    "RANGE\n",
    "    Range adalah jarak antara nilai minimum dak nilai maksimum."
   ]
  },
  {
   "cell_type": "code",
   "execution_count": 6,
   "id": "243a1dbb-8c59-4fd9-a5ea-b75d72bbe01a",
   "metadata": {},
   "outputs": [
    {
     "data": {
      "text/plain": [
       "np.int64(48)"
      ]
     },
     "execution_count": 6,
     "metadata": {},
     "output_type": "execute_result"
    }
   ],
   "source": [
    "#Mendapatkan nilai range\n",
    "import numpy as np\n",
    "\n",
    "data = [2, 3, 7, 8, 9, 12, 15, 20, 50, 42]\n",
    "minimum = np.min(data)\n",
    "maksimum = np.max(data)\n",
    "\n",
    "x = maksimum - minimum\n",
    "x"
   ]
  },
  {
   "cell_type": "raw",
   "id": "5f0fd839-801f-4948-9733-64c1c33eea53",
   "metadata": {},
   "source": [
    "PERCENTILE\n",
    "    Digunakan dalam statistik untuk mendapatkan nilai yang lebih rendah dari persentase tertentu dari sebuah nilai."
   ]
  },
  {
   "cell_type": "code",
   "execution_count": 8,
   "id": "aa617ceb-9292-4e0a-b8d7-f42ee5921616",
   "metadata": {},
   "outputs": [
    {
     "data": {
      "text/plain": [
       "np.float64(42.8)"
      ]
     },
     "execution_count": 8,
     "metadata": {},
     "output_type": "execute_result"
    }
   ],
   "source": [
    "#Berapa usia yang mana 90% dari usia yang ada lebih muda dari usia tersebut?\n",
    "\n",
    "usia = [5, 31, 43, 48, 50, 41, 7, 11, 15, 39, 82, 32, 2, 8, 6, 25, 36, 27, 61, 31]\n",
    "x = np.percentile(data, 90)\n",
    "x"
   ]
  },
  {
   "cell_type": "raw",
   "id": "fd3116c5-deba-4ca4-bbfc-d78f5652a1dd",
   "metadata": {},
   "source": [
    "Quartile and Interquartile Range (IQR)\n",
    "\n",
    "- QUARTILE\n",
    "    Quartile adalah sekelompok nilai pada data yang terbagi menjadi 4 bagian atau kelompok.\n",
    "\n",
    "                     3, 4, 4, 5, 5, 6, 6, 7, 8, 8, 9, 10   \n",
    "                            |        |        |\n",
    "                            |        |        |                      #Note kalau di tengah2 ditambahkan aja terus dibagi 2\n",
    "                            Q1       Q2       Q3                      misal Q2 = (6 + 6) / 2 \n",
    "                           4.5       6         8                               = 12 / 2\n",
    "                                                                               = 6\n",
    "Cara mudah mendapatkan kuartil pada data :\n",
    "1. Urutkan data dari nilai terkecil ke yang terbesar\n",
    "2. Temukan median dari kumpulan data \n",
    "3. Bagi kumpulan data menjadi dua bagian\n",
    "4. Tentukan media kedua dari bagian-bagian tersebut\n",
    "\n",
    "\n",
    "INTERQUARTILE (IQR)\n",
    "    Interquartile adalah nilai yang merupakan hasil SELISIH dari nilai kuartil atas dengan bawah."
   ]
  },
  {
   "cell_type": "code",
   "execution_count": 25,
   "id": "aa1c6824-a15a-444c-b96d-4a65c43c84d6",
   "metadata": {},
   "outputs": [
    {
     "data": {
      "text/plain": [
       "np.float64(3.5)"
      ]
     },
     "execution_count": 25,
     "metadata": {},
     "output_type": "execute_result"
    }
   ],
   "source": [
    "#Quartile\n",
    "import numpy as np\n",
    "\n",
    "data = [3, 4, 4, 5, 5, 6, 6, 7, 8, 8, 9, 10]\n",
    "Q1 = np.median(data[:len(data) // 2])\n",
    "Q2 = np.median(data[len(data) // 2:])\n",
    "IQR = Q2 - Q1\n",
    "IQR"
   ]
  },
  {
   "cell_type": "code",
   "execution_count": 12,
   "id": "a911ed6d-5fe2-4b7e-896e-f790f60f356f",
   "metadata": {},
   "outputs": [
    {
     "data": {
      "text/plain": [
       "3.5"
      ]
     },
     "execution_count": 12,
     "metadata": {},
     "output_type": "execute_result"
    }
   ],
   "source": [
    "#Interquartile Range (IQR)\n",
    "data = [3, 4, 4, 5, 5, 6, 6, 7, 8, 8, 9, 10]\n",
    "Q1 = 4.5\n",
    "Q3 = 8\n",
    "\n",
    "IQR = Q3 - Q1\n",
    "IQR"
   ]
  },
  {
   "cell_type": "code",
   "execution_count": 13,
   "id": "fff64dd6-3e49-4354-9a21-464d716b9b13",
   "metadata": {},
   "outputs": [
    {
     "data": {
      "text/plain": [
       "-0.75"
      ]
     },
     "execution_count": 13,
     "metadata": {},
     "output_type": "execute_result"
    }
   ],
   "source": [
    "#Untuk Mencari Outlayer bawah\n",
    "Lower_Bound = Q1 - 1.5 * IQR\n",
    "Lower_Bound"
   ]
  },
  {
   "cell_type": "code",
   "execution_count": 14,
   "id": "3cf3bcf9-a4ce-4aee-bc73-f6981593c34d",
   "metadata": {},
   "outputs": [
    {
     "data": {
      "text/plain": [
       "2.75"
      ]
     },
     "execution_count": 14,
     "metadata": {},
     "output_type": "execute_result"
    }
   ],
   "source": [
    "#Untuk mencari Outlayer atas\n",
    "Upper_Bound = Q3 - 1.5 * IQR\n",
    "Upper_Bound"
   ]
  },
  {
   "cell_type": "code",
   "execution_count": null,
   "id": "a5086361-b646-420f-9413-bf3ba7a56174",
   "metadata": {},
   "outputs": [],
   "source": []
  },
  {
   "cell_type": "raw",
   "id": "31e34366-60cb-4ada-a2e9-a9b264b719a4",
   "metadata": {},
   "source": [
    "VARIANCE\n",
    "    Variance adalah pengukuran nilai penyebaran semua titik data yang ada dalam sekelompok data. Seringnya kita menggunakan STD yang merupakan akar kuadrat dari nilai Variance\n",
    "\n",
    "Rumus standar deviation = https://www.zenius.net/blog/2-rumus-standar-deviasi/\n",
    "\n",
    "86, 87, 88, 86, 87, 85, 86\n",
    "STD : 0.9\n",
    "\n",
    "#dari mana dapat STD?\n",
    "jadi dia itu jarak antar angka itu rata2 0.9 setelah data diurutkan"
   ]
  },
  {
   "cell_type": "raw",
   "id": "ce27c327-c840-48d0-9b1e-356d7636e34a",
   "metadata": {},
   "source": [
    "Note :\n",
    "semakin besar nilai STD makan semakin tersebar juga jarak antar angkanya"
   ]
  },
  {
   "cell_type": "code",
   "execution_count": 27,
   "id": "a2b767d7-513f-4806-922e-7e6a605bae56",
   "metadata": {},
   "outputs": [
    {
     "data": {
      "text/plain": [
       "np.float64(0.9035079029052513)"
      ]
     },
     "execution_count": 27,
     "metadata": {},
     "output_type": "execute_result"
    }
   ],
   "source": [
    "data = [86, 87, 88, 86, 87, 85, 86]\n",
    "var = np.var(data)\n",
    "std = np.std(data)\n",
    "std"
   ]
  },
  {
   "cell_type": "code",
   "execution_count": null,
   "id": "ece41fdd-0f95-4dfe-b276-834fbc239a03",
   "metadata": {},
   "outputs": [],
   "source": []
  }
 ],
 "metadata": {
  "kernelspec": {
   "display_name": "Python 3 (ipykernel)",
   "language": "python",
   "name": "python3"
  },
  "language_info": {
   "codemirror_mode": {
    "name": "ipython",
    "version": 3
   },
   "file_extension": ".py",
   "mimetype": "text/x-python",
   "name": "python",
   "nbconvert_exporter": "python",
   "pygments_lexer": "ipython3",
   "version": "3.12.7"
  }
 },
 "nbformat": 4,
 "nbformat_minor": 5
}
