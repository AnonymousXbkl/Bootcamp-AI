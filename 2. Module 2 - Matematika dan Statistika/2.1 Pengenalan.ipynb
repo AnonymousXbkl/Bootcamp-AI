{
 "cells": [
  {
   "cell_type": "raw",
   "id": "a5bcbcf5-5e52-42d0-bc85-b8a7a0ac6af9",
   "metadata": {},
   "source": [
    "Alur kerja AI dan Data Science\n",
    "    1. Data Collection\n",
    "    2. Data Cleaning and Analysis (EDA)\n",
    "    3. Data Modeling\n",
    "    4. Model Evalutation\n",
    "    5. Model Deployment and Maintenance\n",
    "\n",
    "\n",
    "Apa itu Data Cleaning and Analysis?\n",
    "    Exploratory Data Analysis (EDA) adalah tahapan dalam alur kerja atau siklus hidup AI/Mechine Learning ataupun Data Science yang meminta kita untuk memahami isi data yang digunakan mulai dari distribusi, frekuensi, korelasi dan lainnya\n",
    "\n",
    "\n",
    "OUTLINE :\n",
    "    1. Skalar, Vektor dan Matriks\n",
    "    2. Tipe Data\n",
    "    3. Central Tendency\n",
    "    4. Spread\n",
    "    5. Distribution"
   ]
  },
  {
   "cell_type": "code",
   "execution_count": null,
   "id": "2a0e5b28-4b73-470a-82b7-e171b8e22bb8",
   "metadata": {},
   "outputs": [],
   "source": []
  }
 ],
 "metadata": {
  "kernelspec": {
   "display_name": "Python 3 (ipykernel)",
   "language": "python",
   "name": "python3"
  },
  "language_info": {
   "codemirror_mode": {
    "name": "ipython",
    "version": 3
   },
   "file_extension": ".py",
   "mimetype": "text/x-python",
   "name": "python",
   "nbconvert_exporter": "python",
   "pygments_lexer": "ipython3",
   "version": "3.12.7"
  }
 },
 "nbformat": 4,
 "nbformat_minor": 5
}
