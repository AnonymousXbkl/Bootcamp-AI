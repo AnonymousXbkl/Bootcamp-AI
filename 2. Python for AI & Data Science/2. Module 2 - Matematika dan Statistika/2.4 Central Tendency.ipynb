{
 "cells": [
  {
   "cell_type": "raw",
   "id": "c48ad570-23fc-4b39-87b3-b34269b3ac2f",
   "metadata": {},
   "source": [
    "STATISTIKA\n",
    "    Ilmu statistika dibagi menjadi dua yaitu STATISTIK DESKTIPTIF dan STATISTIK INFERENSIAL"
   ]
  },
  {
   "cell_type": "raw",
   "id": "13845ce6-7e31-45f2-a94b-16f1711f8ce9",
   "metadata": {
    "editable": true,
    "raw_mimetype": "",
    "slideshow": {
     "slide_type": ""
    },
    "tags": []
   },
   "source": [
    "STATISTIK DESKRIPTIF (lebih fokus kesini)\n",
    "    Statistik deskriptif adalah metode yang berkaitan dengan cara mengatur, merepresentasikan dan mendeskripsikan kumpulan data (sampel) menggunakan tabel, grafik, dan banyak parameter numerik lainnya."
   ]
  },
  {
   "cell_type": "raw",
   "id": "77dd3d29-1af1-4753-9eca-b43488466f09",
   "metadata": {},
   "source": [
    "STATISTIK INFERENSIAL\n",
    "    Statistik inferensial adalah metode yang berkaitan dengan cara menarik kesimpulan terhadap karakteristik sebuah populasi dengan memanfaatkan informasi dari sampel yang dihasilkan dari statistik deskriptif"
   ]
  },
  {
   "cell_type": "raw",
   "id": "cd604288-69a6-4cf0-891d-da3cebfbbad7",
   "metadata": {},
   "source": []
  },
  {
   "cell_type": "raw",
   "id": "b5a5742e-9f8f-402f-bf71-98d20352e012",
   "metadata": {},
   "source": [
    "PENGUKURAN\n",
    "    Beberapa istilah yang termasuk golongan Deskriptif seperti MEAN, MEDIAN, MODE(modus), STANDARD DEVIATION, CORELATION VARIANCE dan lain sebagainya akan diperlukan pengukuran sebagai berikut :\n",
    "\n",
    "1. Measures of Central Tendency (Kecenderungan pusat)\n",
    "       Merupankan nilai yang menunjukkan titik tengah dari suatu dataset untuk mengetahui dimana posisi banyak nilai data berkumpul di dalam distribusi.\n",
    "   Nilai MEAN, MEDIAN dan MODE(modus) adalah ukuran tendensi yang paling sering digunakan.\n",
    "\n",
    "2. Measures of Spread (Sebaran)\n",
    "       \n",
    "3. Measures of Shape of Distribution (Bentuk distribusi)"
   ]
  },
  {
   "cell_type": "code",
   "execution_count": null,
   "id": "c0b195ee-e883-4cca-8fda-44d236f40484",
   "metadata": {},
   "outputs": [
    {
     "ename": "ModuleNotFoundError",
     "evalue": "No module named 'numpy'",
     "output_type": "error",
     "traceback": [
      "\u001b[1;31m---------------------------------------------------------------------------\u001b[0m",
      "\u001b[1;31mModuleNotFoundError\u001b[0m                       Traceback (most recent call last)",
      "Cell \u001b[1;32mIn[2], line 1\u001b[0m\n\u001b[1;32m----> 1\u001b[0m \u001b[38;5;28;01mimport\u001b[39;00m\u001b[38;5;250m \u001b[39m\u001b[38;5;21;01mnumpy\u001b[39;00m\u001b[38;5;250m \u001b[39m\u001b[38;5;28;01mas\u001b[39;00m\u001b[38;5;250m \u001b[39m\u001b[38;5;21;01mnp\u001b[39;00m\n\u001b[0;32m      2\u001b[0m \u001b[38;5;28;01mfrom\u001b[39;00m\u001b[38;5;250m \u001b[39m\u001b[38;5;21;01mscipy\u001b[39;00m\u001b[38;5;250m \u001b[39m\u001b[38;5;28;01mimport\u001b[39;00m stats \u001b[38;5;28;01mas\u001b[39;00m st   \u001b[38;5;66;03m#karena di libary numpy tidak ada jadi kita harus gunakan scipy dan import stats\u001b[39;00m\n\u001b[0;32m      4\u001b[0m \u001b[38;5;66;03m#Mean\u001b[39;00m\n",
      "\u001b[1;31mModuleNotFoundError\u001b[0m: No module named 'numpy'"
     ]
    }
   ],
   "source": [
    "import numpy as np\n",
    "from scipy import stats as st   #karena di libary numpy tidak ada jadi kita harus gunakan scipy dan import stats\n",
    "\n",
    ".\\env\\Scripts\\activate\n",
    "#Mean\n",
    "score = [90, 80, 70, 65, 110, 80, 83, 67, 94]\n",
    "x = np.mean(score)\n",
    "x"
   ]
  },
  {
   "cell_type": "code",
   "execution_count": 16,
   "id": "f9b6f965-61fb-4cfc-90b7-9ba0df541569",
   "metadata": {},
   "outputs": [
    {
     "data": {
      "text/plain": [
       "np.float64(80.0)"
      ]
     },
     "execution_count": 16,
     "metadata": {},
     "output_type": "execute_result"
    }
   ],
   "source": [
    "#Median\n",
    "score = [90, 80, 70, 65, 110, 80, 83, 67, 94]\n",
    "y = np.median(score)\n",
    "y"
   ]
  },
  {
   "cell_type": "code",
   "execution_count": 17,
   "id": "d30a3582-6c0e-4051-9385-9a89c57d7d02",
   "metadata": {},
   "outputs": [
    {
     "data": {
      "text/plain": [
       "ModeResult(mode=np.int64(80), count=np.int64(2))"
      ]
     },
     "execution_count": 17,
     "metadata": {},
     "output_type": "execute_result"
    }
   ],
   "source": [
    "#Mode (Modus)\n",
    "score = [90, 80, 70, 65, 110, 80, 83, 67, 94]\n",
    "z = st.mode(score)\n",
    "z"
   ]
  },
  {
   "cell_type": "raw",
   "id": "57215af2-f4e2-46fc-8650-05513a89d778",
   "metadata": {},
   "source": [
    "Distribusi data\n",
    "Central Tendency (Tendensi Sentral)\n",
    "\n",
    "\n",
    "\n",
    "                          | |                           |                           | |\n",
    "                        | | |                         | | |                         | | |\n",
    "                      | | | | |                     | | | | |                     | | | | |\n",
    "                    | | | | | | |                 | | | | | | |                 | | | | | | |\n",
    "               Distribusi Miring (kanan)         Distribusi Pusat          Distribusi Miring (kiri)\n",
    "                   |      |      |                     |                     |       |       |\n",
    "                 Mean   Median  Modus         Mean = Median = Modus        Mean    Median  Modus\n",
    "\n"
   ]
  },
  {
   "cell_type": "raw",
   "id": "8e91a9fc-5e45-4627-b177-4ad04c57a6ef",
   "metadata": {},
   "source": [
    "Kesimpulan\n",
    "\n",
    "- Populasi adalah keseluruhan dari subject penelitian, sedangkan sampel adalah bagian dari populasi tersebut\n",
    "  Misal ada populasi abjad = A, B, C, D, E, F, G\n",
    "  maka sampel dari populasi abjad tersebut adalah A  #sampel itu bagian dari populasi\n",
    "\n",
    "- Central Tendency (tendensi sentral)\n",
    "  Merupakan nilai yang menunjukkan titik tengah dari suatu dataset"
   ]
  },
  {
   "cell_type": "code",
   "execution_count": null,
   "id": "eb9c4554-6e6b-442b-b980-3b406c6634eb",
   "metadata": {},
   "outputs": [],
   "source": []
  }
 ],
 "metadata": {
  "kernelspec": {
   "display_name": "Python 3",
   "language": "python",
   "name": "python3"
  },
  "language_info": {
   "codemirror_mode": {
    "name": "ipython",
    "version": 3
   },
   "file_extension": ".py",
   "mimetype": "text/x-python",
   "name": "python",
   "nbconvert_exporter": "python",
   "pygments_lexer": "ipython3",
   "version": "3.10.11"
  }
 },
 "nbformat": 4,
 "nbformat_minor": 5
}
