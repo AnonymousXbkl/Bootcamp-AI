{
 "cells": [
  {
   "cell_type": "markdown",
   "id": "a9edbcc0",
   "metadata": {},
   "source": [
    "**Nama** : Suwandi Ramadhan <br>\n",
    "**Grup** : Prof. Suyanto"
   ]
  },
  {
   "cell_type": "code",
   "execution_count": 1,
   "id": "b0ccf940",
   "metadata": {},
   "outputs": [],
   "source": [
    "import numpy as np\n",
    "import pandas as pd\n",
    "import seaborn as sns\n",
    "import matplotlib\n",
    "import matplotlib.pyplot as plt"
   ]
  },
  {
   "cell_type": "code",
   "execution_count": 2,
   "id": "8e2d9747",
   "metadata": {},
   "outputs": [
    {
     "data": {
      "text/html": [
       "<div>\n",
       "<style scoped>\n",
       "    .dataframe tbody tr th:only-of-type {\n",
       "        vertical-align: middle;\n",
       "    }\n",
       "\n",
       "    .dataframe tbody tr th {\n",
       "        vertical-align: top;\n",
       "    }\n",
       "\n",
       "    .dataframe thead th {\n",
       "        text-align: right;\n",
       "    }\n",
       "</style>\n",
       "<table border=\"1\" class=\"dataframe\">\n",
       "  <thead>\n",
       "    <tr style=\"text-align: right;\">\n",
       "      <th></th>\n",
       "      <th>Order</th>\n",
       "      <th>PID</th>\n",
       "      <th>MS SubClass</th>\n",
       "      <th>MS Zoning</th>\n",
       "      <th>Lot Frontage</th>\n",
       "      <th>Lot Area</th>\n",
       "      <th>Street</th>\n",
       "      <th>Alley</th>\n",
       "      <th>Lot Shape</th>\n",
       "      <th>Land Contour</th>\n",
       "      <th>...</th>\n",
       "      <th>Pool Area</th>\n",
       "      <th>Pool QC</th>\n",
       "      <th>Fence</th>\n",
       "      <th>Misc Feature</th>\n",
       "      <th>Misc Val</th>\n",
       "      <th>Mo Sold</th>\n",
       "      <th>Yr Sold</th>\n",
       "      <th>Sale Type</th>\n",
       "      <th>Sale Condition</th>\n",
       "      <th>SalePrice</th>\n",
       "    </tr>\n",
       "  </thead>\n",
       "  <tbody>\n",
       "    <tr>\n",
       "      <th>0</th>\n",
       "      <td>1</td>\n",
       "      <td>526301100</td>\n",
       "      <td>20</td>\n",
       "      <td>RL</td>\n",
       "      <td>141.0</td>\n",
       "      <td>31770</td>\n",
       "      <td>Pave</td>\n",
       "      <td>NaN</td>\n",
       "      <td>IR1</td>\n",
       "      <td>Lvl</td>\n",
       "      <td>...</td>\n",
       "      <td>0</td>\n",
       "      <td>NaN</td>\n",
       "      <td>NaN</td>\n",
       "      <td>NaN</td>\n",
       "      <td>0</td>\n",
       "      <td>5</td>\n",
       "      <td>2010</td>\n",
       "      <td>WD</td>\n",
       "      <td>Normal</td>\n",
       "      <td>215000</td>\n",
       "    </tr>\n",
       "    <tr>\n",
       "      <th>1</th>\n",
       "      <td>2</td>\n",
       "      <td>526350040</td>\n",
       "      <td>20</td>\n",
       "      <td>RH</td>\n",
       "      <td>80.0</td>\n",
       "      <td>11622</td>\n",
       "      <td>Pave</td>\n",
       "      <td>NaN</td>\n",
       "      <td>Reg</td>\n",
       "      <td>Lvl</td>\n",
       "      <td>...</td>\n",
       "      <td>0</td>\n",
       "      <td>NaN</td>\n",
       "      <td>MnPrv</td>\n",
       "      <td>NaN</td>\n",
       "      <td>0</td>\n",
       "      <td>6</td>\n",
       "      <td>2010</td>\n",
       "      <td>WD</td>\n",
       "      <td>Normal</td>\n",
       "      <td>105000</td>\n",
       "    </tr>\n",
       "    <tr>\n",
       "      <th>2</th>\n",
       "      <td>3</td>\n",
       "      <td>526351010</td>\n",
       "      <td>20</td>\n",
       "      <td>RL</td>\n",
       "      <td>81.0</td>\n",
       "      <td>14267</td>\n",
       "      <td>Pave</td>\n",
       "      <td>NaN</td>\n",
       "      <td>IR1</td>\n",
       "      <td>Lvl</td>\n",
       "      <td>...</td>\n",
       "      <td>0</td>\n",
       "      <td>NaN</td>\n",
       "      <td>NaN</td>\n",
       "      <td>Gar2</td>\n",
       "      <td>12500</td>\n",
       "      <td>6</td>\n",
       "      <td>2010</td>\n",
       "      <td>WD</td>\n",
       "      <td>Normal</td>\n",
       "      <td>172000</td>\n",
       "    </tr>\n",
       "    <tr>\n",
       "      <th>3</th>\n",
       "      <td>4</td>\n",
       "      <td>526353030</td>\n",
       "      <td>20</td>\n",
       "      <td>RL</td>\n",
       "      <td>93.0</td>\n",
       "      <td>11160</td>\n",
       "      <td>Pave</td>\n",
       "      <td>NaN</td>\n",
       "      <td>Reg</td>\n",
       "      <td>Lvl</td>\n",
       "      <td>...</td>\n",
       "      <td>0</td>\n",
       "      <td>NaN</td>\n",
       "      <td>NaN</td>\n",
       "      <td>NaN</td>\n",
       "      <td>0</td>\n",
       "      <td>4</td>\n",
       "      <td>2010</td>\n",
       "      <td>WD</td>\n",
       "      <td>Normal</td>\n",
       "      <td>244000</td>\n",
       "    </tr>\n",
       "    <tr>\n",
       "      <th>4</th>\n",
       "      <td>5</td>\n",
       "      <td>527105010</td>\n",
       "      <td>60</td>\n",
       "      <td>RL</td>\n",
       "      <td>74.0</td>\n",
       "      <td>13830</td>\n",
       "      <td>Pave</td>\n",
       "      <td>NaN</td>\n",
       "      <td>IR1</td>\n",
       "      <td>Lvl</td>\n",
       "      <td>...</td>\n",
       "      <td>0</td>\n",
       "      <td>NaN</td>\n",
       "      <td>MnPrv</td>\n",
       "      <td>NaN</td>\n",
       "      <td>0</td>\n",
       "      <td>3</td>\n",
       "      <td>2010</td>\n",
       "      <td>WD</td>\n",
       "      <td>Normal</td>\n",
       "      <td>189900</td>\n",
       "    </tr>\n",
       "  </tbody>\n",
       "</table>\n",
       "<p>5 rows × 82 columns</p>\n",
       "</div>"
      ],
      "text/plain": [
       "   Order        PID  MS SubClass MS Zoning  Lot Frontage  Lot Area Street  \\\n",
       "0      1  526301100           20        RL         141.0     31770   Pave   \n",
       "1      2  526350040           20        RH          80.0     11622   Pave   \n",
       "2      3  526351010           20        RL          81.0     14267   Pave   \n",
       "3      4  526353030           20        RL          93.0     11160   Pave   \n",
       "4      5  527105010           60        RL          74.0     13830   Pave   \n",
       "\n",
       "  Alley Lot Shape Land Contour  ... Pool Area Pool QC  Fence Misc Feature  \\\n",
       "0   NaN       IR1          Lvl  ...         0     NaN    NaN          NaN   \n",
       "1   NaN       Reg          Lvl  ...         0     NaN  MnPrv          NaN   \n",
       "2   NaN       IR1          Lvl  ...         0     NaN    NaN         Gar2   \n",
       "3   NaN       Reg          Lvl  ...         0     NaN    NaN          NaN   \n",
       "4   NaN       IR1          Lvl  ...         0     NaN  MnPrv          NaN   \n",
       "\n",
       "  Misc Val Mo Sold Yr Sold Sale Type  Sale Condition  SalePrice  \n",
       "0        0       5    2010       WD           Normal     215000  \n",
       "1        0       6    2010       WD           Normal     105000  \n",
       "2    12500       6    2010       WD           Normal     172000  \n",
       "3        0       4    2010       WD           Normal     244000  \n",
       "4        0       3    2010       WD           Normal     189900  \n",
       "\n",
       "[5 rows x 82 columns]"
      ]
     },
     "execution_count": 2,
     "metadata": {},
     "output_type": "execute_result"
    }
   ],
   "source": [
    "df = pd.read_csv(\"AmesHousing.csv\")\n",
    "df.head()"
   ]
  },
  {
   "cell_type": "markdown",
   "id": "5e84fe93",
   "metadata": {},
   "source": [
    "# 1. Business & Data Understanding"
   ]
  },
  {
   "cell_type": "markdown",
   "id": "bfe4afc5",
   "metadata": {},
   "source": [
    "## 1.1 Business"
   ]
  },
  {
   "cell_type": "markdown",
   "id": "39954a81",
   "metadata": {},
   "source": [
    "### 1.1.1 Seperti apa industri Real Estate di Indonesia"
   ]
  },
  {
   "cell_type": "markdown",
   "id": "da052ab2",
   "metadata": {},
   "source": [
    "### 1.1.2 Seberapa penting sistem prediksi harga rumah?"
   ]
  },
  {
   "cell_type": "markdown",
   "id": "36c6ba2c",
   "metadata": {},
   "source": [
    "### 1.1.3 Supervised atau Unsupervised Learning? Algoritma apa yang digunakan?"
   ]
  },
  {
   "cell_type": "markdown",
   "id": "dfc44241",
   "metadata": {},
   "source": [
    "## 1.2 Data Understanding"
   ]
  },
  {
   "cell_type": "markdown",
   "id": "593b8c8c",
   "metadata": {},
   "source": [
    "### Berikut adalah penjelasan untuk setiap fitur dalam dataset <br> **AmesHousing**, disertai dengan :"
   ]
  },
  {
   "cell_type": "markdown",
   "id": "d74c7bc5",
   "metadata": {},
   "source": [
    "- **Fitur**\n",
    "- **Deskripsi Dataset Untuk Tiap Kolom/Fitur**\n",
    "- **Dtype Untuk Tiap Kolom/Fitur**\n",
    "- **Tipe Data** (Numerik/Kategorikal)\n"
   ]
  },
  {
   "cell_type": "markdown",
   "id": "b60fb977",
   "metadata": {},
   "source": [
    "### Identifikasi Properti"
   ]
  },
  {
   "cell_type": "markdown",
   "id": "091d1eae",
   "metadata": {},
   "source": [
    "| Fitur | Deskripsi | Dtype | Tipe | Jumlah Data Yang Hilang |\n",
    "|:-------:|:-----------:|:-------:|:------:|:-------------------------:|\n",
    "| `Order` | Nomor urutan data entri properti | int64 | Numerical | Tidak ada data hilang |\n",
    "| `PID` | ID unik Properti | int64 | Numerical | Tidak ada data hilang |"
   ]
  },
  {
   "cell_type": "markdown",
   "id": "41d8526f",
   "metadata": {},
   "source": [
    "### Informasi Lokasi & Lahan"
   ]
  },
  {
   "cell_type": "markdown",
   "id": "411fad2a",
   "metadata": {},
   "source": [
    "| Fitur | Deskripsi | Dtype | Tipe | Jumlah Data Yang Hilang |\n",
    "|:-----:|:---------:|:-----:|:----:|:-----------------------:|\n",
    "| `MS SubClass` | Subkelas hunian yang terlibat dalam penjualan | int64 | Numerical/Kategori | Tidak ada data hilang |\n",
    "| `MS Zoning` | Zona umum perumahan dalam batas kota` | object | Kategorikal | Tidak ada data hilang |\n",
    "| `Lot Frontage\t` | Luas (feet) jalan yang terhubung dengan properti | float64 | Numerical | <span style=\"color: yellow;\">490 data hilang</span> |\n",
    "| `Lot Area` | Luas lot properti | int64 | Numerical | Tidak ada data hilang |\n",
    "| `Street` | Tipe akses jalan menuju properti | object | Kategorikal | Tidak ada data hilang |\n",
    "| `Alley` | Tipe akses gang | object | Kategorikal | <span style=\"color: red;\">2732 data hilang</span> |\n",
    "| `Lot Shape` | Bentuk umum properti | object | Kategorikal | Tidak ada data hilang |\n",
    "| `Land Contour` | Kerataan tanah properti | object | Kategorikal | Tidak ada data hilang |\n",
    "| `Utilities` | Jenis utilitas (layanan publik) yang tersedia | object | Kategorikal | Tidak ada data hilang |\n",
    "| `Lot Config` | Konfigurasi lot properti (misal: hook, inside lot) | object | Kategorikal | Tidak ada data hilang |\n",
    "| `Land Slope` | Kemiringan tanah properti | object | Kategorikal | Tidak ada data hilang |\n",
    "| `Neighborhood` | Nama fisik kawasan (perumahan) dalam batas kota Ames | object | Kategorikal | Tidak ada data hilang |\n",
    "| `Condition 1` | Kedekatan dengan berbagai kondisi/fitur (misal: jalan arteri, rel kereta api) | object | Kategorikal | Tidak ada data hilang |\n",
    "| `Condition 2` | Kedekatan dengan kondisi/fitur (jika ada lebih dari satu) | object | Kategorikal | Tidak ada data hilang |"
   ]
  },
  {
   "cell_type": "markdown",
   "id": "318934f4",
   "metadata": {},
   "source": [
    "### Informasi Bangunan Utama"
   ]
  },
  {
   "cell_type": "markdown",
   "id": "cb48ed89",
   "metadata": {},
   "source": [
    "| Fitur | Deskripsi | Dtype | Tipe | Jumlah Data Yang Hilang |\n",
    "|:-----:|:---------:|:-----:|:----:|:-----------------------:|\n",
    "| `Bldg Type` | Tipe tempat tinggal (misal: rumah tunggal satu keluarga, dupleks) | object | object | Tidak ada data hilang |\n",
    "| `House Style` | Gaya tempat tinggal (misal: 1 lantai, 2 lantai) | object | Kategorikal | Tidak ada data hilang |\n",
    "| `Overall Qual` | Menilai kualitas material dan finishing rumah secara keseluruhan (misal: 1-10) | int64 | Numerical | Tidak ada data hilang |\n",
    "| `Overall Cond` | Menilai kondisi rumah secara keseluruhan (misal: 1-10) | int64 | Numerical | Tidak ada data hilang |\n",
    "| `Year Built` | Tanggal pembangunan awal | int64 | Numerical | Tidak ada data hilang |\n",
    "| `Year Remod/Add` | Tanggal renovasi atau penambahan terakhir (jika ada) | int64 | Numerical | Tidak ada data hilang |\n",
    "| `Roof Style` | Tipe atap | object | Kategorikal | Tidak ada data hilang |\n",
    "| `Exterior 1st` | Material penutup eksterior utama (sisi rumah) | object | Kategorikal | Tidak ada data hilang |\n",
    "| `Exterior 2nd` | Material penutup eksterior kedua (jika berbeda) | object | Kategorikal | Tidak ada data hilang |\n",
    "| `Mas Vnr Type` | Tipe veneer batu/masonry (jika ada) | object | Kategorikal | <span style=\"color:red\">1775 data hilang<span> |\n",
    "| `Mas Vnr Area` | Luas area veneer batu/masonry (dalam kaki persegi) | float64 | Numerical | <span style=\"color:yellow\">23 data hilang<span> |\n",
    "| `Exter Qual` | Kualitas material eksterior saat ini | object | Kategorikal | Tidak ada data hilang |\n",
    "| `Exter Cond` | Kondisi material eksterior saat ini | object | Kategorikal | Tidak ada data hilang |\n"
   ]
  },
  {
   "cell_type": "markdown",
   "id": "317dbd5b",
   "metadata": {},
   "source": [
    "### Fondasi & Basement"
   ]
  },
  {
   "cell_type": "markdown",
   "id": "e9d9386a",
   "metadata": {},
   "source": [
    "| Fitur | Deskripsi | Dtype | Tipe | Jumlah Data Yang Hilang |\n",
    "|:-----:|:---------:|:-----:|:----:|:-----------------------:|\n",
    "| `Foundation` | Tipe fondasi | object | Kategorikal | Tidak ada data hilang |\n",
    "| `Bsmt Qual` | Kualitas tinggi basement (Tinggi Headroom) | object | Kategorikal | <span style=\"color:yellow\">80 data hilang<span> |\n",
    "| `Bsmt Cond` | Kondisi umum basement | object | Kategorikal | <span style=\"color:yellow\">80 data hilang<span> |\n",
    "| `Bsmt Exposure` | Tingkat dinding basement yang walkout atau terpapar ke taman | object | Kategorikal | <span style=\"color:yellow\">83 data hilang<span> |\n",
    "| `BsmtFin Type 1` | Kualitas area selesai basement yang dominan | object | Kategorikal | <span style=\"color:yellow\">80 data hilang<span> |\n",
    "| `BsmtFin SF 1` | Luas (dalam kaki persegi) area selesai tipe 1 di basement | float64 | Numerical | <span style=\"color:yellow\">1 data hilang<span> |\n",
    "| `BsmtFin Type 2` | Kualitas area selesai basement yang kedua (jika ada) | object | Kategorikal | <span style=\"color:yellow\">81 data hilang<span> |\n",
    "| `BsmtFin SF 2` | Luas (dalam kaki persegi) area selesai tipe 2 di basement | float64 | Numerical | <span style=\"color:yellow\">1 data hilang<span> |\n",
    "| `Bsmt Unf SF` | Luas (dalam kaki persegi) area basement yang belum selesai | float64 | Numerical | <span style=\"color:yellow\">1 data hilang<span> |\n",
    "| `Total Bsmt SF` | Total luas (dalam kaki persegi) basement | float64 | Numerical | <span style=\"color:yellow\">1 data hilang<span> |"
   ]
  },
  {
   "cell_type": "markdown",
   "id": "12c50984",
   "metadata": {},
   "source": [
    "### Sistem Internal & Ruangan (di atas tanah)"
   ]
  },
  {
   "cell_type": "markdown",
   "id": "8f749fec",
   "metadata": {},
   "source": [
    "| Fitur | Deskripsi | Dtype | Tipe | Jumlah Data Yang Hilang |\n",
    "|:-----:|:---------:|:-----:|:----:|:-----------------------:|\n",
    "| `` |  |  |  |  |\n",
    "| `` |  |  |  |  |\n",
    "| `` |  |  |  |  |\n",
    "| `` |  |  |  |  |\n",
    "| `` |  |  |  |  |\n",
    "| `` |  |  |  |  |"
   ]
  },
  {
   "cell_type": "code",
   "execution_count": 6,
   "id": "7fb997bc",
   "metadata": {},
   "outputs": [
    {
     "name": "stdout",
     "output_type": "stream",
     "text": [
      "<class 'pandas.core.frame.DataFrame'>\n",
      "RangeIndex: 2930 entries, 0 to 2929\n",
      "Data columns (total 82 columns):\n",
      " #   Column           Non-Null Count  Dtype  \n",
      "---  ------           --------------  -----  \n",
      " 0   Order            2930 non-null   int64  \n",
      " 1   PID              2930 non-null   int64  \n",
      " 2   MS SubClass      2930 non-null   int64  \n",
      " 3   MS Zoning        2930 non-null   object \n",
      " 4   Lot Frontage     2440 non-null   float64\n",
      " 5   Lot Area         2930 non-null   int64  \n",
      " 6   Street           2930 non-null   object \n",
      " 7   Alley            198 non-null    object \n",
      " 8   Lot Shape        2930 non-null   object \n",
      " 9   Land Contour     2930 non-null   object \n",
      " 10  Utilities        2930 non-null   object \n",
      " 11  Lot Config       2930 non-null   object \n",
      " 12  Land Slope       2930 non-null   object \n",
      " 13  Neighborhood     2930 non-null   object \n",
      " 14  Condition 1      2930 non-null   object \n",
      " 15  Condition 2      2930 non-null   object \n",
      " 16  Bldg Type        2930 non-null   object \n",
      " 17  House Style      2930 non-null   object \n",
      " 18  Overall Qual     2930 non-null   int64  \n",
      " 19  Overall Cond     2930 non-null   int64  \n",
      " 20  Year Built       2930 non-null   int64  \n",
      " 21  Year Remod/Add   2930 non-null   int64  \n",
      " 22  Roof Style       2930 non-null   object \n",
      " 23  Roof Matl        2930 non-null   object \n",
      " 24  Exterior 1st     2930 non-null   object \n",
      " 25  Exterior 2nd     2930 non-null   object \n",
      " 26  Mas Vnr Type     1155 non-null   object \n",
      " 27  Mas Vnr Area     2907 non-null   float64\n",
      " 28  Exter Qual       2930 non-null   object \n",
      " 29  Exter Cond       2930 non-null   object \n",
      " 30  Foundation       2930 non-null   object \n",
      " 31  Bsmt Qual        2850 non-null   object \n",
      " 32  Bsmt Cond        2850 non-null   object \n",
      " 33  Bsmt Exposure    2847 non-null   object \n",
      " 34  BsmtFin Type 1   2850 non-null   object \n",
      " 35  BsmtFin SF 1     2929 non-null   float64\n",
      " 36  BsmtFin Type 2   2849 non-null   object \n",
      " 37  BsmtFin SF 2     2929 non-null   float64\n",
      " 38  Bsmt Unf SF      2929 non-null   float64\n",
      " 39  Total Bsmt SF    2929 non-null   float64\n",
      " 40  Heating          2930 non-null   object \n",
      " 41  Heating QC       2930 non-null   object \n",
      " 42  Central Air      2930 non-null   object \n",
      " 43  Electrical       2929 non-null   object \n",
      " 44  1st Flr SF       2930 non-null   int64  \n",
      " 45  2nd Flr SF       2930 non-null   int64  \n",
      " 46  Low Qual Fin SF  2930 non-null   int64  \n",
      " 47  Gr Liv Area      2930 non-null   int64  \n",
      " 48  Bsmt Full Bath   2928 non-null   float64\n",
      " 49  Bsmt Half Bath   2928 non-null   float64\n",
      " 50  Full Bath        2930 non-null   int64  \n",
      " 51  Half Bath        2930 non-null   int64  \n",
      " 52  Bedroom AbvGr    2930 non-null   int64  \n",
      " 53  Kitchen AbvGr    2930 non-null   int64  \n",
      " 54  Kitchen Qual     2930 non-null   object \n",
      " 55  TotRms AbvGrd    2930 non-null   int64  \n",
      " 56  Functional       2930 non-null   object \n",
      " 57  Fireplaces       2930 non-null   int64  \n",
      " 58  Fireplace Qu     1508 non-null   object \n",
      " 59  Garage Type      2773 non-null   object \n",
      " 60  Garage Yr Blt    2771 non-null   float64\n",
      " 61  Garage Finish    2771 non-null   object \n",
      " 62  Garage Cars      2929 non-null   float64\n",
      " 63  Garage Area      2929 non-null   float64\n",
      " 64  Garage Qual      2771 non-null   object \n",
      " 65  Garage Cond      2771 non-null   object \n",
      " 66  Paved Drive      2930 non-null   object \n",
      " 67  Wood Deck SF     2930 non-null   int64  \n",
      " 68  Open Porch SF    2930 non-null   int64  \n",
      " 69  Enclosed Porch   2930 non-null   int64  \n",
      " 70  3Ssn Porch       2930 non-null   int64  \n",
      " 71  Screen Porch     2930 non-null   int64  \n",
      " 72  Pool Area        2930 non-null   int64  \n",
      " 73  Pool QC          13 non-null     object \n",
      " 74  Fence            572 non-null    object \n",
      " 75  Misc Feature     106 non-null    object \n",
      " 76  Misc Val         2930 non-null   int64  \n",
      " 77  Mo Sold          2930 non-null   int64  \n",
      " 78  Yr Sold          2930 non-null   int64  \n",
      " 79  Sale Type        2930 non-null   object \n",
      " 80  Sale Condition   2930 non-null   object \n",
      " 81  SalePrice        2930 non-null   int64  \n",
      "dtypes: float64(11), int64(28), object(43)\n",
      "memory usage: 1.8+ MB\n"
     ]
    }
   ],
   "source": [
    "df.info()"
   ]
  },
  {
   "cell_type": "code",
   "execution_count": null,
   "id": "8ec48f9b",
   "metadata": {},
   "outputs": [],
   "source": []
  }
 ],
 "metadata": {
  "kernelspec": {
   "display_name": "base",
   "language": "python",
   "name": "python3"
  },
  "language_info": {
   "codemirror_mode": {
    "name": "ipython",
    "version": 3
   },
   "file_extension": ".py",
   "mimetype": "text/x-python",
   "name": "python",
   "nbconvert_exporter": "python",
   "pygments_lexer": "ipython3",
   "version": "3.12.7"
  }
 },
 "nbformat": 4,
 "nbformat_minor": 5
}
