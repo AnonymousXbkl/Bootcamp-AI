{
 "cells": [
  {
   "cell_type": "markdown",
   "id": "61ac0007",
   "metadata": {},
   "source": [
    "# Filter"
   ]
  },
  {
   "cell_type": "code",
   "execution_count": 1,
   "id": "aa47a4ec",
   "metadata": {},
   "outputs": [],
   "source": [
    "import numpy as np"
   ]
  },
  {
   "cell_type": "markdown",
   "id": "60f62ed8",
   "metadata": {},
   "source": [
    "### Array Filtering\n",
    "    Proses filter digunakan untuk mendapatkan beberapa bagian Array dari satu Array yang utuh. Filtering bekerja berdasarkan nilai boolean True atau False yang diterimanya."
   ]
  },
  {
   "cell_type": "code",
   "execution_count": null,
   "id": "1ebd10be",
   "metadata": {},
   "outputs": [
    {
     "name": "stdout",
     "output_type": "stream",
     "text": [
      "[41 43 45]\n"
     ]
    }
   ],
   "source": [
    "arr = np.array([41, 42, 43, 44, 45])\n",
    "x = [True, False, True, False, True]\n",
    "\n",
    "arr = arr[x]\n",
    "\n",
    "print(arr)\n",
    "\n",
    "# Dia mengembalikan nilai dari elemen yang sesuai dengan True pada array boolean x"
   ]
  },
  {
   "cell_type": "markdown",
   "id": "4651f99e",
   "metadata": {},
   "source": [
    "### Filter pada NumPy Array 1D"
   ]
  },
  {
   "cell_type": "code",
   "execution_count": 5,
   "id": "1180cec3",
   "metadata": {},
   "outputs": [
    {
     "name": "stdout",
     "output_type": "stream",
     "text": [
      "[43 44 45]\n",
      "[ 2  4  6  8 10]\n"
     ]
    }
   ],
   "source": [
    "arr = np.array([41, 42, 43, 44, 45])\n",
    "filter_arr = arr > 42\n",
    "arr = arr[filter_arr]\n",
    "\n",
    "print(arr)\n",
    "# Dia mengembalikan nilai dari elemen yang lebih besar dari 42 pada array boolean filter_arr karena yang lebih besar dari 42 dianggap True\n",
    "\n",
    "\n",
    "arr2 = np.array([1, 2, 3, 4, 5, 6, 7, 8, 9, 10])\n",
    "filter_arr2 = arr2 % 2 == 0\n",
    "arr2 = arr2[filter_arr2]\n",
    "\n",
    "print(arr2)\n",
    "# Dia mengembalikan nilai dari elemen yang genap pada array boolean filter_arr2 karena yang genap dianggap True"
   ]
  },
  {
   "cell_type": "code",
   "execution_count": null,
   "id": "269ec6e4",
   "metadata": {},
   "outputs": [],
   "source": []
  }
 ],
 "metadata": {
  "kernelspec": {
   "display_name": "base",
   "language": "python",
   "name": "python3"
  },
  "language_info": {
   "codemirror_mode": {
    "name": "ipython",
    "version": 3
   },
   "file_extension": ".py",
   "mimetype": "text/x-python",
   "name": "python",
   "nbconvert_exporter": "python",
   "pygments_lexer": "ipython3",
   "version": "3.12.7"
  }
 },
 "nbformat": 4,
 "nbformat_minor": 5
}
