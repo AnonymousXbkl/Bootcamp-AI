{
 "cells": [
  {
   "cell_type": "code",
   "execution_count": 1,
   "metadata": {
    "id": "yKu6jmy59pZC"
   },
   "outputs": [],
   "source": [
    "import numpy as np"
   ]
  },
  {
   "cell_type": "markdown",
   "metadata": {
    "id": "irdLmFnt9pZE"
   },
   "source": [
    "## Binary Step Function"
   ]
  },
  {
   "cell_type": "code",
   "execution_count": 2,
   "metadata": {
    "id": "ceeq4SAQ9pZG"
   },
   "outputs": [],
   "source": [
    "def binary_step(x):\n",
    "\n",
    "    if x<0:\n",
    "        return 0\n",
    "    else:\n",
    "        return 1"
   ]
  },
  {
   "cell_type": "code",
   "execution_count": 3,
   "metadata": {
    "colab": {
     "base_uri": "https://localhost:8080/"
    },
    "executionInfo": {
     "elapsed": 14,
     "status": "ok",
     "timestamp": 1697473392255,
     "user": {
      "displayName": "Very Dwi Setiawan",
      "userId": "11914131847934024186"
     },
     "user_tz": -420
    },
    "id": "BRxTYMZC9pZH",
    "outputId": "7c18c713-3d85-4b54-bf18-661c6531b2c8"
   },
   "outputs": [
    {
     "data": {
      "text/plain": [
       "(1, 0)"
      ]
     },
     "execution_count": 3,
     "metadata": {},
     "output_type": "execute_result"
    }
   ],
   "source": [
    "binary_step(5), binary_step(-10)"
   ]
  },
  {
   "cell_type": "markdown",
   "metadata": {
    "id": "hmbTmF6p9pZI"
   },
   "source": [
    "## Linear Function"
   ]
  },
  {
   "cell_type": "code",
   "execution_count": 4,
   "metadata": {
    "id": "bEL0Ymso9pZI"
   },
   "outputs": [],
   "source": [
    "def linear_function(x):\n",
    "\n",
    "    return 2*x"
   ]
  },
  {
   "cell_type": "code",
   "execution_count": 5,
   "metadata": {
    "colab": {
     "base_uri": "https://localhost:8080/"
    },
    "executionInfo": {
     "elapsed": 13,
     "status": "ok",
     "timestamp": 1697473392256,
     "user": {
      "displayName": "Very Dwi Setiawan",
      "userId": "11914131847934024186"
     },
     "user_tz": -420
    },
    "id": "ujBafato9pZJ",
    "outputId": "0af0ad79-b2f5-40eb-daf2-bce97d5a2bfc"
   },
   "outputs": [
    {
     "data": {
      "text/plain": [
       "(10, -20)"
      ]
     },
     "execution_count": 5,
     "metadata": {},
     "output_type": "execute_result"
    }
   ],
   "source": [
    "linear_function(5), linear_function(-10)"
   ]
  },
  {
   "cell_type": "markdown",
   "metadata": {
    "id": "UMD5-SHA9pZJ"
   },
   "source": [
    "## Sigmoid Function"
   ]
  },
  {
   "cell_type": "code",
   "execution_count": 6,
   "metadata": {
    "id": "nuqdgEO-9pZK"
   },
   "outputs": [],
   "source": [
    "def sigmoid_function(x):\n",
    "\n",
    "    z = (1/(1 + np.exp(-x)))\n",
    "\n",
    "    return z"
   ]
  },
  {
   "cell_type": "code",
   "execution_count": 7,
   "metadata": {
    "colab": {
     "base_uri": "https://localhost:8080/"
    },
    "executionInfo": {
     "elapsed": 11,
     "status": "ok",
     "timestamp": 1697473392256,
     "user": {
      "displayName": "Very Dwi Setiawan",
      "userId": "11914131847934024186"
     },
     "user_tz": -420
    },
    "id": "adufmduc9pZL",
    "outputId": "feec7559-feac-48c3-84b4-69f2fbe2c1d4"
   },
   "outputs": [
    {
     "data": {
      "text/plain": [
       "(np.float64(0.9933071490757153), np.float64(4.5397868702434395e-05))"
      ]
     },
     "execution_count": 7,
     "metadata": {},
     "output_type": "execute_result"
    }
   ],
   "source": [
    "sigmoid_function(5), sigmoid_function(-10)"
   ]
  },
  {
   "cell_type": "markdown",
   "metadata": {
    "id": "6tkeXGnk9pZL"
   },
   "source": [
    "## TanH Function"
   ]
  },
  {
   "cell_type": "code",
   "execution_count": 8,
   "metadata": {
    "id": "wL-JRhp59pZL"
   },
   "outputs": [],
   "source": [
    "def tanh_function(x):\n",
    "\n",
    "    z = (2/(1 + np.exp(-2*x))) -1\n",
    "\n",
    "    return z"
   ]
  },
  {
   "cell_type": "code",
   "execution_count": 9,
   "metadata": {
    "colab": {
     "base_uri": "https://localhost:8080/"
    },
    "executionInfo": {
     "elapsed": 10,
     "status": "ok",
     "timestamp": 1697473392256,
     "user": {
      "displayName": "Very Dwi Setiawan",
      "userId": "11914131847934024186"
     },
     "user_tz": -420
    },
    "id": "EGzS-nZL9pZL",
    "outputId": "5558a45c-78a5-46f7-935e-fb3725700c4a"
   },
   "outputs": [
    {
     "data": {
      "text/plain": [
       "(np.float64(0.9999092042625952), np.float64(-0.9999999958776927))"
      ]
     },
     "execution_count": 9,
     "metadata": {},
     "output_type": "execute_result"
    }
   ],
   "source": [
    "tanh_function(5), tanh_function(-10)"
   ]
  },
  {
   "cell_type": "markdown",
   "metadata": {
    "id": "enOEYC6v9pZM"
   },
   "source": [
    "## ReLU Function"
   ]
  },
  {
   "cell_type": "code",
   "execution_count": 10,
   "metadata": {
    "id": "05GG5grl9pZM"
   },
   "outputs": [],
   "source": [
    "def relu_function(x):\n",
    "\n",
    "    if x<0:\n",
    "        return 0\n",
    "    else:\n",
    "        return x"
   ]
  },
  {
   "cell_type": "code",
   "execution_count": 11,
   "metadata": {
    "colab": {
     "base_uri": "https://localhost:8080/"
    },
    "executionInfo": {
     "elapsed": 8,
     "status": "ok",
     "timestamp": 1697473392256,
     "user": {
      "displayName": "Very Dwi Setiawan",
      "userId": "11914131847934024186"
     },
     "user_tz": -420
    },
    "id": "QRLyo4lF9pZM",
    "outputId": "754bc29d-2269-4c47-ad12-c02b4dfcaa81"
   },
   "outputs": [
    {
     "data": {
      "text/plain": [
       "(5, 0)"
      ]
     },
     "execution_count": 11,
     "metadata": {},
     "output_type": "execute_result"
    }
   ],
   "source": [
    "relu_function(5), relu_function(-10)"
   ]
  },
  {
   "cell_type": "markdown",
   "metadata": {
    "id": "a_bnsjIN9pZN"
   },
   "source": [
    "## Leaky ReLU Function"
   ]
  },
  {
   "cell_type": "code",
   "execution_count": 12,
   "metadata": {
    "id": "ezpiE51O9pZN"
   },
   "outputs": [],
   "source": [
    "def leaky_relu_function(x):\n",
    "\n",
    "    if x<0:\n",
    "        return 0.01*x\n",
    "    else:\n",
    "        return x"
   ]
  },
  {
   "cell_type": "code",
   "execution_count": 13,
   "metadata": {
    "colab": {
     "base_uri": "https://localhost:8080/"
    },
    "executionInfo": {
     "elapsed": 7,
     "status": "ok",
     "timestamp": 1697473392256,
     "user": {
      "displayName": "Very Dwi Setiawan",
      "userId": "11914131847934024186"
     },
     "user_tz": -420
    },
    "id": "Zcmt09Ov9pZN",
    "outputId": "c75e6bb2-776f-46c3-cc4c-bc01102bbc4d"
   },
   "outputs": [
    {
     "data": {
      "text/plain": [
       "(5, -0.1)"
      ]
     },
     "execution_count": 13,
     "metadata": {},
     "output_type": "execute_result"
    }
   ],
   "source": [
    "leaky_relu_function(5), leaky_relu_function(-10)"
   ]
  },
  {
   "cell_type": "markdown",
   "metadata": {
    "id": "dMrz_gST9pZN"
   },
   "source": [
    "## Softmax Function"
   ]
  },
  {
   "cell_type": "code",
   "execution_count": 14,
   "metadata": {
    "id": "S8Akf44F9pZO"
   },
   "outputs": [],
   "source": [
    "def softmax_function(x):\n",
    "\n",
    "    z = np.exp(x)\n",
    "    logits = z/z.sum()\n",
    "\n",
    "    return logits"
   ]
  },
  {
   "cell_type": "code",
   "execution_count": 15,
   "metadata": {
    "colab": {
     "base_uri": "https://localhost:8080/"
    },
    "executionInfo": {
     "elapsed": 7,
     "status": "ok",
     "timestamp": 1697473392257,
     "user": {
      "displayName": "Very Dwi Setiawan",
      "userId": "11914131847934024186"
     },
     "user_tz": -420
    },
    "id": "iKpCnRUx9pZO",
    "outputId": "f8ae3766-9eda-4c97-dcb6-aea01bc1a075",
    "scrolled": true
   },
   "outputs": [
    {
     "data": {
      "text/plain": [
       "array([0.08021815, 0.11967141, 0.80011044])"
      ]
     },
     "execution_count": 15,
     "metadata": {},
     "output_type": "execute_result"
    }
   ],
   "source": [
    "softmax_function([0.8, 1.2, 3.1])"
   ]
  },
  {
   "cell_type": "markdown",
   "metadata": {
    "id": "eknaluY99pZO"
   },
   "source": [
    "## eLU Function"
   ]
  },
  {
   "cell_type": "code",
   "execution_count": 16,
   "metadata": {
    "id": "YSJWes389pZO"
   },
   "outputs": [],
   "source": [
    "def elu_function(x, a):\n",
    "\n",
    "    if x<0:\n",
    "        return a*(np.exp(x)-1)\n",
    "    else:\n",
    "        return x"
   ]
  },
  {
   "cell_type": "code",
   "execution_count": 17,
   "metadata": {
    "colab": {
     "base_uri": "https://localhost:8080/"
    },
    "executionInfo": {
     "elapsed": 7,
     "status": "ok",
     "timestamp": 1697473392257,
     "user": {
      "displayName": "Very Dwi Setiawan",
      "userId": "11914131847934024186"
     },
     "user_tz": -420
    },
    "id": "Uu5d4nyQ9pZP",
    "outputId": "2fb45797-6284-4423-86a0-ca49a27bcd5c"
   },
   "outputs": [
    {
     "data": {
      "text/plain": [
       "(5, np.float64(-0.09999999979388464))"
      ]
     },
     "execution_count": 17,
     "metadata": {},
     "output_type": "execute_result"
    }
   ],
   "source": [
    "elu_function(5, 0.1), elu_function(-20, 0.1)"
   ]
  },
  {
   "cell_type": "markdown",
   "metadata": {
    "id": "DBQxu6et9pZP"
   },
   "source": [
    "## Swish Function"
   ]
  },
  {
   "cell_type": "code",
   "execution_count": 18,
   "metadata": {
    "id": "YSutS8FM9pZP"
   },
   "outputs": [],
   "source": [
    "def swish_function(x):\n",
    "\n",
    "    return x/(1-np.exp(-x))"
   ]
  },
  {
   "cell_type": "code",
   "execution_count": 19,
   "metadata": {
    "colab": {
     "base_uri": "https://localhost:8080/"
    },
    "executionInfo": {
     "elapsed": 6,
     "status": "ok",
     "timestamp": 1697473392257,
     "user": {
      "displayName": "Very Dwi Setiawan",
      "userId": "11914131847934024186"
     },
     "user_tz": -420
    },
    "id": "BlnfisKo9pZQ",
    "outputId": "f7fd0312-5fd8-4b3c-9157-8d64353984bd",
    "scrolled": false
   },
   "outputs": [
    {
     "data": {
      "text/plain": [
       "(np.float64(5.033918274531521), np.float64(0.00045401991009687764))"
      ]
     },
     "execution_count": 19,
     "metadata": {},
     "output_type": "execute_result"
    }
   ],
   "source": [
    "swish_function(5), swish_function(-10)"
   ]
  },
  {
   "cell_type": "markdown",
   "metadata": {
    "id": "E5HsEfS29pZQ"
   },
   "source": [
    "---"
   ]
  }
 ],
 "metadata": {
  "colab": {
   "provenance": []
  },
  "kernelspec": {
   "display_name": "base",
   "language": "python",
   "name": "python3"
  },
  "language_info": {
   "codemirror_mode": {
    "name": "ipython",
    "version": 3
   },
   "file_extension": ".py",
   "mimetype": "text/x-python",
   "name": "python",
   "nbconvert_exporter": "python",
   "pygments_lexer": "ipython3",
   "version": "3.12.7"
  }
 },
 "nbformat": 4,
 "nbformat_minor": 0
}
