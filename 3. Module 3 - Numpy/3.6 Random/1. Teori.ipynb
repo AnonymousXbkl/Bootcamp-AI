{
 "cells": [
  {
   "cell_type": "markdown",
   "id": "6c13ef42",
   "metadata": {},
   "source": [
    "# Random"
   ]
  },
  {
   "cell_type": "markdown",
   "id": "becabe62",
   "metadata": {},
   "source": [
    "### NumPy Random\n",
    "    NumPy memiliki fungsi khusus bernama random. Untuk mendapatkan angka-angka secara random(pseudo random)."
   ]
  },
  {
   "cell_type": "code",
   "execution_count": 4,
   "id": "f979d521",
   "metadata": {},
   "outputs": [],
   "source": [
    "from numpy import random\n",
    "import numpy as np"
   ]
  },
  {
   "cell_type": "markdown",
   "id": "a0f97da0",
   "metadata": {},
   "source": [
    "### Mendapatkan nilai integer secara random"
   ]
  },
  {
   "cell_type": "code",
   "execution_count": 15,
   "id": "b9ff7af5",
   "metadata": {},
   "outputs": [
    {
     "name": "stdout",
     "output_type": "stream",
     "text": [
      "37\n",
      "[86]\n",
      "[[79 31]\n",
      " [ 1 27]\n",
      " [52 85]]\n"
     ]
    }
   ],
   "source": [
    "x = random.randint(100)\n",
    "y = random.randint(100, size=1)\n",
    "z = random.randint(100, size=(3, 2))\n",
    "\n",
    "print(x)\n",
    "print(y)\n",
    "print(z)\n",
    "\n",
    "# Sama seperti di Python dia akan mengeluarkan angka acak dari 0-99"
   ]
  },
  {
   "cell_type": "markdown",
   "id": "7577db99",
   "metadata": {},
   "source": [
    "### Mendapatkan nilai float secara random"
   ]
  },
  {
   "cell_type": "code",
   "execution_count": null,
   "id": "a31e187b",
   "metadata": {},
   "outputs": [
    {
     "name": "stdout",
     "output_type": "stream",
     "text": [
      "0.09265992834046066\n",
      "[0.70550975 0.02516005]\n",
      "[[0.79736717 0.63177362 0.97217603]\n",
      " [0.42910477 0.2214277  0.72784987]]\n"
     ]
    }
   ],
   "source": [
    "x = random.rand()     # Hasilnya dalam bentuk skalar float\n",
    "y = random.rand(2)   # Hasilnya dalam bentuk array 1D\n",
    "z = random.rand(2, 3) # Hasilnya dalam bentuk array 2D\n",
    "\n",
    "print(x)\n",
    "print(y)\n",
    "print(z)"
   ]
  },
  {
   "cell_type": "markdown",
   "id": "a4c240c2",
   "metadata": {},
   "source": [
    "### Membuat nilai integer random dari Array 1D"
   ]
  },
  {
   "cell_type": "code",
   "execution_count": 19,
   "id": "e2dba8b8",
   "metadata": {},
   "outputs": [
    {
     "name": "stdout",
     "output_type": "stream",
     "text": [
      "3\n",
      "[1 1]\n",
      "[[4 2 5]\n",
      " [5 4 1]]\n"
     ]
    }
   ],
   "source": [
    "x = random.choice([1, 2, 3, 4, 5])\n",
    "y = random.choice([1, 2, 3, 4, 5], size=2)\n",
    "z = random.choice([1, 2, 3, 4, 5], size=(2, 3))\n",
    "\n",
    "print(x)\n",
    "print(y)\n",
    "print(z)"
   ]
  },
  {
   "cell_type": "markdown",
   "id": "0501be7d",
   "metadata": {},
   "source": [
    "### Mengacak nilai yang ada pada Array 1D"
   ]
  },
  {
   "cell_type": "code",
   "execution_count": 5,
   "id": "f18cf1c4",
   "metadata": {},
   "outputs": [
    {
     "name": "stdout",
     "output_type": "stream",
     "text": [
      "[3 5 1 4 2]\n"
     ]
    }
   ],
   "source": [
    "arr =  np.array([1, 2, 3, 4, 5])\n",
    "random.shuffle(arr) # Mengacak urutan array\n",
    "\n",
    "print(arr)"
   ]
  },
  {
   "cell_type": "code",
   "execution_count": null,
   "id": "843d069b",
   "metadata": {},
   "outputs": [],
   "source": [
    "\n"
   ]
  }
 ],
 "metadata": {
  "kernelspec": {
   "display_name": "base",
   "language": "python",
   "name": "python3"
  },
  "language_info": {
   "codemirror_mode": {
    "name": "ipython",
    "version": 3
   },
   "file_extension": ".py",
   "mimetype": "text/x-python",
   "name": "python",
   "nbconvert_exporter": "python",
   "pygments_lexer": "ipython3",
   "version": "3.12.7"
  }
 },
 "nbformat": 4,
 "nbformat_minor": 5
}
