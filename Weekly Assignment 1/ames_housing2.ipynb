{
 "cells": [
  {
   "cell_type": "markdown",
   "id": "04596705",
   "metadata": {},
   "source": [
    "# Data yang sudah di cleaning AMES HOUSING"
   ]
  },
  {
   "cell_type": "code",
   "execution_count": 1,
   "id": "a2befbd2",
   "metadata": {},
   "outputs": [],
   "source": [
    "import numpy as np\n",
    "import pandas as pd\n",
    "import seaborn as sns\n",
    "import matplotlib\n",
    "import matplotlib.pyplot as pl"
   ]
  }
 ],
 "metadata": {
  "kernelspec": {
   "display_name": "base",
   "language": "python",
   "name": "python3"
  },
  "language_info": {
   "codemirror_mode": {
    "name": "ipython",
    "version": 3
   },
   "file_extension": ".py",
   "mimetype": "text/x-python",
   "name": "python",
   "nbconvert_exporter": "python",
   "pygments_lexer": "ipython3",
   "version": "3.12.7"
  }
 },
 "nbformat": 4,
 "nbformat_minor": 5
}
