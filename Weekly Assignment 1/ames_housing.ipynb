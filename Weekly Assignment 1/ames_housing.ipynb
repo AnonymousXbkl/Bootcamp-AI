{
 "cells": [
  {
   "cell_type": "code",
   "execution_count": 1,
   "id": "7802f266",
   "metadata": {},
   "outputs": [],
   "source": [
    "import numpy as np\n",
    "import pandas as pd\n",
    "import seaborn as sns\n",
    "import matplotlib\n",
    "import matplotlib.pyplot as plt"
   ]
  },
  {
   "cell_type": "markdown",
   "id": "0bc3dc9d",
   "metadata": {},
   "source": [
    "# AMES HOUSING"
   ]
  },
  {
   "cell_type": "markdown",
   "id": "51166d40",
   "metadata": {},
   "source": [
    "### 1. Business & Data Understanding (Pemahaman Bisnis & Data)"
   ]
  },
  {
   "cell_type": "markdown",
   "id": "32a31e4b",
   "metadata": {},
   "source": [
    "#### - Tujuan\n",
    "    Melakukan prediksi harga jual"
   ]
  },
  {
   "cell_type": "markdown",
   "id": "48fe3fde",
   "metadata": {},
   "source": [
    "#### - Sumber Data dan Format Data\n",
    "Data berasal dari \"https://www.kaggle.com/datasets/prevek18/ames-housing-dataset?resource=download\" <br>Data memiliki format .csv"
   ]
  },
  {
   "cell_type": "markdown",
   "id": "8b781a09",
   "metadata": {},
   "source": [
    "#### - Ukuran Data"
   ]
  },
  {
   "cell_type": "code",
   "execution_count": 3,
   "id": "0b6bfadc",
   "metadata": {},
   "outputs": [
    {
     "ename": "NameError",
     "evalue": "name 'pd' is not defined",
     "output_type": "error",
     "traceback": [
      "\u001b[1;31m---------------------------------------------------------------------------\u001b[0m",
      "\u001b[1;31mNameError\u001b[0m                                 Traceback (most recent call last)",
      "Cell \u001b[1;32mIn[3], line 1\u001b[0m\n\u001b[1;32m----> 1\u001b[0m data \u001b[38;5;241m=\u001b[39m pd\u001b[38;5;241m.\u001b[39mread_csv(\u001b[38;5;124m\"\u001b[39m\u001b[38;5;124mAmesHousing.csv\u001b[39m\u001b[38;5;124m\"\u001b[39m)\n\u001b[0;32m      2\u001b[0m data\u001b[38;5;241m.\u001b[39mhead()\n",
      "\u001b[1;31mNameError\u001b[0m: name 'pd' is not defined"
     ]
    }
   ],
   "source": [
    "data = pd.read_csv(\"AmesHousing.csv\")\n",
    "data.head()"
   ]
  },
  {
   "cell_type": "code",
   "execution_count": null,
   "id": "d2524fb9",
   "metadata": {},
   "outputs": [
    {
     "name": "stdout",
     "output_type": "stream",
     "text": [
      "Jumlah column :  82\n",
      "Jumlah baris :  2930\n"
     ]
    }
   ],
   "source": [
    "print('Jumlah column : ', data.shape[1])\n",
    "print('Jumlah baris : ', data.shape[0])"
   ]
  },
  {
   "cell_type": "code",
   "execution_count": null,
   "id": "5fcf123b",
   "metadata": {},
   "outputs": [
    {
     "name": "stdout",
     "output_type": "stream",
     "text": [
      "<class 'pandas.core.frame.DataFrame'>\n",
      "RangeIndex: 2930 entries, 0 to 2929\n",
      "Data columns (total 82 columns):\n",
      " #   Column           Non-Null Count  Dtype  \n",
      "---  ------           --------------  -----  \n",
      " 0   Order            2930 non-null   int64  \n",
      " 1   PID              2930 non-null   int64  \n",
      " 2   MS SubClass      2930 non-null   int64  \n",
      " 3   MS Zoning        2930 non-null   object \n",
      " 4   Lot Frontage     2440 non-null   float64\n",
      " 5   Lot Area         2930 non-null   int64  \n",
      " 6   Street           2930 non-null   object \n",
      " 7   Alley            198 non-null    object \n",
      " 8   Lot Shape        2930 non-null   object \n",
      " 9   Land Contour     2930 non-null   object \n",
      " 10  Utilities        2930 non-null   object \n",
      " 11  Lot Config       2930 non-null   object \n",
      " 12  Land Slope       2930 non-null   object \n",
      " 13  Neighborhood     2930 non-null   object \n",
      " 14  Condition 1      2930 non-null   object \n",
      " 15  Condition 2      2930 non-null   object \n",
      " 16  Bldg Type        2930 non-null   object \n",
      " 17  House Style      2930 non-null   object \n",
      " 18  Overall Qual     2930 non-null   int64  \n",
      " 19  Overall Cond     2930 non-null   int64  \n",
      " 20  Year Built       2930 non-null   int64  \n",
      " 21  Year Remod/Add   2930 non-null   int64  \n",
      " 22  Roof Style       2930 non-null   object \n",
      " 23  Roof Matl        2930 non-null   object \n",
      " 24  Exterior 1st     2930 non-null   object \n",
      " 25  Exterior 2nd     2930 non-null   object \n",
      " 26  Mas Vnr Type     1155 non-null   object \n",
      " 27  Mas Vnr Area     2907 non-null   float64\n",
      " 28  Exter Qual       2930 non-null   object \n",
      " 29  Exter Cond       2930 non-null   object \n",
      " 30  Foundation       2930 non-null   object \n",
      " 31  Bsmt Qual        2850 non-null   object \n",
      " 32  Bsmt Cond        2850 non-null   object \n",
      " 33  Bsmt Exposure    2847 non-null   object \n",
      " 34  BsmtFin Type 1   2850 non-null   object \n",
      " 35  BsmtFin SF 1     2929 non-null   float64\n",
      " 36  BsmtFin Type 2   2849 non-null   object \n",
      " 37  BsmtFin SF 2     2929 non-null   float64\n",
      " 38  Bsmt Unf SF      2929 non-null   float64\n",
      " 39  Total Bsmt SF    2929 non-null   float64\n",
      " 40  Heating          2930 non-null   object \n",
      " 41  Heating QC       2930 non-null   object \n",
      " 42  Central Air      2930 non-null   object \n",
      " 43  Electrical       2929 non-null   object \n",
      " 44  1st Flr SF       2930 non-null   int64  \n",
      " 45  2nd Flr SF       2930 non-null   int64  \n",
      " 46  Low Qual Fin SF  2930 non-null   int64  \n",
      " 47  Gr Liv Area      2930 non-null   int64  \n",
      " 48  Bsmt Full Bath   2928 non-null   float64\n",
      " 49  Bsmt Half Bath   2928 non-null   float64\n",
      " 50  Full Bath        2930 non-null   int64  \n",
      " 51  Half Bath        2930 non-null   int64  \n",
      " 52  Bedroom AbvGr    2930 non-null   int64  \n",
      " 53  Kitchen AbvGr    2930 non-null   int64  \n",
      " 54  Kitchen Qual     2930 non-null   object \n",
      " 55  TotRms AbvGrd    2930 non-null   int64  \n",
      " 56  Functional       2930 non-null   object \n",
      " 57  Fireplaces       2930 non-null   int64  \n",
      " 58  Fireplace Qu     1508 non-null   object \n",
      " 59  Garage Type      2773 non-null   object \n",
      " 60  Garage Yr Blt    2771 non-null   float64\n",
      " 61  Garage Finish    2771 non-null   object \n",
      " 62  Garage Cars      2929 non-null   float64\n",
      " 63  Garage Area      2929 non-null   float64\n",
      " 64  Garage Qual      2771 non-null   object \n",
      " 65  Garage Cond      2771 non-null   object \n",
      " 66  Paved Drive      2930 non-null   object \n",
      " 67  Wood Deck SF     2930 non-null   int64  \n",
      " 68  Open Porch SF    2930 non-null   int64  \n",
      " 69  Enclosed Porch   2930 non-null   int64  \n",
      " 70  3Ssn Porch       2930 non-null   int64  \n",
      " 71  Screen Porch     2930 non-null   int64  \n",
      " 72  Pool Area        2930 non-null   int64  \n",
      " 73  Pool QC          13 non-null     object \n",
      " 74  Fence            572 non-null    object \n",
      " 75  Misc Feature     106 non-null    object \n",
      " 76  Misc Val         2930 non-null   int64  \n",
      " 77  Mo Sold          2930 non-null   int64  \n",
      " 78  Yr Sold          2930 non-null   int64  \n",
      " 79  Sale Type        2930 non-null   object \n",
      " 80  Sale Condition   2930 non-null   object \n",
      " 81  SalePrice        2930 non-null   int64  \n",
      "dtypes: float64(11), int64(28), object(43)\n",
      "memory usage: 1.8+ MB\n"
     ]
    }
   ],
   "source": [
    "# Melihat informasi data dan ada column apa saja\n",
    "data.info()"
   ]
  },
  {
   "cell_type": "code",
   "execution_count": null,
   "id": "e6d6478c",
   "metadata": {},
   "outputs": [
    {
     "name": "stdout",
     "output_type": "stream",
     "text": [
      "Jumlah data yang kolomnya ada yang kosong : 27\n"
     ]
    },
    {
     "data": {
      "text/plain": [
       "Order             False\n",
       "PID               False\n",
       "MS SubClass       False\n",
       "MS Zoning         False\n",
       "Lot Frontage       True\n",
       "                  ...  \n",
       "Mo Sold           False\n",
       "Yr Sold           False\n",
       "Sale Type         False\n",
       "Sale Condition    False\n",
       "SalePrice         False\n",
       "Length: 82, dtype: bool"
      ]
     },
     "execution_count": 5,
     "metadata": {},
     "output_type": "execute_result"
    }
   ],
   "source": [
    "# Melihat data yang kosong\n",
    "\n",
    "print('Jumlah data yang kolomnya ada yang kosong :',data.isnull().any().sum())\n",
    "data.isnull().any()    #.astype(int)\n"
   ]
  },
  {
   "cell_type": "markdown",
   "id": "9c79c70c",
   "metadata": {},
   "source": [
    "### 2. Data Cleaning & Analysis"
   ]
  },
  {
   "cell_type": "code",
   "execution_count": 6,
   "id": "8d1c0d3f",
   "metadata": {},
   "outputs": [
    {
     "data": {
      "text/plain": [
       "np.int64(490)"
      ]
     },
     "execution_count": 6,
     "metadata": {},
     "output_type": "execute_result"
    }
   ],
   "source": [
    "# Lihat data kosong di kolom Lot Frontage(Luas Depan)\n",
    "data['Lot Frontage'].isnull().sum()"
   ]
  },
  {
   "cell_type": "code",
   "execution_count": 7,
   "id": "cd7a10ab",
   "metadata": {},
   "outputs": [
    {
     "name": "stderr",
     "output_type": "stream",
     "text": [
      "c:\\Users\\Suwaaan\\anaconda3\\Lib\\site-packages\\numpy\\lib\\_nanfunctions_impl.py:1215: RuntimeWarning: Mean of empty slice\n",
      "  return np.nanmean(a, axis, out=out, keepdims=keepdims)\n",
      "c:\\Users\\Suwaaan\\anaconda3\\Lib\\site-packages\\numpy\\lib\\_nanfunctions_impl.py:1215: RuntimeWarning: Mean of empty slice\n",
      "  return np.nanmean(a, axis, out=out, keepdims=keepdims)\n"
     ]
    },
    {
     "data": {
      "text/plain": [
       "np.int64(3)"
      ]
     },
     "execution_count": 7,
     "metadata": {},
     "output_type": "execute_result"
    }
   ],
   "source": [
    "# Isi data kosong di kolom Lot Frontage dengan rata-rata dari masing-masing Neighborhood\n",
    "\n",
    "data['Lot Frontage'] = data.groupby('Neighborhood')['Lot Frontage'].transform(lambda x: x.fillna(x.median()))\n",
    "data['Lot Frontage'].isnull().sum()"
   ]
  },
  {
   "cell_type": "code",
   "execution_count": 8,
   "id": "688b4969",
   "metadata": {},
   "outputs": [
    {
     "data": {
      "text/plain": [
       "np.int64(23)"
      ]
     },
     "execution_count": 8,
     "metadata": {},
     "output_type": "execute_result"
    }
   ],
   "source": [
    "# Lihat data kosong di kolom Lot Frontage(Luas Depan) setelah diisi dengan median\n",
    "data['Mas Vnr Area'].isnull().sum()"
   ]
  },
  {
   "cell_type": "code",
   "execution_count": 9,
   "id": "866b3ebf",
   "metadata": {},
   "outputs": [
    {
     "data": {
      "text/plain": [
       "np.int64(0)"
      ]
     },
     "execution_count": 9,
     "metadata": {},
     "output_type": "execute_result"
    }
   ],
   "source": [
    "# Isi data kosong di kolom Mas Vnr Area dengan 0\n",
    "data['Mas Vnr Area'] = data['Mas Vnr Area'].fillna(0)\n",
    "data['Mas Vnr Area'].isnull().sum()"
   ]
  },
  {
   "cell_type": "code",
   "execution_count": 10,
   "id": "cd141295",
   "metadata": {},
   "outputs": [
    {
     "data": {
      "text/plain": [
       "np.int64(159)"
      ]
     },
     "execution_count": 10,
     "metadata": {},
     "output_type": "execute_result"
    }
   ],
   "source": [
    "# Melihat data yang kosong dari kolom Garage Yr Blt\n",
    "data['Garage Yr Blt'].isnull().sum()"
   ]
  },
  {
   "cell_type": "code",
   "execution_count": 11,
   "id": "b2e1594c",
   "metadata": {},
   "outputs": [
    {
     "data": {
      "text/plain": [
       "np.int64(0)"
      ]
     },
     "execution_count": 11,
     "metadata": {},
     "output_type": "execute_result"
    }
   ],
   "source": [
    "# Isi data kosong di kolom Garage Yr Blt dengan Year Built\n",
    "data['Garage Yr Blt'] = data['Garage Yr Blt'].fillna(data['Year Built'])\n",
    "data['Garage Yr Blt'].isnull().sum()"
   ]
  },
  {
   "cell_type": "code",
   "execution_count": 12,
   "id": "74613f77",
   "metadata": {},
   "outputs": [],
   "source": [
    "# Fill data kosong di kolom Alley (Gang/Lorong)\n",
    "data['Alley'] = data['Alley'].fillna('No_Alley')\n",
    "\n",
    "# Fill data kosong di kolom Mas Vnr Type (Jenis Dinding)\n",
    "data['Mas Vnr Type'] = data['Mas Vnr Type'].fillna('None')\n",
    "\n",
    "# Fill data kosong di kolom Basement\n",
    "columns_basement = ['Bsmt Qual', 'Bsmt Cond', 'Bsmt Exposure', 'BsmtFin Type 1', 'BsmtFin Type 2']\n",
    "for col in columns_basement:\n",
    "    data[col] = data[col].fillna('No_Basement')\n",
    "\n",
    "# Fill data kosong di kolom Fireplace Qu\n",
    "data['Fireplace Qu'] = data['Fireplace Qu'].fillna('No_Fireplace')\n",
    "\n",
    "# Fill data kosong di kolom Garasi\n",
    "columns_garage = ['Garage Type', 'Garage Finish', 'Garage Qual', 'Garage Cond']\n",
    "for col in columns_garage:\n",
    "    data[col] = data[col].fillna('No_Garage')\n",
    "\n",
    "# Fill data kosong di kolom Pool QC (Kolam Renang)\n",
    "data['Pool QC'] = data['Pool QC'].fillna('No_Pool')\n",
    "\n",
    "# Fill data kosong di kolom Fence (Pagar)\n",
    "data['Fence'] = data['Fence'].fillna('No_Fence')\n",
    "\n",
    "# Fill data kosong di kolom Misc Feature (Fitur Lainnya)\n",
    "data['Misc Feature'] = data['Misc Feature'].fillna('No_Misc_Feature')"
   ]
  },
  {
   "cell_type": "code",
   "execution_count": 13,
   "id": "5d9f3632",
   "metadata": {},
   "outputs": [
    {
     "name": "stdout",
     "output_type": "stream",
     "text": [
      "Jumlah data yang kolomnya ada yang kosong : 10\n"
     ]
    }
   ],
   "source": [
    "print('Jumlah data yang kolomnya ada yang kosong :',data.isnull().any().sum())"
   ]
  },
  {
   "cell_type": "code",
   "execution_count": 14,
   "id": "c1b77dc8",
   "metadata": {},
   "outputs": [],
   "source": [
    "data.to_csv('data_baru_bersih.csv', index=False)"
   ]
  },
  {
   "cell_type": "code",
   "execution_count": null,
   "id": "80bb8d7d",
   "metadata": {},
   "outputs": [],
   "source": []
  }
 ],
 "metadata": {
  "kernelspec": {
   "display_name": "base",
   "language": "python",
   "name": "python3"
  },
  "language_info": {
   "codemirror_mode": {
    "name": "ipython",
    "version": 3
   },
   "file_extension": ".py",
   "mimetype": "text/x-python",
   "name": "python",
   "nbconvert_exporter": "python",
   "pygments_lexer": "ipython3",
   "version": "3.12.7"
  }
 },
 "nbformat": 4,
 "nbformat_minor": 5
}
