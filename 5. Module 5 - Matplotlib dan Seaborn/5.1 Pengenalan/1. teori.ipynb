{
 "cells": [
  {
   "cell_type": "markdown",
   "id": "1366dd17",
   "metadata": {},
   "source": [
    "# Matplotlib"
   ]
  },
  {
   "cell_type": "markdown",
   "id": "dff7d56c",
   "metadata": {},
   "source": [
    "### Apa itu Matplotlib?\n",
    "    Matplotlib adalah library python paling populer yang cukup komperhensif serta berguna untuk membuat visualisasi data yang statis dan interaktif dalam bentuk 2D ataupun 3D seperti line chart, bar chart, pie chart, dan histogram. Library ini menjadi penting untuk emmahami data dalam jumlah besar."
   ]
  },
  {
   "cell_type": "markdown",
   "id": "7908e592",
   "metadata": {},
   "source": [
    "# Seaborn"
   ]
  },
  {
   "cell_type": "markdown",
   "id": "fb74eb92",
   "metadata": {},
   "source": [
    "### Apa itu Seaborn\n",
    "    Seaboorn adalah library untuk visualisasi data yang dibangun di atas Matplotlib dimana Seaborn lebih banyak fungsi untuk visualisasi data yang lebih menarik dan interaktif, juga termasuk library yang relatif mudah digunakan. Pada prakteknya keduanya digunakan bersama-sama."
   ]
  },
  {
   "cell_type": "markdown",
   "id": "de74da97",
   "metadata": {},
   "source": [
    "# OUTLINE\n",
    "1. Matplotlib Plotting\n",
    "2. Matplotlib Customiation\n",
    "3. Matplotlib Subplots\n",
    "4. Matplotlib Diagram\n",
    "5. Seaborn"
   ]
  },
  {
   "cell_type": "markdown",
   "id": "d4c26a60",
   "metadata": {},
   "source": []
  }
 ],
 "metadata": {
  "language_info": {
   "name": "python"
  }
 },
 "nbformat": 4,
 "nbformat_minor": 5
}
