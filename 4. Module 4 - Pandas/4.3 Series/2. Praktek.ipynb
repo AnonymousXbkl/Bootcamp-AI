{
 "cells": [
  {
   "cell_type": "markdown",
   "id": "c00f2cdc",
   "metadata": {},
   "source": [
    "# Praktek Series"
   ]
  },
  {
   "cell_type": "code",
   "execution_count": 6,
   "id": "5bae0b0b",
   "metadata": {},
   "outputs": [],
   "source": [
    "import pandas as pd\n",
    "import numpy as np"
   ]
  },
  {
   "cell_type": "markdown",
   "id": "4afbf0e0",
   "metadata": {},
   "source": [
    "### Membuat Series dari sebuah List Python"
   ]
  },
  {
   "cell_type": "code",
   "execution_count": 4,
   "id": "d19f3f87",
   "metadata": {},
   "outputs": [
    {
     "name": "stdout",
     "output_type": "stream",
     "text": [
      "0    1\n",
      "1    2\n",
      "2    3\n",
      "3    4\n",
      "4    5\n",
      "dtype: int64\n",
      "<class 'pandas.core.series.Series'>\n"
     ]
    }
   ],
   "source": [
    "li = [1, 2, 3, 4, 5]\n",
    "se = pd.Series(li)\n",
    "\n",
    "print(se)\n",
    "print(type(se))"
   ]
  },
  {
   "cell_type": "code",
   "execution_count": 7,
   "id": "fb7970ca",
   "metadata": {},
   "outputs": [
    {
     "name": "stdout",
     "output_type": "stream",
     "text": [
      "0    3\n",
      "1    1\n",
      "2    4\n",
      "3    1\n",
      "4    5\n",
      "dtype: int64\n",
      "<class 'pandas.core.series.Series'>\n"
     ]
    }
   ],
   "source": [
    "arr = np.array([3, 1, 4, 1, 5])\n",
    "se = pd.Series(arr)\n",
    "\n",
    "print(se)\n",
    "print(type(se))"
   ]
  },
  {
   "cell_type": "markdown",
   "id": "dd517918",
   "metadata": {},
   "source": [
    "### Mengakses element pada Series"
   ]
  },
  {
   "cell_type": "code",
   "execution_count": 14,
   "id": "9799d36c",
   "metadata": {},
   "outputs": [
    {
     "name": "stdout",
     "output_type": "stream",
     "text": [
      "3\n",
      "1    2\n",
      "2    3\n",
      "3    4\n",
      "dtype: int64\n",
      "0    1\n",
      "1    2\n",
      "2    3\n",
      "3    4\n",
      "dtype: int64\n"
     ]
    }
   ],
   "source": [
    "li = [1, 2, 3, 4, 5]\n",
    "se = pd.Series(li)\n",
    "\n",
    "print(se[2])\n",
    "print(se[1:4])\n",
    "\n",
    "print(se[0:-1])   # Di Series kita bisa menggunakan negative indexing dengan menggunakan range, kalau tanpa range tidak bisa"
   ]
  },
  {
   "cell_type": "markdown",
   "id": "8eca6b9f",
   "metadata": {},
   "source": [
    "### Memberi label pada Series"
   ]
  },
  {
   "cell_type": "code",
   "execution_count": 17,
   "id": "04ab7b0f",
   "metadata": {},
   "outputs": [
    {
     "data": {
      "text/plain": [
       "a    3\n",
       "b    1\n",
       "c    4\n",
       "d    1\n",
       "e    5\n",
       "dtype: int64"
      ]
     },
     "execution_count": 17,
     "metadata": {},
     "output_type": "execute_result"
    }
   ],
   "source": [
    "arr = np.array([3, 1, 4, 1, 5])\n",
    "se = pd.Series(arr, index=['a', 'b', 'c', 'd', 'e'])\n",
    "\n",
    "se\n"
   ]
  },
  {
   "cell_type": "code",
   "execution_count": 18,
   "id": "d65a7942",
   "metadata": {},
   "outputs": [
    {
     "name": "stdout",
     "output_type": "stream",
     "text": [
      "4\n"
     ]
    }
   ],
   "source": [
    "print(se['c'])"
   ]
  },
  {
   "cell_type": "markdown",
   "id": "71bbdbf6",
   "metadata": {},
   "source": [
    "### Membuat Series dari Dictionary\n"
   ]
  },
  {
   "cell_type": "code",
   "execution_count": 20,
   "id": "85c18153",
   "metadata": {},
   "outputs": [
    {
     "data": {
      "text/plain": [
       "day1    420\n",
       "day2    380\n",
       "day3    390\n",
       "day4    410\n",
       "day5    430\n",
       "dtype: int64"
      ]
     },
     "execution_count": 20,
     "metadata": {},
     "output_type": "execute_result"
    }
   ],
   "source": [
    "calories = {\"day1\" : 420, \"day2\": 380, \"day3\": 390, \"day4\": 410, \"day5\": 430}\n",
    "# kita bisa menggunakan dictionary untuk membuat series\n",
    "se = pd.Series(calories)\n",
    "\n",
    "se"
   ]
  },
  {
   "cell_type": "code",
   "execution_count": null,
   "id": "d695e5c2",
   "metadata": {},
   "outputs": [],
   "source": []
  }
 ],
 "metadata": {
  "kernelspec": {
   "display_name": "base",
   "language": "python",
   "name": "python3"
  },
  "language_info": {
   "codemirror_mode": {
    "name": "ipython",
    "version": 3
   },
   "file_extension": ".py",
   "mimetype": "text/x-python",
   "name": "python",
   "nbconvert_exporter": "python",
   "pygments_lexer": "ipython3",
   "version": "3.12.7"
  }
 },
 "nbformat": 4,
 "nbformat_minor": 5
}
