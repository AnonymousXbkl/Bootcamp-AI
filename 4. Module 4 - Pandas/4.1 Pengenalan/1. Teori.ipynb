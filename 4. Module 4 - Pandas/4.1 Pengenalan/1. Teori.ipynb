{
 "cells": [
  {
   "cell_type": "markdown",
   "id": "f026313b",
   "metadata": {},
   "source": [
    "# Pengenalan Libaray Pandas"
   ]
  },
  {
   "cell_type": "markdown",
   "id": "ead5bddc",
   "metadata": {},
   "source": [
    "### Pandas\n",
    "    Panel Data (Pandas) adalah sebuah library Python yang memiliki fungsi untuk kebutuhan strukturisasi data dan analisa data yang relatif mudah digunakan. Pandas biasa digunakan untuk membuat tabel, mengubah dimensi data, mengecek data, dan lain sebagainya melalui DataFrame."
   ]
  },
  {
   "cell_type": "markdown",
   "id": "29443927",
   "metadata": {},
   "source": [
    "Alasan menggunakan pandas :\n",
    "\n",
    "1. Pandas bisa membaca banyak tipe data populer seperti excel dan .csv\n",
    "2. Analisa dan manipulasi data ang sangat mudah seperti penggunaan SQL\n",
    "3. Pandas menjadi libraru populer di bidang AI dan Data Science"
   ]
  },
  {
   "cell_type": "markdown",
   "id": "855ccc24",
   "metadata": {},
   "source": [
    "Outline :\n",
    "\n",
    "1. Pandas Read\n",
    "2. Pandas Series\n",
    "3. Pandas DataFrame\n",
    "4. Pandas Manipulation\n",
    "5. Pandas Plotting"
   ]
  },
  {
   "cell_type": "markdown",
   "id": "0087ac8d",
   "metadata": {},
   "source": []
  }
 ],
 "metadata": {
  "kernelspec": {
   "display_name": "base",
   "language": "python",
   "name": "python3"
  },
  "language_info": {
   "name": "python",
   "version": "3.12.7"
  }
 },
 "nbformat": 4,
 "nbformat_minor": 5
}
