{
 "cells": [
  {
   "cell_type": "markdown",
   "id": "cd38aeff-d62d-4505-8b86-b461d364f171",
   "metadata": {},
   "source": [
    "# SHAPE"
   ]
  },
  {
   "cell_type": "markdown",
   "id": "069ce956-3417-42b3-b394-08b4b1d18483",
   "metadata": {},
   "source": [
    "### Array Shape"
   ]
  },
  {
   "cell_type": "raw",
   "id": "c9a0b01c-fa0b-41bf-a611-cd3f33de5aa8",
   "metadata": {},
   "source": [
    "    Shape pada array adalah jumlah elemen yang dimiliki pada masing-masing dimensinya. Kita bisa mendapatkan shape dari array dengan menggunakan fungsi shape()."
   ]
  },
  {
   "cell_type": "code",
   "execution_count": 4,
   "id": "3ff3256e-c7a2-40f8-93fb-e38b75fcc790",
   "metadata": {},
   "outputs": [
    {
     "name": "stdout",
     "output_type": "stream",
     "text": [
      "[[1 2 3 4]\n",
      " [5 6 7 8]]\n",
      "(2, 4)\n"
     ]
    }
   ],
   "source": [
    "#Mendapatkan shape dari array\n",
    "import numpy as np\n",
    "\n",
    "arr = np.array([[1, 2, 3, 4], [5, 6, 7, 8]])\n",
    "print(arr)\n",
    "print(arr.shape)"
   ]
  },
  {
   "cell_type": "code",
   "execution_count": 3,
   "id": "15218e14-4104-4a5f-8b51-25278ea7b5f7",
   "metadata": {},
   "outputs": [
    {
     "name": "stdout",
     "output_type": "stream",
     "text": [
      "[[[[[1 2 3 4]]]]]\n",
      "(1, 1, 1, 1, 4)\n"
     ]
    }
   ],
   "source": [
    "#Menggunakan ndmin untuk mendefinisikan dimensiabs\n",
    "import numpy as np\n",
    "\n",
    "arr = np.array([1, 2, 3, 4], ndmin=5)\n",
    "print(arr)\n",
    "print(arr.shape)"
   ]
  },
  {
   "cell_type": "markdown",
   "id": "abed98c4-71cf-48b1-93dd-dac3c6b60b59",
   "metadata": {},
   "source": []
  },
  {
   "cell_type": "markdown",
   "id": "9504c48d-a396-46e8-9d5a-8fdaeffbac5a",
   "metadata": {},
   "source": [
    "### Array Reshape"
   ]
  },
  {
   "cell_type": "raw",
   "id": "70b665d8-261f-4b3f-8f5d-295337cce87d",
   "metadata": {},
   "source": [
    "    Reshape berarti mengubah shape yang dimiliki pada sebuah array menggunakan fungsi reshape(). Kita bisa menambahkan ataupun menghilangkan dimensi juga disaat yang sama mengubah jumlah elemen yang ada di setiap dimensi tersebut.\n",
    "    Kita juga bisa menggunakan (-1) artinya kita tidak mendefinisikan angka spesifik pada suatu dimensi yang ada di array. NumPy akan menghitungnya secara otomatis."
   ]
  },
  {
   "cell_type": "code",
   "execution_count": 7,
   "id": "13fabf06-4265-4650-b557-5867127936ab",
   "metadata": {},
   "outputs": [
    {
     "name": "stdout",
     "output_type": "stream",
     "text": [
      "[[ 1  2  3  4  5]\n",
      " [ 6  7  8  9 10]]\n",
      "(2, 5)\n"
     ]
    }
   ],
   "source": [
    "#Reshape dari 1D ke 2D\n",
    "import numpy as np\n",
    "\n",
    "arr = np.array([1, 2, 3, 4, 5, 6, 7, 8, 9, 10])\n",
    "arr = arr.reshape(2, 5)\n",
    "print(arr)\n",
    "print(arr.shape)"
   ]
  },
  {
   "cell_type": "code",
   "execution_count": 35,
   "id": "e6ccee80-8fb2-43e8-9861-be1a3730d361",
   "metadata": {},
   "outputs": [
    {
     "name": "stdout",
     "output_type": "stream",
     "text": [
      "[[[ 1  2]\n",
      "  [ 3  4]]\n",
      "\n",
      " [[ 5  6]\n",
      "  [ 7  8]]\n",
      "\n",
      " [[ 9 10]\n",
      "  [11 12]]]\n",
      "(3, 2, 2)\n"
     ]
    }
   ],
   "source": [
    "#Reshape dari 1D ke 3D\n",
    "import numpy as np\n",
    "\n",
    "arr = np.array([1, 2, 3, 4, 5, 6, 7, 8, 9, 10, 11, 12])\n",
    "arr = arr.reshape(3, 2, 2)\n",
    "print(arr)\n",
    "print(arr.shape)"
   ]
  },
  {
   "cell_type": "code",
   "execution_count": 36,
   "id": "c6389a36-b7bf-44fb-91bc-2a17572ac9e6",
   "metadata": {},
   "outputs": [
    {
     "name": "stdout",
     "output_type": "stream",
     "text": [
      "[[[1 2]\n",
      "  [3 4]]\n",
      "\n",
      " [[5 6]\n",
      "  [7 8]]]\n",
      "(2, 2, 2)\n"
     ]
    }
   ],
   "source": [
    "#Reshape dari 1D ke 3D menggunakan (-1)\n",
    "import numpy as np\n",
    "\n",
    "arr = np.array([1, 2, 3, 4, 5, 6, 7, 8])\n",
    "arr = arr.reshape(2, 2, -1)\n",
    "print(arr)\n",
    "print(arr.shape)"
   ]
  },
  {
   "cell_type": "markdown",
   "id": "e1a525b3-ca8c-4c35-b467-3f2255c3c078",
   "metadata": {},
   "source": []
  },
  {
   "cell_type": "markdown",
   "id": "c80528fd-cdbf-410a-a83b-f258def8fd90",
   "metadata": {},
   "source": [
    "### Array Flattening"
   ]
  },
  {
   "cell_type": "raw",
   "id": "7a84e16a-edc9-4c33-87dd-64b24ee387fd",
   "metadata": {},
   "source": [
    "    Flattening berarti kita mengonversi array yang memiliki banyak dimensi ke 1D array dengan menggunakan fungsi reshape(-1) atau menggunakan fungsi flatten()."
   ]
  },
  {
   "cell_type": "code",
   "execution_count": 37,
   "id": "5a089b2a-ce0e-42d2-bd1b-c749731fc8fe",
   "metadata": {},
   "outputs": [
    {
     "name": "stdout",
     "output_type": "stream",
     "text": [
      "[1 2 3 4 5 6]\n"
     ]
    }
   ],
   "source": [
    "#Menggunakan reshape(-1)\n",
    "arr = np.array([[1, 2, 3], [4, 5, 6]])\n",
    "arr = arr.reshape(-1)\n",
    "print(arr)"
   ]
  },
  {
   "cell_type": "code",
   "execution_count": 38,
   "id": "d1928422-3a42-4fba-9f75-5be86011ac54",
   "metadata": {},
   "outputs": [
    {
     "name": "stdout",
     "output_type": "stream",
     "text": [
      "[1 2 3 4 5 6]\n"
     ]
    }
   ],
   "source": [
    "#Menggunakan flatten()\n",
    "arr = np.array([[1, 2, 3], [4, 5, 6]])\n",
    "arr = arr.flatten()\n",
    "print(arr)"
   ]
  },
  {
   "cell_type": "markdown",
   "id": "58cbc525-1143-45f4-b6b9-abb201b1a89f",
   "metadata": {},
   "source": []
  },
  {
   "cell_type": "markdown",
   "id": "dbac911b-436c-4ceb-ac5f-381196778f48",
   "metadata": {},
   "source": [
    "### Array Copy & View"
   ]
  },
  {
   "cell_type": "raw",
   "id": "c96391da-fc5b-4cbe-9bad-74df74e4ea7d",
   "metadata": {},
   "source": [
    "    Kita bisa melakukan duplikasi pada array yang memiliki shape dengan fungsi copy() atau fungsi view(). Fungsi copy() dapat melakukan duplikasi secara total, sedangkan view() bisa duplikasi juga tapi tidak secara total."
   ]
  },
  {
   "cell_type": "code",
   "execution_count": 39,
   "id": "a28dddd2-963f-46ec-a9f1-a5160b563d5a",
   "metadata": {},
   "outputs": [
    {
     "name": "stdout",
     "output_type": "stream",
     "text": [
      "[42  2  3  4  5] [1 2 3 4 5]\n"
     ]
    }
   ],
   "source": [
    "#Contoh copy()\n",
    "import numpy as np\n",
    "\n",
    "arr = np.array([1, 2, 3, 4, 5])\n",
    "x = arr.copy()\n",
    "arr[0] = 42\n",
    "print(arr, x)\n",
    "\n",
    "#jadi kalau menggunakan copy() kita ubah elemen di parent maka di childnya tidak ikut berubah"
   ]
  },
  {
   "cell_type": "code",
   "execution_count": 40,
   "id": "cd6b1947-3a70-4ec9-8f5c-9002381790f6",
   "metadata": {},
   "outputs": [
    {
     "name": "stdout",
     "output_type": "stream",
     "text": [
      "[42  2  3  4  5] [42  2  3  4  5]\n"
     ]
    }
   ],
   "source": [
    "#Contoh view()\n",
    "import numpy as np\n",
    "\n",
    "arr = np.array([1, 2, 3, 4, 5])\n",
    "x = arr.view()\n",
    "arr[0] = 42\n",
    "print(arr, x)\n",
    "\n",
    "#Tapi kalau kita menggunakan view() jika kita ubah element di parent maka di child juga ikut berubah"
   ]
  }
 ],
 "metadata": {
  "kernelspec": {
   "display_name": "Python 3 (ipykernel)",
   "language": "python",
   "name": "python3"
  },
  "language_info": {
   "codemirror_mode": {
    "name": "ipython",
    "version": 3
   },
   "file_extension": ".py",
   "mimetype": "text/x-python",
   "name": "python",
   "nbconvert_exporter": "python",
   "pygments_lexer": "ipython3",
   "version": "3.12.7"
  }
 },
 "nbformat": 4,
 "nbformat_minor": 5
}
