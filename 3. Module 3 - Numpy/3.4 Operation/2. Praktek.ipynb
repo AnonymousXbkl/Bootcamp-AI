{
 "cells": [
  {
   "cell_type": "markdown",
   "id": "ee70cc84",
   "metadata": {},
   "source": [
    "# Praktek Array"
   ]
  },
  {
   "cell_type": "code",
   "execution_count": 1,
   "id": "72f594f3",
   "metadata": {},
   "outputs": [],
   "source": [
    "import numpy as np"
   ]
  },
  {
   "cell_type": "markdown",
   "id": "b1260eec",
   "metadata": {},
   "source": [
    "### Iterasi pada Array 1D"
   ]
  },
  {
   "cell_type": "code",
   "execution_count": 3,
   "id": "8bc20aaf",
   "metadata": {},
   "outputs": [
    {
     "name": "stdout",
     "output_type": "stream",
     "text": [
      "1\n",
      "2\n",
      "3\n",
      "4\n",
      "5\n"
     ]
    }
   ],
   "source": [
    "arr = np.array([1, 2, 3, 4, 5])\n",
    "\n",
    "for i in arr:\n",
    "    print(i)"
   ]
  },
  {
   "cell_type": "markdown",
   "id": "584f6a90",
   "metadata": {},
   "source": [
    "### Iterasi pada Array 2D"
   ]
  },
  {
   "cell_type": "code",
   "execution_count": 4,
   "id": "49d6f738",
   "metadata": {},
   "outputs": [
    {
     "name": "stdout",
     "output_type": "stream",
     "text": [
      "[1 2 3]\n",
      "[4 5 6]\n"
     ]
    }
   ],
   "source": [
    "arr = np.array([[1, 2, 3], [4, 5, 6]])\n",
    "\n",
    "for i in arr:\n",
    "    print(i)"
   ]
  },
  {
   "cell_type": "markdown",
   "id": "b55a8abf",
   "metadata": {},
   "source": [
    "### Iterasi pada Array 3D atau lebih"
   ]
  },
  {
   "cell_type": "code",
   "execution_count": 8,
   "id": "a4c58b40",
   "metadata": {},
   "outputs": [
    {
     "name": "stdout",
     "output_type": "stream",
     "text": [
      "[[1 2 3]\n",
      " [4 5 6]]\n",
      "[[ 7  8  9]\n",
      " [10 11 12]]\n"
     ]
    }
   ],
   "source": [
    "arr = np.array([[[1, 2, 3], [4, 5, 6]], [[7, 8, 9], [10, 11, 12]]])\n",
    "\n",
    "for i in arr:\n",
    "    print(i)"
   ]
  },
  {
   "cell_type": "markdown",
   "id": "9859aad1",
   "metadata": {},
   "source": [
    "### Iterasi dengan nditer()"
   ]
  },
  {
   "cell_type": "code",
   "execution_count": 10,
   "id": "6d4ec27b",
   "metadata": {},
   "outputs": [
    {
     "name": "stdout",
     "output_type": "stream",
     "text": [
      "1\n",
      "2\n",
      "3\n",
      "4\n",
      "5\n",
      "6\n",
      "7\n",
      "8\n",
      "9\n",
      "10\n",
      "11\n",
      "12\n"
     ]
    }
   ],
   "source": [
    "arr = np.array([[[1, 2, 3], [4, 5, 6]], [[7, 8, 9], [10, 11, 12]]])\n",
    "\n",
    "for i in np.nditer(arr):\n",
    "    print(i)\n",
    "    \n",
    "# Dengan menggunakan nditer() kita bisa akses skalar array multi dimensi"
   ]
  },
  {
   "cell_type": "markdown",
   "id": "feced9a6",
   "metadata": {},
   "source": [
    "### Iterasi dengan ndenumerate() 1D"
   ]
  },
  {
   "cell_type": "code",
   "execution_count": 13,
   "id": "61a1c32e",
   "metadata": {},
   "outputs": [
    {
     "name": "stdout",
     "output_type": "stream",
     "text": [
      "(0,) 1\n",
      "(1,) 2\n",
      "(2,) 3\n",
      "(3,) 4\n",
      "(4,) 5\n"
     ]
    }
   ],
   "source": [
    "arr = np.array([1, 2, 3, 4, 5])\n",
    "\n",
    "for idx, i in np.ndenumerate(arr):\n",
    "    print(idx, i)\n",
    "    \n",
    "# Dengan menggunakan ndenumerate() kita bisa akses indeks dan skalar array multi dimensi"
   ]
  },
  {
   "cell_type": "markdown",
   "id": "e8e1c0d0",
   "metadata": {},
   "source": [
    "### Iterasi dengan ndenumerate() 2D"
   ]
  },
  {
   "cell_type": "code",
   "execution_count": 14,
   "id": "520beba2",
   "metadata": {},
   "outputs": [
    {
     "name": "stdout",
     "output_type": "stream",
     "text": [
      "(0, 0) 1\n",
      "(0, 1) 2\n",
      "(0, 2) 3\n",
      "(1, 0) 4\n",
      "(1, 1) 5\n",
      "(1, 2) 6\n"
     ]
    }
   ],
   "source": [
    "arr = np.array([[1, 2, 3], [4, 5, 6]])\n",
    "\n",
    "for idx, i in np.ndenumerate(arr):\n",
    "    print(idx, i)"
   ]
  },
  {
   "cell_type": "code",
   "execution_count": null,
   "id": "7b5aa99c",
   "metadata": {},
   "outputs": [],
   "source": []
  },
  {
   "cell_type": "markdown",
   "id": "9b9b19ff",
   "metadata": {},
   "source": [
    "### Join terhadap 2 Array 1D"
   ]
  },
  {
   "cell_type": "code",
   "execution_count": 18,
   "id": "cee5bcc9",
   "metadata": {},
   "outputs": [
    {
     "name": "stdout",
     "output_type": "stream",
     "text": [
      "[ 1  2  3  4  5  6  7  8  9 10]\n"
     ]
    }
   ],
   "source": [
    "arr1 = np.array([1, 2, 3, 4, 5])\n",
    "arr2 = np.array([6, 7, 8, 9, 10])\n",
    "\n",
    "arr = np.concatenate((arr1, arr2))\n",
    "print(arr)"
   ]
  },
  {
   "cell_type": "markdown",
   "id": "b99d1cf1",
   "metadata": {},
   "source": [
    "### Join terhadap 2 Array 2D"
   ]
  },
  {
   "cell_type": "code",
   "execution_count": 21,
   "id": "4fbe4f8a",
   "metadata": {},
   "outputs": [
    {
     "name": "stdout",
     "output_type": "stream",
     "text": [
      "[[ 1  2  3  7  8  9]\n",
      " [ 4  5  6 10 11 12]]\n",
      "(2, 6)\n"
     ]
    }
   ],
   "source": [
    "arr1 = np.array([[1, 2, 3], [4, 5, 6]])\n",
    "arr2 = np.array([[7, 8, 9], [10, 11, 12]])\n",
    "\n",
    "arr = np.concatenate((arr1, arr2), axis=1)\n",
    "print(arr)\n",
    "print(arr.shape)"
   ]
  },
  {
   "cell_type": "markdown",
   "id": "871beb9d",
   "metadata": {},
   "source": [
    "### Stack terhadap 2 Array 1D\n",
    "Stack ini akan membuat dimensi baru. kita bisa stack dengan 2 cara yaitu hstack() dan vstack(). By default dia akan menggunakan vstack()"
   ]
  },
  {
   "cell_type": "code",
   "execution_count": 24,
   "id": "4cf10625",
   "metadata": {},
   "outputs": [
    {
     "name": "stdout",
     "output_type": "stream",
     "text": [
      "[[ 1  2  3  4  5]\n",
      " [ 6  7  8  9 10]]\n",
      "(2, 5)\n"
     ]
    }
   ],
   "source": [
    "arr1 = np.array([1, 2, 3, 4, 5])\n",
    "arr2 = np.array([6, 7, 8, 9, 10])\n",
    "\n",
    "# nah itu kan masing-masing 1D\n",
    "\n",
    "arr = np.stack((arr1, arr2))\n",
    "#kita stack dia akan berubah jadi 2D, dia konsepnya mirip kayak concatenate tapi dia nambahin dimensi baru\n",
    "\n",
    "print(arr)\n",
    "print(arr.shape)"
   ]
  },
  {
   "cell_type": "markdown",
   "id": "a8d0de93",
   "metadata": {},
   "source": [
    "### Split terhadap 1 Array 1D\n"
   ]
  },
  {
   "cell_type": "code",
   "execution_count": 28,
   "id": "5b1ea286",
   "metadata": {},
   "outputs": [
    {
     "name": "stdout",
     "output_type": "stream",
     "text": [
      "[array([1, 2, 3]), array([4, 5])]\n"
     ]
    }
   ],
   "source": [
    "arr = np.array([1, 2, 3, 4, 5])\n",
    "\n",
    "arr = np.array_split(arr, 2)\n",
    "print(arr)\n",
    "\n",
    "# pembagian pada array_split() itu tidak harus sama, dia akan membagi sesuai dengan panjang array yang kita punya"
   ]
  },
  {
   "cell_type": "markdown",
   "id": "855c2917",
   "metadata": {},
   "source": [
    "### Split terhadap 1 Array 2D"
   ]
  },
  {
   "cell_type": "code",
   "execution_count": 33,
   "id": "fe51379b",
   "metadata": {},
   "outputs": [
    {
     "name": "stdout",
     "output_type": "stream",
     "text": [
      "[array([[1, 2, 3],\n",
      "       [4, 5, 6]]), array([[7, 8, 9]])]\n"
     ]
    }
   ],
   "source": [
    "arr = np.array([[1, 2, 3], [4, 5, 6], [7, 8, 9]])\n",
    "\n",
    "arr = np.array_split(arr, 2, axis=0) # bisa juga axis=1\n",
    "print(arr)"
   ]
  },
  {
   "cell_type": "markdown",
   "id": "dc2afe4b",
   "metadata": {},
   "source": [
    "### Search pada Array 1D"
   ]
  },
  {
   "cell_type": "code",
   "execution_count": 37,
   "id": "0cced4bc",
   "metadata": {},
   "outputs": [
    {
     "name": "stdout",
     "output_type": "stream",
     "text": [
      "(array([2]),)\n",
      "(array([1]),)\n"
     ]
    }
   ],
   "source": [
    "arr = np.array([1, 2, 3, 4, 5])\n",
    "\n",
    "x = np.where(arr == 3)\n",
    "y = np.where(arr*2 == 4)    # arrnya bisa kita operasikan dulu baru kita cari\n",
    "print(x)\n",
    "print(y)"
   ]
  },
  {
   "cell_type": "markdown",
   "id": "324b5c31",
   "metadata": {},
   "source": [
    "### Sort pada Array 1D"
   ]
  },
  {
   "cell_type": "code",
   "execution_count": 42,
   "id": "5f7d1bdd",
   "metadata": {},
   "outputs": [
    {
     "name": "stdout",
     "output_type": "stream",
     "text": [
      "[0 1 2 3 4 5]\n",
      "['anggur' 'apel' 'jeruk' 'kiwi' 'mangga' 'pisang']\n"
     ]
    }
   ],
   "source": [
    "arr = np.array([3, 2, 1, 4, 5, 0])\n",
    "arr2 = np.array(['pisang', 'apel', 'jeruk', 'mangga', 'kiwi', 'anggur'])\n",
    "\n",
    "x = np.sort(arr)\n",
    "y = np.sort(arr2)\n",
    "print(x)\n",
    "print(y)"
   ]
  },
  {
   "cell_type": "markdown",
   "id": "c61cf0c9",
   "metadata": {},
   "source": [
    "### Sort pada Array 2D"
   ]
  },
  {
   "cell_type": "code",
   "execution_count": 44,
   "id": "de139df6",
   "metadata": {},
   "outputs": [
    {
     "name": "stdout",
     "output_type": "stream",
     "text": [
      "[[1 2 3]\n",
      " [0 4 5]]\n",
      "[['apel' 'jeruk' 'pisang']\n",
      " ['anggur' 'kiwi' 'mangga']]\n"
     ]
    }
   ],
   "source": [
    "arr = np.array([[3, 2, 1], [4, 5, 0]])\n",
    "arr2 = np.array([['pisang', 'apel', 'jeruk'], ['mangga', 'kiwi', 'anggur']])\n",
    "\n",
    "x = np.sort(arr) # axis=0 itu kolom, axis=1 itu baris\n",
    "y = np.sort(arr2) # axis=0 itu kolom, axis=1 itu baris\n",
    "print(x)\n",
    "print(y)"
   ]
  },
  {
   "cell_type": "code",
   "execution_count": null,
   "id": "d2711bdb",
   "metadata": {},
   "outputs": [],
   "source": []
  }
 ],
 "metadata": {
  "kernelspec": {
   "display_name": "base",
   "language": "python",
   "name": "python3"
  },
  "language_info": {
   "codemirror_mode": {
    "name": "ipython",
    "version": 3
   },
   "file_extension": ".py",
   "mimetype": "text/x-python",
   "name": "python",
   "nbconvert_exporter": "python",
   "pygments_lexer": "ipython3",
   "version": "3.12.7"
  }
 },
 "nbformat": 4,
 "nbformat_minor": 5
}
