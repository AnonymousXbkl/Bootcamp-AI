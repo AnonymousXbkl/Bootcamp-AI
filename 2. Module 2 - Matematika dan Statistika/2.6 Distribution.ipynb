{
 "cells": [
  {
   "cell_type": "raw",
   "id": "6570fb79-9ec0-40f6-95c5-c49460753b02",
   "metadata": {},
   "source": [
    "=============================================== Distribution ================================================="
   ]
  },
  {
   "cell_type": "raw",
   "id": "41dc9b89-867d-44f5-b01c-f7dae03f8c57",
   "metadata": {},
   "source": [
    "- Skewness (Kemiringan)\n",
    "- Kurtosis (Keruncingan)"
   ]
  },
  {
   "cell_type": "raw",
   "id": "caa015f9-bb29-4761-8181-92072925be69",
   "metadata": {},
   "source": [
    "1. Skewness\n",
    "\n",
    "      |                                                                |\n",
    "      |           |                                                    |     |\n",
    "      |        |  |  |                                                 |  |  |  |\n",
    "      |     |  |  |  |                                                 |  |  |  |  | \n",
    "      |  |  |  |  |  |  |                                              |  |  |  |  |  |\n",
    "      |__|__|__|__|__|__|__|                                           |__|__|__|__|__|__|___\n",
    "         Skewness Negatif                                                 Skewness Positif\n",
    "\n",
    "Skewness yang bernilai negatif berarti ekor                     Skewness yang bernilai positif berarti ekor\n",
    "distribusi berada di sebelah kiri, menunjukkan                  Distribusi berada di sebelah kanan nilai\n",
    "bahwa sebagian besar nilai berada di sisi                       terbanyak. Berarti, sebagian besar distribusi\n",
    "kanan kurva.                                                    berada di sisi kiri kurva.\n",
    "\n",
    "\n",
    "\n",
    "                                     |\n",
    "                                     |             |\n",
    "                                     |          |  |  |                      \n",
    "                                     |       |  |  |  |  |\n",
    "                                     |    |  |  |  |  |  |  | \n",
    "                                     |_|__|__|__|__|__|__|__|__|___\n",
    "                                         Skewness bernilai nol\n",
    "\n",
    "                       Skewness bernilai nol berarti nilai terdistribusi secara \n",
    "                       simetris, dengan jarak antar ekor distribusi sebelah kanan\n",
    "                       dan kiri sama besar."
   ]
  },
  {
   "cell_type": "raw",
   "id": "e4355d92-2a0d-4123-8d13-f1114756cf6b",
   "metadata": {},
   "source": [
    "2. Kurtosis\n",
    "       Kurtosis adalah indikator untuk menunjukkan derajat keruncingan (tailedness). Semakin besar nilai         kurtosis maka kurva semakin runcing.\n",
    "\n",
    "   Nilai referensi kurtosis ada 3 :\n",
    "   1. Lebih besar dari 3, LEPTOKURTIK\n",
    "   2. Lebih rendah dari 3, PLATIKURTIK\n",
    "   3. Sama dengan 3, MESOKURTIK"
   ]
  },
  {
   "cell_type": "raw",
   "id": "46c01541-161b-4d37-b0dc-eb3b9cc1bfcd",
   "metadata": {},
   "source": []
  },
  {
   "cell_type": "raw",
   "id": "c840608d-2d8c-44fa-9394-47bda1ed53d3",
   "metadata": {},
   "source": [
    "TAMBAHAN"
   ]
  },
  {
   "cell_type": "raw",
   "id": "20518681-dda0-4ec0-9719-301fc4a03258",
   "metadata": {},
   "source": [
    "=============================================== Distribution ================================================="
   ]
  },
  {
   "cell_type": "raw",
   "id": "580b9c55-4fcc-4602-a1bb-df4059f9d51f",
   "metadata": {},
   "source": [
    "3. Intermezzo"
   ]
  },
  {
   "cell_type": "raw",
   "id": "9b8a30a1-3a03-4120-9747-775f8c2cc814",
   "metadata": {},
   "source": []
  }
 ],
 "metadata": {
  "kernelspec": {
   "display_name": "Python 3 (ipykernel)",
   "language": "python",
   "name": "python3"
  },
  "language_info": {
   "codemirror_mode": {
    "name": "ipython",
    "version": 3
   },
   "file_extension": ".py",
   "mimetype": "text/x-python",
   "name": "python",
   "nbconvert_exporter": "python",
   "pygments_lexer": "ipython3",
   "version": "3.12.7"
  }
 },
 "nbformat": 4,
 "nbformat_minor": 5
}
