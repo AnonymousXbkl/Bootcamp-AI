{
 "cells": [
  {
   "cell_type": "markdown",
   "id": "a9edbcc0",
   "metadata": {},
   "source": [
    "**Nama** : Suwandi Ramadhan <br>\n",
    "**Grup** : Prof. Suyanto"
   ]
  },
  {
   "cell_type": "code",
   "execution_count": 2,
   "id": "b0ccf940",
   "metadata": {},
   "outputs": [],
   "source": [
    "import numpy as np\n",
    "import pandas as pd\n",
    "import seaborn as sns\n",
    "import matplotlib\n",
    "import matplotlib.pyplot as plt\n",
    "import warnings"
   ]
  },
  {
   "cell_type": "code",
   "execution_count": 3,
   "id": "c23a5a7c",
   "metadata": {},
   "outputs": [
    {
     "data": {
      "text/plain": [
       "['Solarize_Light2',\n",
       " '_classic_test_patch',\n",
       " '_mpl-gallery',\n",
       " '_mpl-gallery-nogrid',\n",
       " 'bmh',\n",
       " 'classic',\n",
       " 'dark_background',\n",
       " 'fast',\n",
       " 'fivethirtyeight',\n",
       " 'ggplot',\n",
       " 'grayscale',\n",
       " 'petroff10',\n",
       " 'seaborn-v0_8',\n",
       " 'seaborn-v0_8-bright',\n",
       " 'seaborn-v0_8-colorblind',\n",
       " 'seaborn-v0_8-dark',\n",
       " 'seaborn-v0_8-dark-palette',\n",
       " 'seaborn-v0_8-darkgrid',\n",
       " 'seaborn-v0_8-deep',\n",
       " 'seaborn-v0_8-muted',\n",
       " 'seaborn-v0_8-notebook',\n",
       " 'seaborn-v0_8-paper',\n",
       " 'seaborn-v0_8-pastel',\n",
       " 'seaborn-v0_8-poster',\n",
       " 'seaborn-v0_8-talk',\n",
       " 'seaborn-v0_8-ticks',\n",
       " 'seaborn-v0_8-white',\n",
       " 'seaborn-v0_8-whitegrid',\n",
       " 'tableau-colorblind10']"
      ]
     },
     "execution_count": 3,
     "metadata": {},
     "output_type": "execute_result"
    }
   ],
   "source": [
    "plt.style.available"
   ]
  },
  {
   "cell_type": "code",
   "execution_count": 4,
   "id": "2998ae8f",
   "metadata": {},
   "outputs": [],
   "source": [
    "plt.style.use('seaborn-v0_8')"
   ]
  },
  {
   "cell_type": "markdown",
   "id": "5e84fe93",
   "metadata": {},
   "source": [
    "# 1. Business & Data Understanding"
   ]
  },
  {
   "cell_type": "markdown",
   "id": "bfe4afc5",
   "metadata": {},
   "source": [
    "## 1.1 Business"
   ]
  },
  {
   "cell_type": "markdown",
   "id": "39954a81",
   "metadata": {},
   "source": [
    "### 1.1.1 Seperti apa industri Real Estate di Indonesia\n",
    "Industri Real Estate di Indonesia terus bertumbuh pesat dan sangat dipengaruhi oleh kondisi ekonomi nasional serta tingkat perpindahan penduduk ke perkotaan."
   ]
  },
  {
   "cell_type": "markdown",
   "id": "da052ab2",
   "metadata": {},
   "source": [
    "### 1.1.2 Seberapa penting sistem prediksi harga rumah?\n",
    "Sangat penting karena dengan adanya sistem untuk memprediksi harga rumah dari sisi penjual dan pembeli bisa mendapatkan harga yang sesuai dengan cost yang sudah dikeluarkan untuk membangun rumah tersebut\n",
    "\n"
   ]
  },
  {
   "cell_type": "markdown",
   "id": "36c6ba2c",
   "metadata": {},
   "source": [
    "### 1.1.3 Supervised atau Unsupervised Learning? Algoritma apa yang digunakan?\n",
    "- Metode yang cocok digunakan adalah Supervised Learning karena dalam dataset tersebut sudah terdapat harga jual (target) dan juga disini metode Supervised Learning (Regresi) cocok digunakan untuk menentukan nilai kontinu\n",
    "\n",
    "- Algoritma yang digunakan\n",
    "1. LinearRegression\n",
    "2. Ridge \n",
    "3. Lasso \n",
    "4. DecisionTree \n",
    "5. RandomForest \n",
    "6. GradientBoosting \n",
    "7. XGBoost \n",
    "8. LightGBM \n",
    "9. CatBoost \n",
    "\n",
    "- Matrik Pengukuran yang digunakan\n",
    "1. Mean Absolute Error\n",
    "2. Root Mean Squared Error\n",
    "3. R2 Score Test"
   ]
  },
  {
   "cell_type": "markdown",
   "id": "dfc44241",
   "metadata": {},
   "source": [
    "## 1.2 Data Understanding"
   ]
  },
  {
   "cell_type": "markdown",
   "id": "593b8c8c",
   "metadata": {},
   "source": [
    "### Berikut adalah penjelasan untuk setiap fitur dalam dataset <br> **AmesHousing**, disertai dengan :"
   ]
  },
  {
   "cell_type": "markdown",
   "id": "d74c7bc5",
   "metadata": {},
   "source": [
    "- **Fitur**\n",
    "- **Deskripsi Dataset Untuk Tiap Kolom/Fitur**\n",
    "- **Dtype Untuk Tiap Kolom/Fitur**\n",
    "- **Tipe Data** (Numerik/Kategorikal)\n"
   ]
  },
  {
   "cell_type": "markdown",
   "id": "b60fb977",
   "metadata": {},
   "source": [
    "###  Identifikasi Properti"
   ]
  },
  {
   "cell_type": "markdown",
   "id": "091d1eae",
   "metadata": {},
   "source": [
    "| Fitur | Deskripsi | Dtype | Tipe | Jumlah Data Yang Hilang |\n",
    "|:-------:|:-----------:|:-------:|:------:|:-------------------------:|\n",
    "| `Order` | Nomor urutan data entri properti | int64 | Numerical | Tidak ada data hilang |\n",
    "| `PID` | ID unik Properti | int64 | Numerical | Tidak ada data hilang |"
   ]
  },
  {
   "cell_type": "markdown",
   "id": "41d8526f",
   "metadata": {},
   "source": [
    "### Informasi Lokasi & Lahan"
   ]
  },
  {
   "cell_type": "markdown",
   "id": "411fad2a",
   "metadata": {},
   "source": [
    "| Fitur | Deskripsi | Dtype | Tipe | Jumlah Data Yang Hilang |\n",
    "|:-----:|:---------:|:-----:|:----:|:-----------------------:|\n",
    "| `MS SubClass` | Subkelas hunian yang terlibat dalam penjualan | int64 | Numerical/Kategori | Tidak ada data hilang |\n",
    "| `MS Zoning` | Zona umum perumahan dalam batas kota` | object | Kategorikal | Tidak ada data hilang |\n",
    "| `Lot Frontage\t` | Luas (feet) jalan yang terhubung dengan properti | float64 | Numerical | <span style=\"color: grey;\">490 data hilang</span> |\n",
    "| `Lot Area` | Luas lot properti | int64 | Numerical | Tidak ada data hilang |\n",
    "| `Street` | Tipe akses jalan menuju properti | object | Kategorikal | Tidak ada data hilang |\n",
    "| `Alley` | Tipe akses gang | object | Kategorikal | <span style=\"color: red;\">2732 data hilang</span> |\n",
    "| `Lot Shape` | Bentuk umum properti | object | Kategorikal | Tidak ada data hilang |\n",
    "| `Land Contour` | Kerataan tanah properti | object | Kategorikal | Tidak ada data hilang |\n",
    "| `Utilities` | Jenis utilitas (layanan publik) yang tersedia | object | Kategorikal | Tidak ada data hilang |\n",
    "| `Lot Config` | Konfigurasi lot properti (misal: hook, inside lot) | object | Kategorikal | Tidak ada data hilang |\n",
    "| `Land Slope` | Kemiringan tanah properti | object | Kategorikal | Tidak ada data hilang |\n",
    "| `Neighborhood` | Nama fisik kawasan (perumahan) dalam batas kota Ames | object | Kategorikal | Tidak ada data hilang |\n",
    "| `Condition 1` | Kedekatan dengan berbagai kondisi/fitur (misal: jalan arteri, rel kereta api) | object | Kategorikal | Tidak ada data hilang |\n",
    "| `Condition 2` | Kedekatan dengan kondisi/fitur (jika ada lebih dari satu) | object | Kategorikal | Tidak ada data hilang |"
   ]
  },
  {
   "cell_type": "markdown",
   "id": "318934f4",
   "metadata": {},
   "source": [
    "### Informasi Bangunan Utama"
   ]
  },
  {
   "cell_type": "markdown",
   "id": "cb48ed89",
   "metadata": {},
   "source": [
    "| Fitur | Deskripsi | Dtype | Tipe | Jumlah Data Yang Hilang |\n",
    "|:-----:|:---------:|:-----:|:----:|:-----------------------:|\n",
    "| `Bldg Type` | Tipe tempat tinggal (misal: rumah tunggal satu keluarga, dupleks) | object | object | Tidak ada data hilang |\n",
    "| `House Style` | Gaya tempat tinggal (misal: 1 lantai, 2 lantai) | object | Kategorikal | Tidak ada data hilang |\n",
    "| `Overall Qual` | Menilai kualitas material dan finishing rumah secara keseluruhan (misal: 1-10) | int64 | Numerical | Tidak ada data hilang |\n",
    "| `Overall Cond` | Menilai kondisi rumah secara keseluruhan (misal: 1-10) | int64 | Numerical | Tidak ada data hilang |\n",
    "| `Year Built` | Tanggal pembangunan awal | int64 | Numerical | Tidak ada data hilang |\n",
    "| `Year Remod/Add` | Tanggal renovasi atau penambahan terakhir (jika ada) | int64 | Numerical | Tidak ada data hilang |\n",
    "| `Roof Style` | Tipe atap | object | Kategorikal | Tidak ada data hilang |\n",
    "| `Exterior 1st` | Material penutup eksterior utama (sisi rumah) | object | Kategorikal | Tidak ada data hilang |\n",
    "| `Exterior 2nd` | Material penutup eksterior kedua (jika berbeda) | object | Kategorikal | Tidak ada data hilang |\n",
    "| `Mas Vnr Type` | Tipe veneer batu/masonry (jika ada) | object | Kategorikal | <span style=\"color:red\">1775 data hilang<span> |\n",
    "| `Mas Vnr Area` | Luas area veneer batu/masonry (dalam kaki persegi) | float64 | Numerical | <span style=\"color:orange\">23 data hilang<span> |\n",
    "| `Exter Qual` | Kualitas material eksterior saat ini | object | Kategorikal | Tidak ada data hilang |\n",
    "| `Exter Cond` | Kondisi material eksterior saat ini | object | Kategorikal | Tidak ada data hilang |\n"
   ]
  },
  {
   "cell_type": "markdown",
   "id": "317dbd5b",
   "metadata": {},
   "source": [
    "### Fondasi & Basement"
   ]
  },
  {
   "cell_type": "markdown",
   "id": "e9d9386a",
   "metadata": {},
   "source": [
    "| Fitur | Deskripsi | Dtype | Tipe | Jumlah Data Yang Hilang |\n",
    "|:-----:|:---------:|:-----:|:----:|:-----------------------:|\n",
    "| `Foundation` | Tipe fondasi | object | Kategorikal | Tidak ada data hilang |\n",
    "| `Bsmt Qual` | Kualitas tinggi basement (Tinggi Headroom) | object | Kategorikal | <span style=\"color:orange\">80 data hilang<span> |\n",
    "| `Bsmt Cond` | Kondisi umum basement | object | Kategorikal | <span style=\"color:orange\">80 data hilang<span> |\n",
    "| `Bsmt Exposure` | Tingkat dinding basement yang walkout atau terpapar ke taman | object | Kategorikal | <span style=\"color:orange\">83 data hilang<span> |\n",
    "| `BsmtFin Type 1` | Kualitas area selesai basement yang dominan | object | Kategorikal | <span style=\"color:orange\">80 data hilang<span> |\n",
    "| `BsmtFin SF 1` | Luas (dalam kaki persegi) area selesai tipe 1 di basement | float64 | Numerical | <span style=\"color:orange\">1 data hilang<span> |\n",
    "| `BsmtFin Type 2` | Kualitas area selesai basement yang kedua (jika ada) | object | Kategorikal | <span style=\"color:orange\">81 data hilang<span> |\n",
    "| `BsmtFin SF 2` | Luas (dalam kaki persegi) area selesai tipe 2 di basement | float64 | Numerical | <span style=\"color:orange\">1 data hilang<span> |\n",
    "| `Bsmt Unf SF` | Luas (dalam kaki persegi) area basement yang belum selesai | float64 | Numerical | <span style=\"color:orange\">1 data hilang<span> |\n",
    "| `Total Bsmt SF` | Total luas (dalam kaki persegi) basement | float64 | Numerical | <span style=\"color:orange\">1 data hilang<span> |"
   ]
  },
  {
   "cell_type": "markdown",
   "id": "12c50984",
   "metadata": {},
   "source": [
    "### Sistem Internal & Ruangan (di atas tanah)"
   ]
  },
  {
   "cell_type": "markdown",
   "id": "8f749fec",
   "metadata": {},
   "source": [
    "| Fitur | Deskripsi | Dtype | Tipe | Jumlah Data Yang Hilang |\n",
    "|:-----:|:---------:|:-----:|:----:|:-----------------------:|\n",
    "| `Heating` | Tipe sistem pemanasan | object | Kategorikal | Tidak ada data hilang |\n",
    "| `Heating QC` | Kualitas dan kondisi pemanasan | object | Kategorikal | Tidak ada data hilang |\n",
    "| `Central Air` | Pendingin udara sentral | object | Kategorikal | Tidak ada data hilang |\n",
    "| `Electrical` | Sistem kelistrikan | object | Kategorikal | <span style=\"color:orange\">1 data hilang<span> |\n",
    "| `1st Flr SF` | Luas (dalam kaki persegi) lantai pertama | int64 | Numerical | Tidak ada data hilang |\n",
    "| `2nd Flr SF` | Luas (dalam kaki persegi) lantai kedua (jika ada) | int64 | Numerical | Tidak ada data hilang |\n",
    "| `Low Qual Fin SF` | Luas (dalam kaki persegi) area selesai berkualitas rendah (lantai apa pun) | int64 | Numerical | Tidak ada data hilang |\n",
    "| `Gr Liv Area` | Luas (dalam kaki persegi) area tinggal di atas permukaan tanah (Living Area) | int64 | Numerical | Tidak ada data hilang |\n",
    "| `Bedroom AbvGr` | Jumlah kamar tidur di atas permukaan tanah | int64 | int64 | Tidak ada data hilang |\n",
    "| `Kitchen AbvGr` | Jumlah dapur di atas permukaan tanah | int64 | Numerical | Tidak ada data hilang |\n",
    "| `Kitchen Qual` | Kualitas dapur | object | Kategorikal | Tidak ada data hilang |\n",
    "| `TotRms AbvGrd` | Total jumlah ruangan di atas permukaan tanah (tidak termasuk kamar mandi) | int64 | Numerical | Tidak ada data hilang |\n",
    "| `Functional` | Tingkat fungsionalitas rumah | object | Kategorikal | Tidak ada data hilang |\n"
   ]
  },
  {
   "cell_type": "markdown",
   "id": "119b82f5",
   "metadata": {},
   "source": [
    "### Kamar Mandi"
   ]
  },
  {
   "cell_type": "markdown",
   "id": "946b23ba",
   "metadata": {},
   "source": [
    "| Fitur | Deskripsi | Dtype | Tipe | Jumlah Data Yang Hilang |\n",
    "|:-----:|:---------:|:-----:|:----:|:-----------------------:|\n",
    "| `Bsmt Full Bath` | Jumlah kamar mandi penuh di basement | float64 | Numerical | <span style=\"color:orange\">2 data hilang<span> |\n",
    "| `Bsmt Half Bath` | Jumlah kamar mandi setengah di basement | float64 | Numerical | <span style=\"color:orange\">2 data hilang<span> |\n",
    "| `Full Bath` | Jumlah kamar mandi penuh di atas permukaan tanah | int64 | Numerical | Tidak ada data hilang |\n",
    "| `Half Bath` | Jumlah kamar mandi setengah di atas permukaan tanah | int64 | Numerical | Tidak ada data hilang |"
   ]
  },
  {
   "cell_type": "markdown",
   "id": "4ec899b6",
   "metadata": {},
   "source": [
    "### Fitur Eksternal & Lain-lain"
   ]
  },
  {
   "cell_type": "markdown",
   "id": "8a1125c7",
   "metadata": {},
   "source": [
    "| Fitur | Deskripsi | Dtype | Tipe | Jumlah Data Yang Hilang |\n",
    "|:-----:|:---------:|:-----:|:----:|:-----------------------:|\n",
    "| `Fireplaces` | Jumlah perapian | int64 | Numerical | Tidak ada data hilang |\n",
    "| `Fireplace Qu` | Kualitas perapian | object | Kategorikal | <span style=\"color:red\">1422 data hilang<span> |\n",
    "| `Garage Type` | Tipe garasi | object | Kategorikal | <span style=\"color:orange\">157 data hilang<span> |\n",
    "| `Garage Yr Blt` | Tahun garasi dibangun | float64 | Numerical | <span style=\"color:orange\">159 data hilang<span> |\n",
    "| `Garage Finish` | Finishing interior garasi | object | Kategorikal | <span style=\"color:orange\">159 data hilang<span> |\n",
    "| `Garage Cars` | Kapasitas garasi (dalam jumlah mobil) | float64 | Numerical | <span style=\"color:orange\">1 data hilang<span> |\n",
    "| `Garage Area` | Luas (dalam kaki persegi) garasi | float64 | Numerical | <span style=\"color:orange\">1 data hilang<span> |\n",
    "| `Garage Qual` | Kualitas garasi | object | Kategorikal | <span style=\"color:orange\">159 data hilang<span> |\n",
    "| `Garage Cond` | Kondisi garasi | object | Kategorikal | <span style=\"color:orange\">159 data hilang<span> |\n",
    "| `Paved Drive` | Jalan masuk beraspal | object | Kategorikal | Tidak ada data hilang |\n",
    "| `Wood Deck SF` | Luas (dalam kaki persegi) teras kayu | int64 | Numerical | Tidak ada data hilang |\n",
    "| `Open Porch SF` | Luas (dalam kaki persegi) teras terbuka | int64 | Numerical | Tidak ada data hilang |\n",
    "| `Enclosed Porch` | Luas (dalam kaki persegi) teras tertutup | int64 | Numerical | Tidak ada data hilang |\n",
    "| `3Ssn Porch` | Luas (dalam kaki persegi) teras 3 musim | int64 | Numerical | Tidak ada data hilang |\n",
    "| `Screen Porch` | Luas (dalam kaki persegi) teras berlayar (screened) | int64 | Numerical | Tidak ada data hilang |\n",
    "| `Pool Area` | Luas (dalam kaki persegi) kolam renang | int64 | Numerical | Tidak ada data hilang |\n",
    "| `Pool QC` | Kualitas kolam renang | object | Kategorikal | <span style=\"color:red\">2917 data hilang<span> |\n",
    "| `Fence` | Kualitas pagar | object | Kategorikal | <span style=\"color:red\">2358 data hilang<span> |\n",
    "| `Misc Feature` | Fitur lain-lain yang tidak tercakup dalam kategori lain (misal: lift, lapangan tenis) | object | Kategorikal | <span style=\"color:red\">2824 data hilang<span> |\n",
    "| `Misc Val` | Nilai (dalam mata uang )dari fitur lain−lain (MiscFeature) jika ada | int64 | Numerical | Tidak ada data hilang |"
   ]
  },
  {
   "cell_type": "markdown",
   "id": "0cd1a358",
   "metadata": {},
   "source": [
    "### Informasi Penjualan"
   ]
  },
  {
   "cell_type": "markdown",
   "id": "818449b5",
   "metadata": {},
   "source": [
    "| Fitur | Deskripsi | Dtype | Tipe | Jumlah Data Yang Hilang |\n",
    "|:-----:|:---------:|:-----:|:----:|:-----------------------:|\n",
    "| `Mo Sold` | Bulan penjualan | int64 | Numerical | Tidak ada data hilang |\n",
    "| `Yr Sold` | Tahun penjualan | int64 | Numerical | Tidak ada data hilang |\n",
    "| `Sale Type` | Tipe transaksi penjualan | object | Kategorikal | Tidak ada data hilang |\n",
    "| `Sale Condition` | Kondisi penjualan (misal:Normal,Abnorml)| object | Kategorikal | Tidak ada data hilang |\n",
    "| `SalePrice` | Harga jualproperti dalam dollar | int64 | Numerical | Tidak ada data hilang |"
   ]
  },
  {
   "cell_type": "markdown",
   "id": "78efa320",
   "metadata": {},
   "source": [
    "## 2. Data Cleaning & Analysis"
   ]
  },
  {
   "cell_type": "code",
   "execution_count": 5,
   "id": "234822d0",
   "metadata": {},
   "outputs": [],
   "source": [
    "from scipy.stats import skew\n",
    "\n",
    "from sklearn.model_selection import train_test_split\n",
    "\n",
    "from sklearn.pipeline import Pipeline\n",
    "from sklearn.preprocessing import StandardScaler, OrdinalEncoder, OneHotEncoder\n",
    "from sklearn.impute import SimpleImputer\n",
    "\n",
    "from sklearn.compose import ColumnTransformer\n",
    "\n",
    "\n",
    "# Linear models\n",
    "from sklearn.linear_model import LinearRegression, Ridge, Lasso\n",
    "\n",
    "# Tree-based models\n",
    "from sklearn.tree import DecisionTreeRegressor\n",
    "from sklearn.ensemble import RandomForestRegressor, GradientBoostingRegressor\n",
    "\n",
    "# Boosting libraries\n",
    "from xgboost import XGBRegressor\n",
    "from lightgbm import LGBMRegressor\n",
    "from catboost import CatBoostRegressor\n",
    "\n",
    "# Pipeline\n",
    "from sklearn.pipeline import make_pipeline\n",
    "from sklearn.pipeline import Pipeline\n",
    "\n",
    "\n",
    "# metrik evaluasi\n",
    "from sklearn.metrics import mean_absolute_error, mean_squared_error, r2_score\n",
    "\n",
    "# save the model\n",
    "import joblib"
   ]
  },
  {
   "cell_type": "markdown",
   "id": "7fb997bc",
   "metadata": {},
   "source": [
    "## 2.1 Data Analysis"
   ]
  },
  {
   "cell_type": "markdown",
   "id": "30bf2446",
   "metadata": {},
   "source": [
    "### 2.1.1 Muat Data, Preview Awal dan Pisahkan Label SalesPrice"
   ]
  },
  {
   "cell_type": "code",
   "execution_count": 6,
   "id": "9ff5dda3",
   "metadata": {},
   "outputs": [
    {
     "data": {
      "text/html": [
       "<div>\n",
       "<style scoped>\n",
       "    .dataframe tbody tr th:only-of-type {\n",
       "        vertical-align: middle;\n",
       "    }\n",
       "\n",
       "    .dataframe tbody tr th {\n",
       "        vertical-align: top;\n",
       "    }\n",
       "\n",
       "    .dataframe thead th {\n",
       "        text-align: right;\n",
       "    }\n",
       "</style>\n",
       "<table border=\"1\" class=\"dataframe\">\n",
       "  <thead>\n",
       "    <tr style=\"text-align: right;\">\n",
       "      <th></th>\n",
       "      <th>Order</th>\n",
       "      <th>PID</th>\n",
       "      <th>MS SubClass</th>\n",
       "      <th>MS Zoning</th>\n",
       "      <th>Lot Frontage</th>\n",
       "      <th>Lot Area</th>\n",
       "      <th>Street</th>\n",
       "      <th>Alley</th>\n",
       "      <th>Lot Shape</th>\n",
       "      <th>Land Contour</th>\n",
       "      <th>...</th>\n",
       "      <th>Pool Area</th>\n",
       "      <th>Pool QC</th>\n",
       "      <th>Fence</th>\n",
       "      <th>Misc Feature</th>\n",
       "      <th>Misc Val</th>\n",
       "      <th>Mo Sold</th>\n",
       "      <th>Yr Sold</th>\n",
       "      <th>Sale Type</th>\n",
       "      <th>Sale Condition</th>\n",
       "      <th>SalePrice</th>\n",
       "    </tr>\n",
       "  </thead>\n",
       "  <tbody>\n",
       "    <tr>\n",
       "      <th>0</th>\n",
       "      <td>1</td>\n",
       "      <td>526301100</td>\n",
       "      <td>20</td>\n",
       "      <td>RL</td>\n",
       "      <td>141.0</td>\n",
       "      <td>31770</td>\n",
       "      <td>Pave</td>\n",
       "      <td>NaN</td>\n",
       "      <td>IR1</td>\n",
       "      <td>Lvl</td>\n",
       "      <td>...</td>\n",
       "      <td>0</td>\n",
       "      <td>NaN</td>\n",
       "      <td>NaN</td>\n",
       "      <td>NaN</td>\n",
       "      <td>0</td>\n",
       "      <td>5</td>\n",
       "      <td>2010</td>\n",
       "      <td>WD</td>\n",
       "      <td>Normal</td>\n",
       "      <td>215000</td>\n",
       "    </tr>\n",
       "    <tr>\n",
       "      <th>1</th>\n",
       "      <td>2</td>\n",
       "      <td>526350040</td>\n",
       "      <td>20</td>\n",
       "      <td>RH</td>\n",
       "      <td>80.0</td>\n",
       "      <td>11622</td>\n",
       "      <td>Pave</td>\n",
       "      <td>NaN</td>\n",
       "      <td>Reg</td>\n",
       "      <td>Lvl</td>\n",
       "      <td>...</td>\n",
       "      <td>0</td>\n",
       "      <td>NaN</td>\n",
       "      <td>MnPrv</td>\n",
       "      <td>NaN</td>\n",
       "      <td>0</td>\n",
       "      <td>6</td>\n",
       "      <td>2010</td>\n",
       "      <td>WD</td>\n",
       "      <td>Normal</td>\n",
       "      <td>105000</td>\n",
       "    </tr>\n",
       "    <tr>\n",
       "      <th>2</th>\n",
       "      <td>3</td>\n",
       "      <td>526351010</td>\n",
       "      <td>20</td>\n",
       "      <td>RL</td>\n",
       "      <td>81.0</td>\n",
       "      <td>14267</td>\n",
       "      <td>Pave</td>\n",
       "      <td>NaN</td>\n",
       "      <td>IR1</td>\n",
       "      <td>Lvl</td>\n",
       "      <td>...</td>\n",
       "      <td>0</td>\n",
       "      <td>NaN</td>\n",
       "      <td>NaN</td>\n",
       "      <td>Gar2</td>\n",
       "      <td>12500</td>\n",
       "      <td>6</td>\n",
       "      <td>2010</td>\n",
       "      <td>WD</td>\n",
       "      <td>Normal</td>\n",
       "      <td>172000</td>\n",
       "    </tr>\n",
       "    <tr>\n",
       "      <th>3</th>\n",
       "      <td>4</td>\n",
       "      <td>526353030</td>\n",
       "      <td>20</td>\n",
       "      <td>RL</td>\n",
       "      <td>93.0</td>\n",
       "      <td>11160</td>\n",
       "      <td>Pave</td>\n",
       "      <td>NaN</td>\n",
       "      <td>Reg</td>\n",
       "      <td>Lvl</td>\n",
       "      <td>...</td>\n",
       "      <td>0</td>\n",
       "      <td>NaN</td>\n",
       "      <td>NaN</td>\n",
       "      <td>NaN</td>\n",
       "      <td>0</td>\n",
       "      <td>4</td>\n",
       "      <td>2010</td>\n",
       "      <td>WD</td>\n",
       "      <td>Normal</td>\n",
       "      <td>244000</td>\n",
       "    </tr>\n",
       "    <tr>\n",
       "      <th>4</th>\n",
       "      <td>5</td>\n",
       "      <td>527105010</td>\n",
       "      <td>60</td>\n",
       "      <td>RL</td>\n",
       "      <td>74.0</td>\n",
       "      <td>13830</td>\n",
       "      <td>Pave</td>\n",
       "      <td>NaN</td>\n",
       "      <td>IR1</td>\n",
       "      <td>Lvl</td>\n",
       "      <td>...</td>\n",
       "      <td>0</td>\n",
       "      <td>NaN</td>\n",
       "      <td>MnPrv</td>\n",
       "      <td>NaN</td>\n",
       "      <td>0</td>\n",
       "      <td>3</td>\n",
       "      <td>2010</td>\n",
       "      <td>WD</td>\n",
       "      <td>Normal</td>\n",
       "      <td>189900</td>\n",
       "    </tr>\n",
       "  </tbody>\n",
       "</table>\n",
       "<p>5 rows × 82 columns</p>\n",
       "</div>"
      ],
      "text/plain": [
       "   Order        PID  MS SubClass MS Zoning  Lot Frontage  Lot Area Street  \\\n",
       "0      1  526301100           20        RL         141.0     31770   Pave   \n",
       "1      2  526350040           20        RH          80.0     11622   Pave   \n",
       "2      3  526351010           20        RL          81.0     14267   Pave   \n",
       "3      4  526353030           20        RL          93.0     11160   Pave   \n",
       "4      5  527105010           60        RL          74.0     13830   Pave   \n",
       "\n",
       "  Alley Lot Shape Land Contour  ... Pool Area Pool QC  Fence Misc Feature  \\\n",
       "0   NaN       IR1          Lvl  ...         0     NaN    NaN          NaN   \n",
       "1   NaN       Reg          Lvl  ...         0     NaN  MnPrv          NaN   \n",
       "2   NaN       IR1          Lvl  ...         0     NaN    NaN         Gar2   \n",
       "3   NaN       Reg          Lvl  ...         0     NaN    NaN          NaN   \n",
       "4   NaN       IR1          Lvl  ...         0     NaN  MnPrv          NaN   \n",
       "\n",
       "  Misc Val Mo Sold Yr Sold Sale Type  Sale Condition  SalePrice  \n",
       "0        0       5    2010       WD           Normal     215000  \n",
       "1        0       6    2010       WD           Normal     105000  \n",
       "2    12500       6    2010       WD           Normal     172000  \n",
       "3        0       4    2010       WD           Normal     244000  \n",
       "4        0       3    2010       WD           Normal     189900  \n",
       "\n",
       "[5 rows x 82 columns]"
      ]
     },
     "execution_count": 6,
     "metadata": {},
     "output_type": "execute_result"
    }
   ],
   "source": [
    "# Muat data\n",
    "df = pd.read_csv('./AmesHousing.csv')\n",
    "df.head()"
   ]
  },
  {
   "cell_type": "code",
   "execution_count": 7,
   "id": "171fbb05",
   "metadata": {},
   "outputs": [
    {
     "name": "stdout",
     "output_type": "stream",
     "text": [
      "<class 'pandas.core.frame.DataFrame'>\n",
      "RangeIndex: 2930 entries, 0 to 2929\n",
      "Data columns (total 82 columns):\n",
      " #   Column           Non-Null Count  Dtype  \n",
      "---  ------           --------------  -----  \n",
      " 0   Order            2930 non-null   int64  \n",
      " 1   PID              2930 non-null   int64  \n",
      " 2   MS SubClass      2930 non-null   int64  \n",
      " 3   MS Zoning        2930 non-null   object \n",
      " 4   Lot Frontage     2440 non-null   float64\n",
      " 5   Lot Area         2930 non-null   int64  \n",
      " 6   Street           2930 non-null   object \n",
      " 7   Alley            198 non-null    object \n",
      " 8   Lot Shape        2930 non-null   object \n",
      " 9   Land Contour     2930 non-null   object \n",
      " 10  Utilities        2930 non-null   object \n",
      " 11  Lot Config       2930 non-null   object \n",
      " 12  Land Slope       2930 non-null   object \n",
      " 13  Neighborhood     2930 non-null   object \n",
      " 14  Condition 1      2930 non-null   object \n",
      " 15  Condition 2      2930 non-null   object \n",
      " 16  Bldg Type        2930 non-null   object \n",
      " 17  House Style      2930 non-null   object \n",
      " 18  Overall Qual     2930 non-null   int64  \n",
      " 19  Overall Cond     2930 non-null   int64  \n",
      " 20  Year Built       2930 non-null   int64  \n",
      " 21  Year Remod/Add   2930 non-null   int64  \n",
      " 22  Roof Style       2930 non-null   object \n",
      " 23  Roof Matl        2930 non-null   object \n",
      " 24  Exterior 1st     2930 non-null   object \n",
      " 25  Exterior 2nd     2930 non-null   object \n",
      " 26  Mas Vnr Type     1155 non-null   object \n",
      " 27  Mas Vnr Area     2907 non-null   float64\n",
      " 28  Exter Qual       2930 non-null   object \n",
      " 29  Exter Cond       2930 non-null   object \n",
      " 30  Foundation       2930 non-null   object \n",
      " 31  Bsmt Qual        2850 non-null   object \n",
      " 32  Bsmt Cond        2850 non-null   object \n",
      " 33  Bsmt Exposure    2847 non-null   object \n",
      " 34  BsmtFin Type 1   2850 non-null   object \n",
      " 35  BsmtFin SF 1     2929 non-null   float64\n",
      " 36  BsmtFin Type 2   2849 non-null   object \n",
      " 37  BsmtFin SF 2     2929 non-null   float64\n",
      " 38  Bsmt Unf SF      2929 non-null   float64\n",
      " 39  Total Bsmt SF    2929 non-null   float64\n",
      " 40  Heating          2930 non-null   object \n",
      " 41  Heating QC       2930 non-null   object \n",
      " 42  Central Air      2930 non-null   object \n",
      " 43  Electrical       2929 non-null   object \n",
      " 44  1st Flr SF       2930 non-null   int64  \n",
      " 45  2nd Flr SF       2930 non-null   int64  \n",
      " 46  Low Qual Fin SF  2930 non-null   int64  \n",
      " 47  Gr Liv Area      2930 non-null   int64  \n",
      " 48  Bsmt Full Bath   2928 non-null   float64\n",
      " 49  Bsmt Half Bath   2928 non-null   float64\n",
      " 50  Full Bath        2930 non-null   int64  \n",
      " 51  Half Bath        2930 non-null   int64  \n",
      " 52  Bedroom AbvGr    2930 non-null   int64  \n",
      " 53  Kitchen AbvGr    2930 non-null   int64  \n",
      " 54  Kitchen Qual     2930 non-null   object \n",
      " 55  TotRms AbvGrd    2930 non-null   int64  \n",
      " 56  Functional       2930 non-null   object \n",
      " 57  Fireplaces       2930 non-null   int64  \n",
      " 58  Fireplace Qu     1508 non-null   object \n",
      " 59  Garage Type      2773 non-null   object \n",
      " 60  Garage Yr Blt    2771 non-null   float64\n",
      " 61  Garage Finish    2771 non-null   object \n",
      " 62  Garage Cars      2929 non-null   float64\n",
      " 63  Garage Area      2929 non-null   float64\n",
      " 64  Garage Qual      2771 non-null   object \n",
      " 65  Garage Cond      2771 non-null   object \n",
      " 66  Paved Drive      2930 non-null   object \n",
      " 67  Wood Deck SF     2930 non-null   int64  \n",
      " 68  Open Porch SF    2930 non-null   int64  \n",
      " 69  Enclosed Porch   2930 non-null   int64  \n",
      " 70  3Ssn Porch       2930 non-null   int64  \n",
      " 71  Screen Porch     2930 non-null   int64  \n",
      " 72  Pool Area        2930 non-null   int64  \n",
      " 73  Pool QC          13 non-null     object \n",
      " 74  Fence            572 non-null    object \n",
      " 75  Misc Feature     106 non-null    object \n",
      " 76  Misc Val         2930 non-null   int64  \n",
      " 77  Mo Sold          2930 non-null   int64  \n",
      " 78  Yr Sold          2930 non-null   int64  \n",
      " 79  Sale Type        2930 non-null   object \n",
      " 80  Sale Condition   2930 non-null   object \n",
      " 81  SalePrice        2930 non-null   int64  \n",
      "dtypes: float64(11), int64(28), object(43)\n",
      "memory usage: 1.8+ MB\n"
     ]
    }
   ],
   "source": [
    "# Melihat informasi dari data\n",
    "df.info()"
   ]
  },
  {
   "cell_type": "code",
   "execution_count": 8,
   "id": "f4354865",
   "metadata": {},
   "outputs": [],
   "source": [
    "# Memisahkan kolom target dengan fitur\n",
    "target_col = 'SalePrice'\n",
    "df_tanpa_target = df.drop(columns=[target_col])\n",
    "target_series = df[target_col]"
   ]
  },
  {
   "cell_type": "markdown",
   "id": "eac9011b-6737-4d7c-b880-d2f4c0d2e3cd",
   "metadata": {},
   "source": [
    "<br>"
   ]
  },
  {
   "cell_type": "markdown",
   "id": "5a8ac69e",
   "metadata": {},
   "source": [
    "### 2.1.2 Memisahkan Antara Kolom Numeric dan Kategorikal"
   ]
  },
  {
   "cell_type": "code",
   "execution_count": 9,
   "id": "d5bb3f8d",
   "metadata": {},
   "outputs": [
    {
     "data": {
      "text/plain": [
       "{'Jumlah kolom numeric': 38,\n",
       " 'Jumlah kolom kategorikal': 43,\n",
       " 'Jumlah kolom total': 82}"
      ]
     },
     "execution_count": 9,
     "metadata": {},
     "output_type": "execute_result"
    }
   ],
   "source": [
    "# Memisahkan antara kolom numeric dengan kolom kategorikal (tanpa target)\n",
    "numeric_cols = df_tanpa_target.select_dtypes(include=['int64', 'float64']).columns.tolist()\n",
    "categorical_cols = df_tanpa_target.select_dtypes(include=[object]).columns.tolist()\n",
    "\n",
    "# Menghitung jumlah fitur\n",
    "summary_count_list = {\n",
    "    'Jumlah kolom numeric' : len(numeric_cols),\n",
    "    'Jumlah kolom kategorikal' : len(categorical_cols),\n",
    "    'Jumlah kolom total' : len(df.columns)\n",
    "}\n",
    "\n",
    "summary_count_list\n"
   ]
  },
  {
   "cell_type": "markdown",
   "id": "8ab685c6",
   "metadata": {},
   "source": [
    "#### **Jumlah kolom**\n",
    "**Fitur Numberic (Tanpa Target)** : 38 kolom <br>\n",
    "**Fitur Kategorikal (Tanpa Target)** : 43 kolom<br>\n",
    "**Total Seluruh Kolom Fitur** : 81 kolom"
   ]
  },
  {
   "cell_type": "markdown",
   "id": "34a60ef3-1640-4458-a3d0-1b0caa53d3b1",
   "metadata": {},
   "source": [
    "<br>"
   ]
  },
  {
   "cell_type": "markdown",
   "id": "a0287fa6",
   "metadata": {},
   "source": [
    "### 2.1.3 Analisis Korelasi Fitur Terhadap Target"
   ]
  },
  {
   "cell_type": "code",
   "execution_count": 10,
   "id": "8a009c10",
   "metadata": {},
   "outputs": [
    {
     "data": {
      "text/html": [
       "<div>\n",
       "<style scoped>\n",
       "    .dataframe tbody tr th:only-of-type {\n",
       "        vertical-align: middle;\n",
       "    }\n",
       "\n",
       "    .dataframe tbody tr th {\n",
       "        vertical-align: top;\n",
       "    }\n",
       "\n",
       "    .dataframe thead th {\n",
       "        text-align: right;\n",
       "    }\n",
       "</style>\n",
       "<table border=\"1\" class=\"dataframe\">\n",
       "  <thead>\n",
       "    <tr style=\"text-align: right;\">\n",
       "      <th></th>\n",
       "      <th>Fitur</th>\n",
       "      <th>Korelasi</th>\n",
       "    </tr>\n",
       "  </thead>\n",
       "  <tbody>\n",
       "    <tr>\n",
       "      <th>0</th>\n",
       "      <td>Overall Qual</td>\n",
       "      <td>0.799262</td>\n",
       "    </tr>\n",
       "    <tr>\n",
       "      <th>1</th>\n",
       "      <td>Gr Liv Area</td>\n",
       "      <td>0.706780</td>\n",
       "    </tr>\n",
       "    <tr>\n",
       "      <th>2</th>\n",
       "      <td>Garage Cars</td>\n",
       "      <td>0.647877</td>\n",
       "    </tr>\n",
       "    <tr>\n",
       "      <th>3</th>\n",
       "      <td>Garage Area</td>\n",
       "      <td>0.640401</td>\n",
       "    </tr>\n",
       "    <tr>\n",
       "      <th>4</th>\n",
       "      <td>Total Bsmt SF</td>\n",
       "      <td>0.632280</td>\n",
       "    </tr>\n",
       "    <tr>\n",
       "      <th>5</th>\n",
       "      <td>1st Flr SF</td>\n",
       "      <td>0.621676</td>\n",
       "    </tr>\n",
       "    <tr>\n",
       "      <th>6</th>\n",
       "      <td>Year Built</td>\n",
       "      <td>0.558426</td>\n",
       "    </tr>\n",
       "    <tr>\n",
       "      <th>7</th>\n",
       "      <td>Full Bath</td>\n",
       "      <td>0.545604</td>\n",
       "    </tr>\n",
       "    <tr>\n",
       "      <th>8</th>\n",
       "      <td>Year Remod/Add</td>\n",
       "      <td>0.532974</td>\n",
       "    </tr>\n",
       "    <tr>\n",
       "      <th>9</th>\n",
       "      <td>Garage Yr Blt</td>\n",
       "      <td>0.526965</td>\n",
       "    </tr>\n",
       "  </tbody>\n",
       "</table>\n",
       "</div>"
      ],
      "text/plain": [
       "            Fitur  Korelasi\n",
       "0    Overall Qual  0.799262\n",
       "1     Gr Liv Area  0.706780\n",
       "2     Garage Cars  0.647877\n",
       "3     Garage Area  0.640401\n",
       "4   Total Bsmt SF  0.632280\n",
       "5      1st Flr SF  0.621676\n",
       "6      Year Built  0.558426\n",
       "7       Full Bath  0.545604\n",
       "8  Year Remod/Add  0.532974\n",
       "9   Garage Yr Blt  0.526965"
      ]
     },
     "execution_count": 10,
     "metadata": {},
     "output_type": "execute_result"
    }
   ],
   "source": [
    "# Melihat korelasi fitur numeric terhadap SalePrice\n",
    "correlation = df[numeric_cols + [target_col]].corr()[target_col].sort_values(ascending=False)\n",
    "top_corr = correlation.drop(target_col).head(10)\n",
    "\n",
    "top_corr_df = top_corr.reset_index()\n",
    "top_corr_df.columns = ['Fitur', 'Korelasi']\n",
    "\n",
    "top_corr_df\n"
   ]
  },
  {
   "cell_type": "markdown",
   "id": "b4bc076f-f31b-4eaf-a576-5d0a9ac56382",
   "metadata": {},
   "source": [
    "<br>"
   ]
  },
  {
   "cell_type": "markdown",
   "id": "57eb303a-23d0-4667-99ff-3fc20d12e7b1",
   "metadata": {},
   "source": [
    "### 2.1.4 Visualisasi Heatmap"
   ]
  },
  {
   "cell_type": "code",
   "execution_count": 11,
   "id": "543145e5-5cdf-4d68-b084-b5b3dc1ab136",
   "metadata": {},
   "outputs": [
    {
     "data": {
      "image/png": "[encoded data removed]",
      "text/plain": [
       "<Figure size 1000x800 with 2 Axes>"
      ]
     },
     "metadata": {},
     "output_type": "display_data"
    }
   ],
   "source": [
    "plt.figure(figsize=(10, 8))\n",
    "\n",
    "heatmap_data = df[top_corr_df['Fitur'].tolist() + ['SalePrice']].corr()\n",
    "sns.heatmap(heatmap_data, annot=True, cmap='crest')\n",
    "\n",
    "plt.title('Visualisasi Heatmap Untuk Korelasi Antara Fitur dan Target')\n",
    "plt.tight_layout()\n",
    "plt.show()"
   ]
  },
  {
   "cell_type": "markdown",
   "id": "10b0ee6e-2601-4210-aa41-a49f6b32c58e",
   "metadata": {},
   "source": [
    "<br> <br>"
   ]
  },
  {
   "cell_type": "markdown",
   "id": "0d026f52-3ddd-46a8-acf2-b7ccfb34e97b",
   "metadata": {},
   "source": [
    "### 2.1.5 Distribusi Data "
   ]
  },
  {
   "cell_type": "code",
   "execution_count": 12,
   "id": "0a9b8b91-3a2c-4d75-8a42-30690d56fce2",
   "metadata": {},
   "outputs": [
    {
     "data": {
      "image/png": "[encoded data removed]",
      "text/plain": [
       "<Figure size 1500x800 with 2 Axes>"
      ]
     },
     "metadata": {},
     "output_type": "display_data"
    }
   ],
   "source": [
    "# Distribusi Harga Rumah (SalePrice)\n",
    "plt.figure(figsize=(15, 8))\n",
    "plt.subplot(121)\n",
    "sns.histplot(df['SalePrice'], kde=True, color='skyblue')\n",
    "plt.title('Distribusi Harga Rumah')\n",
    "\n",
    "plt.subplot(122)\n",
    "top_missing_values = df.isnull().sum()\n",
    "top_missing_values = top_missing_values[top_missing_values > 0].sort_values(ascending=False).head(20)\n",
    "sns.barplot(x=top_missing_values.values, y=top_missing_values.index, color='orange')\n",
    "plt.title('Rasio Missing Values di DataFrame')\n",
    "\n",
    "\n",
    "plt.tight_layout()\n",
    "plt.show()"
   ]
  },
  {
   "cell_type": "markdown",
   "id": "272e2d67-e2b7-4b8e-99e0-9715c5d169ef",
   "metadata": {},
   "source": [
    "<br> <br>"
   ]
  },
  {
   "cell_type": "markdown",
   "id": "84147dbc-38f4-4a84-a4e2-4049f1976a78",
   "metadata": {},
   "source": [
    "## 2.2 Data Cleaning"
   ]
  },
  {
   "cell_type": "markdown",
   "id": "a5dcfb05-a2d6-4b33-9347-226ea5777783",
   "metadata": {},
   "source": [
    "### 2.2.1 Cek & Handle Missing Values"
   ]
  },
  {
   "cell_type": "code",
   "execution_count": 13,
   "id": "2c5945bb-9ee3-40fb-88b7-19985ccabb47",
   "metadata": {},
   "outputs": [
    {
     "data": {
      "text/html": [
       "<div>\n",
       "<style scoped>\n",
       "    .dataframe tbody tr th:only-of-type {\n",
       "        vertical-align: middle;\n",
       "    }\n",
       "\n",
       "    .dataframe tbody tr th {\n",
       "        vertical-align: top;\n",
       "    }\n",
       "\n",
       "    .dataframe thead th {\n",
       "        text-align: right;\n",
       "    }\n",
       "</style>\n",
       "<table border=\"1\" class=\"dataframe\">\n",
       "  <thead>\n",
       "    <tr style=\"text-align: right;\">\n",
       "      <th></th>\n",
       "      <th>Fitur</th>\n",
       "      <th>Jumlah Missing Values</th>\n",
       "      <th>Persentase Missing Values</th>\n",
       "    </tr>\n",
       "  </thead>\n",
       "  <tbody>\n",
       "    <tr>\n",
       "      <th>0</th>\n",
       "      <td>Pool QC</td>\n",
       "      <td>2917</td>\n",
       "      <td>99.556314</td>\n",
       "    </tr>\n",
       "    <tr>\n",
       "      <th>1</th>\n",
       "      <td>Misc Feature</td>\n",
       "      <td>2824</td>\n",
       "      <td>96.382253</td>\n",
       "    </tr>\n",
       "    <tr>\n",
       "      <th>2</th>\n",
       "      <td>Alley</td>\n",
       "      <td>2732</td>\n",
       "      <td>93.242321</td>\n",
       "    </tr>\n",
       "    <tr>\n",
       "      <th>3</th>\n",
       "      <td>Fence</td>\n",
       "      <td>2358</td>\n",
       "      <td>80.477816</td>\n",
       "    </tr>\n",
       "    <tr>\n",
       "      <th>4</th>\n",
       "      <td>Mas Vnr Type</td>\n",
       "      <td>1775</td>\n",
       "      <td>60.580205</td>\n",
       "    </tr>\n",
       "    <tr>\n",
       "      <th>5</th>\n",
       "      <td>Fireplace Qu</td>\n",
       "      <td>1422</td>\n",
       "      <td>48.532423</td>\n",
       "    </tr>\n",
       "    <tr>\n",
       "      <th>6</th>\n",
       "      <td>Lot Frontage</td>\n",
       "      <td>490</td>\n",
       "      <td>16.723549</td>\n",
       "    </tr>\n",
       "    <tr>\n",
       "      <th>7</th>\n",
       "      <td>Garage Qual</td>\n",
       "      <td>159</td>\n",
       "      <td>5.426621</td>\n",
       "    </tr>\n",
       "    <tr>\n",
       "      <th>8</th>\n",
       "      <td>Garage Cond</td>\n",
       "      <td>159</td>\n",
       "      <td>5.426621</td>\n",
       "    </tr>\n",
       "    <tr>\n",
       "      <th>9</th>\n",
       "      <td>Garage Yr Blt</td>\n",
       "      <td>159</td>\n",
       "      <td>5.426621</td>\n",
       "    </tr>\n",
       "    <tr>\n",
       "      <th>10</th>\n",
       "      <td>Garage Finish</td>\n",
       "      <td>159</td>\n",
       "      <td>5.426621</td>\n",
       "    </tr>\n",
       "    <tr>\n",
       "      <th>11</th>\n",
       "      <td>Garage Type</td>\n",
       "      <td>157</td>\n",
       "      <td>5.358362</td>\n",
       "    </tr>\n",
       "    <tr>\n",
       "      <th>12</th>\n",
       "      <td>Bsmt Exposure</td>\n",
       "      <td>83</td>\n",
       "      <td>2.832765</td>\n",
       "    </tr>\n",
       "    <tr>\n",
       "      <th>13</th>\n",
       "      <td>BsmtFin Type 2</td>\n",
       "      <td>81</td>\n",
       "      <td>2.764505</td>\n",
       "    </tr>\n",
       "    <tr>\n",
       "      <th>14</th>\n",
       "      <td>Bsmt Cond</td>\n",
       "      <td>80</td>\n",
       "      <td>2.730375</td>\n",
       "    </tr>\n",
       "    <tr>\n",
       "      <th>15</th>\n",
       "      <td>Bsmt Qual</td>\n",
       "      <td>80</td>\n",
       "      <td>2.730375</td>\n",
       "    </tr>\n",
       "    <tr>\n",
       "      <th>16</th>\n",
       "      <td>BsmtFin Type 1</td>\n",
       "      <td>80</td>\n",
       "      <td>2.730375</td>\n",
       "    </tr>\n",
       "    <tr>\n",
       "      <th>17</th>\n",
       "      <td>Mas Vnr Area</td>\n",
       "      <td>23</td>\n",
       "      <td>0.784983</td>\n",
       "    </tr>\n",
       "    <tr>\n",
       "      <th>18</th>\n",
       "      <td>Bsmt Full Bath</td>\n",
       "      <td>2</td>\n",
       "      <td>0.068259</td>\n",
       "    </tr>\n",
       "    <tr>\n",
       "      <th>19</th>\n",
       "      <td>Bsmt Half Bath</td>\n",
       "      <td>2</td>\n",
       "      <td>0.068259</td>\n",
       "    </tr>\n",
       "  </tbody>\n",
       "</table>\n",
       "</div>"
      ],
      "text/plain": [
       "             Fitur  Jumlah Missing Values  Persentase Missing Values\n",
       "0          Pool QC                   2917                  99.556314\n",
       "1     Misc Feature                   2824                  96.382253\n",
       "2            Alley                   2732                  93.242321\n",
       "3            Fence                   2358                  80.477816\n",
       "4     Mas Vnr Type                   1775                  60.580205\n",
       "5     Fireplace Qu                   1422                  48.532423\n",
       "6     Lot Frontage                    490                  16.723549\n",
       "7      Garage Qual                    159                   5.426621\n",
       "8      Garage Cond                    159                   5.426621\n",
       "9    Garage Yr Blt                    159                   5.426621\n",
       "10   Garage Finish                    159                   5.426621\n",
       "11     Garage Type                    157                   5.358362\n",
       "12   Bsmt Exposure                     83                   2.832765\n",
       "13  BsmtFin Type 2                     81                   2.764505\n",
       "14       Bsmt Cond                     80                   2.730375\n",
       "15       Bsmt Qual                     80                   2.730375\n",
       "16  BsmtFin Type 1                     80                   2.730375\n",
       "17    Mas Vnr Area                     23                   0.784983\n",
       "18  Bsmt Full Bath                      2                   0.068259\n",
       "19  Bsmt Half Bath                      2                   0.068259"
      ]
     },
     "execution_count": 13,
     "metadata": {},
     "output_type": "execute_result"
    }
   ],
   "source": [
    "# Cek Persentase Missing values pada fitur\n",
    "top_missing_values = df.isnull().sum()\n",
    "top_missing_values = top_missing_values[top_missing_values > 0].sort_values(ascending=False)\n",
    "\n",
    "# Ubah ke dalam bentuk DataFrame\n",
    "top_missing_values_df = top_missing_values.reset_index()\n",
    "top_missing_values_df.columns = ['Fitur', 'Jumlah Missing Values']\n",
    "\n",
    "# Menambahkan persentase ke DataFrame\n",
    "top_missing_values_df['Persentase Missing Values'] = (top_missing_values_df['Jumlah Missing Values'] / len(df)) * 100\n",
    "\n",
    "\n",
    "top_missing_values_df.head(20)"
   ]
  },
  {
   "cell_type": "markdown",
   "id": "11cc1592-5da2-4f3c-97f9-98f04c955c2b",
   "metadata": {},
   "source": [
    "**Note :** <br>\n",
    "- Fitur dengan missing values >80% akan di drop\n",
    "- Fitur dengan missing values <80% akan di fill dengan nilai (Mean, Median, Mode) tergantung tipe datanya"
   ]
  },
  {
   "cell_type": "markdown",
   "id": "de61e8fe-4c11-4303-a92f-91358daf777d",
   "metadata": {},
   "source": [
    "<br>"
   ]
  },
  {
   "cell_type": "code",
   "execution_count": 14,
   "id": "420df4b3-e5ef-4fff-a5ae-d4dc256831ad",
   "metadata": {},
   "outputs": [
    {
     "name": "stdout",
     "output_type": "stream",
     "text": [
      "['Pool QC', 'Misc Feature', 'Alley', 'Fence'] 0\n"
     ]
    }
   ],
   "source": [
    "# Deteksi kolom numeric dan kategorikal\n",
    "numeric_cols = df_tanpa_target.select_dtypes(include=['int64', 'float64']).columns.tolist()\n",
    "categorical_cols = df_tanpa_target.select_dtypes(include=['object']).columns.tolist()\n",
    "\n",
    "# Hitung missing values untuk numeric dan kategorikal\n",
    "missing_values_summary = df_tanpa_target.isnull().sum().sort_values(ascending=False).reset_index()\n",
    "missing_values_summary.columns = ['Fitur', 'Jumlah Missing Values']\n",
    "missing_values_summary['Persentase Jumlah Missing Values'] = (missing_values_summary['Jumlah Missing Values']) / len(df_tanpa_target) * 100\n",
    "\n",
    "# (1) Drop kolom dengan missing values >80%\n",
    "high_missing_values = missing_values_summary[missing_values_summary['Persentase Jumlah Missing Values'] > 80]['Fitur'].tolist()\n",
    "df_tanpa_target.drop(columns=high_missing_values, inplace=True)\n",
    "\n",
    "# Cek Missing Values Setelah di drop yang missing values >80%\n",
    "missing_values_summary.head(20)\n",
    "\n",
    "# Update 'numeric_cols' dan 'cacategorical_cols' setelah drop kolom missing values >80%\n",
    "numeric_cols = df_tanpa_target.select_dtypes(include=['int64', 'float64']).columns.tolist()\n",
    "categorical_cols = df_tanpa_target.select_dtypes(include=['object']).columns.tolist()\n",
    "\n",
    "\n",
    "# (2) Isi missing values dengan nilai 'None'\n",
    "design_missing_features = ['Fireplace Qu', 'Garage Type', 'Garage Finish', 'Garage Qual', 'Garage Cond', \n",
    "                           'Bsmt Qual', 'Bsmt Cond', 'Bsmt Exposure', 'BsmtFin Type 1', 'BsmtFin Type 2',\n",
    "                           'Mas Vnr Type']\n",
    "for col in design_missing_features:\n",
    "    if col in df_tanpa_target.columns:\n",
    "        df_tanpa_target[col] = df_tanpa_target[col].fillna('None')\n",
    "\n",
    "# Cek Missing Values Setelah di isi kolom fitur dengan 'None'\n",
    "missing_values_summary.head(20)\n",
    "\n",
    "\n",
    "# (3) Input numeric col <80% dengan nilai \"Median\"\n",
    "for col in numeric_cols:\n",
    "    if df_tanpa_target[col].isnull().sum() > 0:\n",
    "        df_tanpa_target[col] = df_tanpa_target[col].fillna(df_tanpa_target[col].median())\n",
    "\n",
    "\n",
    "# (4) Imputasi kategorikal <20% missing dengan nilai \"Mode\"\n",
    "for col in categorical_cols:\n",
    "    if df_tanpa_target[col].isnull().sum() > 0:\n",
    "        df_tanpa_target[col] = df_tanpa_target[col].fillna(df_tanpa_target[col].mode()[0])\n",
    "\n",
    "# Cek missing values\n",
    "final_missing_values = df_tanpa_target.isnull().sum().sum()\n",
    "\n",
    "print(high_missing_values, final_missing_values)"
   ]
  },
  {
   "cell_type": "markdown",
   "id": "80f91821-61b6-440d-b2ba-e62a97538732",
   "metadata": {},
   "source": [
    "<br>"
   ]
  },
  {
   "cell_type": "markdown",
   "id": "70eaef3b-6874-4f72-b60a-bef36230ce8c",
   "metadata": {},
   "source": [
    "### 2.2.2 Cek Hasil Pengisian Missing Values"
   ]
  },
  {
   "cell_type": "code",
   "execution_count": 15,
   "id": "d5a697e7-b297-47cf-9fae-dbcb4aad3e58",
   "metadata": {},
   "outputs": [
    {
     "data": {
      "text/html": [
       "<div>\n",
       "<style scoped>\n",
       "    .dataframe tbody tr th:only-of-type {\n",
       "        vertical-align: middle;\n",
       "    }\n",
       "\n",
       "    .dataframe tbody tr th {\n",
       "        vertical-align: top;\n",
       "    }\n",
       "\n",
       "    .dataframe thead th {\n",
       "        text-align: right;\n",
       "    }\n",
       "</style>\n",
       "<table border=\"1\" class=\"dataframe\">\n",
       "  <thead>\n",
       "    <tr style=\"text-align: right;\">\n",
       "      <th></th>\n",
       "      <th>Fitur</th>\n",
       "      <th>Jumlah Missing Values</th>\n",
       "      <th>Persentase Missing Values</th>\n",
       "    </tr>\n",
       "  </thead>\n",
       "  <tbody>\n",
       "  </tbody>\n",
       "</table>\n",
       "</div>"
      ],
      "text/plain": [
       "Empty DataFrame\n",
       "Columns: [Fitur, Jumlah Missing Values, Persentase Missing Values]\n",
       "Index: []"
      ]
     },
     "execution_count": 15,
     "metadata": {},
     "output_type": "execute_result"
    }
   ],
   "source": [
    "# Cek missing values pada kolom fitur\n",
    "missing_values = df_tanpa_target.isnull().sum()\n",
    "missing_values = missing_values[missing_values > 0].sort_values(ascending=False)\n",
    "missing_values\n",
    "\n",
    "# Ubah dalam bentuk DataFrame\n",
    "missing_values_df = missing_values.reset_index()\n",
    "missing_values_df.columns = ['Fitur', 'Jumlah Missing Values']\n",
    "missing_values_df\n",
    "\n",
    "# Tambah nilai persentase pada \"missing_values_df\"\n",
    "missing_values_df['Persentase Missing Values'] = (missing_values_df['Jumlah Missing Values'] / len(df_tanpa_target) * 100)\n",
    "\n",
    "missing_values_df.head()"
   ]
  },
  {
   "cell_type": "markdown",
   "id": "b3fe0098-fd1a-45f9-a036-cb2ac1be2925",
   "metadata": {},
   "source": [
    "<br>"
   ]
  },
  {
   "cell_type": "markdown",
   "id": "46aeb279-8af7-4499-808d-c8bfa4f6cbc8",
   "metadata": {},
   "source": [
    "#### **Total Missing Values Setelah ditangani :** 0"
   ]
  },
  {
   "cell_type": "markdown",
   "id": "402d8b60-c65e-42de-9130-94b6ecb7ee01",
   "metadata": {},
   "source": [
    "### 2.2.3 Drop Kolom Yang Tidak Diperlukan"
   ]
  },
  {
   "cell_type": "markdown",
   "id": "a43a63bf-95f8-408e-bdd6-fbfcd78b7ffb",
   "metadata": {},
   "source": [
    "<br>"
   ]
  },
  {
   "cell_type": "code",
   "execution_count": 16,
   "id": "cb3f5dc9-8f90-40d4-b7c9-44f50536e912",
   "metadata": {},
   "outputs": [
    {
     "data": {
      "text/html": [
       "<div>\n",
       "<style scoped>\n",
       "    .dataframe tbody tr th:only-of-type {\n",
       "        vertical-align: middle;\n",
       "    }\n",
       "\n",
       "    .dataframe tbody tr th {\n",
       "        vertical-align: top;\n",
       "    }\n",
       "\n",
       "    .dataframe thead th {\n",
       "        text-align: right;\n",
       "    }\n",
       "</style>\n",
       "<table border=\"1\" class=\"dataframe\">\n",
       "  <thead>\n",
       "    <tr style=\"text-align: right;\">\n",
       "      <th></th>\n",
       "      <th>Order</th>\n",
       "      <th>PID</th>\n",
       "      <th>MS SubClass</th>\n",
       "      <th>MS Zoning</th>\n",
       "      <th>Lot Frontage</th>\n",
       "      <th>Lot Area</th>\n",
       "      <th>Street</th>\n",
       "      <th>Lot Shape</th>\n",
       "      <th>Land Contour</th>\n",
       "      <th>Utilities</th>\n",
       "      <th>...</th>\n",
       "      <th>Open Porch SF</th>\n",
       "      <th>Enclosed Porch</th>\n",
       "      <th>3Ssn Porch</th>\n",
       "      <th>Screen Porch</th>\n",
       "      <th>Pool Area</th>\n",
       "      <th>Misc Val</th>\n",
       "      <th>Mo Sold</th>\n",
       "      <th>Yr Sold</th>\n",
       "      <th>Sale Type</th>\n",
       "      <th>Sale Condition</th>\n",
       "    </tr>\n",
       "  </thead>\n",
       "  <tbody>\n",
       "    <tr>\n",
       "      <th>0</th>\n",
       "      <td>1</td>\n",
       "      <td>526301100</td>\n",
       "      <td>20</td>\n",
       "      <td>RL</td>\n",
       "      <td>141.0</td>\n",
       "      <td>31770</td>\n",
       "      <td>Pave</td>\n",
       "      <td>IR1</td>\n",
       "      <td>Lvl</td>\n",
       "      <td>AllPub</td>\n",
       "      <td>...</td>\n",
       "      <td>62</td>\n",
       "      <td>0</td>\n",
       "      <td>0</td>\n",
       "      <td>0</td>\n",
       "      <td>0</td>\n",
       "      <td>0</td>\n",
       "      <td>5</td>\n",
       "      <td>2010</td>\n",
       "      <td>WD</td>\n",
       "      <td>Normal</td>\n",
       "    </tr>\n",
       "    <tr>\n",
       "      <th>1</th>\n",
       "      <td>2</td>\n",
       "      <td>526350040</td>\n",
       "      <td>20</td>\n",
       "      <td>RH</td>\n",
       "      <td>80.0</td>\n",
       "      <td>11622</td>\n",
       "      <td>Pave</td>\n",
       "      <td>Reg</td>\n",
       "      <td>Lvl</td>\n",
       "      <td>AllPub</td>\n",
       "      <td>...</td>\n",
       "      <td>0</td>\n",
       "      <td>0</td>\n",
       "      <td>0</td>\n",
       "      <td>120</td>\n",
       "      <td>0</td>\n",
       "      <td>0</td>\n",
       "      <td>6</td>\n",
       "      <td>2010</td>\n",
       "      <td>WD</td>\n",
       "      <td>Normal</td>\n",
       "    </tr>\n",
       "    <tr>\n",
       "      <th>2</th>\n",
       "      <td>3</td>\n",
       "      <td>526351010</td>\n",
       "      <td>20</td>\n",
       "      <td>RL</td>\n",
       "      <td>81.0</td>\n",
       "      <td>14267</td>\n",
       "      <td>Pave</td>\n",
       "      <td>IR1</td>\n",
       "      <td>Lvl</td>\n",
       "      <td>AllPub</td>\n",
       "      <td>...</td>\n",
       "      <td>36</td>\n",
       "      <td>0</td>\n",
       "      <td>0</td>\n",
       "      <td>0</td>\n",
       "      <td>0</td>\n",
       "      <td>12500</td>\n",
       "      <td>6</td>\n",
       "      <td>2010</td>\n",
       "      <td>WD</td>\n",
       "      <td>Normal</td>\n",
       "    </tr>\n",
       "    <tr>\n",
       "      <th>3</th>\n",
       "      <td>4</td>\n",
       "      <td>526353030</td>\n",
       "      <td>20</td>\n",
       "      <td>RL</td>\n",
       "      <td>93.0</td>\n",
       "      <td>11160</td>\n",
       "      <td>Pave</td>\n",
       "      <td>Reg</td>\n",
       "      <td>Lvl</td>\n",
       "      <td>AllPub</td>\n",
       "      <td>...</td>\n",
       "      <td>0</td>\n",
       "      <td>0</td>\n",
       "      <td>0</td>\n",
       "      <td>0</td>\n",
       "      <td>0</td>\n",
       "      <td>0</td>\n",
       "      <td>4</td>\n",
       "      <td>2010</td>\n",
       "      <td>WD</td>\n",
       "      <td>Normal</td>\n",
       "    </tr>\n",
       "    <tr>\n",
       "      <th>4</th>\n",
       "      <td>5</td>\n",
       "      <td>527105010</td>\n",
       "      <td>60</td>\n",
       "      <td>RL</td>\n",
       "      <td>74.0</td>\n",
       "      <td>13830</td>\n",
       "      <td>Pave</td>\n",
       "      <td>IR1</td>\n",
       "      <td>Lvl</td>\n",
       "      <td>AllPub</td>\n",
       "      <td>...</td>\n",
       "      <td>34</td>\n",
       "      <td>0</td>\n",
       "      <td>0</td>\n",
       "      <td>0</td>\n",
       "      <td>0</td>\n",
       "      <td>0</td>\n",
       "      <td>3</td>\n",
       "      <td>2010</td>\n",
       "      <td>WD</td>\n",
       "      <td>Normal</td>\n",
       "    </tr>\n",
       "  </tbody>\n",
       "</table>\n",
       "<p>5 rows × 77 columns</p>\n",
       "</div>"
      ],
      "text/plain": [
       "   Order        PID  MS SubClass MS Zoning  Lot Frontage  Lot Area Street  \\\n",
       "0      1  526301100           20        RL         141.0     31770   Pave   \n",
       "1      2  526350040           20        RH          80.0     11622   Pave   \n",
       "2      3  526351010           20        RL          81.0     14267   Pave   \n",
       "3      4  526353030           20        RL          93.0     11160   Pave   \n",
       "4      5  527105010           60        RL          74.0     13830   Pave   \n",
       "\n",
       "  Lot Shape Land Contour Utilities  ... Open Porch SF Enclosed Porch  \\\n",
       "0       IR1          Lvl    AllPub  ...            62              0   \n",
       "1       Reg          Lvl    AllPub  ...             0              0   \n",
       "2       IR1          Lvl    AllPub  ...            36              0   \n",
       "3       Reg          Lvl    AllPub  ...             0              0   \n",
       "4       IR1          Lvl    AllPub  ...            34              0   \n",
       "\n",
       "  3Ssn Porch Screen Porch Pool Area Misc Val Mo Sold  Yr Sold  Sale Type  \\\n",
       "0          0            0         0        0       5     2010        WD    \n",
       "1          0          120         0        0       6     2010        WD    \n",
       "2          0            0         0    12500       6     2010        WD    \n",
       "3          0            0         0        0       4     2010        WD    \n",
       "4          0            0         0        0       3     2010        WD    \n",
       "\n",
       "   Sale Condition  \n",
       "0          Normal  \n",
       "1          Normal  \n",
       "2          Normal  \n",
       "3          Normal  \n",
       "4          Normal  \n",
       "\n",
       "[5 rows x 77 columns]"
      ]
     },
     "execution_count": 16,
     "metadata": {},
     "output_type": "execute_result"
    }
   ],
   "source": [
    "df_tanpa_target.head()"
   ]
  },
  {
   "cell_type": "code",
   "execution_count": 17,
   "id": "db4336d1-f48b-41e0-9b77-12d985e22dbb",
   "metadata": {},
   "outputs": [
    {
     "data": {
      "text/html": [
       "<div>\n",
       "<style scoped>\n",
       "    .dataframe tbody tr th:only-of-type {\n",
       "        vertical-align: middle;\n",
       "    }\n",
       "\n",
       "    .dataframe tbody tr th {\n",
       "        vertical-align: top;\n",
       "    }\n",
       "\n",
       "    .dataframe thead th {\n",
       "        text-align: right;\n",
       "    }\n",
       "</style>\n",
       "<table border=\"1\" class=\"dataframe\">\n",
       "  <thead>\n",
       "    <tr style=\"text-align: right;\">\n",
       "      <th></th>\n",
       "      <th>MS SubClass</th>\n",
       "      <th>MS Zoning</th>\n",
       "      <th>Lot Frontage</th>\n",
       "      <th>Lot Area</th>\n",
       "      <th>Street</th>\n",
       "      <th>Lot Shape</th>\n",
       "      <th>Land Contour</th>\n",
       "      <th>Utilities</th>\n",
       "      <th>Lot Config</th>\n",
       "      <th>Land Slope</th>\n",
       "      <th>...</th>\n",
       "      <th>Open Porch SF</th>\n",
       "      <th>Enclosed Porch</th>\n",
       "      <th>3Ssn Porch</th>\n",
       "      <th>Screen Porch</th>\n",
       "      <th>Pool Area</th>\n",
       "      <th>Misc Val</th>\n",
       "      <th>Mo Sold</th>\n",
       "      <th>Yr Sold</th>\n",
       "      <th>Sale Type</th>\n",
       "      <th>Sale Condition</th>\n",
       "    </tr>\n",
       "  </thead>\n",
       "  <tbody>\n",
       "    <tr>\n",
       "      <th>0</th>\n",
       "      <td>20</td>\n",
       "      <td>RL</td>\n",
       "      <td>141.0</td>\n",
       "      <td>31770</td>\n",
       "      <td>Pave</td>\n",
       "      <td>IR1</td>\n",
       "      <td>Lvl</td>\n",
       "      <td>AllPub</td>\n",
       "      <td>Corner</td>\n",
       "      <td>Gtl</td>\n",
       "      <td>...</td>\n",
       "      <td>62</td>\n",
       "      <td>0</td>\n",
       "      <td>0</td>\n",
       "      <td>0</td>\n",
       "      <td>0</td>\n",
       "      <td>0</td>\n",
       "      <td>5</td>\n",
       "      <td>2010</td>\n",
       "      <td>WD</td>\n",
       "      <td>Normal</td>\n",
       "    </tr>\n",
       "    <tr>\n",
       "      <th>1</th>\n",
       "      <td>20</td>\n",
       "      <td>RH</td>\n",
       "      <td>80.0</td>\n",
       "      <td>11622</td>\n",
       "      <td>Pave</td>\n",
       "      <td>Reg</td>\n",
       "      <td>Lvl</td>\n",
       "      <td>AllPub</td>\n",
       "      <td>Inside</td>\n",
       "      <td>Gtl</td>\n",
       "      <td>...</td>\n",
       "      <td>0</td>\n",
       "      <td>0</td>\n",
       "      <td>0</td>\n",
       "      <td>120</td>\n",
       "      <td>0</td>\n",
       "      <td>0</td>\n",
       "      <td>6</td>\n",
       "      <td>2010</td>\n",
       "      <td>WD</td>\n",
       "      <td>Normal</td>\n",
       "    </tr>\n",
       "    <tr>\n",
       "      <th>2</th>\n",
       "      <td>20</td>\n",
       "      <td>RL</td>\n",
       "      <td>81.0</td>\n",
       "      <td>14267</td>\n",
       "      <td>Pave</td>\n",
       "      <td>IR1</td>\n",
       "      <td>Lvl</td>\n",
       "      <td>AllPub</td>\n",
       "      <td>Corner</td>\n",
       "      <td>Gtl</td>\n",
       "      <td>...</td>\n",
       "      <td>36</td>\n",
       "      <td>0</td>\n",
       "      <td>0</td>\n",
       "      <td>0</td>\n",
       "      <td>0</td>\n",
       "      <td>12500</td>\n",
       "      <td>6</td>\n",
       "      <td>2010</td>\n",
       "      <td>WD</td>\n",
       "      <td>Normal</td>\n",
       "    </tr>\n",
       "    <tr>\n",
       "      <th>3</th>\n",
       "      <td>20</td>\n",
       "      <td>RL</td>\n",
       "      <td>93.0</td>\n",
       "      <td>11160</td>\n",
       "      <td>Pave</td>\n",
       "      <td>Reg</td>\n",
       "      <td>Lvl</td>\n",
       "      <td>AllPub</td>\n",
       "      <td>Corner</td>\n",
       "      <td>Gtl</td>\n",
       "      <td>...</td>\n",
       "      <td>0</td>\n",
       "      <td>0</td>\n",
       "      <td>0</td>\n",
       "      <td>0</td>\n",
       "      <td>0</td>\n",
       "      <td>0</td>\n",
       "      <td>4</td>\n",
       "      <td>2010</td>\n",
       "      <td>WD</td>\n",
       "      <td>Normal</td>\n",
       "    </tr>\n",
       "    <tr>\n",
       "      <th>4</th>\n",
       "      <td>60</td>\n",
       "      <td>RL</td>\n",
       "      <td>74.0</td>\n",
       "      <td>13830</td>\n",
       "      <td>Pave</td>\n",
       "      <td>IR1</td>\n",
       "      <td>Lvl</td>\n",
       "      <td>AllPub</td>\n",
       "      <td>Inside</td>\n",
       "      <td>Gtl</td>\n",
       "      <td>...</td>\n",
       "      <td>34</td>\n",
       "      <td>0</td>\n",
       "      <td>0</td>\n",
       "      <td>0</td>\n",
       "      <td>0</td>\n",
       "      <td>0</td>\n",
       "      <td>3</td>\n",
       "      <td>2010</td>\n",
       "      <td>WD</td>\n",
       "      <td>Normal</td>\n",
       "    </tr>\n",
       "    <tr>\n",
       "      <th>...</th>\n",
       "      <td>...</td>\n",
       "      <td>...</td>\n",
       "      <td>...</td>\n",
       "      <td>...</td>\n",
       "      <td>...</td>\n",
       "      <td>...</td>\n",
       "      <td>...</td>\n",
       "      <td>...</td>\n",
       "      <td>...</td>\n",
       "      <td>...</td>\n",
       "      <td>...</td>\n",
       "      <td>...</td>\n",
       "      <td>...</td>\n",
       "      <td>...</td>\n",
       "      <td>...</td>\n",
       "      <td>...</td>\n",
       "      <td>...</td>\n",
       "      <td>...</td>\n",
       "      <td>...</td>\n",
       "      <td>...</td>\n",
       "      <td>...</td>\n",
       "    </tr>\n",
       "    <tr>\n",
       "      <th>2925</th>\n",
       "      <td>80</td>\n",
       "      <td>RL</td>\n",
       "      <td>37.0</td>\n",
       "      <td>7937</td>\n",
       "      <td>Pave</td>\n",
       "      <td>IR1</td>\n",
       "      <td>Lvl</td>\n",
       "      <td>AllPub</td>\n",
       "      <td>CulDSac</td>\n",
       "      <td>Gtl</td>\n",
       "      <td>...</td>\n",
       "      <td>0</td>\n",
       "      <td>0</td>\n",
       "      <td>0</td>\n",
       "      <td>0</td>\n",
       "      <td>0</td>\n",
       "      <td>0</td>\n",
       "      <td>3</td>\n",
       "      <td>2006</td>\n",
       "      <td>WD</td>\n",
       "      <td>Normal</td>\n",
       "    </tr>\n",
       "    <tr>\n",
       "      <th>2926</th>\n",
       "      <td>20</td>\n",
       "      <td>RL</td>\n",
       "      <td>68.0</td>\n",
       "      <td>8885</td>\n",
       "      <td>Pave</td>\n",
       "      <td>IR1</td>\n",
       "      <td>Low</td>\n",
       "      <td>AllPub</td>\n",
       "      <td>Inside</td>\n",
       "      <td>Mod</td>\n",
       "      <td>...</td>\n",
       "      <td>0</td>\n",
       "      <td>0</td>\n",
       "      <td>0</td>\n",
       "      <td>0</td>\n",
       "      <td>0</td>\n",
       "      <td>0</td>\n",
       "      <td>6</td>\n",
       "      <td>2006</td>\n",
       "      <td>WD</td>\n",
       "      <td>Normal</td>\n",
       "    </tr>\n",
       "    <tr>\n",
       "      <th>2927</th>\n",
       "      <td>85</td>\n",
       "      <td>RL</td>\n",
       "      <td>62.0</td>\n",
       "      <td>10441</td>\n",
       "      <td>Pave</td>\n",
       "      <td>Reg</td>\n",
       "      <td>Lvl</td>\n",
       "      <td>AllPub</td>\n",
       "      <td>Inside</td>\n",
       "      <td>Gtl</td>\n",
       "      <td>...</td>\n",
       "      <td>32</td>\n",
       "      <td>0</td>\n",
       "      <td>0</td>\n",
       "      <td>0</td>\n",
       "      <td>0</td>\n",
       "      <td>700</td>\n",
       "      <td>7</td>\n",
       "      <td>2006</td>\n",
       "      <td>WD</td>\n",
       "      <td>Normal</td>\n",
       "    </tr>\n",
       "    <tr>\n",
       "      <th>2928</th>\n",
       "      <td>20</td>\n",
       "      <td>RL</td>\n",
       "      <td>77.0</td>\n",
       "      <td>10010</td>\n",
       "      <td>Pave</td>\n",
       "      <td>Reg</td>\n",
       "      <td>Lvl</td>\n",
       "      <td>AllPub</td>\n",
       "      <td>Inside</td>\n",
       "      <td>Mod</td>\n",
       "      <td>...</td>\n",
       "      <td>38</td>\n",
       "      <td>0</td>\n",
       "      <td>0</td>\n",
       "      <td>0</td>\n",
       "      <td>0</td>\n",
       "      <td>0</td>\n",
       "      <td>4</td>\n",
       "      <td>2006</td>\n",
       "      <td>WD</td>\n",
       "      <td>Normal</td>\n",
       "    </tr>\n",
       "    <tr>\n",
       "      <th>2929</th>\n",
       "      <td>60</td>\n",
       "      <td>RL</td>\n",
       "      <td>74.0</td>\n",
       "      <td>9627</td>\n",
       "      <td>Pave</td>\n",
       "      <td>Reg</td>\n",
       "      <td>Lvl</td>\n",
       "      <td>AllPub</td>\n",
       "      <td>Inside</td>\n",
       "      <td>Mod</td>\n",
       "      <td>...</td>\n",
       "      <td>48</td>\n",
       "      <td>0</td>\n",
       "      <td>0</td>\n",
       "      <td>0</td>\n",
       "      <td>0</td>\n",
       "      <td>0</td>\n",
       "      <td>11</td>\n",
       "      <td>2006</td>\n",
       "      <td>WD</td>\n",
       "      <td>Normal</td>\n",
       "    </tr>\n",
       "  </tbody>\n",
       "</table>\n",
       "<p>2930 rows × 75 columns</p>\n",
       "</div>"
      ],
      "text/plain": [
       "      MS SubClass MS Zoning  Lot Frontage  Lot Area Street Lot Shape  \\\n",
       "0              20        RL         141.0     31770   Pave       IR1   \n",
       "1              20        RH          80.0     11622   Pave       Reg   \n",
       "2              20        RL          81.0     14267   Pave       IR1   \n",
       "3              20        RL          93.0     11160   Pave       Reg   \n",
       "4              60        RL          74.0     13830   Pave       IR1   \n",
       "...           ...       ...           ...       ...    ...       ...   \n",
       "2925           80        RL          37.0      7937   Pave       IR1   \n",
       "2926           20        RL          68.0      8885   Pave       IR1   \n",
       "2927           85        RL          62.0     10441   Pave       Reg   \n",
       "2928           20        RL          77.0     10010   Pave       Reg   \n",
       "2929           60        RL          74.0      9627   Pave       Reg   \n",
       "\n",
       "     Land Contour Utilities Lot Config Land Slope  ... Open Porch SF  \\\n",
       "0             Lvl    AllPub     Corner        Gtl  ...            62   \n",
       "1             Lvl    AllPub     Inside        Gtl  ...             0   \n",
       "2             Lvl    AllPub     Corner        Gtl  ...            36   \n",
       "3             Lvl    AllPub     Corner        Gtl  ...             0   \n",
       "4             Lvl    AllPub     Inside        Gtl  ...            34   \n",
       "...           ...       ...        ...        ...  ...           ...   \n",
       "2925          Lvl    AllPub    CulDSac        Gtl  ...             0   \n",
       "2926          Low    AllPub     Inside        Mod  ...             0   \n",
       "2927          Lvl    AllPub     Inside        Gtl  ...            32   \n",
       "2928          Lvl    AllPub     Inside        Mod  ...            38   \n",
       "2929          Lvl    AllPub     Inside        Mod  ...            48   \n",
       "\n",
       "     Enclosed Porch 3Ssn Porch Screen Porch Pool Area  Misc Val  Mo Sold  \\\n",
       "0                 0          0            0         0         0        5   \n",
       "1                 0          0          120         0         0        6   \n",
       "2                 0          0            0         0     12500        6   \n",
       "3                 0          0            0         0         0        4   \n",
       "4                 0          0            0         0         0        3   \n",
       "...             ...        ...          ...       ...       ...      ...   \n",
       "2925              0          0            0         0         0        3   \n",
       "2926              0          0            0         0         0        6   \n",
       "2927              0          0            0         0       700        7   \n",
       "2928              0          0            0         0         0        4   \n",
       "2929              0          0            0         0         0       11   \n",
       "\n",
       "      Yr Sold  Sale Type Sale Condition  \n",
       "0        2010        WD          Normal  \n",
       "1        2010        WD          Normal  \n",
       "2        2010        WD          Normal  \n",
       "3        2010        WD          Normal  \n",
       "4        2010        WD          Normal  \n",
       "...       ...        ...            ...  \n",
       "2925     2006        WD          Normal  \n",
       "2926     2006        WD          Normal  \n",
       "2927     2006        WD          Normal  \n",
       "2928     2006        WD          Normal  \n",
       "2929     2006        WD          Normal  \n",
       "\n",
       "[2930 rows x 75 columns]"
      ]
     },
     "execution_count": 17,
     "metadata": {},
     "output_type": "execute_result"
    }
   ],
   "source": [
    "df_tanpa_target.drop(['Order', 'PID'], axis=1, inplace=True)\n",
    "df_tanpa_target"
   ]
  },
  {
   "cell_type": "markdown",
   "id": "57e0a346-684b-4599-8a23-36f8528b9a66",
   "metadata": {},
   "source": [
    "<br>"
   ]
  },
  {
   "cell_type": "markdown",
   "id": "58e71fdf-e52c-489b-b45c-c022a023bd3a",
   "metadata": {},
   "source": [
    "### 2.2.4 Split Data Train dan Test"
   ]
  },
  {
   "cell_type": "code",
   "execution_count": 18,
   "id": "52387e61-865d-47bb-ad1f-eadefc4f41ca",
   "metadata": {},
   "outputs": [],
   "source": [
    "# Split data sebelum transformasi\n",
    "X_train, X_test, y_train, y_test = train_test_split(\n",
    "    df_tanpa_target, target_series, test_size=0.2, random_state=42\n",
    ")"
   ]
  },
  {
   "cell_type": "code",
   "execution_count": 19,
   "id": "7fede65c-4d5e-4990-9a00-8c1c752f2f3e",
   "metadata": {},
   "outputs": [
    {
     "name": "stdout",
     "output_type": "stream",
     "text": [
      "Train size : (2344, 75)\n",
      "Test size : (586, 75)\n",
      "Target train size : (2344,)\n",
      "Target test size : (586,)\n"
     ]
    }
   ],
   "source": [
    "print('Train size :', X_train.shape)\n",
    "print('Test size :', X_test.shape)\n",
    "print('Target train size :', y_train.shape)\n",
    "print('Target test size :', y_test.shape)"
   ]
  },
  {
   "cell_type": "code",
   "execution_count": 20,
   "id": "d9dc98c4",
   "metadata": {},
   "outputs": [
    {
     "data": {
      "text/plain": [
       "array(['Gd', 'TA', 'None', 'Po', 'Fa', 'Ex'], dtype=object)"
      ]
     },
     "execution_count": 20,
     "metadata": {},
     "output_type": "execute_result"
    }
   ],
   "source": [
    "df_tanpa_target['Bsmt Cond'].unique()"
   ]
  },
  {
   "cell_type": "code",
   "execution_count": 21,
   "id": "3d486e4d-d0b4-4c73-a270-eefff3290df6",
   "metadata": {},
   "outputs": [],
   "source": [
    "# Feature Grouping\n",
    "numerical_features = [\n",
    "    'Lot Frontage', 'Lot Area', 'Mas Vnr Area',\n",
    "    'BsmtFin SF 1', 'BsmtFin SF 2', 'Bsmt Unf SF', 'Total Bsmt SF',\n",
    "    '1st Flr SF', '2nd Flr SF', 'Low Qual Fin SF', 'Gr Liv Area',\n",
    "    'Bsmt Full Bath', 'Bsmt Half Bath', 'Full Bath', 'Half Bath',\n",
    "    'Bedroom AbvGr', 'Kitchen AbvGr', 'TotRms AbvGrd',\n",
    "    'Fireplaces', 'Garage Cars', 'Garage Area',\n",
    "    'Wood Deck SF', 'Open Porch SF', 'Enclosed Porch', '3Ssn Porch', 'Screen Porch',\n",
    "    'Pool Area', 'Misc Val',\n",
    "    'Year Built', 'Year Remod/Add', 'Garage Yr Blt',\n",
    "    'Mo Sold', 'Yr Sold'\n",
    "]\n",
    "\n",
    "ordinal_features = {\n",
    "    'Lot Shape': ['IR3', 'IR2', 'IR1', 'Reg'],\n",
    "    'Exter Qual': ['None', 'Po', 'Fa', 'TA', 'Gd', 'Ex'],\n",
    "    'Exter Cond': ['None', 'Po', 'Fa', 'TA', 'Gd', 'Ex'],\n",
    "    'Bsmt Qual': ['None', 'Po', 'Fa', 'TA', 'Gd', 'Ex'],\n",
    "    'Bsmt Cond': ['None', 'Po', 'Fa', 'TA', 'Gd', 'Ex'],\n",
    "    'Bsmt Exposure': ['None', 'No', 'Mn', 'Av', 'Gd'],\n",
    "    'BsmtFin Type 1': ['None', 'Unf', 'LwQ', 'Rec', 'BLQ', 'ALQ', 'GLQ'],\n",
    "    'BsmtFin Type 2': ['None', 'Unf', 'LwQ', 'Rec', 'BLQ', 'ALQ', 'GLQ'],\n",
    "    'Heating QC': ['Po', 'Fa', 'TA', 'Gd', 'Ex'],\n",
    "    'Kitchen Qual': ['None', 'Po', 'Fa', 'TA', 'Gd', 'Ex'],\n",
    "    'Fireplace Qu': ['None', 'Po', 'Fa', 'TA', 'Gd', 'Ex'],\n",
    "    'Garage Finish': ['None', 'Unf', 'RFn', 'Fin'],\n",
    "    'Garage Qual': ['None', 'Po', 'Fa', 'TA', 'Gd', 'Ex'],\n",
    "    'Garage Cond': ['None', 'Po', 'Fa', 'TA', 'Gd', 'Ex'],\n",
    "    'Functional': ['Sal', 'Sev', 'Maj2', 'Maj1', 'Mod', 'Min2', 'Min1', 'Typ'],\n",
    "    'Paved Drive': ['N', 'P', 'Y']\n",
    "}\n",
    "\n",
    "nominal_features = [\n",
    "    'MS SubClass', 'MS Zoning', 'Street', 'Land Contour',\n",
    "    'Lot Config', 'Land Slope', 'Neighborhood',\n",
    "    'Condition 1', 'Condition 2', 'Bldg Type', 'House Style',\n",
    "    'Roof Style', 'Roof Matl', 'Exterior 1st', 'Exterior 2nd',\n",
    "    'Mas Vnr Type', 'Foundation', 'Heating', 'Electrical',\n",
    "    'Garage Type', 'Sale Type', 'Sale Condition'\n",
    "]\n",
    "\n",
    "binary_features = ['Central Air']"
   ]
  },
  {
   "cell_type": "code",
   "execution_count": 22,
   "id": "e133b0ac",
   "metadata": {},
   "outputs": [],
   "source": [
    "# Transformers\n",
    "numerical_transformer = Pipeline(steps=[\n",
    "    ('imputer', SimpleImputer(strategy='median')),\n",
    "    ('scaler', StandardScaler())\n",
    "])\n",
    "\n",
    "ordinal_transformer = Pipeline(steps=[\n",
    "    ('imputer', SimpleImputer(strategy='constant', fill_value='None')),\n",
    "    ('encoder', OrdinalEncoder(categories=[ordinal_features[col] for col in ordinal_features]))\n",
    "])\n",
    "\n",
    "nominal_transformer = Pipeline(steps=[\n",
    "    ('imputer', SimpleImputer(strategy='constant', fill_value='None')),\n",
    "    ('encoder', OneHotEncoder(handle_unknown='ignore'))\n",
    "])\n",
    "\n",
    "binary_transformer = Pipeline(steps=[\n",
    "    ('encoder', OrdinalEncoder(categories=[['N', 'Y']]))\n",
    "])"
   ]
  },
  {
   "cell_type": "code",
   "execution_count": 23,
   "id": "0a94e7eb",
   "metadata": {},
   "outputs": [],
   "source": [
    "# Preprocessor\n",
    "preprocessor = ColumnTransformer(transformers=[\n",
    "    ('num', numerical_transformer, numerical_features),\n",
    "    ('ord', ordinal_transformer, list(ordinal_features.keys())),\n",
    "    ('nom', nominal_transformer, nominal_features),\n",
    "    ('bin', binary_transformer, binary_features)\n",
    "])"
   ]
  },
  {
   "cell_type": "markdown",
   "id": "2036cdb7",
   "metadata": {},
   "source": [
    "# 3. Data Modeling"
   ]
  },
  {
   "cell_type": "markdown",
   "id": "1ef5363a",
   "metadata": {},
   "source": [
    "## 3.1 Model Selection"
   ]
  },
  {
   "cell_type": "code",
   "execution_count": 24,
   "id": "48b022ab",
   "metadata": {},
   "outputs": [],
   "source": [
    "# Model Dictionary\n",
    "models = {\n",
    "    'LinearRegression': LinearRegression(),\n",
    "    'Ridge': Ridge(),\n",
    "    'Lasso': Lasso(),\n",
    "    'DecisionTree': DecisionTreeRegressor(),\n",
    "    'RandomForest': RandomForestRegressor(),\n",
    "    'GradientBoosting': GradientBoostingRegressor(),\n",
    "    'XGBoost': XGBRegressor(objective='reg:squarederror', verbosity=0),\n",
    "    'LightGBM': LGBMRegressor(),\n",
    "    'CatBoost': CatBoostRegressor(verbose=0) \n",
    "}"
   ]
  },
  {
   "cell_type": "markdown",
   "id": "0a68d119",
   "metadata": {},
   "source": [
    "## 3.2 Pipeline Setup"
   ]
  },
  {
   "cell_type": "code",
   "execution_count": 25,
   "id": "92ff512d",
   "metadata": {},
   "outputs": [],
   "source": [
    "# Preprocessing and Model Pipeline\n",
    "pipelines = {\n",
    "    name: make_pipeline(preprocessor, model) for name, model in models.items()\n",
    "}"
   ]
  },
  {
   "cell_type": "markdown",
   "id": "0e319924",
   "metadata": {},
   "source": [
    "## 3.3 Training"
   ]
  },
  {
   "cell_type": "code",
   "execution_count": 26,
   "id": "a5c394e1",
   "metadata": {},
   "outputs": [
    {
     "name": "stderr",
     "output_type": "stream",
     "text": [
      "c:\\Users\\Suwaaan\\anaconda3\\Lib\\site-packages\\sklearn\\linear_model\\_coordinate_descent.py:695: ConvergenceWarning: Objective did not converge. You might want to increase the number of iterations, check the scale of the features or consider increasing regularisation. Duality gap: 1.575e+10, tolerance: 1.394e+09\n",
      "  model = cd_fast.enet_coordinate_descent(\n"
     ]
    },
    {
     "name": "stdout",
     "output_type": "stream",
     "text": [
      "[LightGBM] [Info] Auto-choosing row-wise multi-threading, the overhead of testing was 0.001711 seconds.\n",
      "You can set `force_row_wise=true` to remove the overhead.\n",
      "And if memory is not enough, you can set `force_col_wise=true`.\n",
      "[LightGBM] [Info] Total Bins 3734\n",
      "[LightGBM] [Info] Number of data points in the train set: 2344, number of used features: 168\n",
      "[LightGBM] [Info] Start training from score 178582.207765\n"
     ]
    },
    {
     "name": "stderr",
     "output_type": "stream",
     "text": [
      "c:\\Users\\Suwaaan\\anaconda3\\Lib\\site-packages\\sklearn\\utils\\validation.py:2739: UserWarning: X does not have valid feature names, but LGBMRegressor was fitted with feature names\n",
      "  warnings.warn(\n",
      "c:\\Users\\Suwaaan\\anaconda3\\Lib\\site-packages\\sklearn\\utils\\validation.py:2739: UserWarning: X does not have valid feature names, but LGBMRegressor was fitted with feature names\n",
      "  warnings.warn(\n"
     ]
    }
   ],
   "source": [
    "# Fit and Predict\n",
    "predictions = {}\n",
    "\n",
    "for name, pipeline in pipelines.items():\n",
    "    pipeline.fit(X_train, y_train)\n",
    "    y_pred_train = pipeline.predict(X_train)\n",
    "    y_pred_test = pipeline.predict(X_test)\n",
    "    predictions[name] = {\n",
    "        'train': y_pred_train,\n",
    "        'test': y_pred_test\n",
    "    }"
   ]
  },
  {
   "cell_type": "code",
   "execution_count": 27,
   "id": "8413ceab",
   "metadata": {},
   "outputs": [
    {
     "data": {
      "text/html": [
       "<div>\n",
       "<style scoped>\n",
       "    .dataframe tbody tr th:only-of-type {\n",
       "        vertical-align: middle;\n",
       "    }\n",
       "\n",
       "    .dataframe tbody tr th {\n",
       "        vertical-align: top;\n",
       "    }\n",
       "\n",
       "    .dataframe thead th {\n",
       "        text-align: right;\n",
       "    }\n",
       "</style>\n",
       "<table border=\"1\" class=\"dataframe\">\n",
       "  <thead>\n",
       "    <tr style=\"text-align: right;\">\n",
       "      <th></th>\n",
       "      <th>MS SubClass</th>\n",
       "      <th>MS Zoning</th>\n",
       "      <th>Lot Frontage</th>\n",
       "      <th>Lot Area</th>\n",
       "      <th>Street</th>\n",
       "      <th>Lot Shape</th>\n",
       "      <th>Land Contour</th>\n",
       "      <th>Utilities</th>\n",
       "      <th>Lot Config</th>\n",
       "      <th>Land Slope</th>\n",
       "      <th>...</th>\n",
       "      <th>Open Porch SF</th>\n",
       "      <th>Enclosed Porch</th>\n",
       "      <th>3Ssn Porch</th>\n",
       "      <th>Screen Porch</th>\n",
       "      <th>Pool Area</th>\n",
       "      <th>Misc Val</th>\n",
       "      <th>Mo Sold</th>\n",
       "      <th>Yr Sold</th>\n",
       "      <th>Sale Type</th>\n",
       "      <th>Sale Condition</th>\n",
       "    </tr>\n",
       "  </thead>\n",
       "  <tbody>\n",
       "    <tr>\n",
       "      <th>1357</th>\n",
       "      <td>70</td>\n",
       "      <td>RM</td>\n",
       "      <td>68.0</td>\n",
       "      <td>5100</td>\n",
       "      <td>Pave</td>\n",
       "      <td>Reg</td>\n",
       "      <td>Lvl</td>\n",
       "      <td>AllPub</td>\n",
       "      <td>Inside</td>\n",
       "      <td>Gtl</td>\n",
       "      <td>...</td>\n",
       "      <td>63</td>\n",
       "      <td>0</td>\n",
       "      <td>0</td>\n",
       "      <td>0</td>\n",
       "      <td>0</td>\n",
       "      <td>0</td>\n",
       "      <td>6</td>\n",
       "      <td>2008</td>\n",
       "      <td>WD</td>\n",
       "      <td>Normal</td>\n",
       "    </tr>\n",
       "    <tr>\n",
       "      <th>2367</th>\n",
       "      <td>160</td>\n",
       "      <td>RM</td>\n",
       "      <td>21.0</td>\n",
       "      <td>1890</td>\n",
       "      <td>Pave</td>\n",
       "      <td>Reg</td>\n",
       "      <td>Lvl</td>\n",
       "      <td>AllPub</td>\n",
       "      <td>Inside</td>\n",
       "      <td>Gtl</td>\n",
       "      <td>...</td>\n",
       "      <td>0</td>\n",
       "      <td>0</td>\n",
       "      <td>0</td>\n",
       "      <td>0</td>\n",
       "      <td>0</td>\n",
       "      <td>0</td>\n",
       "      <td>7</td>\n",
       "      <td>2006</td>\n",
       "      <td>WD</td>\n",
       "      <td>Normal</td>\n",
       "    </tr>\n",
       "    <tr>\n",
       "      <th>2822</th>\n",
       "      <td>60</td>\n",
       "      <td>RL</td>\n",
       "      <td>62.0</td>\n",
       "      <td>7162</td>\n",
       "      <td>Pave</td>\n",
       "      <td>Reg</td>\n",
       "      <td>Lvl</td>\n",
       "      <td>AllPub</td>\n",
       "      <td>Inside</td>\n",
       "      <td>Gtl</td>\n",
       "      <td>...</td>\n",
       "      <td>57</td>\n",
       "      <td>0</td>\n",
       "      <td>0</td>\n",
       "      <td>0</td>\n",
       "      <td>0</td>\n",
       "      <td>0</td>\n",
       "      <td>5</td>\n",
       "      <td>2006</td>\n",
       "      <td>WD</td>\n",
       "      <td>Normal</td>\n",
       "    </tr>\n",
       "    <tr>\n",
       "      <th>2126</th>\n",
       "      <td>20</td>\n",
       "      <td>RL</td>\n",
       "      <td>60.0</td>\n",
       "      <td>8070</td>\n",
       "      <td>Pave</td>\n",
       "      <td>Reg</td>\n",
       "      <td>Lvl</td>\n",
       "      <td>AllPub</td>\n",
       "      <td>Inside</td>\n",
       "      <td>Gtl</td>\n",
       "      <td>...</td>\n",
       "      <td>0</td>\n",
       "      <td>0</td>\n",
       "      <td>0</td>\n",
       "      <td>0</td>\n",
       "      <td>0</td>\n",
       "      <td>0</td>\n",
       "      <td>8</td>\n",
       "      <td>2007</td>\n",
       "      <td>WD</td>\n",
       "      <td>Normal</td>\n",
       "    </tr>\n",
       "    <tr>\n",
       "      <th>1544</th>\n",
       "      <td>30</td>\n",
       "      <td>RM</td>\n",
       "      <td>50.0</td>\n",
       "      <td>7000</td>\n",
       "      <td>Pave</td>\n",
       "      <td>Reg</td>\n",
       "      <td>Lvl</td>\n",
       "      <td>AllPub</td>\n",
       "      <td>Inside</td>\n",
       "      <td>Gtl</td>\n",
       "      <td>...</td>\n",
       "      <td>0</td>\n",
       "      <td>116</td>\n",
       "      <td>0</td>\n",
       "      <td>0</td>\n",
       "      <td>0</td>\n",
       "      <td>0</td>\n",
       "      <td>7</td>\n",
       "      <td>2008</td>\n",
       "      <td>WD</td>\n",
       "      <td>Normal</td>\n",
       "    </tr>\n",
       "  </tbody>\n",
       "</table>\n",
       "<p>5 rows × 75 columns</p>\n",
       "</div>"
      ],
      "text/plain": [
       "      MS SubClass MS Zoning  Lot Frontage  Lot Area Street Lot Shape  \\\n",
       "1357           70        RM          68.0      5100   Pave       Reg   \n",
       "2367          160        RM          21.0      1890   Pave       Reg   \n",
       "2822           60        RL          62.0      7162   Pave       Reg   \n",
       "2126           20        RL          60.0      8070   Pave       Reg   \n",
       "1544           30        RM          50.0      7000   Pave       Reg   \n",
       "\n",
       "     Land Contour Utilities Lot Config Land Slope  ... Open Porch SF  \\\n",
       "1357          Lvl    AllPub     Inside        Gtl  ...            63   \n",
       "2367          Lvl    AllPub     Inside        Gtl  ...             0   \n",
       "2822          Lvl    AllPub     Inside        Gtl  ...            57   \n",
       "2126          Lvl    AllPub     Inside        Gtl  ...             0   \n",
       "1544          Lvl    AllPub     Inside        Gtl  ...             0   \n",
       "\n",
       "     Enclosed Porch 3Ssn Porch Screen Porch Pool Area  Misc Val  Mo Sold  \\\n",
       "1357              0          0            0         0         0        6   \n",
       "2367              0          0            0         0         0        7   \n",
       "2822              0          0            0         0         0        5   \n",
       "2126              0          0            0         0         0        8   \n",
       "1544            116          0            0         0         0        7   \n",
       "\n",
       "      Yr Sold  Sale Type Sale Condition  \n",
       "1357     2008        WD          Normal  \n",
       "2367     2006        WD          Normal  \n",
       "2822     2006        WD          Normal  \n",
       "2126     2007        WD          Normal  \n",
       "1544     2008        WD          Normal  \n",
       "\n",
       "[5 rows x 75 columns]"
      ]
     },
     "execution_count": 27,
     "metadata": {},
     "output_type": "execute_result"
    }
   ],
   "source": [
    "X_test[:5]"
   ]
  },
  {
   "cell_type": "code",
   "execution_count": 28,
   "id": "14ba5d49",
   "metadata": {},
   "outputs": [
    {
     "data": {
      "text/plain": [
       "1357    161000\n",
       "2367    116000\n",
       "2822    196500\n",
       "2126    123600\n",
       "1544    126000\n",
       "Name: SalePrice, dtype: int64"
      ]
     },
     "execution_count": 28,
     "metadata": {},
     "output_type": "execute_result"
    }
   ],
   "source": [
    "y_test[:5]"
   ]
  },
  {
   "cell_type": "code",
   "execution_count": 29,
   "id": "5f14c4b0",
   "metadata": {},
   "outputs": [
    {
     "data": {
      "text/plain": [
       "array([151871.17562978, 104825.87760145, 196019.07993011, 130064.31323135,\n",
       "       113495.32982647])"
      ]
     },
     "execution_count": 29,
     "metadata": {},
     "output_type": "execute_result"
    }
   ],
   "source": [
    "pipelines['CatBoost'].predict(X_test[:5])"
   ]
  },
  {
   "cell_type": "markdown",
   "id": "74975113",
   "metadata": {},
   "source": [
    "## 3.4 Prediction"
   ]
  },
  {
   "cell_type": "code",
   "execution_count": 30,
   "id": "8b7c8e02",
   "metadata": {},
   "outputs": [
    {
     "name": "stdout",
     "output_type": "stream",
     "text": [
      "Model selesai dilatih dan diprediksi\n",
      "Contoh prediksi :\n",
      "LinearRegression : [158072.16095074 100392.96392336 204228.14765008 137119.96705081\n",
      " 113472.98142347]\n",
      "Ridge : [152516.1938003  100313.58635854 199509.82869775 138822.27990089\n",
      " 114258.13375483]\n",
      "Lasso : [157731.97928628 100343.56530818 204685.93704341 137016.20531381\n",
      " 113386.56951212]\n",
      "DecisionTree : [188700.  89000. 198500. 110500. 105000.]\n",
      "RandomForest : [151296.46  96776.5  188612.84 128888.91 112418.5 ]\n",
      "GradientBoosting : [143417.04401452 104147.98510687 193374.77468032 133034.02077514\n",
      " 111299.04878342]\n",
      "XGBoost : [133363.8   101586.664 170937.25  131847.02  117930.77 ]\n",
      "LightGBM : [146506.29819175 101205.37121196 191824.9533547  135432.69794248\n",
      " 110925.63289621]\n",
      "CatBoost : [151871.17562978 104825.87760145 196019.07993011 130064.31323135\n",
      " 113495.32982647]\n"
     ]
    }
   ],
   "source": [
    "print(f'''Model selesai dilatih dan diprediksi\n",
    "Contoh prediksi :''')\n",
    "for name in predictions:\n",
    "    print(f'{name} : {predictions[name]['test'][:5]}')\n"
   ]
  },
  {
   "cell_type": "markdown",
   "id": "4fe6c393",
   "metadata": {},
   "source": [
    "# 4. Model Evaluation"
   ]
  },
  {
   "cell_type": "markdown",
   "id": "1de543b2",
   "metadata": {},
   "source": [
    "## 4.1 Metrik Evaluasi (MAE, RMSE, R2)\n"
   ]
  },
  {
   "cell_type": "code",
   "execution_count": 31,
   "id": "c18617dd",
   "metadata": {},
   "outputs": [
    {
     "name": "stdout",
     "output_type": "stream",
     "text": [
      "\n",
      "=== Evaluation Results ===\n",
      "              Model  MAE Train  RMSE Train  R2 Train  MAE Test  RMSE Test  \\\n",
      "8          CatBoost    6293.41     8027.10      0.99  14329.96   23364.60   \n",
      "5  GradientBoosting   12454.41    16717.07      0.95  16560.66   26918.61   \n",
      "7          LightGBM    7130.81    10981.10      0.98  16459.30   28504.18   \n",
      "4      RandomForest    6029.47     9840.83      0.98  17370.79   29678.43   \n",
      "6           XGBoost    2623.00     3610.63      1.00  17931.05   30092.64   \n",
      "2             Lasso   15931.23    23466.44      0.91  18638.03   31019.38   \n",
      "1             Ridge   16329.34    24254.42      0.90  18980.02   31039.47   \n",
      "0  LinearRegression   15925.62    23463.66      0.91  18653.39   31084.26   \n",
      "3      DecisionTree       0.00        0.00      1.00  25347.03   38262.07   \n",
      "\n",
      "   R2 Test  \n",
      "8     0.93  \n",
      "5     0.91  \n",
      "7     0.90  \n",
      "4     0.89  \n",
      "6     0.89  \n",
      "2     0.88  \n",
      "1     0.88  \n",
      "0     0.88  \n",
      "3     0.82  \n"
     ]
    }
   ],
   "source": [
    "# Evaluasi Performa\n",
    "def evaluate_model(y_true, y_pred):\n",
    "    mae = mean_absolute_error(y_true, y_pred)\n",
    "    mse = mean_squared_error(y_true, y_pred)\n",
    "    rmse = np.sqrt(mse)\n",
    "    r2 = r2_score(y_true, y_pred)\n",
    "    return mae, rmse, r2\n",
    "\n",
    "results = []\n",
    "\n",
    "for name, preds in predictions.items():\n",
    "    mae_train, rmse_train, r2_train = evaluate_model(y_train, preds['train'])\n",
    "    mae_test, rmse_test, r2_test = evaluate_model(y_test, preds['test'])\n",
    "\n",
    "    results.append({\n",
    "        \"Model\": name,\n",
    "        \"MAE Train\": mae_train,\n",
    "        \"RMSE Train\": rmse_train,\n",
    "        \"R2 Train\": r2_train,\n",
    "        \"MAE Test\": mae_test,\n",
    "        \"RMSE Test\": rmse_test,\n",
    "        \"R2 Test\": r2_test\n",
    "    })\n",
    "\n",
    "# Tampilkan sebagai DataFrame\n",
    "results_df = pd.DataFrame(results).sort_values(by=\"RMSE Test\")\n",
    "pd.set_option('display.float_format', lambda x: '%.2f' % x)\n",
    "print(\"\\n=== Evaluation Results ===\")\n",
    "\n",
    "print(results_df)"
   ]
  },
  {
   "cell_type": "markdown",
   "id": "37b8aa20",
   "metadata": {},
   "source": [
    "## 4.2 Visualisasi MAE, RMSE, R2"
   ]
  },
  {
   "cell_type": "code",
   "execution_count": 32,
   "id": "1b20c1a0",
   "metadata": {},
   "outputs": [
    {
     "data": {
      "image/png": "[encoded data removed]",
      "text/plain": [
       "<Figure size 1500x600 with 3 Axes>"
      ]
     },
     "metadata": {},
     "output_type": "display_data"
    }
   ],
   "source": [
    "results_filtered = results_df[results_df['R2 Test'] > 0]\n",
    "\n",
    "# Sort berdasarkan MAE terkecil\n",
    "results_df.sort_values(by='MAE Test')\n",
    "plt.figure(figsize=(15, 6))\n",
    "\n",
    "# MAE Test\n",
    "plt.subplot(131)\n",
    "sns.barplot(x='MAE Test', y='Model', data=results_df, hue='R2 Test', palette='flare')\n",
    "plt.title('Mean Absolute Error (MAE) Test')\n",
    "plt.legend().set_visible(False)\n",
    "plt.xlabel('MAE')\n",
    "plt.ylabel('')\n",
    "\n",
    "\n",
    "# RMSE Test\n",
    "plt.subplot(132)\n",
    "sns.barplot(x='RMSE Test', y='Model', data=results_df, hue='R2 Test', palette='crest')\n",
    "plt.title('Root Mean Squared (RMSE) Test')\n",
    "plt.legend().set_visible(False)\n",
    "plt.xlabel('RMSE')\n",
    "plt.ylabel('')\n",
    "\n",
    "\n",
    "# R² Test\n",
    "plt.subplot(133)\n",
    "sns.barplot(x='R2 Test', y='Model', data=results_df, hue='R2 Test', palette='rocket_r')\n",
    "plt.title('R2 Score Test')\n",
    "plt.legend().set_visible(False)\n",
    "plt.xlabel('R2')\n",
    "plt.ylabel('')\n",
    "plt.tight_layout()\n",
    "plt.show()\n",
    "\n",
    "\n"
   ]
  },
  {
   "cell_type": "code",
   "execution_count": 33,
   "id": "577035ff",
   "metadata": {},
   "outputs": [
    {
     "name": "stderr",
     "output_type": "stream",
     "text": [
      "C:\\Users\\Suwaaan\\AppData\\Local\\Temp\\ipykernel_16892\\4007639501.py:15: FutureWarning: \n",
      "\n",
      "Passing `palette` without assigning `hue` is deprecated and will be removed in v0.14.0. Assign the `y` variable to `hue` and set `legend=False` for the same effect.\n",
      "\n",
      "  sns.barplot(x='MAE Train', y='Model', data=results_sorted_train, palette='Blues')\n",
      "C:\\Users\\Suwaaan\\AppData\\Local\\Temp\\ipykernel_16892\\4007639501.py:22: FutureWarning: \n",
      "\n",
      "Passing `palette` without assigning `hue` is deprecated and will be removed in v0.14.0. Assign the `y` variable to `hue` and set `legend=False` for the same effect.\n",
      "\n",
      "  sns.barplot(x='RMSE Train', y='Model', data=results_sorted_train, palette='Greens')\n",
      "C:\\Users\\Suwaaan\\AppData\\Local\\Temp\\ipykernel_16892\\4007639501.py:29: FutureWarning: \n",
      "\n",
      "Passing `palette` without assigning `hue` is deprecated and will be removed in v0.14.0. Assign the `y` variable to `hue` and set `legend=False` for the same effect.\n",
      "\n",
      "  sns.barplot(x='R2 Train', y='Model', data=results_sorted_train, palette='Oranges')\n"
     ]
    },
    {
     "data": {
      "image/png": "[encoded data removed]",
      "text/plain": [
       "<Figure size 1400x600 with 3 Axes>"
      ]
     },
     "metadata": {},
     "output_type": "display_data"
    }
   ],
   "source": [
    "# Gunakan dataframe yang sama, tapi fokus pada metrik train\n",
    "# Drop model gagal jika ada\n",
    "results_filtered = results_df[results_df['R2 Train'] > 0]  # Atau sesuaikan jika ada outlier\n",
    "\n",
    "# Urutkan berdasarkan MAE Train terkecil\n",
    "results_sorted_train = results_filtered.sort_values(by='MAE Train')\n",
    "\n",
    "# Set style\n",
    "sns.set(style=\"whitegrid\", font_scale=1.1)\n",
    "plt.figure(figsize=(14, 6))\n",
    "plt.suptitle('Melihat performa berbagai model regresi dalam memprediksi data latih')\n",
    "\n",
    "# Plot MAE Train\n",
    "plt.subplot(1, 3, 1)\n",
    "sns.barplot(x='MAE Train', y='Model', data=results_sorted_train, palette='Blues')\n",
    "plt.title('Mean Absolute Error (Train)')\n",
    "plt.xlabel('MAE')\n",
    "plt.ylabel('')\n",
    "\n",
    "# Plot RMSE Train\n",
    "plt.subplot(1, 3, 2)\n",
    "sns.barplot(x='RMSE Train', y='Model', data=results_sorted_train, palette='Greens')\n",
    "plt.title('Root Mean Squared Error (Train)')\n",
    "plt.xlabel('RMSE')\n",
    "plt.ylabel('')\n",
    "\n",
    "# Plot R2 Train\n",
    "plt.subplot(1, 3, 3)\n",
    "sns.barplot(x='R2 Train', y='Model', data=results_sorted_train, palette='Oranges')\n",
    "plt.title('R2 Score (Train)')\n",
    "plt.xlabel('R2')\n",
    "plt.ylabel('')\n",
    "\n",
    "plt.tight_layout()\n",
    "plt.show()"
   ]
  },
  {
   "cell_type": "markdown",
   "id": "95ab79f5",
   "metadata": {},
   "source": [
    "## 4.3 Cross-Validation Score"
   ]
  },
  {
   "cell_type": "code",
   "execution_count": 34,
   "id": "4df34f3a",
   "metadata": {},
   "outputs": [
    {
     "ename": "NameError",
     "evalue": "name 'make_scorer' is not defined",
     "output_type": "error",
     "traceback": [
      "\u001b[1;31m---------------------------------------------------------------------------\u001b[0m",
      "\u001b[1;31mNameError\u001b[0m                                 Traceback (most recent call last)",
      "Cell \u001b[1;32mIn[34], line 15\u001b[0m\n\u001b[0;32m     12\u001b[0m     \u001b[38;5;28;01mreturn\u001b[39;00m np\u001b[38;5;241m.\u001b[39msqrt(mean_squared_error(y_true, y_pred))\n\u001b[0;32m     14\u001b[0m \u001b[38;5;66;03m# Create a scorer for RMSE\u001b[39;00m\n\u001b[1;32m---> 15\u001b[0m rmse_scorer \u001b[38;5;241m=\u001b[39m make_scorer(rmse)\n\u001b[0;32m     17\u001b[0m \u001b[38;5;28mprint\u001b[39m(\u001b[38;5;124m\"\u001b[39m\u001b[38;5;124m=== Cross-Validation (RMSE) ===\u001b[39m\u001b[38;5;124m\"\u001b[39m)\n\u001b[0;32m     18\u001b[0m \u001b[38;5;28;01mfor\u001b[39;00m name, pipeline \u001b[38;5;129;01min\u001b[39;00m pipelines\u001b[38;5;241m.\u001b[39mitems():\n",
      "\u001b[1;31mNameError\u001b[0m: name 'make_scorer' is not defined"
     ]
    }
   ],
   "source": [
    "def rmse(y_true, y_pred):\n",
    "    \"\"\"\n",
    "    Calculates the Root Mean Squared Error (RMSE).\n",
    "\n",
    "    Args:\n",
    "        y_true: Array of true target values.\n",
    "        y_pred: Array of predicted target values.\n",
    "\n",
    "    Returns:\n",
    "        The RMSE as a float.\n",
    "    \"\"\"\n",
    "    return np.sqrt(mean_squared_error(y_true, y_pred))\n",
    "\n",
    "# Create a scorer for RMSE\n",
    "rmse_scorer = make_scorer(rmse)\n",
    "\n",
    "print(\"=== Cross-Validation (RMSE) ===\")\n",
    "for name, pipeline in pipelines.items():\n",
    "    try:\n",
    "        # Filter out the UserWarning during cross_val_score\n",
    "        with warnings.catch_warnings():\n",
    "            warnings.filterwarnings(\"ignore\", category=UserWarning)\n",
    "            scores = cross_val_score(pipeline, X_train, y_train, cv=5, scoring=rmse_scorer)\n",
    "        print(f\"{name:<25} CV RMSE: {np.mean(scores):.2f} ± {np.std(scores):.2f}\")\n",
    "    except Exception as e:\n",
    "        print(f\"{name:<25} Error during cross-validation: {e}\")  # Improved error handling"
   ]
  },
  {
   "cell_type": "markdown",
   "id": "fdc9e981",
   "metadata": {},
   "source": [
    "## 4.4 Residual Analysis (model terbaik)"
   ]
  },
  {
   "cell_type": "code",
   "execution_count": null,
   "id": "50c26570",
   "metadata": {},
   "outputs": [
    {
     "data": {
      "image/png": "[encoded data removed]",
      "text/plain": [
       "<Figure size 1000x500 with 1 Axes>"
      ]
     },
     "metadata": {},
     "output_type": "display_data"
    }
   ],
   "source": [
    "# Residual Analysis untuk model terbaik\n",
    "best_model_name = results_df.iloc[0][\"Model\"]  # otomatis ambil model terbaik dari tabel RMSE\n",
    "residuals = y_test - predictions[best_model_name][\"test\"]\n",
    "\n",
    "plt.figure(figsize=(10, 5))\n",
    "sns.histplot(residuals, kde=True, bins=30, color='darkred')\n",
    "plt.title(f\"Distribusi Residual (Error) - {best_model_name}\")\n",
    "plt.xlabel(\"Residual\")\n",
    "plt.ylabel(\"Frekuensi\")\n",
    "plt.show()"
   ]
  },
  {
   "cell_type": "code",
   "execution_count": null,
   "id": "0cfde455",
   "metadata": {},
   "outputs": [
    {
     "data": {
      "image/png": "[encoded data removed]",
      "text/plain": [
       "<Figure size 1000x500 with 1 Axes>"
      ]
     },
     "metadata": {},
     "output_type": "display_data"
    }
   ],
   "source": [
    "# Residual Analysis untuk model terbaik\n",
    "best_model_name = results_df.iloc[1][\"Model\"]  # otomatis ambil model terbaik kedua dari tabel RMSE\n",
    "residuals = y_test - predictions[best_model_name][\"test\"]\n",
    "\n",
    "plt.figure(figsize=(10, 5))\n",
    "sns.histplot(residuals, kde=True, bins=30, color='darkred')\n",
    "plt.title(f\"Distribusi Residual (Error) - {best_model_name}\")\n",
    "plt.xlabel(\"Residual\")\n",
    "plt.ylabel(\"Frekuensi\")\n",
    "plt.show()"
   ]
  },
  {
   "cell_type": "markdown",
   "id": "e79b582e",
   "metadata": {},
   "source": [
    "## 4.6 Model Saving"
   ]
  },
  {
   "cell_type": "code",
   "execution_count": null,
   "id": "3c9583fb",
   "metadata": {},
   "outputs": [
    {
     "name": "stdout",
     "output_type": "stream",
     "text": [
      "✅ Model CatBoost telah disimpan.\n"
     ]
    }
   ],
   "source": [
    "best_model_name = results_df.iloc[0][\"Model\"]\n",
    "best_pipeline = pipelines[best_model_name]\n",
    "joblib.dump(best_pipeline, f\"best_model_{best_model_name.lower()}.pkl\")\n",
    "\n",
    "print(f\"✅ Model {best_model_name} telah disimpan.\")"
   ]
  }
 ],
 "metadata": {
  "kernelspec": {
   "display_name": "base",
   "language": "python",
   "name": "python3"
  },
  "language_info": {
   "codemirror_mode": {
    "name": "ipython",
    "version": 3
   },
   "file_extension": ".py",
   "mimetype": "text/x-python",
   "name": "python",
   "nbconvert_exporter": "python",
   "pygments_lexer": "ipython3",
   "version": "3.12.7"
  }
 },
 "nbformat": 4,
 "nbformat_minor": 5
}
