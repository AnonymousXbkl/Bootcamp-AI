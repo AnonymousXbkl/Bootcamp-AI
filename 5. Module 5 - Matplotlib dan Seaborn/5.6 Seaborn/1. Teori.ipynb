{
 "cells": [
  {
   "cell_type": "markdown",
   "id": "66f080b8",
   "metadata": {},
   "source": [
    "# Seaborn"
   ]
  },
  {
   "cell_type": "markdown",
   "id": "deb30711",
   "metadata": {},
   "source": [
    "### Seaborn\n",
    "    Seaborn adalah library untuk visualisasi data yang dibangun di atas Matplotlib dimana Seaborn memiliki lebih banyak fungsi untuk visualisasi data yang lebih menarik dan interaktif. Pada prakteknya, keduanya digunakan bersama-sama."
   ]
  },
  {
   "cell_type": "markdown",
   "id": "25eb8090",
   "metadata": {},
   "source": []
  }
 ],
 "metadata": {
  "language_info": {
   "name": "python"
  }
 },
 "nbformat": 4,
 "nbformat_minor": 5
}
